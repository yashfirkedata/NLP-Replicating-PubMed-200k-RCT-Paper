{
  "nbformat": 4,
  "nbformat_minor": 0,
  "metadata": {
    "colab": {
      "provenance": [],
      "gpuType": "T4",
      "authorship_tag": "ABX9TyPwBhzXEj/1fCai8Aqmbevn",
      "include_colab_link": true
    },
    "kernelspec": {
      "name": "python3",
      "display_name": "Python 3"
    },
    "language_info": {
      "name": "python"
    },
    "accelerator": "GPU"
  },
  "cells": [
    {
      "cell_type": "markdown",
      "metadata": {
        "id": "view-in-github",
        "colab_type": "text"
      },
      "source": [
        "<a href=\"https://colab.research.google.com/github/yashfirkedata/NLP-Replicating-PubMed-200k-RCT-Paper/blob/main/NLP_Replicating_PubMed_200k_RCT_Paper.ipynb\" target=\"_parent\"><img src=\"https://colab.research.google.com/assets/colab-badge.svg\" alt=\"Open In Colab\"/></a>"
      ]
    },
    {
      "cell_type": "markdown",
      "source": [
        "# **SkimLit 📄🔥**"
      ],
      "metadata": {
        "id": "VZ5SdR7dIeZO"
      }
    },
    {
      "cell_type": "markdown",
      "source": [
        "### Model Input\n",
        "> To investigate the efficacy of @ weeks of daily low-dose oral prednisolone in improving pain , mobility , and systemic low-grade inflammation in the short term and whether the effect would be sustained at @ weeks in older adults with moderate to severe knee osteoarthritis ( OA ). A total of @ patients with primary knee OA were randomized @:@ ; @ received @ mg/day of prednisolone and @ received placebo for @ weeks. Outcome measures included pain reduction and improvement in function scores and systemic inflammation markers. Pain was assessed using the visual analog pain scale ( @-@ mm ). Secondary outcome measures included the Western Ontario and McMaster Universities Osteoarthritis Index scores , patient global assessment ( PGA ) of the severity of knee OA , and @-min walk distance ( @MWD )., Serum levels of interleukin @ ( IL-@ ) , IL-@ , tumor necrosis factor ( TNF ) - , and high-sensitivity C-reactive protein ( hsCRP ) were measured. There was a clinically relevant reduction in the intervention group compared to the placebo group for knee pain , physical function , PGA , and @MWD at @ weeks. The mean difference between treatment arms ( @ % CI ) was @ ( @-@ @ ) , p < @ ; @ ( @-@ @ ) , p < @ ; @ ( @-@ @ ) , p < @ ; and @ ( @-@ @ ) , p < @ , respectively. Further , there was a clinically relevant reduction in the serum levels of IL-@ , IL-@ , TNF - , and hsCRP at @ weeks in the intervention group when compared to the placebo group. These differences remained significant at @ weeks. The Outcome Measures in Rheumatology Clinical Trials-Osteoarthritis Research Society International responder rate was @ % in the intervention group and @ % in the placebo group ( p < @ ). Low-dose oral prednisolone had both a short-term and a longer sustained effect resulting in less knee pain , better physical function , and attenuation of systemic inflammation in older patients with knee OA ( ClinicalTrials.gov identifier NCT@ )."
      ],
      "metadata": {
        "id": "v6zQSEk8LrSx"
      }
    },
    {
      "cell_type": "markdown",
      "source": [
        "### Model Output\n",
        "> ['###24293578\\n',\n",
        " 'OBJECTIVE\\tTo investigate the efficacy of @ weeks of daily low-dose oral prednisolone in improving pain , mobility , and systemic low-grade inflammation in the short term and whether the effect would be sustained at @ weeks in older adults with moderate to severe knee osteoarthritis ( OA ) .\\n',\n",
        " 'METHODS\\tA total of @ patients with primary knee OA were randomized @:@ ; @ received @ mg/day of prednisolone and @ received placebo for @ weeks .\\n',\n",
        " 'METHODS\\tOutcome measures included pain reduction and improvement in function scores and systemic inflammation markers .\\n',\n",
        " 'METHODS\\tPain was assessed using the visual analog pain scale ( @-@ mm ) .\\n',\n",
        " 'METHODS\\tSecondary outcome measures included the Western Ontario and McMaster Universities Osteoarthritis Index scores , patient global assessment ( PGA ) of the severity of knee OA , and @-min walk distance ( @MWD ) .\\n',\n",
        " 'METHODS\\tSerum levels of interleukin @ ( IL-@ ) , IL-@ , tumor necrosis factor ( TNF ) - , and high-sensitivity C-reactive protein ( hsCRP ) were measured .\\n',\n",
        " 'RESULTS\\tThere was a clinically relevant reduction in the intervention group compared to the placebo group for knee pain , physical function , PGA , and @MWD at @ weeks .\\n',\n",
        " 'RESULTS\\tThe mean difference between treatment arms ( @ % CI ) was @ ( @-@ @ ) , p < @ ; @ ( @-@ @ ) , p < @ ; @ ( @-@ @ ) , p < @ ; and @ ( @-@ @ ) , p < @ , respectively .\\n',\n",
        " 'RESULTS\\tFurther , there was a clinically relevant reduction in the serum levels of IL-@ , IL-@ , TNF - , and hsCRP at @ weeks in the intervention group when compared to the placebo group .\\n',\n",
        " 'RESULTS\\tThese differences remained significant at @ weeks .\\n',\n",
        " 'RESULTS\\tThe Outcome Measures in Rheumatology Clinical Trials-Osteoarthritis Research Society International responder rate was @ % in the intervention group and @ % in the placebo group ( p < @ ) .\\n',\n",
        " 'CONCLUSIONS\\tLow-dose oral prednisolone had both a short-term and a longer sustained effect resulting in less knee pain , better physical function , and attenuation of systemic inflammation in older patients with knee OA ( ClinicalTrials.gov identifier NCT@ ) .\\n',\n",
        " '\\n']"
      ],
      "metadata": {
        "id": "5vQbZfBoL21B"
      }
    },
    {
      "cell_type": "markdown",
      "source": [
        "Dataset: https://github.com/Franck-Dernoncourt/pubmed-rct"
      ],
      "metadata": {
        "id": "LXbZD5IcL_kQ"
      }
    },
    {
      "cell_type": "code",
      "source": [
        "!git clone https://github.com/Franck-Dernoncourt/pubmed-rct"
      ],
      "metadata": {
        "colab": {
          "base_uri": "https://localhost:8080/"
        },
        "id": "4zaNEewqMB_t",
        "outputId": "3319d824-9d74-4fa6-d7f6-d9e3ec980269"
      },
      "execution_count": 1,
      "outputs": [
        {
          "output_type": "stream",
          "name": "stdout",
          "text": [
            "Cloning into 'pubmed-rct'...\n",
            "remote: Enumerating objects: 39, done.\u001b[K\n",
            "remote: Counting objects: 100% (14/14), done.\u001b[K\n",
            "remote: Compressing objects: 100% (9/9), done.\u001b[K\n",
            "remote: Total 39 (delta 8), reused 5 (delta 5), pack-reused 25\u001b[K\n",
            "Receiving objects: 100% (39/39), 177.08 MiB | 9.85 MiB/s, done.\n",
            "Resolving deltas: 100% (15/15), done.\n",
            "Updating files: 100% (13/13), done.\n"
          ]
        }
      ]
    },
    {
      "cell_type": "code",
      "source": [
        "ls"
      ],
      "metadata": {
        "colab": {
          "base_uri": "https://localhost:8080/"
        },
        "id": "d5EGkKYAMTk0",
        "outputId": "2735e629-5fe3-4137-85f3-2c4baf5f431a"
      },
      "execution_count": 2,
      "outputs": [
        {
          "output_type": "stream",
          "name": "stdout",
          "text": [
            "\u001b[0m\u001b[01;34mpubmed-rct\u001b[0m/  \u001b[01;34msample_data\u001b[0m/\n"
          ]
        }
      ]
    },
    {
      "cell_type": "code",
      "source": [
        "ls pubmed-rct"
      ],
      "metadata": {
        "colab": {
          "base_uri": "https://localhost:8080/"
        },
        "id": "1J98v6XDMYva",
        "outputId": "53cd7488-4b44-4955-e99d-a6c15d8cf393"
      },
      "execution_count": 3,
      "outputs": [
        {
          "output_type": "stream",
          "name": "stdout",
          "text": [
            "\u001b[0m\u001b[01;34mPubMed_200k_RCT\u001b[0m/                                \u001b[01;34mPubMed_20k_RCT_numbers_replaced_with_at_sign\u001b[0m/\n",
            "\u001b[01;34mPubMed_200k_RCT_numbers_replaced_with_at_sign\u001b[0m/  README.md\n",
            "\u001b[01;34mPubMed_20k_RCT\u001b[0m/\n"
          ]
        }
      ]
    },
    {
      "cell_type": "markdown",
      "source": [
        "Each contains a different version of the PubMed 200k RCT dataset.\n",
        "\n",
        "Looking at the README file from the GitHub page, we get the following information:\n",
        "\n",
        "- PubMed 20k is a subset of PubMed 200k. I.e., any abstract present in PubMed 20k is also present in PubMed 200k.\n",
        "- PubMed_200k_RCT is the same as PubMed_200k_RCT_numbers_replaced_with_at_sign, except that in the latter all numbers had been replaced by @. (same for PubMed_20k_RCT vs. PubMed_20k_RCT_numbers_replaced_with_at_sign).\n",
        "\n",
        "Read README.md for proper info"
      ],
      "metadata": {
        "id": "LtYIZkDAMdG3"
      }
    },
    {
      "cell_type": "markdown",
      "source": [
        "**Rather than working with the whole 200k dataset, we'll keep our experiments quick by starting with a smaller subset.**\n",
        "\n",
        "**We will select PubMed_20k_RCT_numbers_replaced_with_at_sign**"
      ],
      "metadata": {
        "id": "u9wmlv-aM0BV"
      }
    },
    {
      "cell_type": "code",
      "source": [
        "!ls pubmed-rct/PubMed_20k_RCT_numbers_replaced_with_at_sign"
      ],
      "metadata": {
        "colab": {
          "base_uri": "https://localhost:8080/"
        },
        "id": "NL_tHHUDND0Y",
        "outputId": "b11886f1-dfae-4266-dcdc-a7d70ec8c100"
      },
      "execution_count": 4,
      "outputs": [
        {
          "output_type": "stream",
          "name": "stdout",
          "text": [
            "dev.txt  test.txt  train.txt\n"
          ]
        }
      ]
    },
    {
      "cell_type": "code",
      "source": [
        "data_dir = \"pubmed-rct/PubMed_20k_RCT_numbers_replaced_with_at_sign/\""
      ],
      "metadata": {
        "id": "NS2iEOjkNGnD"
      },
      "execution_count": 5,
      "outputs": []
    },
    {
      "cell_type": "code",
      "source": [
        "import os\n",
        "filenames = [data_dir + filename for filename in os.listdir(data_dir)]"
      ],
      "metadata": {
        "id": "kgyo3RryNLaB"
      },
      "execution_count": 6,
      "outputs": []
    },
    {
      "cell_type": "code",
      "source": [
        "filenames"
      ],
      "metadata": {
        "colab": {
          "base_uri": "https://localhost:8080/"
        },
        "id": "OFbP30b0NTJT",
        "outputId": "972c0cd3-29bd-4d97-ac2d-02cf9720d6a6"
      },
      "execution_count": 7,
      "outputs": [
        {
          "output_type": "execute_result",
          "data": {
            "text/plain": [
              "['pubmed-rct/PubMed_20k_RCT_numbers_replaced_with_at_sign/test.txt',\n",
              " 'pubmed-rct/PubMed_20k_RCT_numbers_replaced_with_at_sign/train.txt',\n",
              " 'pubmed-rct/PubMed_20k_RCT_numbers_replaced_with_at_sign/dev.txt']"
            ]
          },
          "metadata": {},
          "execution_count": 7
        }
      ]
    },
    {
      "cell_type": "markdown",
      "source": [
        "# **Data Preprocessing**"
      ],
      "metadata": {
        "id": "JhCqhsUsNWlQ"
      }
    },
    {
      "cell_type": "code",
      "source": [
        "# Function to read lines of a document\n",
        "\n",
        "def get_lines(filename):\n",
        "  \"\"\"\n",
        "  Reads filename (a text file) and returns the lines of text as a list.\n",
        "\n",
        "  Args:\n",
        "      filename: a string containing the target filepath to read.\n",
        "\n",
        "  Returns:\n",
        "      A list of strings with one string per line from the target filename.\n",
        "      For example:\n",
        "      [\"this is the first line of filename\",\n",
        "       \"this is the second line of filename\",\n",
        "       \"...\"]\n",
        "  \"\"\"\n",
        "  with open(filename,\"r\") as f:\n",
        "    return f.readlines()"
      ],
      "metadata": {
        "id": "nggp6EDjNeh7"
      },
      "execution_count": 8,
      "outputs": []
    },
    {
      "cell_type": "code",
      "source": [
        "train_lines = get_lines(data_dir + \"train.txt\")\n",
        "train_lines[:20]"
      ],
      "metadata": {
        "colab": {
          "base_uri": "https://localhost:8080/"
        },
        "id": "oQZFmftoOQvc",
        "outputId": "b35dd124-1eb4-4515-8144-1b5e68647058"
      },
      "execution_count": 9,
      "outputs": [
        {
          "output_type": "execute_result",
          "data": {
            "text/plain": [
              "['###24293578\\n',\n",
              " 'OBJECTIVE\\tTo investigate the efficacy of @ weeks of daily low-dose oral prednisolone in improving pain , mobility , and systemic low-grade inflammation in the short term and whether the effect would be sustained at @ weeks in older adults with moderate to severe knee osteoarthritis ( OA ) .\\n',\n",
              " 'METHODS\\tA total of @ patients with primary knee OA were randomized @:@ ; @ received @ mg/day of prednisolone and @ received placebo for @ weeks .\\n',\n",
              " 'METHODS\\tOutcome measures included pain reduction and improvement in function scores and systemic inflammation markers .\\n',\n",
              " 'METHODS\\tPain was assessed using the visual analog pain scale ( @-@ mm ) .\\n',\n",
              " 'METHODS\\tSecondary outcome measures included the Western Ontario and McMaster Universities Osteoarthritis Index scores , patient global assessment ( PGA ) of the severity of knee OA , and @-min walk distance ( @MWD ) .\\n',\n",
              " 'METHODS\\tSerum levels of interleukin @ ( IL-@ ) , IL-@ , tumor necrosis factor ( TNF ) - , and high-sensitivity C-reactive protein ( hsCRP ) were measured .\\n',\n",
              " 'RESULTS\\tThere was a clinically relevant reduction in the intervention group compared to the placebo group for knee pain , physical function , PGA , and @MWD at @ weeks .\\n',\n",
              " 'RESULTS\\tThe mean difference between treatment arms ( @ % CI ) was @ ( @-@ @ ) , p < @ ; @ ( @-@ @ ) , p < @ ; @ ( @-@ @ ) , p < @ ; and @ ( @-@ @ ) , p < @ , respectively .\\n',\n",
              " 'RESULTS\\tFurther , there was a clinically relevant reduction in the serum levels of IL-@ , IL-@ , TNF - , and hsCRP at @ weeks in the intervention group when compared to the placebo group .\\n',\n",
              " 'RESULTS\\tThese differences remained significant at @ weeks .\\n',\n",
              " 'RESULTS\\tThe Outcome Measures in Rheumatology Clinical Trials-Osteoarthritis Research Society International responder rate was @ % in the intervention group and @ % in the placebo group ( p < @ ) .\\n',\n",
              " 'CONCLUSIONS\\tLow-dose oral prednisolone had both a short-term and a longer sustained effect resulting in less knee pain , better physical function , and attenuation of systemic inflammation in older patients with knee OA ( ClinicalTrials.gov identifier NCT@ ) .\\n',\n",
              " '\\n',\n",
              " '###24854809\\n',\n",
              " 'BACKGROUND\\tEmotional eating is associated with overeating and the development of obesity .\\n',\n",
              " 'BACKGROUND\\tYet , empirical evidence for individual ( trait ) differences in emotional eating and cognitive mechanisms that contribute to eating during sad mood remain equivocal .\\n',\n",
              " 'OBJECTIVE\\tThe aim of this study was to test if attention bias for food moderates the effect of self-reported emotional eating during sad mood ( vs neutral mood ) on actual food intake .\\n',\n",
              " 'OBJECTIVE\\tIt was expected that emotional eating is predictive of elevated attention for food and higher food intake after an experimentally induced sad mood and that attentional maintenance on food predicts food intake during a sad versus a neutral mood .\\n',\n",
              " 'METHODS\\tParticipants ( N = @ ) were randomly assigned to one of the two experimental mood induction conditions ( sad/neutral ) .\\n']"
            ]
          },
          "metadata": {},
          "execution_count": 9
        }
      ]
    },
    {
      "cell_type": "markdown",
      "source": [
        "**Observations:**\n",
        "- This is basically list of strings containing different abstract samples, along with the sentences and the label to it.\n",
        "- The label and sentence are seperated by \\t\n",
        "- Each sentence ends with a new line \\n\n",
        "- Different abstracts are seperated by abstract ID (startwith ###) and new lines \\n\n"
      ],
      "metadata": {
        "id": "HLSA84m8OWad"
      }
    },
    {
      "cell_type": "markdown",
      "source": [
        "***Let's write a function to perform the following steps:***\n",
        "* Take a target file of abstract samples.\n",
        "* Read the lines in the target file.\n",
        "* For each line in the target file:  \n",
        "  * If the line begins with `###` mark it as an abstract ID and the beginning of a new abstract.\n",
        "    * Keep count of the number of lines in a sample.\n",
        "  * If the line begins with `\\n` mark it as the end of an abstract sample.\n",
        "    * Keep count of the total lines in a sample.\n",
        "  * Record the text before the `\\t` as the label of the line.\n",
        "  * Record the text after the `\\t` as the text of the line.\n",
        "* Return all of the lines in the target text file as a list of dictionaries containing the key/value pairs:\n",
        "  * `\"line_number\"` - the position of the line in the abstract (e.g. `3`).\n",
        "  * `\"target\"` - the role of the line in the abstract (e.g. `OBJECTIVE`).\n",
        "  * `\"text\"` - the text of the line in the abstract.\n",
        "  * `\"total_lines\"` - the total lines in an abstract sample (e.g. `14`).\n",
        "* Abstract ID's and newlines should be omitted from the returned preprocessed data.\n",
        "\n",
        "Example returned preprocessed sample (a single line from an abstract):\n",
        "\n",
        "```\n",
        "[{'line_number': 0,\n",
        "  'target': 'OBJECTIVE',\n",
        "  'text': 'to investigate the efficacy of @ weeks of daily low-dose oral prednisolone in improving pain , mobility , and systemic low-grade inflammation in the short term and whether the effect would be sustained at @ weeks in older adults with moderate to severe knee osteoarthritis ( oa ) .',\n",
        "  'total_lines': 11},\n",
        "  ...]\n",
        "```"
      ],
      "metadata": {
        "id": "4_XZNQRTQs_2"
      }
    },
    {
      "cell_type": "code",
      "source": [
        "def preprocess_text_with_line_numbers(filename):\n",
        "  \"\"\"Returns a list of dictionaries of abstract line data.\n",
        "\n",
        "  Takes in filename, reads its contents and sorts through each line,\n",
        "  extracting things like the target label, the text of the sentence,\n",
        "  how many sentences are in the current abstract and what sentence number\n",
        "  the target line is.\n",
        "\n",
        "  Args:\n",
        "      filename: a string of the target text file to read and extract line data\n",
        "      from.\n",
        "\n",
        "  Returns:\n",
        "      A list of dictionaries each containing a line from an abstract,\n",
        "      the lines label, the lines position in the abstract and the total number\n",
        "      of lines in the abstract where the line is from. For example:\n",
        "\n",
        "      [{\"target\": 'CONCLUSION',\n",
        "        \"text\": The study couldn't have gone better, turns out people are kinder than you think\",\n",
        "        \"line_number\": 8,\n",
        "        \"total_lines\": 8}]\n",
        "  \"\"\"\n",
        "  input_lines = get_lines(filename)\n",
        "  abstract_lines = \"\"  # A string to accumulate the lines of the current abstract.\n",
        "  abstract_samples = [] # A list to store the processed line data for all abstracts.\n",
        "\n",
        "  for line in input_lines:\n",
        "    if line.startswith(\"###\"):\n",
        "      abstract_id = line\n",
        "      abstract_lines = \"\"\n",
        "    elif line.isspace():  # \\n is also considered space so this means if line is new line\n",
        "      abstract_line_split = abstract_lines.splitlines()\n",
        "\n",
        "      for abstract_line_number, abstract_line in enumerate(abstract_line_split):\n",
        "        line_data = {}\n",
        "        target_text_split = abstract_line.split(\"\\t\")\n",
        "        line_data[\"target\"] = target_text_split[0]\n",
        "        line_data[\"text\"] = target_text_split[1].lower()\n",
        "        line_data[\"line_number\"] = abstract_line_number\n",
        "        line_data[\"total_lines\"] = len(abstract_line_split) -1 #as lines starts from 0\n",
        "        abstract_samples.append(line_data)\n",
        "\n",
        "    else:\n",
        "      abstract_lines +=line\n",
        "\n",
        "  return abstract_samples\n",
        "\n"
      ],
      "metadata": {
        "id": "adPhrpc-Q7oL"
      },
      "execution_count": 10,
      "outputs": []
    },
    {
      "cell_type": "code",
      "source": [
        "%%time\n",
        "train_samples = preprocess_text_with_line_numbers(data_dir + \"train.txt\")\n",
        "val_samples = preprocess_text_with_line_numbers(data_dir + \"dev.txt\") # dev is another name for validation set\n",
        "test_samples = preprocess_text_with_line_numbers(data_dir + \"test.txt\")\n",
        "len(train_samples), len(val_samples), len(test_samples)"
      ],
      "metadata": {
        "colab": {
          "base_uri": "https://localhost:8080/"
        },
        "id": "dIZB3wGxTG6p",
        "outputId": "c2914b3b-3fd5-4e97-eb1c-40629a3b39fd"
      },
      "execution_count": 11,
      "outputs": [
        {
          "output_type": "stream",
          "name": "stdout",
          "text": [
            "CPU times: user 761 ms, sys: 121 ms, total: 882 ms\n",
            "Wall time: 1.87 s\n"
          ]
        },
        {
          "output_type": "execute_result",
          "data": {
            "text/plain": [
              "(180040, 30212, 30135)"
            ]
          },
          "metadata": {},
          "execution_count": 11
        }
      ]
    },
    {
      "cell_type": "code",
      "source": [
        "train_samples[:10]"
      ],
      "metadata": {
        "colab": {
          "base_uri": "https://localhost:8080/"
        },
        "id": "dX2RZFnCTLS6",
        "outputId": "efdee3a1-8eeb-40cf-ee05-7d5ff91be5b1"
      },
      "execution_count": 12,
      "outputs": [
        {
          "output_type": "execute_result",
          "data": {
            "text/plain": [
              "[{'target': 'OBJECTIVE',\n",
              "  'text': 'to investigate the efficacy of @ weeks of daily low-dose oral prednisolone in improving pain , mobility , and systemic low-grade inflammation in the short term and whether the effect would be sustained at @ weeks in older adults with moderate to severe knee osteoarthritis ( oa ) .',\n",
              "  'line_number': 0,\n",
              "  'total_lines': 11},\n",
              " {'target': 'METHODS',\n",
              "  'text': 'a total of @ patients with primary knee oa were randomized @:@ ; @ received @ mg/day of prednisolone and @ received placebo for @ weeks .',\n",
              "  'line_number': 1,\n",
              "  'total_lines': 11},\n",
              " {'target': 'METHODS',\n",
              "  'text': 'outcome measures included pain reduction and improvement in function scores and systemic inflammation markers .',\n",
              "  'line_number': 2,\n",
              "  'total_lines': 11},\n",
              " {'target': 'METHODS',\n",
              "  'text': 'pain was assessed using the visual analog pain scale ( @-@ mm ) .',\n",
              "  'line_number': 3,\n",
              "  'total_lines': 11},\n",
              " {'target': 'METHODS',\n",
              "  'text': 'secondary outcome measures included the western ontario and mcmaster universities osteoarthritis index scores , patient global assessment ( pga ) of the severity of knee oa , and @-min walk distance ( @mwd ) .',\n",
              "  'line_number': 4,\n",
              "  'total_lines': 11},\n",
              " {'target': 'METHODS',\n",
              "  'text': 'serum levels of interleukin @ ( il-@ ) , il-@ , tumor necrosis factor ( tnf ) - , and high-sensitivity c-reactive protein ( hscrp ) were measured .',\n",
              "  'line_number': 5,\n",
              "  'total_lines': 11},\n",
              " {'target': 'RESULTS',\n",
              "  'text': 'there was a clinically relevant reduction in the intervention group compared to the placebo group for knee pain , physical function , pga , and @mwd at @ weeks .',\n",
              "  'line_number': 6,\n",
              "  'total_lines': 11},\n",
              " {'target': 'RESULTS',\n",
              "  'text': 'the mean difference between treatment arms ( @ % ci ) was @ ( @-@ @ ) , p < @ ; @ ( @-@ @ ) , p < @ ; @ ( @-@ @ ) , p < @ ; and @ ( @-@ @ ) , p < @ , respectively .',\n",
              "  'line_number': 7,\n",
              "  'total_lines': 11},\n",
              " {'target': 'RESULTS',\n",
              "  'text': 'further , there was a clinically relevant reduction in the serum levels of il-@ , il-@ , tnf - , and hscrp at @ weeks in the intervention group when compared to the placebo group .',\n",
              "  'line_number': 8,\n",
              "  'total_lines': 11},\n",
              " {'target': 'RESULTS',\n",
              "  'text': 'these differences remained significant at @ weeks .',\n",
              "  'line_number': 9,\n",
              "  'total_lines': 11}]"
            ]
          },
          "metadata": {},
          "execution_count": 12
        }
      ]
    },
    {
      "cell_type": "markdown",
      "source": [
        "Purrfect"
      ],
      "metadata": {
        "id": "EVYNzShOUVVB"
      }
    },
    {
      "cell_type": "code",
      "source": [
        "import pandas as pd\n",
        "train_df = pd.DataFrame(train_samples)\n",
        "val_df = pd.DataFrame(val_samples)\n",
        "test_df = pd.DataFrame(test_samples)\n",
        "train_df.head(15)"
      ],
      "metadata": {
        "colab": {
          "base_uri": "https://localhost:8080/",
          "height": 780
        },
        "id": "l3Wrjqh2UYZb",
        "outputId": "76d25f7b-55c0-4f26-e13c-585558440d58"
      },
      "execution_count": 13,
      "outputs": [
        {
          "output_type": "execute_result",
          "data": {
            "text/plain": [
              "         target                                               text  \\\n",
              "0     OBJECTIVE  to investigate the efficacy of @ weeks of dail...   \n",
              "1       METHODS  a total of @ patients with primary knee oa wer...   \n",
              "2       METHODS  outcome measures included pain reduction and i...   \n",
              "3       METHODS  pain was assessed using the visual analog pain...   \n",
              "4       METHODS  secondary outcome measures included the wester...   \n",
              "5       METHODS  serum levels of interleukin @ ( il-@ ) , il-@ ...   \n",
              "6       RESULTS  there was a clinically relevant reduction in t...   \n",
              "7       RESULTS  the mean difference between treatment arms ( @...   \n",
              "8       RESULTS  further , there was a clinically relevant redu...   \n",
              "9       RESULTS  these differences remained significant at @ we...   \n",
              "10      RESULTS  the outcome measures in rheumatology clinical ...   \n",
              "11  CONCLUSIONS  low-dose oral prednisolone had both a short-te...   \n",
              "12   BACKGROUND  emotional eating is associated with overeating...   \n",
              "13   BACKGROUND  yet , empirical evidence for individual ( trai...   \n",
              "14    OBJECTIVE  the aim of this study was to test if attention...   \n",
              "\n",
              "    line_number  total_lines  \n",
              "0             0           11  \n",
              "1             1           11  \n",
              "2             2           11  \n",
              "3             3           11  \n",
              "4             4           11  \n",
              "5             5           11  \n",
              "6             6           11  \n",
              "7             7           11  \n",
              "8             8           11  \n",
              "9             9           11  \n",
              "10           10           11  \n",
              "11           11           11  \n",
              "12            0           10  \n",
              "13            1           10  \n",
              "14            2           10  "
            ],
            "text/html": [
              "\n",
              "  <div id=\"df-82e39ef2-918d-48ed-9991-28f7703bf737\" class=\"colab-df-container\">\n",
              "    <div>\n",
              "<style scoped>\n",
              "    .dataframe tbody tr th:only-of-type {\n",
              "        vertical-align: middle;\n",
              "    }\n",
              "\n",
              "    .dataframe tbody tr th {\n",
              "        vertical-align: top;\n",
              "    }\n",
              "\n",
              "    .dataframe thead th {\n",
              "        text-align: right;\n",
              "    }\n",
              "</style>\n",
              "<table border=\"1\" class=\"dataframe\">\n",
              "  <thead>\n",
              "    <tr style=\"text-align: right;\">\n",
              "      <th></th>\n",
              "      <th>target</th>\n",
              "      <th>text</th>\n",
              "      <th>line_number</th>\n",
              "      <th>total_lines</th>\n",
              "    </tr>\n",
              "  </thead>\n",
              "  <tbody>\n",
              "    <tr>\n",
              "      <th>0</th>\n",
              "      <td>OBJECTIVE</td>\n",
              "      <td>to investigate the efficacy of @ weeks of dail...</td>\n",
              "      <td>0</td>\n",
              "      <td>11</td>\n",
              "    </tr>\n",
              "    <tr>\n",
              "      <th>1</th>\n",
              "      <td>METHODS</td>\n",
              "      <td>a total of @ patients with primary knee oa wer...</td>\n",
              "      <td>1</td>\n",
              "      <td>11</td>\n",
              "    </tr>\n",
              "    <tr>\n",
              "      <th>2</th>\n",
              "      <td>METHODS</td>\n",
              "      <td>outcome measures included pain reduction and i...</td>\n",
              "      <td>2</td>\n",
              "      <td>11</td>\n",
              "    </tr>\n",
              "    <tr>\n",
              "      <th>3</th>\n",
              "      <td>METHODS</td>\n",
              "      <td>pain was assessed using the visual analog pain...</td>\n",
              "      <td>3</td>\n",
              "      <td>11</td>\n",
              "    </tr>\n",
              "    <tr>\n",
              "      <th>4</th>\n",
              "      <td>METHODS</td>\n",
              "      <td>secondary outcome measures included the wester...</td>\n",
              "      <td>4</td>\n",
              "      <td>11</td>\n",
              "    </tr>\n",
              "    <tr>\n",
              "      <th>5</th>\n",
              "      <td>METHODS</td>\n",
              "      <td>serum levels of interleukin @ ( il-@ ) , il-@ ...</td>\n",
              "      <td>5</td>\n",
              "      <td>11</td>\n",
              "    </tr>\n",
              "    <tr>\n",
              "      <th>6</th>\n",
              "      <td>RESULTS</td>\n",
              "      <td>there was a clinically relevant reduction in t...</td>\n",
              "      <td>6</td>\n",
              "      <td>11</td>\n",
              "    </tr>\n",
              "    <tr>\n",
              "      <th>7</th>\n",
              "      <td>RESULTS</td>\n",
              "      <td>the mean difference between treatment arms ( @...</td>\n",
              "      <td>7</td>\n",
              "      <td>11</td>\n",
              "    </tr>\n",
              "    <tr>\n",
              "      <th>8</th>\n",
              "      <td>RESULTS</td>\n",
              "      <td>further , there was a clinically relevant redu...</td>\n",
              "      <td>8</td>\n",
              "      <td>11</td>\n",
              "    </tr>\n",
              "    <tr>\n",
              "      <th>9</th>\n",
              "      <td>RESULTS</td>\n",
              "      <td>these differences remained significant at @ we...</td>\n",
              "      <td>9</td>\n",
              "      <td>11</td>\n",
              "    </tr>\n",
              "    <tr>\n",
              "      <th>10</th>\n",
              "      <td>RESULTS</td>\n",
              "      <td>the outcome measures in rheumatology clinical ...</td>\n",
              "      <td>10</td>\n",
              "      <td>11</td>\n",
              "    </tr>\n",
              "    <tr>\n",
              "      <th>11</th>\n",
              "      <td>CONCLUSIONS</td>\n",
              "      <td>low-dose oral prednisolone had both a short-te...</td>\n",
              "      <td>11</td>\n",
              "      <td>11</td>\n",
              "    </tr>\n",
              "    <tr>\n",
              "      <th>12</th>\n",
              "      <td>BACKGROUND</td>\n",
              "      <td>emotional eating is associated with overeating...</td>\n",
              "      <td>0</td>\n",
              "      <td>10</td>\n",
              "    </tr>\n",
              "    <tr>\n",
              "      <th>13</th>\n",
              "      <td>BACKGROUND</td>\n",
              "      <td>yet , empirical evidence for individual ( trai...</td>\n",
              "      <td>1</td>\n",
              "      <td>10</td>\n",
              "    </tr>\n",
              "    <tr>\n",
              "      <th>14</th>\n",
              "      <td>OBJECTIVE</td>\n",
              "      <td>the aim of this study was to test if attention...</td>\n",
              "      <td>2</td>\n",
              "      <td>10</td>\n",
              "    </tr>\n",
              "  </tbody>\n",
              "</table>\n",
              "</div>\n",
              "    <div class=\"colab-df-buttons\">\n",
              "\n",
              "  <div class=\"colab-df-container\">\n",
              "    <button class=\"colab-df-convert\" onclick=\"convertToInteractive('df-82e39ef2-918d-48ed-9991-28f7703bf737')\"\n",
              "            title=\"Convert this dataframe to an interactive table.\"\n",
              "            style=\"display:none;\">\n",
              "\n",
              "  <svg xmlns=\"http://www.w3.org/2000/svg\" height=\"24px\" viewBox=\"0 -960 960 960\">\n",
              "    <path d=\"M120-120v-720h720v720H120Zm60-500h600v-160H180v160Zm220 220h160v-160H400v160Zm0 220h160v-160H400v160ZM180-400h160v-160H180v160Zm440 0h160v-160H620v160ZM180-180h160v-160H180v160Zm440 0h160v-160H620v160Z\"/>\n",
              "  </svg>\n",
              "    </button>\n",
              "\n",
              "  <style>\n",
              "    .colab-df-container {\n",
              "      display:flex;\n",
              "      gap: 12px;\n",
              "    }\n",
              "\n",
              "    .colab-df-convert {\n",
              "      background-color: #E8F0FE;\n",
              "      border: none;\n",
              "      border-radius: 50%;\n",
              "      cursor: pointer;\n",
              "      display: none;\n",
              "      fill: #1967D2;\n",
              "      height: 32px;\n",
              "      padding: 0 0 0 0;\n",
              "      width: 32px;\n",
              "    }\n",
              "\n",
              "    .colab-df-convert:hover {\n",
              "      background-color: #E2EBFA;\n",
              "      box-shadow: 0px 1px 2px rgba(60, 64, 67, 0.3), 0px 1px 3px 1px rgba(60, 64, 67, 0.15);\n",
              "      fill: #174EA6;\n",
              "    }\n",
              "\n",
              "    .colab-df-buttons div {\n",
              "      margin-bottom: 4px;\n",
              "    }\n",
              "\n",
              "    [theme=dark] .colab-df-convert {\n",
              "      background-color: #3B4455;\n",
              "      fill: #D2E3FC;\n",
              "    }\n",
              "\n",
              "    [theme=dark] .colab-df-convert:hover {\n",
              "      background-color: #434B5C;\n",
              "      box-shadow: 0px 1px 3px 1px rgba(0, 0, 0, 0.15);\n",
              "      filter: drop-shadow(0px 1px 2px rgba(0, 0, 0, 0.3));\n",
              "      fill: #FFFFFF;\n",
              "    }\n",
              "  </style>\n",
              "\n",
              "    <script>\n",
              "      const buttonEl =\n",
              "        document.querySelector('#df-82e39ef2-918d-48ed-9991-28f7703bf737 button.colab-df-convert');\n",
              "      buttonEl.style.display =\n",
              "        google.colab.kernel.accessAllowed ? 'block' : 'none';\n",
              "\n",
              "      async function convertToInteractive(key) {\n",
              "        const element = document.querySelector('#df-82e39ef2-918d-48ed-9991-28f7703bf737');\n",
              "        const dataTable =\n",
              "          await google.colab.kernel.invokeFunction('convertToInteractive',\n",
              "                                                    [key], {});\n",
              "        if (!dataTable) return;\n",
              "\n",
              "        const docLinkHtml = 'Like what you see? Visit the ' +\n",
              "          '<a target=\"_blank\" href=https://colab.research.google.com/notebooks/data_table.ipynb>data table notebook</a>'\n",
              "          + ' to learn more about interactive tables.';\n",
              "        element.innerHTML = '';\n",
              "        dataTable['output_type'] = 'display_data';\n",
              "        await google.colab.output.renderOutput(dataTable, element);\n",
              "        const docLink = document.createElement('div');\n",
              "        docLink.innerHTML = docLinkHtml;\n",
              "        element.appendChild(docLink);\n",
              "      }\n",
              "    </script>\n",
              "  </div>\n",
              "\n",
              "\n",
              "<div id=\"df-fdc1099e-2df2-4500-add7-976fbb5a07cc\">\n",
              "  <button class=\"colab-df-quickchart\" onclick=\"quickchart('df-fdc1099e-2df2-4500-add7-976fbb5a07cc')\"\n",
              "            title=\"Suggest charts\"\n",
              "            style=\"display:none;\">\n",
              "\n",
              "<svg xmlns=\"http://www.w3.org/2000/svg\" height=\"24px\"viewBox=\"0 0 24 24\"\n",
              "     width=\"24px\">\n",
              "    <g>\n",
              "        <path d=\"M19 3H5c-1.1 0-2 .9-2 2v14c0 1.1.9 2 2 2h14c1.1 0 2-.9 2-2V5c0-1.1-.9-2-2-2zM9 17H7v-7h2v7zm4 0h-2V7h2v10zm4 0h-2v-4h2v4z\"/>\n",
              "    </g>\n",
              "</svg>\n",
              "  </button>\n",
              "\n",
              "<style>\n",
              "  .colab-df-quickchart {\n",
              "      --bg-color: #E8F0FE;\n",
              "      --fill-color: #1967D2;\n",
              "      --hover-bg-color: #E2EBFA;\n",
              "      --hover-fill-color: #174EA6;\n",
              "      --disabled-fill-color: #AAA;\n",
              "      --disabled-bg-color: #DDD;\n",
              "  }\n",
              "\n",
              "  [theme=dark] .colab-df-quickchart {\n",
              "      --bg-color: #3B4455;\n",
              "      --fill-color: #D2E3FC;\n",
              "      --hover-bg-color: #434B5C;\n",
              "      --hover-fill-color: #FFFFFF;\n",
              "      --disabled-bg-color: #3B4455;\n",
              "      --disabled-fill-color: #666;\n",
              "  }\n",
              "\n",
              "  .colab-df-quickchart {\n",
              "    background-color: var(--bg-color);\n",
              "    border: none;\n",
              "    border-radius: 50%;\n",
              "    cursor: pointer;\n",
              "    display: none;\n",
              "    fill: var(--fill-color);\n",
              "    height: 32px;\n",
              "    padding: 0;\n",
              "    width: 32px;\n",
              "  }\n",
              "\n",
              "  .colab-df-quickchart:hover {\n",
              "    background-color: var(--hover-bg-color);\n",
              "    box-shadow: 0 1px 2px rgba(60, 64, 67, 0.3), 0 1px 3px 1px rgba(60, 64, 67, 0.15);\n",
              "    fill: var(--button-hover-fill-color);\n",
              "  }\n",
              "\n",
              "  .colab-df-quickchart-complete:disabled,\n",
              "  .colab-df-quickchart-complete:disabled:hover {\n",
              "    background-color: var(--disabled-bg-color);\n",
              "    fill: var(--disabled-fill-color);\n",
              "    box-shadow: none;\n",
              "  }\n",
              "\n",
              "  .colab-df-spinner {\n",
              "    border: 2px solid var(--fill-color);\n",
              "    border-color: transparent;\n",
              "    border-bottom-color: var(--fill-color);\n",
              "    animation:\n",
              "      spin 1s steps(1) infinite;\n",
              "  }\n",
              "\n",
              "  @keyframes spin {\n",
              "    0% {\n",
              "      border-color: transparent;\n",
              "      border-bottom-color: var(--fill-color);\n",
              "      border-left-color: var(--fill-color);\n",
              "    }\n",
              "    20% {\n",
              "      border-color: transparent;\n",
              "      border-left-color: var(--fill-color);\n",
              "      border-top-color: var(--fill-color);\n",
              "    }\n",
              "    30% {\n",
              "      border-color: transparent;\n",
              "      border-left-color: var(--fill-color);\n",
              "      border-top-color: var(--fill-color);\n",
              "      border-right-color: var(--fill-color);\n",
              "    }\n",
              "    40% {\n",
              "      border-color: transparent;\n",
              "      border-right-color: var(--fill-color);\n",
              "      border-top-color: var(--fill-color);\n",
              "    }\n",
              "    60% {\n",
              "      border-color: transparent;\n",
              "      border-right-color: var(--fill-color);\n",
              "    }\n",
              "    80% {\n",
              "      border-color: transparent;\n",
              "      border-right-color: var(--fill-color);\n",
              "      border-bottom-color: var(--fill-color);\n",
              "    }\n",
              "    90% {\n",
              "      border-color: transparent;\n",
              "      border-bottom-color: var(--fill-color);\n",
              "    }\n",
              "  }\n",
              "</style>\n",
              "\n",
              "  <script>\n",
              "    async function quickchart(key) {\n",
              "      const quickchartButtonEl =\n",
              "        document.querySelector('#' + key + ' button');\n",
              "      quickchartButtonEl.disabled = true;  // To prevent multiple clicks.\n",
              "      quickchartButtonEl.classList.add('colab-df-spinner');\n",
              "      try {\n",
              "        const charts = await google.colab.kernel.invokeFunction(\n",
              "            'suggestCharts', [key], {});\n",
              "      } catch (error) {\n",
              "        console.error('Error during call to suggestCharts:', error);\n",
              "      }\n",
              "      quickchartButtonEl.classList.remove('colab-df-spinner');\n",
              "      quickchartButtonEl.classList.add('colab-df-quickchart-complete');\n",
              "    }\n",
              "    (() => {\n",
              "      let quickchartButtonEl =\n",
              "        document.querySelector('#df-fdc1099e-2df2-4500-add7-976fbb5a07cc button');\n",
              "      quickchartButtonEl.style.display =\n",
              "        google.colab.kernel.accessAllowed ? 'block' : 'none';\n",
              "    })();\n",
              "  </script>\n",
              "</div>\n",
              "\n",
              "    </div>\n",
              "  </div>\n"
            ],
            "application/vnd.google.colaboratory.intrinsic+json": {
              "type": "dataframe",
              "variable_name": "train_df"
            }
          },
          "metadata": {},
          "execution_count": 13
        }
      ]
    },
    {
      "cell_type": "code",
      "source": [
        "train_df.target.value_counts()"
      ],
      "metadata": {
        "colab": {
          "base_uri": "https://localhost:8080/"
        },
        "id": "4Oyg22NQUdZF",
        "outputId": "57aaaf9f-6d95-4d31-c03f-4ef8e46702d7"
      },
      "execution_count": 14,
      "outputs": [
        {
          "output_type": "execute_result",
          "data": {
            "text/plain": [
              "target\n",
              "METHODS        59353\n",
              "RESULTS        57953\n",
              "CONCLUSIONS    27168\n",
              "BACKGROUND     21727\n",
              "OBJECTIVE      13839\n",
              "Name: count, dtype: int64"
            ]
          },
          "metadata": {},
          "execution_count": 14
        }
      ]
    },
    {
      "cell_type": "code",
      "source": [
        "train_df.total_lines.plot.hist()"
      ],
      "metadata": {
        "colab": {
          "base_uri": "https://localhost:8080/",
          "height": 448
        },
        "id": "v0Cx6E4tUiOE",
        "outputId": "8c0502d2-02d5-4e9d-f190-65535633e9ec"
      },
      "execution_count": 15,
      "outputs": [
        {
          "output_type": "execute_result",
          "data": {
            "text/plain": [
              "<Axes: ylabel='Frequency'>"
            ]
          },
          "metadata": {},
          "execution_count": 15
        },
        {
          "output_type": "display_data",
          "data": {
            "text/plain": [
              "<Figure size 640x480 with 1 Axes>"
            ],
            "image/png": "[encoded data removed]"
          },
          "metadata": {}
        }
      ]
    },
    {
      "cell_type": "markdown",
      "source": [
        "### Get list of sentences\n",
        "\n",
        "When we build our deep learning model, one of its main inputs will be a list of strings (the lines of an abstract).\n",
        "\n",
        "We can get these easily from our DataFrames by calling the tolist() method on our \"text\" columns."
      ],
      "metadata": {
        "id": "qMaI2cnxUn4F"
      }
    },
    {
      "cell_type": "code",
      "source": [
        "train_sentences = train_df[\"text\"].tolist()\n",
        "val_sentences = val_df[\"text\"].tolist()\n",
        "test_sentences = test_df[\"text\"].tolist()\n",
        "len(train_sentences), len(val_sentences), len(test_sentences)"
      ],
      "metadata": {
        "colab": {
          "base_uri": "https://localhost:8080/"
        },
        "id": "lSxOSkfsVDKA",
        "outputId": "847f35a5-6b06-4d48-8daf-89512cea32bf"
      },
      "execution_count": 16,
      "outputs": [
        {
          "output_type": "execute_result",
          "data": {
            "text/plain": [
              "(180040, 30212, 30135)"
            ]
          },
          "metadata": {},
          "execution_count": 16
        }
      ]
    },
    {
      "cell_type": "code",
      "source": [
        "train_sentences[:1]"
      ],
      "metadata": {
        "colab": {
          "base_uri": "https://localhost:8080/"
        },
        "id": "MAXDujcxVFiW",
        "outputId": "5809125a-db41-40ca-f4a3-4af5cd2f8513"
      },
      "execution_count": 17,
      "outputs": [
        {
          "output_type": "execute_result",
          "data": {
            "text/plain": [
              "['to investigate the efficacy of @ weeks of daily low-dose oral prednisolone in improving pain , mobility , and systemic low-grade inflammation in the short term and whether the effect would be sustained at @ weeks in older adults with moderate to severe knee osteoarthritis ( oa ) .']"
            ]
          },
          "metadata": {},
          "execution_count": 17
        }
      ]
    },
    {
      "cell_type": "markdown",
      "source": [
        "### Make numeric labels (ML models require numeric labels)"
      ],
      "metadata": {
        "id": "GUmqzxLoVJn5"
      }
    },
    {
      "cell_type": "markdown",
      "source": [
        "We could get away with just making label encoded labels, however, TensorFlow's CategoricalCrossentropy loss function likes to have one hot encoded labels (this will enable us to use label smoothing later on)."
      ],
      "metadata": {
        "id": "EVDvitmZWaDE"
      }
    },
    {
      "cell_type": "code",
      "source": [
        "# One hot encode labels\n",
        "from sklearn.preprocessing import OneHotEncoder\n",
        "one_hot_encoder = OneHotEncoder(sparse=False)\n",
        "train_labels_one_hot = one_hot_encoder.fit_transform(train_df[\"target\"].to_numpy().reshape(-1, 1))\n",
        "val_labels_one_hot = one_hot_encoder.transform(val_df[\"target\"].to_numpy().reshape(-1, 1))\n",
        "test_labels_one_hot = one_hot_encoder.transform(test_df[\"target\"].to_numpy().reshape(-1, 1))\n",
        "# we had to reshape cuz OHE needs 2D array\n",
        "train_labels_one_hot"
      ],
      "metadata": {
        "colab": {
          "base_uri": "https://localhost:8080/"
        },
        "id": "5SGWxHAEVy6y",
        "outputId": "58c4d0b6-6c21-4096-e5a7-e00ce6909e6b"
      },
      "execution_count": 18,
      "outputs": [
        {
          "output_type": "stream",
          "name": "stderr",
          "text": [
            "/usr/local/lib/python3.10/dist-packages/sklearn/preprocessing/_encoders.py:868: FutureWarning: `sparse` was renamed to `sparse_output` in version 1.2 and will be removed in 1.4. `sparse_output` is ignored unless you leave `sparse` to its default value.\n",
            "  warnings.warn(\n"
          ]
        },
        {
          "output_type": "execute_result",
          "data": {
            "text/plain": [
              "array([[0., 0., 0., 1., 0.],\n",
              "       [0., 0., 1., 0., 0.],\n",
              "       [0., 0., 1., 0., 0.],\n",
              "       ...,\n",
              "       [0., 0., 0., 0., 1.],\n",
              "       [0., 1., 0., 0., 0.],\n",
              "       [0., 1., 0., 0., 0.]])"
            ]
          },
          "metadata": {},
          "execution_count": 18
        }
      ]
    },
    {
      "cell_type": "code",
      "source": [
        "# Label encode labels\n",
        "from sklearn.preprocessing import LabelEncoder\n",
        "label_encoder = LabelEncoder()\n",
        "train_labels_encoded = label_encoder.fit_transform(train_df[\"target\"].to_numpy())\n",
        "val_labels_encoded = label_encoder.transform(val_df[\"target\"].to_numpy())\n",
        "test_labels_encoded = label_encoder.transform(test_df[\"target\"].to_numpy())\n",
        "\n",
        "train_labels_encoded"
      ],
      "metadata": {
        "colab": {
          "base_uri": "https://localhost:8080/"
        },
        "id": "cObhJsd7WKBP",
        "outputId": "d0666c32-b679-46a5-d48b-31eee707af82"
      },
      "execution_count": 19,
      "outputs": [
        {
          "output_type": "execute_result",
          "data": {
            "text/plain": [
              "array([3, 2, 2, ..., 4, 1, 1])"
            ]
          },
          "metadata": {},
          "execution_count": 19
        }
      ]
    },
    {
      "cell_type": "code",
      "source": [
        "num_classes = len(label_encoder.classes_)\n",
        "class_names = label_encoder.classes_"
      ],
      "metadata": {
        "id": "QlxqgwGDWhn8"
      },
      "execution_count": 20,
      "outputs": []
    },
    {
      "cell_type": "code",
      "source": [
        "num_classes, class_names"
      ],
      "metadata": {
        "colab": {
          "base_uri": "https://localhost:8080/"
        },
        "id": "RZsb8jXAWmn0",
        "outputId": "06e92097-cdc1-432f-ea35-86368f3a1e66"
      },
      "execution_count": 21,
      "outputs": [
        {
          "output_type": "execute_result",
          "data": {
            "text/plain": [
              "(5,\n",
              " array(['BACKGROUND', 'CONCLUSIONS', 'METHODS', 'OBJECTIVE', 'RESULTS'],\n",
              "       dtype=object))"
            ]
          },
          "metadata": {},
          "execution_count": 21
        }
      ]
    },
    {
      "cell_type": "markdown",
      "source": [
        "# **Modelling 🔥🔥🔥🔥**\n",
        "\n",
        "We'll start by creating a simple baseline model to obtain a score we'll try to beat by building more and more complex models as we move towards replicating the sequence model outlined in Neural networks for joint sentence classification in medical paper abstracts."
      ],
      "metadata": {
        "id": "DLVzy6hDWs8z"
      }
    },
    {
      "cell_type": "markdown",
      "source": [
        "## **Model 0:** Baseline ML Model"
      ],
      "metadata": {
        "id": "rh2j5uEJWy2b"
      }
    },
    {
      "cell_type": "code",
      "source": [
        "from sklearn.feature_extraction.text import TfidfVectorizer\n",
        "from sklearn.naive_bayes import MultinomialNB\n",
        "from sklearn.pipeline import Pipeline\n",
        "\n",
        "model_0 = Pipeline([\n",
        "    (\"tf-idf\", TfidfVectorizer()),\n",
        "    (\"clf\", MultinomialNB())\n",
        "])\n",
        "\n",
        "model_0.fit(X=train_sentences, y = train_labels_encoded)"
      ],
      "metadata": {
        "colab": {
          "base_uri": "https://localhost:8080/",
          "height": 125
        },
        "id": "aTdPvEo1W-1g",
        "outputId": "7e0c4b88-e075-4874-910a-d3ea549d5252"
      },
      "execution_count": 22,
      "outputs": [
        {
          "output_type": "execute_result",
          "data": {
            "text/plain": [
              "Pipeline(steps=[('tf-idf', TfidfVectorizer()), ('clf', MultinomialNB())])"
            ],
            "text/html": [
              "<style>#sk-container-id-1 {color: black;background-color: white;}#sk-container-id-1 pre{padding: 0;}#sk-container-id-1 div.sk-toggleable {background-color: white;}#sk-container-id-1 label.sk-toggleable__label {cursor: pointer;display: block;width: 100%;margin-bottom: 0;padding: 0.3em;box-sizing: border-box;text-align: center;}#sk-container-id-1 label.sk-toggleable__label-arrow:before {content: \"▸\";float: left;margin-right: 0.25em;color: #696969;}#sk-container-id-1 label.sk-toggleable__label-arrow:hover:before {color: black;}#sk-container-id-1 div.sk-estimator:hover label.sk-toggleable__label-arrow:before {color: black;}#sk-container-id-1 div.sk-toggleable__content {max-height: 0;max-width: 0;overflow: hidden;text-align: left;background-color: #f0f8ff;}#sk-container-id-1 div.sk-toggleable__content pre {margin: 0.2em;color: black;border-radius: 0.25em;background-color: #f0f8ff;}#sk-container-id-1 input.sk-toggleable__control:checked~div.sk-toggleable__content {max-height: 200px;max-width: 100%;overflow: auto;}#sk-container-id-1 input.sk-toggleable__control:checked~label.sk-toggleable__label-arrow:before {content: \"▾\";}#sk-container-id-1 div.sk-estimator input.sk-toggleable__control:checked~label.sk-toggleable__label {background-color: #d4ebff;}#sk-container-id-1 div.sk-label input.sk-toggleable__control:checked~label.sk-toggleable__label {background-color: #d4ebff;}#sk-container-id-1 input.sk-hidden--visually {border: 0;clip: rect(1px 1px 1px 1px);clip: rect(1px, 1px, 1px, 1px);height: 1px;margin: -1px;overflow: hidden;padding: 0;position: absolute;width: 1px;}#sk-container-id-1 div.sk-estimator {font-family: monospace;background-color: #f0f8ff;border: 1px dotted black;border-radius: 0.25em;box-sizing: border-box;margin-bottom: 0.5em;}#sk-container-id-1 div.sk-estimator:hover {background-color: #d4ebff;}#sk-container-id-1 div.sk-parallel-item::after {content: \"\";width: 100%;border-bottom: 1px solid gray;flex-grow: 1;}#sk-container-id-1 div.sk-label:hover label.sk-toggleable__label {background-color: #d4ebff;}#sk-container-id-1 div.sk-serial::before {content: \"\";position: absolute;border-left: 1px solid gray;box-sizing: border-box;top: 0;bottom: 0;left: 50%;z-index: 0;}#sk-container-id-1 div.sk-serial {display: flex;flex-direction: column;align-items: center;background-color: white;padding-right: 0.2em;padding-left: 0.2em;position: relative;}#sk-container-id-1 div.sk-item {position: relative;z-index: 1;}#sk-container-id-1 div.sk-parallel {display: flex;align-items: stretch;justify-content: center;background-color: white;position: relative;}#sk-container-id-1 div.sk-item::before, #sk-container-id-1 div.sk-parallel-item::before {content: \"\";position: absolute;border-left: 1px solid gray;box-sizing: border-box;top: 0;bottom: 0;left: 50%;z-index: -1;}#sk-container-id-1 div.sk-parallel-item {display: flex;flex-direction: column;z-index: 1;position: relative;background-color: white;}#sk-container-id-1 div.sk-parallel-item:first-child::after {align-self: flex-end;width: 50%;}#sk-container-id-1 div.sk-parallel-item:last-child::after {align-self: flex-start;width: 50%;}#sk-container-id-1 div.sk-parallel-item:only-child::after {width: 0;}#sk-container-id-1 div.sk-dashed-wrapped {border: 1px dashed gray;margin: 0 0.4em 0.5em 0.4em;box-sizing: border-box;padding-bottom: 0.4em;background-color: white;}#sk-container-id-1 div.sk-label label {font-family: monospace;font-weight: bold;display: inline-block;line-height: 1.2em;}#sk-container-id-1 div.sk-label-container {text-align: center;}#sk-container-id-1 div.sk-container {/* jupyter's `normalize.less` sets `[hidden] { display: none; }` but bootstrap.min.css set `[hidden] { display: none !important; }` so we also need the `!important` here to be able to override the default hidden behavior on the sphinx rendered scikit-learn.org. See: https://github.com/scikit-learn/scikit-learn/issues/21755 */display: inline-block !important;position: relative;}#sk-container-id-1 div.sk-text-repr-fallback {display: none;}</style><div id=\"sk-container-id-1\" class=\"sk-top-container\"><div class=\"sk-text-repr-fallback\"><pre>Pipeline(steps=[(&#x27;tf-idf&#x27;, TfidfVectorizer()), (&#x27;clf&#x27;, MultinomialNB())])</pre><b>In a Jupyter environment, please rerun this cell to show the HTML representation or trust the notebook. <br />On GitHub, the HTML representation is unable to render, please try loading this page with nbviewer.org.</b></div><div class=\"sk-container\" hidden><div class=\"sk-item sk-dashed-wrapped\"><div class=\"sk-label-container\"><div class=\"sk-label sk-toggleable\"><input class=\"sk-toggleable__control sk-hidden--visually\" id=\"sk-estimator-id-1\" type=\"checkbox\" ><label for=\"sk-estimator-id-1\" class=\"sk-toggleable__label sk-toggleable__label-arrow\">Pipeline</label><div class=\"sk-toggleable__content\"><pre>Pipeline(steps=[(&#x27;tf-idf&#x27;, TfidfVectorizer()), (&#x27;clf&#x27;, MultinomialNB())])</pre></div></div></div><div class=\"sk-serial\"><div class=\"sk-item\"><div class=\"sk-estimator sk-toggleable\"><input class=\"sk-toggleable__control sk-hidden--visually\" id=\"sk-estimator-id-2\" type=\"checkbox\" ><label for=\"sk-estimator-id-2\" class=\"sk-toggleable__label sk-toggleable__label-arrow\">TfidfVectorizer</label><div class=\"sk-toggleable__content\"><pre>TfidfVectorizer()</pre></div></div></div><div class=\"sk-item\"><div class=\"sk-estimator sk-toggleable\"><input class=\"sk-toggleable__control sk-hidden--visually\" id=\"sk-estimator-id-3\" type=\"checkbox\" ><label for=\"sk-estimator-id-3\" class=\"sk-toggleable__label sk-toggleable__label-arrow\">MultinomialNB</label><div class=\"sk-toggleable__content\"><pre>MultinomialNB()</pre></div></div></div></div></div></div></div>"
            ]
          },
          "metadata": {},
          "execution_count": 22
        }
      ]
    },
    {
      "cell_type": "code",
      "source": [
        "model_0.score(X = val_sentences, y  = val_labels_encoded)"
      ],
      "metadata": {
        "colab": {
          "base_uri": "https://localhost:8080/"
        },
        "id": "ylsXZ5uNXiZO",
        "outputId": "68c16d8b-c33b-4899-e1be-ba1c54b7828a"
      },
      "execution_count": 23,
      "outputs": [
        {
          "output_type": "execute_result",
          "data": {
            "text/plain": [
              "0.7218323844829869"
            ]
          },
          "metadata": {},
          "execution_count": 23
        }
      ]
    },
    {
      "cell_type": "code",
      "source": [
        "baseline_preds = model_0.predict(val_sentences)\n",
        "baseline_preds"
      ],
      "metadata": {
        "colab": {
          "base_uri": "https://localhost:8080/"
        },
        "id": "vU2z6BsnYZYW",
        "outputId": "c23e30dd-035d-45a1-9d5d-171ae5be7bba"
      },
      "execution_count": 24,
      "outputs": [
        {
          "output_type": "execute_result",
          "data": {
            "text/plain": [
              "array([4, 1, 3, ..., 4, 4, 1])"
            ]
          },
          "metadata": {},
          "execution_count": 24
        }
      ]
    },
    {
      "cell_type": "markdown",
      "source": [
        "#####Getting helper funtions"
      ],
      "metadata": {
        "id": "xGSLD91cXpz6"
      }
    },
    {
      "cell_type": "code",
      "source": [
        "!wget https://raw.githubusercontent.com/yashfirkedata/NLP-Replicating-PubMed-200k-RCT-Paper/main/helper_functions.py"
      ],
      "metadata": {
        "colab": {
          "base_uri": "https://localhost:8080/"
        },
        "id": "PvD2eWY5YP4n",
        "outputId": "462334a3-021e-46f7-e9fc-cde87c69e341"
      },
      "execution_count": 25,
      "outputs": [
        {
          "output_type": "stream",
          "name": "stdout",
          "text": [
            "--2024-07-10 11:17:57--  https://raw.githubusercontent.com/yashfirkedata/NLP-Replicating-PubMed-200k-RCT-Paper/main/helper_functions.py\n",
            "Resolving raw.githubusercontent.com (raw.githubusercontent.com)... 185.199.108.133, 185.199.109.133, 185.199.110.133, ...\n",
            "Connecting to raw.githubusercontent.com (raw.githubusercontent.com)|185.199.108.133|:443... connected.\n",
            "HTTP request sent, awaiting response... 200 OK\n",
            "Length: 10127 (9.9K) [text/plain]\n",
            "Saving to: ‘helper_functions.py’\n",
            "\n",
            "helper_functions.py 100%[===================>]   9.89K  --.-KB/s    in 0s      \n",
            "\n",
            "2024-07-10 11:17:58 (102 MB/s) - ‘helper_functions.py’ saved [10127/10127]\n",
            "\n"
          ]
        }
      ]
    },
    {
      "cell_type": "code",
      "source": [
        "# Import calculate_results helper function\n",
        "from helper_functions import calculate_results\n",
        "baseline_results = calculate_results(y_true=val_labels_encoded,\n",
        "                                     y_pred=baseline_preds)\n",
        "baseline_results"
      ],
      "metadata": {
        "colab": {
          "base_uri": "https://localhost:8080/"
        },
        "id": "LSbBhcQtYSTv",
        "outputId": "d37e15ba-83ec-4efb-fa2c-037833b74c7b"
      },
      "execution_count": 26,
      "outputs": [
        {
          "output_type": "execute_result",
          "data": {
            "text/plain": [
              "{'accuracy': 72.1832384482987,\n",
              " 'precision': 0.7186466952323352,\n",
              " 'recall': 0.7218323844829869,\n",
              " 'f1': 0.6989250353450294}"
            ]
          },
          "metadata": {},
          "execution_count": 26
        }
      ]
    },
    {
      "cell_type": "markdown",
      "source": [
        "Lets keep in mind\n",
        "\n",
        "**Baseline Accuracy: 72.18**"
      ],
      "metadata": {
        "id": "XtPgxatqYVyJ"
      }
    },
    {
      "cell_type": "markdown",
      "source": [
        "## Data Preprocessing for Deep Learning Models"
      ],
      "metadata": {
        "id": "dQ4iM7GhYpvL"
      }
    },
    {
      "cell_type": "markdown",
      "source": [
        "We need to create vectorization and embeddings and create data using tf.data API for faster processing"
      ],
      "metadata": {
        "id": "w3Cw-2XvYvsu"
      }
    },
    {
      "cell_type": "code",
      "source": [
        "import numpy as np\n",
        "import pandas as pd\n",
        "from tensorflow.keras import layers"
      ],
      "metadata": {
        "id": "VXJLqCdKY8Np"
      },
      "execution_count": 27,
      "outputs": []
    },
    {
      "cell_type": "markdown",
      "source": [
        "We need to pad all sentences to one length in order to send to modelling"
      ],
      "metadata": {
        "id": "8aO0r5F2gC9K"
      }
    },
    {
      "cell_type": "code",
      "source": [
        "sent_lens = [len(sentence.split()) for sentence in train_sentences]\n",
        "avg_sent_len = np.mean(sent_lens)\n",
        "avg_sent_len"
      ],
      "metadata": {
        "colab": {
          "base_uri": "https://localhost:8080/"
        },
        "id": "1RKWCFZsgQ_F",
        "outputId": "145b7663-6beb-41bc-971b-8551f6a92d70"
      },
      "execution_count": 28,
      "outputs": [
        {
          "output_type": "execute_result",
          "data": {
            "text/plain": [
              "26.338269273494777"
            ]
          },
          "metadata": {},
          "execution_count": 28
        }
      ]
    },
    {
      "cell_type": "code",
      "source": [
        "import matplotlib.pyplot as plt\n",
        "plt.hist(sent_lens, bins = 7)"
      ],
      "metadata": {
        "colab": {
          "base_uri": "https://localhost:8080/",
          "height": 517
        },
        "id": "XPUFwwrjgaWV",
        "outputId": "5dcf3962-d7e0-4342-f69d-4cc013d725eb"
      },
      "execution_count": 29,
      "outputs": [
        {
          "output_type": "execute_result",
          "data": {
            "text/plain": [
              "(array([1.5999e+05, 1.8760e+04, 1.1510e+03, 9.9000e+01, 2.8000e+01,\n",
              "        1.0000e+01, 2.0000e+00]),\n",
              " array([  1.        ,  43.14285714,  85.28571429, 127.42857143,\n",
              "        169.57142857, 211.71428571, 253.85714286, 296.        ]),\n",
              " <BarContainer object of 7 artists>)"
            ]
          },
          "metadata": {},
          "execution_count": 29
        },
        {
          "output_type": "display_data",
          "data": {
            "text/plain": [
              "<Figure size 640x480 with 1 Axes>"
            ],
            "image/png": "[encoded data removed]"
          },
          "metadata": {}
        }
      ]
    },
    {
      "cell_type": "markdown",
      "source": [
        "Looks like majority sentences are between 0 and 50 in length.\n",
        "\n",
        "We can check the 95th percentile of sentence lengths."
      ],
      "metadata": {
        "id": "nH4STorMjy8z"
      }
    },
    {
      "cell_type": "code",
      "source": [
        "output_seq_len = int(np.percentile(sent_lens,95))\n",
        "output_seq_len"
      ],
      "metadata": {
        "colab": {
          "base_uri": "https://localhost:8080/"
        },
        "id": "orozifITkI79",
        "outputId": "cfe97b9a-a1c6-4794-9303-a4d169c33d48"
      },
      "execution_count": 30,
      "outputs": [
        {
          "output_type": "execute_result",
          "data": {
            "text/plain": [
              "55"
            ]
          },
          "metadata": {},
          "execution_count": 30
        }
      ]
    },
    {
      "cell_type": "markdown",
      "source": [
        "Looks like 55 is the required number of words in sentence so we will pad the sentences less than 55 words with 0 and sentences more than 55 in length will get truncated."
      ],
      "metadata": {
        "id": "OyVgmBtakN6r"
      }
    },
    {
      "cell_type": "code",
      "source": [
        "max(sent_lens)"
      ],
      "metadata": {
        "colab": {
          "base_uri": "https://localhost:8080/"
        },
        "id": "g2vb49QbkjuG",
        "outputId": "12047458-1d51-499b-9db0-82500b707386"
      },
      "execution_count": 31,
      "outputs": [
        {
          "output_type": "execute_result",
          "data": {
            "text/plain": [
              "296"
            ]
          },
          "metadata": {},
          "execution_count": 31
        }
      ]
    },
    {
      "cell_type": "markdown",
      "source": [
        "### Create text vectorizer"
      ],
      "metadata": {
        "id": "9_3ET-9Bkl4O"
      }
    },
    {
      "cell_type": "markdown",
      "source": [
        "Section 3.2 of the PubMed 200k RCT paper states the vocabulary size of the PubMed 20k dataset as 68,000. So we'll use that as our max_tokens parameter."
      ],
      "metadata": {
        "id": "HMveFFkAolme"
      }
    },
    {
      "cell_type": "code",
      "source": [
        "max_tokens = 68000"
      ],
      "metadata": {
        "id": "mfAnY-VFoxk2"
      },
      "execution_count": 32,
      "outputs": []
    },
    {
      "cell_type": "markdown",
      "source": [
        "And since discovered a sentence length of 55 covers 95% of the training sentences, we'll use that as our output_sequence_length parameter."
      ],
      "metadata": {
        "id": "Msgb-nPJo3Tw"
      }
    },
    {
      "cell_type": "code",
      "source": [
        "from tensorflow.keras.layers import TextVectorization\n",
        "\n",
        "text_vectorizer = TextVectorization(max_tokens = max_tokens,\n",
        "                                    output_sequence_length = 55)"
      ],
      "metadata": {
        "id": "pgQiOrR7o3r3"
      },
      "execution_count": 33,
      "outputs": []
    },
    {
      "cell_type": "code",
      "source": [
        "text_vectorizer.adapt(train_sentences)"
      ],
      "metadata": {
        "id": "I7VC8RAcpK1m"
      },
      "execution_count": 34,
      "outputs": []
    },
    {
      "cell_type": "code",
      "source": [
        "import random\n",
        "target_sentence = random.choice(train_sentences)\n",
        "print(f\"Text: {target_sentence}\")\n",
        "print(f\"\\nLength of text: {len(target_sentence.split())}\")\n",
        "print(f\"\\nVectorized text: {text_vectorizer(target_sentence)}\")"
      ],
      "metadata": {
        "colab": {
          "base_uri": "https://localhost:8080/"
        },
        "id": "R2E962XLpP7p",
        "outputId": "4e5e091e-60bc-4bcc-9368-177f82dd5c4f"
      },
      "execution_count": 35,
      "outputs": [
        {
          "output_type": "stream",
          "name": "stdout",
          "text": [
            "Text: the study shows equivalence between cancellous allograft mixed with bone marrow concentrate and autologous iliac crest bone for lumbar fusions .\n",
            "\n",
            "Length of text: 21\n",
            "\n",
            "Vectorized text: [    2    17  1809  4160    30 23678  4673   832     7   410  3691  6548\n",
            "     3  2598  7858  5580   410    11  1244 23082     0     0     0     0\n",
            "     0     0     0     0     0     0     0     0     0     0     0     0\n",
            "     0     0     0     0     0     0     0     0     0     0     0     0\n",
            "     0     0     0     0     0     0     0]\n"
          ]
        }
      ]
    },
    {
      "cell_type": "markdown",
      "source": [
        "Exploring our text"
      ],
      "metadata": {
        "id": "Nhm2Zl85plEB"
      }
    },
    {
      "cell_type": "code",
      "source": [
        "rct_20k_text_vocab = text_vectorizer.get_vocabulary()\n",
        "print(f\"Number of words in vocabulary: {len(rct_20k_text_vocab)}\"),\n",
        "print(f\"Most common words in the vocabulary: {rct_20k_text_vocab[:5]}\")\n",
        "print(f\"Least common words in the vocabulary: {rct_20k_text_vocab[-5:]}\")"
      ],
      "metadata": {
        "colab": {
          "base_uri": "https://localhost:8080/"
        },
        "id": "9YY71_l-re3V",
        "outputId": "9b3e8c31-5aaf-49b9-911a-d5369d3632ca"
      },
      "execution_count": 36,
      "outputs": [
        {
          "output_type": "stream",
          "name": "stdout",
          "text": [
            "Number of words in vocabulary: 64841\n",
            "Most common words in the vocabulary: ['', '[UNK]', 'the', 'and', 'of']\n",
            "Least common words in the vocabulary: ['aainduced', 'aaigroup', 'aachener', 'aachen', 'aaacp']\n"
          ]
        }
      ]
    },
    {
      "cell_type": "code",
      "source": [
        "text_vectorizer.get_config()"
      ],
      "metadata": {
        "colab": {
          "base_uri": "https://localhost:8080/"
        },
        "id": "W3L6VzbNrhlJ",
        "outputId": "75713a4b-2893-450f-8f59-526fa4a66327"
      },
      "execution_count": 37,
      "outputs": [
        {
          "output_type": "execute_result",
          "data": {
            "text/plain": [
              "{'name': 'text_vectorization',\n",
              " 'trainable': True,\n",
              " 'dtype': 'string',\n",
              " 'batch_input_shape': (None,),\n",
              " 'max_tokens': 68000,\n",
              " 'standardize': 'lower_and_strip_punctuation',\n",
              " 'split': 'whitespace',\n",
              " 'ngrams': None,\n",
              " 'output_mode': 'int',\n",
              " 'output_sequence_length': 55,\n",
              " 'pad_to_max_tokens': False,\n",
              " 'sparse': False,\n",
              " 'ragged': False,\n",
              " 'vocabulary': None,\n",
              " 'idf_weights': None,\n",
              " 'encoding': 'utf-8',\n",
              " 'vocabulary_size': 64841}"
            ]
          },
          "metadata": {},
          "execution_count": 37
        }
      ]
    },
    {
      "cell_type": "markdown",
      "source": [
        "### Create custom text embedding"
      ],
      "metadata": {
        "id": "sc8rpuDjr8OX"
      }
    },
    {
      "cell_type": "code",
      "source": [
        "token_embed = layers.Embedding(input_dim = len(rct_20k_text_vocab),\n",
        "                               output_dim = 128,\n",
        "                               mask_zero = True,\n",
        "                               name = \"token_embedding\")"
      ],
      "metadata": {
        "id": "JkThArxYsFJi"
      },
      "execution_count": 38,
      "outputs": []
    },
    {
      "cell_type": "code",
      "source": [
        "print(f\"Sentence before vectorization:\\n{target_sentence}\\n\")\n",
        "vectorized_sentence = text_vectorizer([target_sentence])\n",
        "print(f\"Sentence after vectorization (before embedding):\\n{vectorized_sentence}\\n\")\n",
        "embedded_sentence = token_embed(vectorized_sentence)\n",
        "print(f\"Sentence after embedding:\\n{embedded_sentence}\\n\")\n",
        "print(f\"Embedded sentence shape: {embedded_sentence.shape}\")"
      ],
      "metadata": {
        "colab": {
          "base_uri": "https://localhost:8080/"
        },
        "id": "pMJzGRFxsaSz",
        "outputId": "c19baeba-6c3c-46dc-89ef-db88503de5fd"
      },
      "execution_count": 39,
      "outputs": [
        {
          "output_type": "stream",
          "name": "stdout",
          "text": [
            "Sentence before vectorization:\n",
            "the study shows equivalence between cancellous allograft mixed with bone marrow concentrate and autologous iliac crest bone for lumbar fusions .\n",
            "\n",
            "Sentence after vectorization (before embedding):\n",
            "[[    2    17  1809  4160    30 23678  4673   832     7   410  3691  6548\n",
            "      3  2598  7858  5580   410    11  1244 23082     0     0     0     0\n",
            "      0     0     0     0     0     0     0     0     0     0     0     0\n",
            "      0     0     0     0     0     0     0     0     0     0     0     0\n",
            "      0     0     0     0     0     0     0]]\n",
            "\n",
            "Sentence after embedding:\n",
            "[[[ 0.04465653  0.00162073  0.03708991 ... -0.00354563  0.04975506\n",
            "    0.02103952]\n",
            "  [-0.03735403 -0.03648944 -0.02207551 ...  0.01414622  0.01243488\n",
            "    0.02486589]\n",
            "  [-0.04112505  0.04995606  0.02748344 ... -0.03167204  0.00714245\n",
            "   -0.04454461]\n",
            "  ...\n",
            "  [ 0.03791757  0.02156827 -0.01025192 ...  0.00494721 -0.04407209\n",
            "   -0.03525205]\n",
            "  [ 0.03791757  0.02156827 -0.01025192 ...  0.00494721 -0.04407209\n",
            "   -0.03525205]\n",
            "  [ 0.03791757  0.02156827 -0.01025192 ...  0.00494721 -0.04407209\n",
            "   -0.03525205]]]\n",
            "\n",
            "Embedded sentence shape: (1, 55, 128)\n"
          ]
        }
      ]
    },
    {
      "cell_type": "markdown",
      "source": [
        "### Create datasets (as fast as possible)"
      ],
      "metadata": {
        "id": "nF3eH0XBsbve"
      }
    },
    {
      "cell_type": "markdown",
      "source": [
        "> The tf.data API provides methods which enable faster data loading."
      ],
      "metadata": {
        "id": "iuKpAJADsiNI"
      }
    },
    {
      "cell_type": "markdown",
      "source": [
        "The main steps we'll want to use with our data is to turn it into a PrefetchDataset of batches.\n",
        "\n",
        "To create a batched PrefetchDataset we can use the methods `batch()` and `prefetch()`, the parameter `tf.data.AUTOTUNE` will also allow TensorFlow to determine the optimal amount of compute to use to prepare datasets."
      ],
      "metadata": {
        "id": "CEFwVAs3so3-"
      }
    },
    {
      "cell_type": "code",
      "source": [
        "import tensorflow as tf\n",
        "train_dataset = tf.data.Dataset.from_tensor_slices((train_sentences, train_labels_one_hot))\n",
        "valid_dataset = tf.data.Dataset.from_tensor_slices((val_sentences, val_labels_one_hot))\n",
        "test_dataset = tf.data.Dataset.from_tensor_slices((test_sentences, test_labels_one_hot))\n",
        "\n",
        "train_dataset"
      ],
      "metadata": {
        "colab": {
          "base_uri": "https://localhost:8080/"
        },
        "id": "RQ7aFcQVs-U0",
        "outputId": "d373e004-90cd-4df9-fa18-7e24fed8d42e"
      },
      "execution_count": 40,
      "outputs": [
        {
          "output_type": "execute_result",
          "data": {
            "text/plain": [
              "<_TensorSliceDataset element_spec=(TensorSpec(shape=(), dtype=tf.string, name=None), TensorSpec(shape=(5,), dtype=tf.float64, name=None))>"
            ]
          },
          "metadata": {},
          "execution_count": 40
        }
      ]
    },
    {
      "cell_type": "code",
      "source": [
        "# Take the TensorSliceDataset's and turn them into prefetched batches\n",
        "train_dataset = train_dataset.batch(32).prefetch(tf.data.AUTOTUNE)\n",
        "valid_dataset = valid_dataset.batch(32).prefetch(tf.data.AUTOTUNE)\n",
        "test_dataset = test_dataset.batch(32).prefetch(tf.data.AUTOTUNE)\n",
        "\n",
        "train_dataset"
      ],
      "metadata": {
        "colab": {
          "base_uri": "https://localhost:8080/"
        },
        "id": "n32hVuGQtOry",
        "outputId": "5b8ec481-1252-491e-a9b9-459d189dd71f"
      },
      "execution_count": 41,
      "outputs": [
        {
          "output_type": "execute_result",
          "data": {
            "text/plain": [
              "<_PrefetchDataset element_spec=(TensorSpec(shape=(None,), dtype=tf.string, name=None), TensorSpec(shape=(None, 5), dtype=tf.float64, name=None))>"
            ]
          },
          "metadata": {},
          "execution_count": 41
        }
      ]
    },
    {
      "cell_type": "markdown",
      "source": [
        "## **Model 1:** Conv1D with token embeddings"
      ],
      "metadata": {
        "id": "SRuwLSJEtWhD"
      }
    },
    {
      "cell_type": "code",
      "source": [
        "inputs = layers.Input(shape = (1,) , dtype = tf.string)\n",
        "text_vectors = text_vectorizer(inputs)\n",
        "token_embeddings = token_embed(text_vectors)\n",
        "x = layers.Conv1D(64, kernel_size = 5, padding = \"same\", activation = \"relu\")(token_embeddings)\n",
        "x  = layers.GlobalAveragePooling1D()(x)\n",
        "outputs = layers.Dense(num_classes,  activation = \"softmax\")(x)\n",
        "model_1 = tf.keras.Model(inputs,outputs)\n",
        "\n",
        "model_1.compile(loss = \"categorical_crossentropy\",\n",
        "                optimizer = tf.keras.optimizers.Adam(),\n",
        "                metrics = [\"accuracy\"])"
      ],
      "metadata": {
        "id": "fXk8gGsWXPHk"
      },
      "execution_count": 42,
      "outputs": []
    },
    {
      "cell_type": "code",
      "source": [
        "model_1.summary()"
      ],
      "metadata": {
        "colab": {
          "base_uri": "https://localhost:8080/"
        },
        "id": "flNpj3aDYGb1",
        "outputId": "9c27f602-cbe3-4918-ba22-7d1e1c1d6719"
      },
      "execution_count": 43,
      "outputs": [
        {
          "output_type": "stream",
          "name": "stdout",
          "text": [
            "Model: \"model\"\n",
            "_________________________________________________________________\n",
            " Layer (type)                Output Shape              Param #   \n",
            "=================================================================\n",
            " input_1 (InputLayer)        [(None, 1)]               0         \n",
            "                                                                 \n",
            " text_vectorization (TextVe  (None, 55)                0         \n",
            " ctorization)                                                    \n",
            "                                                                 \n",
            " token_embedding (Embedding  (None, 55, 128)           8299648   \n",
            " )                                                               \n",
            "                                                                 \n",
            " conv1d (Conv1D)             (None, 55, 64)            41024     \n",
            "                                                                 \n",
            " global_average_pooling1d (  (None, 64)                0         \n",
            " GlobalAveragePooling1D)                                         \n",
            "                                                                 \n",
            " dense (Dense)               (None, 5)                 325       \n",
            "                                                                 \n",
            "=================================================================\n",
            "Total params: 8340997 (31.82 MB)\n",
            "Trainable params: 8340997 (31.82 MB)\n",
            "Non-trainable params: 0 (0.00 Byte)\n",
            "_________________________________________________________________\n"
          ]
        }
      ]
    },
    {
      "cell_type": "code",
      "source": [
        "model_1_history = model_1.fit(train_dataset,\n",
        "                              steps_per_epoch = int(0.1 * len(train_dataset)),\n",
        "                              epochs = 3,\n",
        "                              validation_data = valid_dataset,\n",
        "                              validation_steps = int(0.1*len(valid_dataset)))"
      ],
      "metadata": {
        "colab": {
          "base_uri": "https://localhost:8080/"
        },
        "id": "hL1LQyAvYHn1",
        "outputId": "f049b086-0bfc-4644-da17-43f326fbed1e"
      },
      "execution_count": 49,
      "outputs": [
        {
          "output_type": "stream",
          "name": "stdout",
          "text": [
            "Epoch 1/3\n",
            "562/562 [==============================] - 21s 31ms/step - loss: 0.9150 - accuracy: 0.6404 - val_loss: 0.6811 - val_accuracy: 0.7417\n",
            "Epoch 2/3\n",
            "562/562 [==============================] - 6s 10ms/step - loss: 0.6561 - accuracy: 0.7564 - val_loss: 0.6280 - val_accuracy: 0.7733\n",
            "Epoch 3/3\n",
            "562/562 [==============================] - 5s 8ms/step - loss: 0.6180 - accuracy: 0.7719 - val_loss: 0.5974 - val_accuracy: 0.7862\n"
          ]
        }
      ]
    },
    {
      "cell_type": "markdown",
      "source": [
        "Steps per Epoch\n",
        "Definition: The number of batches processed before completing one epoch.\n",
        "\n",
        "Purpose: Allows training on a subset of data per epoch for faster feedback and resource efficiency.\n",
        "\n",
        "![image.png](data:image/png;base64,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)\n",
        "\n"
      ],
      "metadata": {
        "id": "uT5QXtBsbyDG"
      }
    },
    {
      "cell_type": "code",
      "source": [
        "# Continue training for 10 more epochs\n",
        "model_1_history_continued = model_1.fit(train_dataset,\n",
        "                                        steps_per_epoch = int(0.1 * len(train_dataset)),\n",
        "                                        epochs = 7,\n",
        "                                        initial_epoch = model_1_history.epoch[-1] + 1,\n",
        "                                        validation_data = valid_dataset,\n",
        "                                        validation_steps = int(0.1 * len(valid_dataset)))\n"
      ],
      "metadata": {
        "colab": {
          "base_uri": "https://localhost:8080/"
        },
        "id": "f0GhneieYjeE",
        "outputId": "f5d9a663-3047-4808-e30f-4fb745443068"
      },
      "execution_count": 50,
      "outputs": [
        {
          "output_type": "stream",
          "name": "stdout",
          "text": [
            "Epoch 4/7\n",
            "562/562 [==============================] - 6s 10ms/step - loss: 0.5208 - accuracy: 0.8163 - val_loss: 0.5884 - val_accuracy: 0.7912\n",
            "Epoch 5/7\n",
            "562/562 [==============================] - 3s 6ms/step - loss: 0.4578 - accuracy: 0.8381 - val_loss: 0.5946 - val_accuracy: 0.7862\n",
            "Epoch 6/7\n",
            "562/562 [==============================] - 4s 7ms/step - loss: 0.4453 - accuracy: 0.8425 - val_loss: 0.6025 - val_accuracy: 0.7799\n",
            "Epoch 7/7\n",
            "562/562 [==============================] - 5s 9ms/step - loss: 0.5875 - accuracy: 0.7899 - val_loss: 0.5710 - val_accuracy: 0.7919\n"
          ]
        }
      ]
    },
    {
      "cell_type": "markdown",
      "source": [
        "Cant se much improvements so we stop here.\n"
      ],
      "metadata": {
        "id": "MLxJuTyUZTEd"
      }
    },
    {
      "cell_type": "code",
      "source": [
        "# Evaluate on whole validation dataset (we only validated on 10% of batches during training)\n",
        "model_1.evaluate(valid_dataset)"
      ],
      "metadata": {
        "colab": {
          "base_uri": "https://localhost:8080/"
        },
        "id": "stHXgLxuZiJa",
        "outputId": "7c8c0d8a-0d44-4a67-f28e-426db7255548"
      },
      "execution_count": 51,
      "outputs": [
        {
          "output_type": "stream",
          "name": "stdout",
          "text": [
            "945/945 [==============================] - 5s 5ms/step - loss: 0.5707 - accuracy: 0.7945\n"
          ]
        },
        {
          "output_type": "execute_result",
          "data": {
            "text/plain": [
              "[0.570658802986145, 0.7944856286048889]"
            ]
          },
          "metadata": {},
          "execution_count": 51
        }
      ]
    },
    {
      "cell_type": "code",
      "source": [
        "# Make predictions (our model outputs prediction probabilities for each class)\n",
        "model_1_pred_probs = model_1.predict(valid_dataset)\n",
        "model_1_pred_probs"
      ],
      "metadata": {
        "colab": {
          "base_uri": "https://localhost:8080/"
        },
        "id": "vGiZgkDvZi5s",
        "outputId": "6054f2a0-4579-4ab1-a57a-a585909aaae1"
      },
      "execution_count": 52,
      "outputs": [
        {
          "output_type": "stream",
          "name": "stdout",
          "text": [
            "945/945 [==============================] - 5s 5ms/step\n"
          ]
        },
        {
          "output_type": "execute_result",
          "data": {
            "text/plain": [
              "array([[6.07559383e-01, 1.21637031e-01, 1.13097906e-01, 7.65788481e-02,\n",
              "        8.11268166e-02],\n",
              "       [5.20032048e-01, 2.37051368e-01, 4.94766124e-02, 1.64014712e-01,\n",
              "        2.94253305e-02],\n",
              "       [2.74426907e-01, 2.30945926e-03, 1.11390208e-03, 7.22125709e-01,\n",
              "        2.39240544e-05],\n",
              "       ...,\n",
              "       [8.94436562e-06, 2.17478737e-04, 7.53635133e-04, 4.51302867e-06,\n",
              "        9.99015450e-01],\n",
              "       [1.40484229e-01, 3.77743810e-01, 1.03808910e-01, 5.19863032e-02,\n",
              "        3.25976759e-01],\n",
              "       [6.60314634e-02, 9.04013813e-01, 1.60543043e-02, 1.91260304e-03,\n",
              "        1.19878575e-02]], dtype=float32)"
            ]
          },
          "metadata": {},
          "execution_count": 52
        }
      ]
    },
    {
      "cell_type": "code",
      "source": [
        "# Convert pred probs to classes\n",
        "model_1_preds = tf.argmax(model_1_pred_probs, axis=1)\n",
        "model_1_preds"
      ],
      "metadata": {
        "colab": {
          "base_uri": "https://localhost:8080/"
        },
        "id": "YQ3g3gB4ZlVO",
        "outputId": "0bfe57b2-7586-4076-887d-bb65095faac4"
      },
      "execution_count": 53,
      "outputs": [
        {
          "output_type": "execute_result",
          "data": {
            "text/plain": [
              "<tf.Tensor: shape=(30212,), dtype=int64, numpy=array([0, 0, 3, ..., 4, 1, 1])>"
            ]
          },
          "metadata": {},
          "execution_count": 53
        }
      ]
    },
    {
      "cell_type": "code",
      "source": [
        "model_1_results = calculate_results(y_true=val_labels_encoded,\n",
        "                                    y_pred=model_1_preds)\n",
        "model_1_results"
      ],
      "metadata": {
        "colab": {
          "base_uri": "https://localhost:8080/"
        },
        "id": "cszbmgmeZnPX",
        "outputId": "a9cb9847-5f1a-4a74-b1c7-83423a1526bb"
      },
      "execution_count": 54,
      "outputs": [
        {
          "output_type": "execute_result",
          "data": {
            "text/plain": [
              "{'accuracy': 79.44856348470807,\n",
              " 'precision': 0.7966563493685201,\n",
              " 'recall': 0.7944856348470807,\n",
              " 'f1': 0.7904432485208672}"
            ]
          },
          "metadata": {},
          "execution_count": 54
        }
      ]
    },
    {
      "cell_type": "markdown",
      "source": [
        "## **Model 2:** Feature Extraction with Pretrained token embeddings"
      ],
      "metadata": {
        "id": "OWkhDzKQZuZi"
      }
    },
    {
      "cell_type": "markdown",
      "source": [
        "In [*Neural Networks for Joint Sentence Classification\n",
        "in Medical Paper Abstracts*](https://arxiv.org/pdf/1612.05251.pdf), it mentions they used a [pretrained GloVe embedding](https://nlp.stanford.edu/projects/glove/) as a way to initialise their token embeddings."
      ],
      "metadata": {
        "id": "zt_wVqTeZ0gA"
      }
    },
    {
      "cell_type": "code",
      "source": [
        "# Download pretrained TensorFlow Hub USE\n",
        "import tensorflow_hub as hub\n",
        "tf_hub_embedding_layer = hub.KerasLayer(\"https://tfhub.dev/google/universal-sentence-encoder/4\",\n",
        "                                        trainable=False,\n",
        "                                        name=\"universal_sentence_encoder\")"
      ],
      "metadata": {
        "id": "jZOyoQQwaD9b"
      },
      "execution_count": 55,
      "outputs": []
    },
    {
      "cell_type": "code",
      "source": [
        "random_training_sentence = random.choice(train_sentences)\n",
        "print(f\"Random training sentence:\\n{random_training_sentence}\\n\")\n",
        "use_embedded_sentence = tf_hub_embedding_layer([random_training_sentence])\n",
        "print(f\"Sentence after embedding:\\n{use_embedded_sentence[0][:30]} (truncated output)...\\n\")\n",
        "print(f\"Length of sentence embedding:\\n{len(use_embedded_sentence[0])}\")"
      ],
      "metadata": {
        "colab": {
          "base_uri": "https://localhost:8080/"
        },
        "id": "8YHtgEghaQsc",
        "outputId": "36e680b1-a3f1-4fc0-d4c4-a62b58b4a0f2"
      },
      "execution_count": 56,
      "outputs": [
        {
          "output_type": "stream",
          "name": "stdout",
          "text": [
            "Random training sentence:\n",
            "future work should evaluate the impact of intraoperative hand hygiene improvement strategies on the dynamics of intraoperative enterococcus transmission .\n",
            "\n",
            "Sentence after embedding:\n",
            "[ 0.0149464  -0.0005981  -0.03527207 -0.06827629 -0.06994679 -0.05148161\n",
            "  0.01871859  0.04553523 -0.06641234  0.05295487 -0.02737884  0.02901806\n",
            " -0.01980992 -0.02061947  0.06141489 -0.0360725   0.03337567 -0.07459698\n",
            " -0.00694409 -0.05353986  0.06023516  0.02496298 -0.04684056 -0.01798499\n",
            " -0.00127451  0.02644223  0.03687532  0.04279182 -0.06853574 -0.06432986] (truncated output)...\n",
            "\n",
            "Length of sentence embedding:\n",
            "512\n"
          ]
        }
      ]
    },
    {
      "cell_type": "code",
      "source": [
        "# Modelling\n",
        "inputs = layers.Input(shape= [], dtype = tf.string)\n",
        "pretrained_embeddings = tf_hub_embedding_layer(inputs)\n",
        "x = layers.Dense(128,activation = \"relu\")(pretrained_embeddings)\n",
        "outputs = layers.Dense(5,activation = \"softmax\")(x)\n",
        "model_2 = tf.keras.Model(inputs = inputs,\n",
        "                         outputs = outputs)\n",
        "\n",
        "model_2.compile(loss = \"categorical_crossentropy\",\n",
        "                optimizer = tf.keras.optimizers.Adam(),\n",
        "                metrics = [\"accuracy\"])"
      ],
      "metadata": {
        "id": "u9yKjw2kabMp"
      },
      "execution_count": 60,
      "outputs": []
    },
    {
      "cell_type": "code",
      "source": [
        "model_2.summary()"
      ],
      "metadata": {
        "colab": {
          "base_uri": "https://localhost:8080/"
        },
        "id": "Hx1uSVgtbEPM",
        "outputId": "62230c07-b42d-4437-f0a3-3dfad248c7a5"
      },
      "execution_count": 61,
      "outputs": [
        {
          "output_type": "stream",
          "name": "stdout",
          "text": [
            "Model: \"model_2\"\n",
            "_________________________________________________________________\n",
            " Layer (type)                Output Shape              Param #   \n",
            "=================================================================\n",
            " input_3 (InputLayer)        [(None,)]                 0         \n",
            "                                                                 \n",
            " universal_sentence_encoder  (None, 512)               256797824 \n",
            "  (KerasLayer)                                                   \n",
            "                                                                 \n",
            " dense_3 (Dense)             (None, 128)               65664     \n",
            "                                                                 \n",
            " dense_4 (Dense)             (None, 5)                 645       \n",
            "                                                                 \n",
            "=================================================================\n",
            "Total params: 256864133 (979.86 MB)\n",
            "Trainable params: 66309 (259.02 KB)\n",
            "Non-trainable params: 256797824 (979.61 MB)\n",
            "_________________________________________________________________\n"
          ]
        }
      ]
    },
    {
      "cell_type": "code",
      "source": [
        "model_2_history = model_2.fit(train_dataset,\n",
        "            steps_per_epoch = int(0.1 * len(train_dataset)),\n",
        "            epochs = 7,\n",
        "            validation_data = valid_dataset,\n",
        "            validation_steps = int(0.1 * len(valid_dataset))\n",
        "            )"
      ],
      "metadata": {
        "colab": {
          "base_uri": "https://localhost:8080/"
        },
        "id": "MAmRwJq2bIIZ",
        "outputId": "e5b67cdb-5102-4271-82fe-69004bb3b301"
      },
      "execution_count": 66,
      "outputs": [
        {
          "output_type": "stream",
          "name": "stdout",
          "text": [
            "Epoch 1/7\n",
            "562/562 [==============================] - 9s 16ms/step - loss: 0.6076 - accuracy: 0.7714 - val_loss: 0.6173 - val_accuracy: 0.7646\n",
            "Epoch 2/7\n",
            "562/562 [==============================] - 12s 21ms/step - loss: 0.5911 - accuracy: 0.7780 - val_loss: 0.6203 - val_accuracy: 0.7613\n",
            "Epoch 3/7\n",
            "562/562 [==============================] - 11s 20ms/step - loss: 0.5943 - accuracy: 0.7743 - val_loss: 0.6262 - val_accuracy: 0.7570\n",
            "Epoch 4/7\n",
            "562/562 [==============================] - 7s 12ms/step - loss: 0.6012 - accuracy: 0.7737 - val_loss: 0.6151 - val_accuracy: 0.7640\n",
            "Epoch 5/7\n",
            "562/562 [==============================] - 8s 15ms/step - loss: 0.6203 - accuracy: 0.7646 - val_loss: 0.6096 - val_accuracy: 0.7633\n",
            "Epoch 6/7\n",
            "562/562 [==============================] - 7s 13ms/step - loss: 0.6245 - accuracy: 0.7637 - val_loss: 0.6078 - val_accuracy: 0.7656\n",
            "Epoch 7/7\n",
            "562/562 [==============================] - 8s 13ms/step - loss: 0.6015 - accuracy: 0.7723 - val_loss: 0.6066 - val_accuracy: 0.7670\n"
          ]
        }
      ]
    },
    {
      "cell_type": "code",
      "source": [
        "history_2_continued = model_2.fit(train_dataset,\n",
        "            steps_per_epoch = int(0.1 * len(train_dataset)),\n",
        "            epochs = 10,\n",
        "            initial_epoch = model_2_history.epoch[-1] + 1,\n",
        "            validation_data = valid_dataset,\n",
        "            validation_steps = int(0.1 * len(valid_dataset))\n",
        "            )"
      ],
      "metadata": {
        "colab": {
          "base_uri": "https://localhost:8080/"
        },
        "id": "-hgWo5OadV3G",
        "outputId": "39139264-7b9c-4bde-b4c5-a47d9480389c"
      },
      "execution_count": 67,
      "outputs": [
        {
          "output_type": "stream",
          "name": "stdout",
          "text": [
            "Epoch 8/10\n",
            "562/562 [==============================] - 9s 16ms/step - loss: 0.5883 - accuracy: 0.7782 - val_loss: 0.6028 - val_accuracy: 0.7723\n",
            "Epoch 9/10\n",
            "562/562 [==============================] - 7s 13ms/step - loss: 0.5728 - accuracy: 0.7870 - val_loss: 0.6076 - val_accuracy: 0.7666\n",
            "Epoch 10/10\n",
            "562/562 [==============================] - 8s 14ms/step - loss: 0.5758 - accuracy: 0.7802 - val_loss: 0.6140 - val_accuracy: 0.7653\n"
          ]
        }
      ]
    },
    {
      "cell_type": "code",
      "source": [
        "model_2.evaluate(valid_dataset)"
      ],
      "metadata": {
        "colab": {
          "base_uri": "https://localhost:8080/"
        },
        "id": "7BUSfTESeSTb",
        "outputId": "d6c95667-f6e3-4f42-b1b4-fd7b4df9b79a"
      },
      "execution_count": 68,
      "outputs": [
        {
          "output_type": "stream",
          "name": "stdout",
          "text": [
            "945/945 [==============================] - 17s 18ms/step - loss: 0.6227 - accuracy: 0.7612\n"
          ]
        },
        {
          "output_type": "execute_result",
          "data": {
            "text/plain": [
              "[0.6226823329925537, 0.7611545324325562]"
            ]
          },
          "metadata": {},
          "execution_count": 68
        }
      ]
    },
    {
      "cell_type": "code",
      "source": [
        "# Make predictions with feature extraction model\n",
        "model_2_pred_probs = model_2.predict(valid_dataset)\n",
        "model_2_pred_probs"
      ],
      "metadata": {
        "colab": {
          "base_uri": "https://localhost:8080/"
        },
        "id": "Cu-bCP-1emKT",
        "outputId": "7bc8c7d7-dbb5-4b04-c315-6892c7cf7d42"
      },
      "execution_count": 69,
      "outputs": [
        {
          "output_type": "stream",
          "name": "stdout",
          "text": [
            "945/945 [==============================] - 23s 10ms/step\n"
          ]
        },
        {
          "output_type": "execute_result",
          "data": {
            "text/plain": [
              "array([[5.7864690e-01, 1.8938747e-01, 9.8235054e-05, 2.3108335e-01,\n",
              "        7.8403181e-04],\n",
              "       [3.5938913e-01, 4.7580215e-01, 2.0495860e-03, 1.6211496e-01,\n",
              "        6.4408418e-04],\n",
              "       [4.2826071e-01, 2.4802154e-02, 7.4409996e-03, 5.3398377e-01,\n",
              "        5.5123954e-03],\n",
              "       ...,\n",
              "       [1.6020517e-03, 3.2705048e-04, 2.2971215e-02, 2.2936966e-04,\n",
              "        9.7487032e-01],\n",
              "       [1.5657466e-02, 1.8229704e-01, 1.4543955e-01, 2.6658736e-03,\n",
              "        6.5394002e-01],\n",
              "       [1.6809002e-02, 9.7853094e-01, 3.5691762e-03, 1.3773609e-04,\n",
              "        9.5315091e-04]], dtype=float32)"
            ]
          },
          "metadata": {},
          "execution_count": 69
        }
      ]
    },
    {
      "cell_type": "code",
      "source": [
        "# Convert the predictions with feature extraction model to classes\n",
        "model_2_preds = tf.argmax(model_2_pred_probs, axis=1)\n",
        "model_2_preds"
      ],
      "metadata": {
        "colab": {
          "base_uri": "https://localhost:8080/"
        },
        "id": "eHn9tOO1ency",
        "outputId": "87f8af2b-2f39-4b4b-9188-548679b2fc26"
      },
      "execution_count": 70,
      "outputs": [
        {
          "output_type": "execute_result",
          "data": {
            "text/plain": [
              "<tf.Tensor: shape=(30212,), dtype=int64, numpy=array([0, 1, 3, ..., 4, 4, 1])>"
            ]
          },
          "metadata": {},
          "execution_count": 70
        }
      ]
    },
    {
      "cell_type": "code",
      "source": [
        "# Calculate results from TF Hub pretrained embeddings results on validation set\n",
        "model_2_results = calculate_results(y_true=val_labels_encoded,\n",
        "                                    y_pred=model_2_preds)\n",
        "model_2_results"
      ],
      "metadata": {
        "colab": {
          "base_uri": "https://localhost:8080/"
        },
        "id": "nO3kXbVoepE8",
        "outputId": "7df02a22-8ffa-4737-d77c-16f7255de2b4"
      },
      "execution_count": 71,
      "outputs": [
        {
          "output_type": "execute_result",
          "data": {
            "text/plain": [
              "{'accuracy': 76.115450814246,\n",
              " 'precision': 0.7596885068017456,\n",
              " 'recall': 0.76115450814246,\n",
              " 'f1': 0.7590583882549476}"
            ]
          },
          "metadata": {},
          "execution_count": 71
        }
      ]
    },
    {
      "cell_type": "markdown",
      "source": [
        "## **Model 3**: Conv1D with character embeddings\n",
        "The [*Neural Networks for Joint Sentence Classification\n",
        "in Medical Paper Abstracts*](https://arxiv.org/pdf/1612.05251.pdf) paper mentions their model uses a hybrid of token and character embeddings."
      ],
      "metadata": {
        "id": "lWE8EoOleqZK"
      }
    },
    {
      "cell_type": "code",
      "source": [
        "def split_chars(text):\n",
        "  return \" \".join(list(text))\n",
        "\n",
        "split_chars(random_training_sentence)"
      ],
      "metadata": {
        "colab": {
          "base_uri": "https://localhost:8080/",
          "height": 88
        },
        "id": "V5rKUFdhe-Lr",
        "outputId": "3009e4c3-7605-462b-bb38-770323baae65"
      },
      "execution_count": 73,
      "outputs": [
        {
          "output_type": "execute_result",
          "data": {
            "text/plain": [
              "'f u t u r e   w o r k   s h o u l d   e v a l u a t e   t h e   i m p a c t   o f   i n t r a o p e r a t i v e   h a n d   h y g i e n e   i m p r o v e m e n t   s t r a t e g i e s   o n   t h e   d y n a m i c s   o f   i n t r a o p e r a t i v e   e n t e r o c o c c u s   t r a n s m i s s i o n   .'"
            ],
            "application/vnd.google.colaboratory.intrinsic+json": {
              "type": "string"
            }
          },
          "metadata": {},
          "execution_count": 73
        }
      ]
    },
    {
      "cell_type": "code",
      "source": [
        "train_chars = [split_chars(sentence) for sentence in train_sentences]\n",
        "val_chars = [split_chars(sentence) for sentence in val_sentences]\n",
        "test_chats = [split_chars(sentence) for sentence in test_sentences]"
      ],
      "metadata": {
        "id": "9wwUKh06frPC"
      },
      "execution_count": 74,
      "outputs": []
    },
    {
      "cell_type": "code",
      "source": [
        "print(train_chars[0])"
      ],
      "metadata": {
        "colab": {
          "base_uri": "https://localhost:8080/"
        },
        "id": "X5W1Xac7fjTw",
        "outputId": "86969162-47ff-4fd0-c90d-b21403be5598"
      },
      "execution_count": 76,
      "outputs": [
        {
          "output_type": "stream",
          "name": "stdout",
          "text": [
            "t o   i n v e s t i g a t e   t h e   e f f i c a c y   o f   @   w e e k s   o f   d a i l y   l o w - d o s e   o r a l   p r e d n i s o l o n e   i n   i m p r o v i n g   p a i n   ,   m o b i l i t y   ,   a n d   s y s t e m i c   l o w - g r a d e   i n f l a m m a t i o n   i n   t h e   s h o r t   t e r m   a n d   w h e t h e r   t h e   e f f e c t   w o u l d   b e   s u s t a i n e d   a t   @   w e e k s   i n   o l d e r   a d u l t s   w i t h   m o d e r a t e   t o   s e v e r e   k n e e   o s t e o a r t h r i t i s   (   o a   )   .\n"
          ]
        }
      ]
    },
    {
      "cell_type": "code",
      "source": [
        "char_lens = [len(sentence) for sentence in train_sentences]\n",
        "mean_char_len = np.mean(char_lens)\n",
        "mean_char_len"
      ],
      "metadata": {
        "colab": {
          "base_uri": "https://localhost:8080/"
        },
        "id": "AK3Prq0Kf_UN",
        "outputId": "64729123-7fc7-48b8-821b-4772d92f2ea0"
      },
      "execution_count": 78,
      "outputs": [
        {
          "output_type": "execute_result",
          "data": {
            "text/plain": [
              "149.3662574983337"
            ]
          },
          "metadata": {},
          "execution_count": 78
        }
      ]
    },
    {
      "cell_type": "code",
      "source": [
        "import matplotlib.pyplot as plt\n",
        "plt.hist(char_lens, bins = 7)"
      ],
      "metadata": {
        "colab": {
          "base_uri": "https://localhost:8080/",
          "height": 517
        },
        "id": "iGpZhp9_gTiZ",
        "outputId": "08d93b89-6e20-4a3a-b51e-e7ba10a7248b"
      },
      "execution_count": 81,
      "outputs": [
        {
          "output_type": "execute_result",
          "data": {
            "text/plain": [
              "(array([1.41175e+05, 3.71110e+04, 1.60000e+03, 1.27000e+02, 2.10000e+01,\n",
              "        5.00000e+00, 1.00000e+00]),\n",
              " array([1.00000000e+00, 1.98857143e+02, 3.96714286e+02, 5.94571429e+02,\n",
              "        7.92428571e+02, 9.90285714e+02, 1.18814286e+03, 1.38600000e+03]),\n",
              " <BarContainer object of 7 artists>)"
            ]
          },
          "metadata": {},
          "execution_count": 81
        },
        {
          "output_type": "display_data",
          "data": {
            "text/plain": [
              "<Figure size 640x480 with 1 Axes>"
            ],
            "image/png": "[encoded data removed]"
          },
          "metadata": {}
        }
      ]
    },
    {
      "cell_type": "markdown",
      "source": [
        "Okay, looks like most of our sequences are between 0 and 200 characters long."
      ],
      "metadata": {
        "id": "qKwbgReHgdHS"
      }
    },
    {
      "cell_type": "code",
      "source": [
        "output_seq_char_len = int(np.percentile(char_lens, 95))\n",
        "output_seq_char_len"
      ],
      "metadata": {
        "colab": {
          "base_uri": "https://localhost:8080/"
        },
        "id": "7847HcM1gnf3",
        "outputId": "e5b1a7e0-a790-4059-c46f-41bf5ea57a87"
      },
      "execution_count": 83,
      "outputs": [
        {
          "output_type": "execute_result",
          "data": {
            "text/plain": [
              "290"
            ]
          },
          "metadata": {},
          "execution_count": 83
        }
      ]
    },
    {
      "cell_type": "markdown",
      "source": [
        "We'll set `max_tokens` (the total number of different characters in our sequences) to 28, in other words, 26 letters of the alphabet + space + OOV (out of vocabulary or unknown) tokens."
      ],
      "metadata": {
        "id": "RCSTl4D5gsvR"
      }
    },
    {
      "cell_type": "code",
      "source": [
        "import string\n",
        "alphabet = string.ascii_lowercase + string.digits + string.punctuation\n",
        "alphabet"
      ],
      "metadata": {
        "colab": {
          "base_uri": "https://localhost:8080/",
          "height": 36
        },
        "id": "zE-h9PnDg4U0",
        "outputId": "9d389b23-a484-4a73-9ca4-d354c612aca5"
      },
      "execution_count": 84,
      "outputs": [
        {
          "output_type": "execute_result",
          "data": {
            "text/plain": [
              "'abcdefghijklmnopqrstuvwxyz0123456789!\"#$%&\\'()*+,-./:;<=>?@[\\\\]^_`{|}~'"
            ],
            "application/vnd.google.colaboratory.intrinsic+json": {
              "type": "string"
            }
          },
          "metadata": {},
          "execution_count": 84
        }
      ]
    },
    {
      "cell_type": "code",
      "source": [
        "NUM_CHAR_TOKENS = len(alphabet) +2 # num characters in alphabet + space + OOV token"
      ],
      "metadata": {
        "id": "GqtWudvthDYk"
      },
      "execution_count": 86,
      "outputs": []
    },
    {
      "cell_type": "code",
      "source": [
        "char_vectorizer = TextVectorization(max_tokens = NUM_CHAR_TOKENS,\n",
        "                                    output_sequence_length = output_seq_char_len,\n",
        "                                    standardize = \"lower_and_strip_punctuation\",\n",
        "                                    name = \"char_vectorizer\")\n",
        "\n",
        "char_vectorizer.adapt(train_chars)"
      ],
      "metadata": {
        "id": "rgnaxTXPhnG6"
      },
      "execution_count": 87,
      "outputs": []
    },
    {
      "cell_type": "code",
      "source": [
        "# Check character vocabulary characteristics\n",
        "char_vocab = char_vectorizer.get_vocabulary()\n",
        "print(f\"Number of different characters in character vocab: {len(char_vocab)}\")\n",
        "print(f\"5 most common characters: {char_vocab[:5]}\")\n",
        "print(f\"5 least common characters: {char_vocab[-5:]}\")"
      ],
      "metadata": {
        "colab": {
          "base_uri": "https://localhost:8080/"
        },
        "id": "h9sYTrHgh-3k",
        "outputId": "514f917e-8e26-4195-b9db-61bc7d5c4c87"
      },
      "execution_count": 88,
      "outputs": [
        {
          "output_type": "stream",
          "name": "stdout",
          "text": [
            "Number of different characters in character vocab: 28\n",
            "5 most common characters: ['', '[UNK]', 'e', 't', 'i']\n",
            "5 least common characters: ['k', 'x', 'z', 'q', 'j']\n"
          ]
        }
      ]
    },
    {
      "cell_type": "code",
      "source": [
        "# Test out character vectorizer\n",
        "random_train_chars = random.choice(train_chars)\n",
        "print(f\"Charified text:\\n{random_train_chars}\")\n",
        "print(f\"\\nLength of chars: {len(random_train_chars.split())}\")\n",
        "vectorized_chars = char_vectorizer([random_train_chars])\n",
        "print(f\"\\nVectorized chars:\\n{vectorized_chars}\")\n",
        "print(f\"\\nLength of vectorized chars: {len(vectorized_chars[0])}\")"
      ],
      "metadata": {
        "colab": {
          "base_uri": "https://localhost:8080/"
        },
        "id": "LgWTZSPbiAm3",
        "outputId": "22aaee08-743b-469c-8f46-bbb8cfd459f1"
      },
      "execution_count": 89,
      "outputs": [
        {
          "output_type": "stream",
          "name": "stdout",
          "text": [
            "Charified text:\n",
            "a n   i n t e r v e r t e b r a l   d i s c   v o l u m e t r i c   a n a l y s i s   (   i d v a   )   ,   d w i   s i g n a l   s c o r e   a n d   p o s t   t r e a t m e n t   c l i n i c a l   o u t c o m e   e v a l u a t i o n   w e r e   p e r f o r m e d   f o r   a n   a s s e s s m e n t   o f   h e r n i a   r e d u c t i o n   .\n",
            "\n",
            "Length of chars: 146\n",
            "\n",
            "Vectorized chars:\n",
            "[[ 5  6  4  6  3  2  8 21  2  8  3  2 22  8  5 12 10  4  9 11 21  7 12 16\n",
            "  15  2  3  8  4 11  5  6  5 12 19  9  4  9  4 10 21  5 10 20  4  9  4 18\n",
            "   6  5 12  9 11  7  8  2  5  6 10 14  7  9  3  3  8  2  5  3 15  2  6  3\n",
            "  11 12  4  6  4 11  5 12  7 16  3 11  7 15  2  2 21  5 12 16  5  3  4  7\n",
            "   6 20  2  8  2 14  2  8 17  7  8 15  2 10 17  7  8  5  6  5  9  9  2  9\n",
            "   9 15  2  6  3  7 17 13  2  8  6  4  5  8  2 10 16 11  3  4  7  6  0  0\n",
            "   0  0  0  0  0  0  0  0  0  0  0  0  0  0  0  0  0  0  0  0  0  0  0  0\n",
            "   0  0  0  0  0  0  0  0  0  0  0  0  0  0  0  0  0  0  0  0  0  0  0  0\n",
            "   0  0  0  0  0  0  0  0  0  0  0  0  0  0  0  0  0  0  0  0  0  0  0  0\n",
            "   0  0  0  0  0  0  0  0  0  0  0  0  0  0  0  0  0  0  0  0  0  0  0  0\n",
            "   0  0  0  0  0  0  0  0  0  0  0  0  0  0  0  0  0  0  0  0  0  0  0  0\n",
            "   0  0  0  0  0  0  0  0  0  0  0  0  0  0  0  0  0  0  0  0  0  0  0  0\n",
            "   0  0]]\n",
            "\n",
            "Length of vectorized chars: 290\n"
          ]
        }
      ]
    },
    {
      "cell_type": "markdown",
      "source": [
        "Due to the standardize parameter of TextVectorization being \"lower_and_strip_punctuation\" and the split parameter being \"whitespace\" by default, symbols (such as @) and spaces are removed."
      ],
      "metadata": {
        "id": "VfuH-xCviCpd"
      }
    },
    {
      "cell_type": "code",
      "source": [
        "# Creating a character-level embedding\n",
        "char_embed = layers.Embedding(input_dim = NUM_CHAR_TOKENS,\n",
        "                              output_dim = 25, # embedding dimension of each character (same as Figure 1 in https://arxiv.org/pdf/1612.05251.pdf)\n",
        "                              mask_zero = False,\n",
        "                              name = \"char_embed\"\n",
        ")"
      ],
      "metadata": {
        "id": "tgUsoqz5iR2U"
      },
      "execution_count": 91,
      "outputs": []
    },
    {
      "cell_type": "markdown",
      "source": [
        "mask_zero=True:\n",
        "```\n",
        "When mask_zero is set to True, the embedding layer will not assign an embedding vector to the token 0. Instead, it will mask out these positions, which can be useful if 0 is used as a padding value in sequences.\n",
        "This means the model will ignore the 0 value during training and evaluation.\n",
        "```"
      ],
      "metadata": {
        "id": "KI3oSNZcjLjP"
      }
    },
    {
      "cell_type": "code",
      "source": [
        "print(f\"Charified text (before vectorization and embedding):\\n{random_train_chars}\\n\")\n",
        "char_embed_example = char_embed(char_vectorizer([random_train_chars]))\n",
        "print(f\"Embedded chars (after vectorization and embedding):\\n{char_embed_example}\\n\")\n",
        "print(f\"Character embedding shape: {char_embed_example.shape}\")"
      ],
      "metadata": {
        "colab": {
          "base_uri": "https://localhost:8080/"
        },
        "id": "rego6-PMi3Mq",
        "outputId": "426215c7-9b27-4419-ea37-8983ab7ad2a3"
      },
      "execution_count": 92,
      "outputs": [
        {
          "output_type": "stream",
          "name": "stdout",
          "text": [
            "Charified text (before vectorization and embedding):\n",
            "a n   i n t e r v e r t e b r a l   d i s c   v o l u m e t r i c   a n a l y s i s   (   i d v a   )   ,   d w i   s i g n a l   s c o r e   a n d   p o s t   t r e a t m e n t   c l i n i c a l   o u t c o m e   e v a l u a t i o n   w e r e   p e r f o r m e d   f o r   a n   a s s e s s m e n t   o f   h e r n i a   r e d u c t i o n   .\n",
            "\n",
            "Embedded chars (after vectorization and embedding):\n",
            "[[[-0.01938729 -0.03648321 -0.0133031  ... -0.02751074 -0.02324413\n",
            "   -0.02122966]\n",
            "  [-0.01617781  0.00191448  0.04359731 ...  0.03785144  0.02172105\n",
            "   -0.00231699]\n",
            "  [ 0.03228631  0.00398831  0.03199455 ... -0.03593783  0.02329611\n",
            "    0.02070839]\n",
            "  ...\n",
            "  [ 0.02161508 -0.01544782  0.02181162 ...  0.02729168  0.02221518\n",
            "    0.02226717]\n",
            "  [ 0.02161508 -0.01544782  0.02181162 ...  0.02729168  0.02221518\n",
            "    0.02226717]\n",
            "  [ 0.02161508 -0.01544782  0.02181162 ...  0.02729168  0.02221518\n",
            "    0.02226717]]]\n",
            "\n",
            "Character embedding shape: (1, 290, 25)\n"
          ]
        }
      ]
    },
    {
      "cell_type": "markdown",
      "source": [
        "## **Model 3:** Conv1D model with character embeddings"
      ],
      "metadata": {
        "id": "Zsi580OxjTwf"
      }
    },
    {
      "cell_type": "code",
      "source": [
        "inputs = layers.Input(shape = (1,) ,dtype = tf.string)\n",
        "char_vectors = char_vectorizer(inputs)\n",
        "char_embeddings = char_embed(char_vectors)\n",
        "x = layers.Conv1D(64, kernel_size = 5, padding = \"same\", activation = \"relu\")(char_embeddings)\n",
        "x = layers.GlobalMaxPool1D()(x)\n",
        "outputs = layers.Dense(num_classes, activation = \"softmax\")(x)\n",
        "model_3 = tf.keras.Model(inputs = inputs, outputs = outputs,\n",
        "                         name = \"model_3_conv1D_char_embeddings\")\n",
        "\n",
        "model_3.compile(loss=\"categorical_crossentropy\",\n",
        "                optimizer=tf.keras.optimizers.Adam(),\n",
        "                metrics=[\"accuracy\"])"
      ],
      "metadata": {
        "id": "t53RZ72RjeLt"
      },
      "execution_count": 95,
      "outputs": []
    },
    {
      "cell_type": "code",
      "source": [
        "model_3.summary()"
      ],
      "metadata": {
        "colab": {
          "base_uri": "https://localhost:8080/"
        },
        "id": "afoTuF8ukVlT",
        "outputId": "f2854d1e-3369-49f7-c04f-83eeac8ff147"
      },
      "execution_count": 96,
      "outputs": [
        {
          "output_type": "stream",
          "name": "stdout",
          "text": [
            "Model: \"model_3_conv1D_char_embeddings\"\n",
            "_________________________________________________________________\n",
            " Layer (type)                Output Shape              Param #   \n",
            "=================================================================\n",
            " input_6 (InputLayer)        [(None, 1)]               0         \n",
            "                                                                 \n",
            " char_vectorizer (TextVecto  (None, 290)               0         \n",
            " rization)                                                       \n",
            "                                                                 \n",
            " char_embed (Embedding)      (None, 290, 25)           1750      \n",
            "                                                                 \n",
            " conv1d_1 (Conv1D)           (None, 290, 64)           8064      \n",
            "                                                                 \n",
            " global_max_pooling1d (Glob  (None, 64)                0         \n",
            " alMaxPooling1D)                                                 \n",
            "                                                                 \n",
            " dense_5 (Dense)             (None, 5)                 325       \n",
            "                                                                 \n",
            "=================================================================\n",
            "Total params: 10139 (39.61 KB)\n",
            "Trainable params: 10139 (39.61 KB)\n",
            "Non-trainable params: 0 (0.00 Byte)\n",
            "_________________________________________________________________\n"
          ]
        }
      ]
    },
    {
      "cell_type": "markdown",
      "source": [
        "Before fitting out model on the data, we'll create a char-level batched `PrefetchedDataser`'s"
      ],
      "metadata": {
        "id": "vl9z-BKtkdNk"
      }
    },
    {
      "cell_type": "code",
      "source": [
        "# Create char datasets\n",
        "train_char_dataset = tf.data.Dataset.from_tensor_slices((train_chars, train_labels_one_hot)).batch(32).prefetch(tf.data.AUTOTUNE)\n",
        "val_char_dataset = tf.data.Dataset.from_tensor_slices((val_chars, val_labels_one_hot)).batch(32).prefetch(tf.data.AUTOTUNE)\n",
        "\n",
        "train_char_dataset"
      ],
      "metadata": {
        "colab": {
          "base_uri": "https://localhost:8080/"
        },
        "id": "uhfV6y1HkqUO",
        "outputId": "49e620c3-2096-42ce-f681-957cb05507b3"
      },
      "execution_count": 98,
      "outputs": [
        {
          "output_type": "execute_result",
          "data": {
            "text/plain": [
              "<_PrefetchDataset element_spec=(TensorSpec(shape=(None,), dtype=tf.string, name=None), TensorSpec(shape=(None, 5), dtype=tf.float64, name=None))>"
            ]
          },
          "metadata": {},
          "execution_count": 98
        }
      ]
    },
    {
      "cell_type": "code",
      "source": [
        "# Fit the model on chars only\n",
        "model_3_history = model_3.fit(train_char_dataset,\n",
        "                              steps_per_epoch=int(0.1 * len(train_char_dataset)),\n",
        "                              epochs=3,\n",
        "                              validation_data=val_char_dataset,\n",
        "                              validation_steps=int(0.1 * len(val_char_dataset)))"
      ],
      "metadata": {
        "colab": {
          "base_uri": "https://localhost:8080/"
        },
        "id": "VENp14V7kuaH",
        "outputId": "4533b0c9-c0c0-4609-8354-93d1578f4f76"
      },
      "execution_count": 99,
      "outputs": [
        {
          "output_type": "stream",
          "name": "stdout",
          "text": [
            "Epoch 1/3\n",
            "562/562 [==============================] - 6s 7ms/step - loss: 1.2781 - accuracy: 0.4859 - val_loss: 1.0537 - val_accuracy: 0.5878\n",
            "Epoch 2/3\n",
            "562/562 [==============================] - 4s 8ms/step - loss: 1.0173 - accuracy: 0.5963 - val_loss: 0.9487 - val_accuracy: 0.6336\n",
            "Epoch 3/3\n",
            "562/562 [==============================] - 4s 7ms/step - loss: 0.9400 - accuracy: 0.6302 - val_loss: 0.8730 - val_accuracy: 0.6642\n"
          ]
        }
      ]
    },
    {
      "cell_type": "code",
      "source": [
        "history_model_3_continued =  model_3.fit(train_char_dataset,\n",
        "                              steps_per_epoch=int(0.1 * len(train_char_dataset)),\n",
        "                              epochs=7,\n",
        "                              initial_epoch = model_3_history.epoch[-1] +1,\n",
        "                              validation_data=val_char_dataset,\n",
        "                              validation_steps=int(0.1 * len(val_char_dataset)))"
      ],
      "metadata": {
        "colab": {
          "base_uri": "https://localhost:8080/"
        },
        "id": "f952W5dEkxhV",
        "outputId": "db792bae-1461-4842-8326-c63c40b5a131"
      },
      "execution_count": 102,
      "outputs": [
        {
          "output_type": "stream",
          "name": "stdout",
          "text": [
            "Epoch 4/7\n",
            "562/562 [==============================] - 6s 10ms/step - loss: 0.8807 - accuracy: 0.6588 - val_loss: 0.8427 - val_accuracy: 0.6809\n",
            "Epoch 5/7\n",
            "562/562 [==============================] - 3s 5ms/step - loss: 0.8519 - accuracy: 0.6683 - val_loss: 0.8306 - val_accuracy: 0.6842\n",
            "Epoch 6/7\n",
            "562/562 [==============================] - 4s 7ms/step - loss: 0.8268 - accuracy: 0.6795 - val_loss: 0.7884 - val_accuracy: 0.7008\n",
            "Epoch 7/7\n",
            "562/562 [==============================] - 5s 8ms/step - loss: 0.8184 - accuracy: 0.6874 - val_loss: 0.7807 - val_accuracy: 0.6975\n"
          ]
        }
      ]
    },
    {
      "cell_type": "code",
      "source": [
        "# Evaluate model_3 on whole validation char dataset\n",
        "model_3.evaluate(val_char_dataset)"
      ],
      "metadata": {
        "colab": {
          "base_uri": "https://localhost:8080/"
        },
        "id": "Inj8L_vOlQFu",
        "outputId": "f29cb4b0-045d-4f83-9dba-761f766ece19"
      },
      "execution_count": 103,
      "outputs": [
        {
          "output_type": "stream",
          "name": "stdout",
          "text": [
            "945/945 [==============================] - 4s 5ms/step - loss: 0.8017 - accuracy: 0.6913\n"
          ]
        },
        {
          "output_type": "execute_result",
          "data": {
            "text/plain": [
              "[0.8016591668128967, 0.6912816166877747]"
            ]
          },
          "metadata": {},
          "execution_count": 103
        }
      ]
    },
    {
      "cell_type": "code",
      "source": [
        "# Make predictions with character model only\n",
        "model_3_pred_probs = model_3.predict(val_char_dataset)\n",
        "model_3_pred_probs"
      ],
      "metadata": {
        "colab": {
          "base_uri": "https://localhost:8080/"
        },
        "id": "HZTAnMb_lYfR",
        "outputId": "de57f5f9-d1e9-4c07-9c90-547be897a463"
      },
      "execution_count": 104,
      "outputs": [
        {
          "output_type": "stream",
          "name": "stdout",
          "text": [
            "945/945 [==============================] - 3s 3ms/step\n"
          ]
        },
        {
          "output_type": "execute_result",
          "data": {
            "text/plain": [
              "array([[0.29080364, 0.20708309, 0.12712616, 0.36087143, 0.01411564],\n",
              "       [0.2103242 , 0.6535821 , 0.00554085, 0.10979424, 0.02075864],\n",
              "       [0.16021268, 0.17389196, 0.1112907 , 0.5380584 , 0.01654622],\n",
              "       ...,\n",
              "       [0.07600137, 0.12338094, 0.13653888, 0.04392007, 0.62015873],\n",
              "       [0.03727996, 0.03799927, 0.50002754, 0.01322485, 0.4114684 ],\n",
              "       [0.23982936, 0.5616337 , 0.1484518 , 0.02812777, 0.02195735]],\n",
              "      dtype=float32)"
            ]
          },
          "metadata": {},
          "execution_count": 104
        }
      ]
    },
    {
      "cell_type": "code",
      "source": [
        "# Convert predictions to classes\n",
        "model_3_preds = tf.argmax(model_3_pred_probs, axis=1)\n",
        "model_3_preds"
      ],
      "metadata": {
        "colab": {
          "base_uri": "https://localhost:8080/"
        },
        "id": "5V9pKTrklarY",
        "outputId": "52f91717-c885-4127-9103-ca1c151411e6"
      },
      "execution_count": 105,
      "outputs": [
        {
          "output_type": "execute_result",
          "data": {
            "text/plain": [
              "<tf.Tensor: shape=(30212,), dtype=int64, numpy=array([3, 1, 3, ..., 4, 2, 1])>"
            ]
          },
          "metadata": {},
          "execution_count": 105
        }
      ]
    },
    {
      "cell_type": "code",
      "source": [
        "# Calculate Conv1D char only model results\n",
        "model_3_results = calculate_results(y_true=val_labels_encoded,\n",
        "                                        y_pred=model_3_preds)\n",
        "model_3_results"
      ],
      "metadata": {
        "colab": {
          "base_uri": "https://localhost:8080/"
        },
        "id": "F7H_K_X9lckN",
        "outputId": "5ced8636-9449-4f1b-eec6-dd17df68f707"
      },
      "execution_count": 106,
      "outputs": [
        {
          "output_type": "execute_result",
          "data": {
            "text/plain": [
              "{'accuracy': 69.12816099563088,\n",
              " 'precision': 0.6946487117625071,\n",
              " 'recall': 0.6912816099563087,\n",
              " 'f1': 0.6856696745882862}"
            ]
          },
          "metadata": {},
          "execution_count": 106
        }
      ]
    },
    {
      "cell_type": "markdown",
      "source": [
        "## **Model 4:** Combining pretrained token embeddings + character embeddings (hybrid embedding layer)"
      ],
      "metadata": {
        "id": "PeiHqtpyleJT"
      }
    },
    {
      "cell_type": "code",
      "source": [
        "# 1. Setup token inputs/model\n",
        "token_inputs = layers.Input(shape=[], dtype=tf.string, name=\"token_input\")\n",
        "token_embeddings = tf_hub_embedding_layer(token_inputs)\n",
        "token_output = layers.Dense(128, activation=\"relu\")(token_embeddings)\n",
        "token_model = tf.keras.Model(inputs=token_inputs,\n",
        "                             outputs=token_output)\n",
        "\n",
        "# 2. Setup char inputs/model\n",
        "char_inputs = layers.Input(shape=(1,), dtype=tf.string, name=\"char_input\")\n",
        "char_vectors = char_vectorizer(char_inputs)\n",
        "char_embeddings = char_embed(char_vectors)\n",
        "char_bi_lstm = layers.Bidirectional(layers.LSTM(25))(char_embeddings) # bi-LSTM shown in Figure 1 of https://arxiv.org/pdf/1612.05251.pdf\n",
        "char_model = tf.keras.Model(inputs=char_inputs,\n",
        "                            outputs=char_bi_lstm)\n",
        "\n",
        "# 3. Concatenate token and char inputs (create hybrid token embedding)\n",
        "token_char_concat = layers.Concatenate(name=\"token_char_hybrid\")([token_model.output,\n",
        "                                                                  char_model.output])\n",
        "\n",
        "# 4. Create output layers - addition of dropout discussed in 4.2 of https://arxiv.org/pdf/1612.05251.pdf\n",
        "combined_dropout = layers.Dropout(0.5)(token_char_concat)\n",
        "combined_dense = layers.Dense(200, activation=\"relu\")(combined_dropout) # slightly different to Figure 1 due to different shapes of token/char embedding layers\n",
        "final_dropout = layers.Dropout(0.5)(combined_dense)\n",
        "output_layer = layers.Dense(num_classes, activation=\"softmax\")(final_dropout)\n",
        "\n",
        "# 5. Construct model with char and token inputs\n",
        "model_4 = tf.keras.Model(inputs=[token_model.input, char_model.input],\n",
        "                         outputs=output_layer,\n",
        "                         name=\"model_4_token_and_char_embeddings\")"
      ],
      "metadata": {
        "id": "CO9vDUAzlj6M"
      },
      "execution_count": 112,
      "outputs": []
    },
    {
      "cell_type": "code",
      "source": [
        "model_4.summary()"
      ],
      "metadata": {
        "colab": {
          "base_uri": "https://localhost:8080/"
        },
        "id": "ABc75uiGpgvw",
        "outputId": "6b6b0818-e21b-4947-e308-ec26f5bc44be"
      },
      "execution_count": 113,
      "outputs": [
        {
          "output_type": "stream",
          "name": "stdout",
          "text": [
            "Model: \"model_4_token_and_char_embeddings\"\n",
            "__________________________________________________________________________________________________\n",
            " Layer (type)                Output Shape                 Param #   Connected to                  \n",
            "==================================================================================================\n",
            " char_input (InputLayer)     [(None, 1)]                  0         []                            \n",
            "                                                                                                  \n",
            " token_input (InputLayer)    [(None,)]                    0         []                            \n",
            "                                                                                                  \n",
            " char_vectorizer (TextVecto  (None, 290)                  0         ['char_input[0][0]']          \n",
            " rization)                                                                                        \n",
            "                                                                                                  \n",
            " universal_sentence_encoder  (None, 512)                  2567978   ['token_input[0][0]']         \n",
            "  (KerasLayer)                                            24                                      \n",
            "                                                                                                  \n",
            " char_embed (Embedding)      (None, 290, 25)              1750      ['char_vectorizer[5][0]']     \n",
            "                                                                                                  \n",
            " dense_11 (Dense)            (None, 128)                  65664     ['universal_sentence_encoder[5\n",
            "                                                                    ][0]']                        \n",
            "                                                                                                  \n",
            " bidirectional_2 (Bidirecti  (None, 50)                   10200     ['char_embed[5][0]']          \n",
            " onal)                                                                                            \n",
            "                                                                                                  \n",
            " token_char_hybrid (Concate  (None, 178)                  0         ['dense_11[0][0]',            \n",
            " nate)                                                               'bidirectional_2[0][0]']     \n",
            "                                                                                                  \n",
            " dropout_2 (Dropout)         (None, 178)                  0         ['token_char_hybrid[0][0]']   \n",
            "                                                                                                  \n",
            " dense_12 (Dense)            (None, 200)                  35800     ['dropout_2[0][0]']           \n",
            "                                                                                                  \n",
            " dropout_3 (Dropout)         (None, 200)                  0         ['dense_12[0][0]']            \n",
            "                                                                                                  \n",
            " dense_13 (Dense)            (None, 5)                    1005      ['dropout_3[0][0]']           \n",
            "                                                                                                  \n",
            "==================================================================================================\n",
            "Total params: 256912243 (980.04 MB)\n",
            "Trainable params: 114419 (446.95 KB)\n",
            "Non-trainable params: 256797824 (979.61 MB)\n",
            "__________________________________________________________________________________________________\n"
          ]
        }
      ]
    },
    {
      "cell_type": "code",
      "source": [
        "from tensorflow.keras.utils import plot_model\n",
        "plot_model(model_4)"
      ],
      "metadata": {
        "colab": {
          "base_uri": "https://localhost:8080/",
          "height": 843
        },
        "id": "mhPSsCRUpn3j",
        "outputId": "ea960b37-f874-4c3a-ac0b-a76fe3347ee3"
      },
      "execution_count": 114,
      "outputs": [
        {
          "output_type": "execute_result",
          "data": {
            "image/png": "[encoded data removed]",
            "text/plain": [
              "<IPython.core.display.Image object>"
            ]
          },
          "metadata": {},
          "execution_count": 114
        }
      ]
    },
    {
      "cell_type": "code",
      "source": [
        "# Compile token char model\n",
        "model_4.compile(loss=\"categorical_crossentropy\",\n",
        "                optimizer=tf.keras.optimizers.SGD(), # section 4.2 of https://arxiv.org/pdf/1612.05251.pdf mentions using SGD\n",
        "                metrics=[\"accuracy\"])"
      ],
      "metadata": {
        "id": "MlPKBQKfppdH"
      },
      "execution_count": 115,
      "outputs": []
    },
    {
      "cell_type": "markdown",
      "source": [
        "And again, to keep our experiments fast, we'll fit our token-character-hybrid model on 10% of training and validate on 10% of validation batches. However, the difference with this model is that it requires two inputs, token-level sequences and character-level sequences.\n",
        "\n",
        "We can do this by create a `tf.data.Dataset` with a tuple as it's first input, for example:\n",
        "* `((token_data, char_data), (label))`\n",
        "\n",
        "Let's see it in action.\n",
        "\n",
        "##### Combining token and character data into a `tf.data` dataset"
      ],
      "metadata": {
        "id": "tGwXSlTSqBA1"
      }
    },
    {
      "cell_type": "code",
      "source": [
        "# Combine chars and tokens into a dataset\n",
        "train_char_token_data = tf.data.Dataset.from_tensor_slices((train_sentences, train_chars)) # make data\n",
        "train_char_token_labels = tf.data.Dataset.from_tensor_slices(train_labels_one_hot) # make labels\n",
        "train_char_token_dataset = tf.data.Dataset.zip((train_char_token_data, train_char_token_labels)) # combine data and labels\n",
        "\n",
        "# Prefetch and batch train data\n",
        "train_char_token_dataset = train_char_token_dataset.batch(32).prefetch(tf.data.AUTOTUNE)"
      ],
      "metadata": {
        "id": "Ny7JbWKnqHSc"
      },
      "execution_count": 118,
      "outputs": []
    },
    {
      "cell_type": "code",
      "source": [
        "# Repeat same steps validation data\n",
        "val_char_token_data = tf.data.Dataset.from_tensor_slices((val_sentences, val_chars))\n",
        "val_char_token_labels = tf.data.Dataset.from_tensor_slices(val_labels_one_hot)\n",
        "val_char_token_dataset = tf.data.Dataset.zip((val_char_token_data, val_char_token_labels))\n",
        "\n",
        "val_char_token_dataset = val_char_token_dataset.batch(32).prefetch(tf.data.AUTOTUNE)"
      ],
      "metadata": {
        "id": "e4yU0c_4qcvn"
      },
      "execution_count": 119,
      "outputs": []
    },
    {
      "cell_type": "code",
      "source": [
        "# Check out training char and token embedding dataset\n",
        "train_char_token_dataset, val_char_token_dataset"
      ],
      "metadata": {
        "colab": {
          "base_uri": "https://localhost:8080/"
        },
        "id": "WKs1792CqnEz",
        "outputId": "637c3710-1062-493b-b510-ac0cc6666a23"
      },
      "execution_count": 120,
      "outputs": [
        {
          "output_type": "execute_result",
          "data": {
            "text/plain": [
              "(<_PrefetchDataset element_spec=((TensorSpec(shape=(None,), dtype=tf.string, name=None), TensorSpec(shape=(None,), dtype=tf.string, name=None)), TensorSpec(shape=(None, 5), dtype=tf.float64, name=None))>,\n",
              " <_PrefetchDataset element_spec=((TensorSpec(shape=(None,), dtype=tf.string, name=None), TensorSpec(shape=(None,), dtype=tf.string, name=None)), TensorSpec(shape=(None, 5), dtype=tf.float64, name=None))>)"
            ]
          },
          "metadata": {},
          "execution_count": 120
        }
      ]
    },
    {
      "cell_type": "code",
      "source": [
        "# Fit the model on tokens and chars\n",
        "model_4_history = model_4.fit(train_char_token_dataset, # train on dataset of token and characters\n",
        "                              steps_per_epoch=int(0.1 * len(train_char_token_dataset)),\n",
        "                              epochs=3,\n",
        "                              validation_data=val_char_token_dataset,\n",
        "                              validation_steps=int(0.1 * len(val_char_token_dataset)))"
      ],
      "metadata": {
        "colab": {
          "base_uri": "https://localhost:8080/"
        },
        "id": "jFhK28Frqogr",
        "outputId": "8f557cc6-4c8c-4ee6-d4d9-3d26250c0368"
      },
      "execution_count": 121,
      "outputs": [
        {
          "output_type": "stream",
          "name": "stdout",
          "text": [
            "Epoch 1/3\n",
            "562/562 [==============================] - 28s 39ms/step - loss: 1.4899 - accuracy: 0.3410 - val_loss: 1.4505 - val_accuracy: 0.4146\n",
            "Epoch 2/3\n",
            "562/562 [==============================] - 23s 41ms/step - loss: 1.4402 - accuracy: 0.3843 - val_loss: 1.4134 - val_accuracy: 0.4328\n",
            "Epoch 3/3\n",
            "562/562 [==============================] - 20s 35ms/step - loss: 1.4022 - accuracy: 0.4229 - val_loss: 1.3485 - val_accuracy: 0.4894\n"
          ]
        }
      ]
    },
    {
      "cell_type": "code",
      "source": [
        "# Fit the model on tokens and chars\n",
        "model_4_history_continued = model_4.fit(train_char_token_dataset, # train on dataset of token and characters\n",
        "                              steps_per_epoch=int(0.1 * len(train_char_token_dataset)),\n",
        "                                        initial_epoch = model_4_history.epoch[-1] + 1,\n",
        "                              epochs=10,\n",
        "                              validation_data=val_char_token_dataset,\n",
        "                              validation_steps=int(0.1 * len(val_char_token_dataset)))"
      ],
      "metadata": {
        "colab": {
          "base_uri": "https://localhost:8080/"
        },
        "id": "7PlKIsnLqsPU",
        "outputId": "28b3d0a1-1b5c-40d4-e0bf-80656ad912d1"
      },
      "execution_count": 122,
      "outputs": [
        {
          "output_type": "stream",
          "name": "stdout",
          "text": [
            "Epoch 4/10\n",
            "562/562 [==============================] - 23s 40ms/step - loss: 1.3337 - accuracy: 0.4653 - val_loss: 1.2453 - val_accuracy: 0.5163\n",
            "Epoch 5/10\n",
            "562/562 [==============================] - 19s 34ms/step - loss: 1.2352 - accuracy: 0.5023 - val_loss: 1.1290 - val_accuracy: 0.5525\n",
            "Epoch 6/10\n",
            "562/562 [==============================] - 20s 36ms/step - loss: 1.1537 - accuracy: 0.5372 - val_loss: 1.0381 - val_accuracy: 0.5944\n",
            "Epoch 7/10\n",
            "562/562 [==============================] - 19s 34ms/step - loss: 1.0783 - accuracy: 0.5643 - val_loss: 0.9768 - val_accuracy: 0.6100\n",
            "Epoch 8/10\n",
            "562/562 [==============================] - 21s 37ms/step - loss: 1.0443 - accuracy: 0.5766 - val_loss: 0.9419 - val_accuracy: 0.6230\n",
            "Epoch 9/10\n",
            "562/562 [==============================] - 21s 37ms/step - loss: 1.0181 - accuracy: 0.5881 - val_loss: 0.9153 - val_accuracy: 0.6283\n",
            "Epoch 10/10\n",
            "562/562 [==============================] - 21s 38ms/step - loss: 0.9877 - accuracy: 0.6021 - val_loss: 0.8962 - val_accuracy: 0.6323\n"
          ]
        }
      ]
    },
    {
      "cell_type": "code",
      "source": [
        "# Fit the model on tokens and chars\n",
        "model_4_history_continuued = model_4.fit(train_char_token_dataset, # train on dataset of token and characters\n",
        "                              steps_per_epoch=int(0.1 * len(train_char_token_dataset)),\n",
        "                              initial_epoch = model_4_history_continued.epoch[-1] + 1,\n",
        "                              epochs=20,\n",
        "                              validation_data=val_char_token_dataset,\n",
        "                              validation_steps=int(0.1 * len(val_char_token_dataset)))"
      ],
      "metadata": {
        "colab": {
          "base_uri": "https://localhost:8080/"
        },
        "id": "gM8JgfEVrf2Y",
        "outputId": "25e513a7-c0cf-4fa3-a9df-86c177606d16"
      },
      "execution_count": 124,
      "outputs": [
        {
          "output_type": "stream",
          "name": "stdout",
          "text": [
            "Epoch 11/20\n",
            "562/562 [==============================] - 20s 36ms/step - loss: 0.9654 - accuracy: 0.6094 - val_loss: 0.8827 - val_accuracy: 0.6433\n",
            "Epoch 12/20\n",
            "562/562 [==============================] - 20s 35ms/step - loss: 0.9404 - accuracy: 0.6153 - val_loss: 0.8665 - val_accuracy: 0.6439\n",
            "Epoch 13/20\n",
            "562/562 [==============================] - 20s 36ms/step - loss: 0.9370 - accuracy: 0.6202 - val_loss: 0.8609 - val_accuracy: 0.6519\n",
            "Epoch 14/20\n",
            "562/562 [==============================] - 20s 36ms/step - loss: 0.9171 - accuracy: 0.6302 - val_loss: 0.8507 - val_accuracy: 0.6533\n",
            "Epoch 15/20\n",
            "562/562 [==============================] - 20s 36ms/step - loss: 0.9213 - accuracy: 0.6281 - val_loss: 0.8435 - val_accuracy: 0.6549\n",
            "Epoch 16/20\n",
            "562/562 [==============================] - 20s 36ms/step - loss: 0.9250 - accuracy: 0.6279 - val_loss: 0.8383 - val_accuracy: 0.6656\n",
            "Epoch 17/20\n",
            "562/562 [==============================] - 20s 36ms/step - loss: 0.9023 - accuracy: 0.6345 - val_loss: 0.8306 - val_accuracy: 0.6759\n",
            "Epoch 18/20\n",
            "562/562 [==============================] - 20s 36ms/step - loss: 0.8941 - accuracy: 0.6401 - val_loss: 0.8235 - val_accuracy: 0.6809\n",
            "Epoch 19/20\n",
            "562/562 [==============================] - 20s 35ms/step - loss: 0.8836 - accuracy: 0.6519 - val_loss: 0.8196 - val_accuracy: 0.6719\n",
            "Epoch 20/20\n",
            "562/562 [==============================] - 20s 35ms/step - loss: 0.8859 - accuracy: 0.6472 - val_loss: 0.8162 - val_accuracy: 0.6815\n"
          ]
        }
      ]
    },
    {
      "cell_type": "code",
      "source": [
        "# Fit the model on tokens and chars\n",
        "model_4_history_continuuued = model_4.fit(train_char_token_dataset, # train on dataset of token and characters\n",
        "                              steps_per_epoch=int(0.1 * len(train_char_token_dataset)),\n",
        "                              initial_epoch = model_4_history_continuued.epoch[-1] + 1,\n",
        "                              epochs=30,\n",
        "                              validation_data=val_char_token_dataset,\n",
        "                              validation_steps=int(0.1 * len(val_char_token_dataset)))"
      ],
      "metadata": {
        "colab": {
          "base_uri": "https://localhost:8080/"
        },
        "id": "FlzyCk_hs8zp",
        "outputId": "b5cbc22f-ae98-430f-d765-37248cfdaef8"
      },
      "execution_count": 125,
      "outputs": [
        {
          "output_type": "stream",
          "name": "stdout",
          "text": [
            "Epoch 21/30\n",
            "562/562 [==============================] - 21s 38ms/step - loss: 0.8788 - accuracy: 0.6562 - val_loss: 0.8110 - val_accuracy: 0.6835\n",
            "Epoch 22/30\n",
            "562/562 [==============================] - 20s 36ms/step - loss: 0.8618 - accuracy: 0.6568 - val_loss: 0.7974 - val_accuracy: 0.6915\n",
            "Epoch 23/30\n",
            "562/562 [==============================] - 19s 34ms/step - loss: 0.8650 - accuracy: 0.6586 - val_loss: 0.7945 - val_accuracy: 0.6958\n",
            "Epoch 24/30\n",
            "562/562 [==============================] - 21s 37ms/step - loss: 0.8490 - accuracy: 0.6671 - val_loss: 0.7884 - val_accuracy: 0.6928\n",
            "Epoch 25/30\n",
            "562/562 [==============================] - 20s 35ms/step - loss: 0.8648 - accuracy: 0.6620 - val_loss: 0.7853 - val_accuracy: 0.6935\n",
            "Epoch 26/30\n",
            "562/562 [==============================] - 20s 36ms/step - loss: 0.8666 - accuracy: 0.6606 - val_loss: 0.7819 - val_accuracy: 0.7018\n",
            "Epoch 27/30\n",
            "562/562 [==============================] - 19s 34ms/step - loss: 0.8424 - accuracy: 0.6724 - val_loss: 0.7738 - val_accuracy: 0.7048\n",
            "Epoch 28/30\n",
            "562/562 [==============================] - 21s 38ms/step - loss: 0.8398 - accuracy: 0.6728 - val_loss: 0.7719 - val_accuracy: 0.7048\n",
            "Epoch 29/30\n",
            "562/562 [==============================] - 20s 35ms/step - loss: 0.8316 - accuracy: 0.6750 - val_loss: 0.7681 - val_accuracy: 0.7011\n",
            "Epoch 30/30\n",
            "562/562 [==============================] - 19s 34ms/step - loss: 0.8381 - accuracy: 0.6732 - val_loss: 0.7714 - val_accuracy: 0.7018\n"
          ]
        }
      ]
    },
    {
      "cell_type": "code",
      "source": [
        "# Evaluate on the whole validation dataset\n",
        "model_4.evaluate(val_char_token_dataset)"
      ],
      "metadata": {
        "colab": {
          "base_uri": "https://localhost:8080/"
        },
        "id": "IOZbWbFbsFWA",
        "outputId": "b8cc4c77-2985-4071-c414-305c537273a5"
      },
      "execution_count": 126,
      "outputs": [
        {
          "output_type": "stream",
          "name": "stdout",
          "text": [
            "945/945 [==============================] - 19s 20ms/step - loss: 0.7712 - accuracy: 0.7020\n"
          ]
        },
        {
          "output_type": "execute_result",
          "data": {
            "text/plain": [
              "[0.7712312340736389, 0.7020058035850525]"
            ]
          },
          "metadata": {},
          "execution_count": 126
        }
      ]
    },
    {
      "cell_type": "code",
      "source": [
        "model_4_pred_probs = model_4.predict(val_char_token_dataset)\n",
        "model_4_pred_probs"
      ],
      "metadata": {
        "colab": {
          "base_uri": "https://localhost:8080/"
        },
        "id": "t7t2SEWoskda",
        "outputId": "52e5cbeb-0a2f-44aa-88de-9ea95c818e61"
      },
      "execution_count": 127,
      "outputs": [
        {
          "output_type": "stream",
          "name": "stdout",
          "text": [
            "945/945 [==============================] - 20s 20ms/step\n"
          ]
        },
        {
          "output_type": "execute_result",
          "data": {
            "text/plain": [
              "array([[4.0473157e-01, 4.5726475e-01, 1.1228176e-02, 1.0397051e-01,\n",
              "        2.2804964e-02],\n",
              "       [4.3350437e-01, 3.5687470e-01, 9.3331309e-03, 1.9174664e-01,\n",
              "        8.5411882e-03],\n",
              "       [3.0434865e-01, 2.3496503e-01, 3.4886993e-02, 3.8541797e-01,\n",
              "        4.0381391e-02],\n",
              "       ...,\n",
              "       [7.2750647e-04, 7.9052942e-03, 3.0822273e-02, 5.0319283e-04,\n",
              "        9.6004176e-01],\n",
              "       [4.0332768e-03, 2.3078078e-02, 1.5720011e-01, 2.3391866e-03,\n",
              "        8.1334937e-01],\n",
              "       [1.7976187e-01, 2.2533351e-01, 3.7144631e-01, 2.3474135e-02,\n",
              "        1.9998421e-01]], dtype=float32)"
            ]
          },
          "metadata": {},
          "execution_count": 127
        }
      ]
    },
    {
      "cell_type": "code",
      "source": [
        "model_4_preds = tf.argmax(model_4_pred_probs, axis=1)\n",
        "model_4_preds"
      ],
      "metadata": {
        "colab": {
          "base_uri": "https://localhost:8080/"
        },
        "id": "7Cs7d1iHsltR",
        "outputId": "b9ce20a4-65ce-4106-ae07-c15ac3abffa9"
      },
      "execution_count": 128,
      "outputs": [
        {
          "output_type": "execute_result",
          "data": {
            "text/plain": [
              "<tf.Tensor: shape=(30212,), dtype=int64, numpy=array([1, 0, 3, ..., 4, 4, 2])>"
            ]
          },
          "metadata": {},
          "execution_count": 128
        }
      ]
    },
    {
      "cell_type": "code",
      "source": [
        "model_4_results = calculate_results(y_true=val_labels_encoded,\n",
        "                                    y_pred=model_4_preds)\n",
        "model_4_results"
      ],
      "metadata": {
        "colab": {
          "base_uri": "https://localhost:8080/"
        },
        "id": "LESy5wtxsnO2",
        "outputId": "c50f94ba-1e9c-4ebf-b232-df1e72daad5e"
      },
      "execution_count": 129,
      "outputs": [
        {
          "output_type": "execute_result",
          "data": {
            "text/plain": [
              "{'accuracy': 70.20058254998014,\n",
              " 'precision': 0.6963045580604853,\n",
              " 'recall': 0.7020058254998014,\n",
              " 'f1': 0.6973202935007238}"
            ]
          },
          "metadata": {},
          "execution_count": 129
        }
      ]
    },
    {
      "cell_type": "markdown",
      "source": [
        "## **Model 5:** Transfer Learning with pretrained token embeddings + character embeddings + positional embeddings"
      ],
      "metadata": {
        "id": "raksckMUuEbm"
      }
    },
    {
      "cell_type": "code",
      "source": [],
      "metadata": {
        "id": "zG2D6x8xuOV0"
      },
      "execution_count": null,
      "outputs": []
    }
  ]
}