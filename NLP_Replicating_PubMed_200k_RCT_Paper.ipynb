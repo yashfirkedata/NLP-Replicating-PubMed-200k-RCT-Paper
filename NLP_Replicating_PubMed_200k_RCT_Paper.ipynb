{
  "nbformat": 4,
  "nbformat_minor": 0,
  "metadata": {
    "colab": {
      "provenance": [],
      "gpuType": "T4",
      "include_colab_link": true
    },
    "kernelspec": {
      "name": "python3",
      "display_name": "Python 3"
    },
    "language_info": {
      "name": "python"
    },
    "accelerator": "GPU"
  },
  "cells": [
    {
      "cell_type": "markdown",
      "metadata": {
        "id": "view-in-github",
        "colab_type": "text"
      },
      "source": [
        "<a href=\"https://colab.research.google.com/github/yashfirkedata/NLP-Replicating-PubMed-200k-RCT-Paper/blob/main/NLP_Replicating_PubMed_200k_RCT_Paper.ipynb\" target=\"_parent\"><img src=\"https://colab.research.google.com/assets/colab-badge.svg\" alt=\"Open In Colab\"/></a>"
      ]
    },
    {
      "cell_type": "markdown",
      "source": [
        "# **SkimLit 📄🔥**"
      ],
      "metadata": {
        "id": "VZ5SdR7dIeZO"
      }
    },
    {
      "cell_type": "markdown",
      "source": [
        "### Model Input\n",
        "> To investigate the efficacy of @ weeks of daily low-dose oral prednisolone in improving pain , mobility , and systemic low-grade inflammation in the short term and whether the effect would be sustained at @ weeks in older adults with moderate to severe knee osteoarthritis ( OA ). A total of @ patients with primary knee OA were randomized @:@ ; @ received @ mg/day of prednisolone and @ received placebo for @ weeks. Outcome measures included pain reduction and improvement in function scores and systemic inflammation markers. Pain was assessed using the visual analog pain scale ( @-@ mm ). Secondary outcome measures included the Western Ontario and McMaster Universities Osteoarthritis Index scores , patient global assessment ( PGA ) of the severity of knee OA , and @-min walk distance ( @MWD )., Serum levels of interleukin @ ( IL-@ ) , IL-@ , tumor necrosis factor ( TNF ) - , and high-sensitivity C-reactive protein ( hsCRP ) were measured. There was a clinically relevant reduction in the intervention group compared to the placebo group for knee pain , physical function , PGA , and @MWD at @ weeks. The mean difference between treatment arms ( @ % CI ) was @ ( @-@ @ ) , p < @ ; @ ( @-@ @ ) , p < @ ; @ ( @-@ @ ) , p < @ ; and @ ( @-@ @ ) , p < @ , respectively. Further , there was a clinically relevant reduction in the serum levels of IL-@ , IL-@ , TNF - , and hsCRP at @ weeks in the intervention group when compared to the placebo group. These differences remained significant at @ weeks. The Outcome Measures in Rheumatology Clinical Trials-Osteoarthritis Research Society International responder rate was @ % in the intervention group and @ % in the placebo group ( p < @ ). Low-dose oral prednisolone had both a short-term and a longer sustained effect resulting in less knee pain , better physical function , and attenuation of systemic inflammation in older patients with knee OA ( ClinicalTrials.gov identifier NCT@ )."
      ],
      "metadata": {
        "id": "v6zQSEk8LrSx"
      }
    },
    {
      "cell_type": "markdown",
      "source": [
        "### Model Output\n",
        "> ['###24293578\\n',\n",
        " 'OBJECTIVE\\tTo investigate the efficacy of @ weeks of daily low-dose oral prednisolone in improving pain , mobility , and systemic low-grade inflammation in the short term and whether the effect would be sustained at @ weeks in older adults with moderate to severe knee osteoarthritis ( OA ) .\\n',\n",
        " 'METHODS\\tA total of @ patients with primary knee OA were randomized @:@ ; @ received @ mg/day of prednisolone and @ received placebo for @ weeks .\\n',\n",
        " 'METHODS\\tOutcome measures included pain reduction and improvement in function scores and systemic inflammation markers .\\n',\n",
        " 'METHODS\\tPain was assessed using the visual analog pain scale ( @-@ mm ) .\\n',\n",
        " 'METHODS\\tSecondary outcome measures included the Western Ontario and McMaster Universities Osteoarthritis Index scores , patient global assessment ( PGA ) of the severity of knee OA , and @-min walk distance ( @MWD ) .\\n',\n",
        " 'METHODS\\tSerum levels of interleukin @ ( IL-@ ) , IL-@ , tumor necrosis factor ( TNF ) - , and high-sensitivity C-reactive protein ( hsCRP ) were measured .\\n',\n",
        " 'RESULTS\\tThere was a clinically relevant reduction in the intervention group compared to the placebo group for knee pain , physical function , PGA , and @MWD at @ weeks .\\n',\n",
        " 'RESULTS\\tThe mean difference between treatment arms ( @ % CI ) was @ ( @-@ @ ) , p < @ ; @ ( @-@ @ ) , p < @ ; @ ( @-@ @ ) , p < @ ; and @ ( @-@ @ ) , p < @ , respectively .\\n',\n",
        " 'RESULTS\\tFurther , there was a clinically relevant reduction in the serum levels of IL-@ , IL-@ , TNF - , and hsCRP at @ weeks in the intervention group when compared to the placebo group .\\n',\n",
        " 'RESULTS\\tThese differences remained significant at @ weeks .\\n',\n",
        " 'RESULTS\\tThe Outcome Measures in Rheumatology Clinical Trials-Osteoarthritis Research Society International responder rate was @ % in the intervention group and @ % in the placebo group ( p < @ ) .\\n',\n",
        " 'CONCLUSIONS\\tLow-dose oral prednisolone had both a short-term and a longer sustained effect resulting in less knee pain , better physical function , and attenuation of systemic inflammation in older patients with knee OA ( ClinicalTrials.gov identifier NCT@ ) .\\n',\n",
        " '\\n']"
      ],
      "metadata": {
        "id": "5vQbZfBoL21B"
      }
    },
    {
      "cell_type": "markdown",
      "source": [
        "Dataset: https://github.com/Franck-Dernoncourt/pubmed-rct"
      ],
      "metadata": {
        "id": "LXbZD5IcL_kQ"
      }
    },
    {
      "cell_type": "code",
      "source": [
        "!git clone https://github.com/Franck-Dernoncourt/pubmed-rct"
      ],
      "metadata": {
        "colab": {
          "base_uri": "https://localhost:8080/"
        },
        "id": "4zaNEewqMB_t",
        "outputId": "d3a91591-24eb-40ab-854e-5c7e8c8047b3"
      },
      "execution_count": 1,
      "outputs": [
        {
          "output_type": "stream",
          "name": "stdout",
          "text": [
            "Cloning into 'pubmed-rct'...\n",
            "remote: Enumerating objects: 39, done.\u001b[K\n",
            "remote: Counting objects: 100% (14/14), done.\u001b[K\n",
            "remote: Compressing objects: 100% (9/9), done.\u001b[K\n",
            "remote: Total 39 (delta 8), reused 5 (delta 5), pack-reused 25\u001b[K\n",
            "Receiving objects: 100% (39/39), 177.08 MiB | 13.39 MiB/s, done.\n",
            "Resolving deltas: 100% (15/15), done.\n",
            "Updating files: 100% (13/13), done.\n"
          ]
        }
      ]
    },
    {
      "cell_type": "code",
      "source": [
        "ls"
      ],
      "metadata": {
        "colab": {
          "base_uri": "https://localhost:8080/"
        },
        "id": "d5EGkKYAMTk0",
        "outputId": "2cefe165-861a-4616-f852-ff9618468892"
      },
      "execution_count": 2,
      "outputs": [
        {
          "output_type": "stream",
          "name": "stdout",
          "text": [
            "\u001b[0m\u001b[01;34mpubmed-rct\u001b[0m/  \u001b[01;34msample_data\u001b[0m/\n"
          ]
        }
      ]
    },
    {
      "cell_type": "code",
      "source": [
        "ls pubmed-rct"
      ],
      "metadata": {
        "colab": {
          "base_uri": "https://localhost:8080/"
        },
        "id": "1J98v6XDMYva",
        "outputId": "4f1841b0-a2a1-4294-fd41-8a58a3a9f8c6"
      },
      "execution_count": 3,
      "outputs": [
        {
          "output_type": "stream",
          "name": "stdout",
          "text": [
            "\u001b[0m\u001b[01;34mPubMed_200k_RCT\u001b[0m/                                \u001b[01;34mPubMed_20k_RCT_numbers_replaced_with_at_sign\u001b[0m/\n",
            "\u001b[01;34mPubMed_200k_RCT_numbers_replaced_with_at_sign\u001b[0m/  README.md\n",
            "\u001b[01;34mPubMed_20k_RCT\u001b[0m/\n"
          ]
        }
      ]
    },
    {
      "cell_type": "markdown",
      "source": [
        "Each contains a different version of the PubMed 200k RCT dataset.\n",
        "\n",
        "Looking at the README file from the GitHub page, we get the following information:\n",
        "\n",
        "- PubMed 20k is a subset of PubMed 200k. I.e., any abstract present in PubMed 20k is also present in PubMed 200k.\n",
        "- PubMed_200k_RCT is the same as PubMed_200k_RCT_numbers_replaced_with_at_sign, except that in the latter all numbers had been replaced by @. (same for PubMed_20k_RCT vs. PubMed_20k_RCT_numbers_replaced_with_at_sign).\n",
        "\n",
        "Read README.md for proper info"
      ],
      "metadata": {
        "id": "LtYIZkDAMdG3"
      }
    },
    {
      "cell_type": "markdown",
      "source": [
        "**Rather than working with the whole 200k dataset, we'll keep our experiments quick by starting with a smaller subset.**\n",
        "\n",
        "**We will select PubMed_20k_RCT_numbers_replaced_with_at_sign**"
      ],
      "metadata": {
        "id": "u9wmlv-aM0BV"
      }
    },
    {
      "cell_type": "code",
      "source": [
        "!ls pubmed-rct/PubMed_20k_RCT_numbers_replaced_with_at_sign"
      ],
      "metadata": {
        "colab": {
          "base_uri": "https://localhost:8080/"
        },
        "id": "NL_tHHUDND0Y",
        "outputId": "8d231608-450a-4050-ca21-bbfb83ec06e1"
      },
      "execution_count": 4,
      "outputs": [
        {
          "output_type": "stream",
          "name": "stdout",
          "text": [
            "dev.txt  test.txt  train.txt\n"
          ]
        }
      ]
    },
    {
      "cell_type": "code",
      "source": [
        "data_dir = \"pubmed-rct/PubMed_20k_RCT_numbers_replaced_with_at_sign/\""
      ],
      "metadata": {
        "id": "NS2iEOjkNGnD"
      },
      "execution_count": 5,
      "outputs": []
    },
    {
      "cell_type": "code",
      "source": [
        "import os\n",
        "filenames = [data_dir + filename for filename in os.listdir(data_dir)]"
      ],
      "metadata": {
        "id": "kgyo3RryNLaB"
      },
      "execution_count": 6,
      "outputs": []
    },
    {
      "cell_type": "code",
      "source": [
        "filenames"
      ],
      "metadata": {
        "colab": {
          "base_uri": "https://localhost:8080/"
        },
        "id": "OFbP30b0NTJT",
        "outputId": "b5b5b2c7-e860-4a21-fac0-44046f5ec442"
      },
      "execution_count": 7,
      "outputs": [
        {
          "output_type": "execute_result",
          "data": {
            "text/plain": [
              "['pubmed-rct/PubMed_20k_RCT_numbers_replaced_with_at_sign/test.txt',\n",
              " 'pubmed-rct/PubMed_20k_RCT_numbers_replaced_with_at_sign/dev.txt',\n",
              " 'pubmed-rct/PubMed_20k_RCT_numbers_replaced_with_at_sign/train.txt']"
            ]
          },
          "metadata": {},
          "execution_count": 7
        }
      ]
    },
    {
      "cell_type": "markdown",
      "source": [
        "# **Data Preprocessing**"
      ],
      "metadata": {
        "id": "JhCqhsUsNWlQ"
      }
    },
    {
      "cell_type": "code",
      "source": [
        "# Function to read lines of a document\n",
        "\n",
        "def get_lines(filename):\n",
        "  \"\"\"\n",
        "  Reads filename (a text file) and returns the lines of text as a list.\n",
        "\n",
        "  Args:\n",
        "      filename: a string containing the target filepath to read.\n",
        "\n",
        "  Returns:\n",
        "      A list of strings with one string per line from the target filename.\n",
        "      For example:\n",
        "      [\"this is the first line of filename\",\n",
        "       \"this is the second line of filename\",\n",
        "       \"...\"]\n",
        "  \"\"\"\n",
        "  with open(filename,\"r\") as f:\n",
        "    return f.readlines()"
      ],
      "metadata": {
        "id": "nggp6EDjNeh7"
      },
      "execution_count": 8,
      "outputs": []
    },
    {
      "cell_type": "code",
      "source": [
        "train_lines = get_lines(data_dir + \"train.txt\")\n",
        "train_lines[:20]"
      ],
      "metadata": {
        "colab": {
          "base_uri": "https://localhost:8080/"
        },
        "id": "oQZFmftoOQvc",
        "outputId": "6c7a89d1-7dc7-47b6-892e-490a40f4e4df"
      },
      "execution_count": 9,
      "outputs": [
        {
          "output_type": "execute_result",
          "data": {
            "text/plain": [
              "['###24293578\\n',\n",
              " 'OBJECTIVE\\tTo investigate the efficacy of @ weeks of daily low-dose oral prednisolone in improving pain , mobility , and systemic low-grade inflammation in the short term and whether the effect would be sustained at @ weeks in older adults with moderate to severe knee osteoarthritis ( OA ) .\\n',\n",
              " 'METHODS\\tA total of @ patients with primary knee OA were randomized @:@ ; @ received @ mg/day of prednisolone and @ received placebo for @ weeks .\\n',\n",
              " 'METHODS\\tOutcome measures included pain reduction and improvement in function scores and systemic inflammation markers .\\n',\n",
              " 'METHODS\\tPain was assessed using the visual analog pain scale ( @-@ mm ) .\\n',\n",
              " 'METHODS\\tSecondary outcome measures included the Western Ontario and McMaster Universities Osteoarthritis Index scores , patient global assessment ( PGA ) of the severity of knee OA , and @-min walk distance ( @MWD ) .\\n',\n",
              " 'METHODS\\tSerum levels of interleukin @ ( IL-@ ) , IL-@ , tumor necrosis factor ( TNF ) - , and high-sensitivity C-reactive protein ( hsCRP ) were measured .\\n',\n",
              " 'RESULTS\\tThere was a clinically relevant reduction in the intervention group compared to the placebo group for knee pain , physical function , PGA , and @MWD at @ weeks .\\n',\n",
              " 'RESULTS\\tThe mean difference between treatment arms ( @ % CI ) was @ ( @-@ @ ) , p < @ ; @ ( @-@ @ ) , p < @ ; @ ( @-@ @ ) , p < @ ; and @ ( @-@ @ ) , p < @ , respectively .\\n',\n",
              " 'RESULTS\\tFurther , there was a clinically relevant reduction in the serum levels of IL-@ , IL-@ , TNF - , and hsCRP at @ weeks in the intervention group when compared to the placebo group .\\n',\n",
              " 'RESULTS\\tThese differences remained significant at @ weeks .\\n',\n",
              " 'RESULTS\\tThe Outcome Measures in Rheumatology Clinical Trials-Osteoarthritis Research Society International responder rate was @ % in the intervention group and @ % in the placebo group ( p < @ ) .\\n',\n",
              " 'CONCLUSIONS\\tLow-dose oral prednisolone had both a short-term and a longer sustained effect resulting in less knee pain , better physical function , and attenuation of systemic inflammation in older patients with knee OA ( ClinicalTrials.gov identifier NCT@ ) .\\n',\n",
              " '\\n',\n",
              " '###24854809\\n',\n",
              " 'BACKGROUND\\tEmotional eating is associated with overeating and the development of obesity .\\n',\n",
              " 'BACKGROUND\\tYet , empirical evidence for individual ( trait ) differences in emotional eating and cognitive mechanisms that contribute to eating during sad mood remain equivocal .\\n',\n",
              " 'OBJECTIVE\\tThe aim of this study was to test if attention bias for food moderates the effect of self-reported emotional eating during sad mood ( vs neutral mood ) on actual food intake .\\n',\n",
              " 'OBJECTIVE\\tIt was expected that emotional eating is predictive of elevated attention for food and higher food intake after an experimentally induced sad mood and that attentional maintenance on food predicts food intake during a sad versus a neutral mood .\\n',\n",
              " 'METHODS\\tParticipants ( N = @ ) were randomly assigned to one of the two experimental mood induction conditions ( sad/neutral ) .\\n']"
            ]
          },
          "metadata": {},
          "execution_count": 9
        }
      ]
    },
    {
      "cell_type": "markdown",
      "source": [
        "**Observations:**\n",
        "- This is basically list of strings containing different abstract samples, along with the sentences and the label to it.\n",
        "- The label and sentence are seperated by \\t\n",
        "- Each sentence ends with a new line \\n\n",
        "- Different abstracts are seperated by abstract ID (startwith ###) and new lines \\n\n"
      ],
      "metadata": {
        "id": "HLSA84m8OWad"
      }
    },
    {
      "cell_type": "markdown",
      "source": [
        "***Let's write a function to perform the following steps:***\n",
        "* Take a target file of abstract samples.\n",
        "* Read the lines in the target file.\n",
        "* For each line in the target file:  \n",
        "  * If the line begins with `###` mark it as an abstract ID and the beginning of a new abstract.\n",
        "    * Keep count of the number of lines in a sample.\n",
        "  * If the line begins with `\\n` mark it as the end of an abstract sample.\n",
        "    * Keep count of the total lines in a sample.\n",
        "  * Record the text before the `\\t` as the label of the line.\n",
        "  * Record the text after the `\\t` as the text of the line.\n",
        "* Return all of the lines in the target text file as a list of dictionaries containing the key/value pairs:\n",
        "  * `\"line_number\"` - the position of the line in the abstract (e.g. `3`).\n",
        "  * `\"target\"` - the role of the line in the abstract (e.g. `OBJECTIVE`).\n",
        "  * `\"text\"` - the text of the line in the abstract.\n",
        "  * `\"total_lines\"` - the total lines in an abstract sample (e.g. `14`).\n",
        "* Abstract ID's and newlines should be omitted from the returned preprocessed data.\n",
        "\n",
        "Example returned preprocessed sample (a single line from an abstract):\n",
        "\n",
        "```\n",
        "[{'line_number': 0,\n",
        "  'target': 'OBJECTIVE',\n",
        "  'text': 'to investigate the efficacy of @ weeks of daily low-dose oral prednisolone in improving pain , mobility , and systemic low-grade inflammation in the short term and whether the effect would be sustained at @ weeks in older adults with moderate to severe knee osteoarthritis ( oa ) .',\n",
        "  'total_lines': 11},\n",
        "  ...]\n",
        "```"
      ],
      "metadata": {
        "id": "4_XZNQRTQs_2"
      }
    },
    {
      "cell_type": "code",
      "source": [
        "def preprocess_text_with_line_numbers(filename):\n",
        "  \"\"\"Returns a list of dictionaries of abstract line data.\n",
        "\n",
        "  Takes in filename, reads its contents and sorts through each line,\n",
        "  extracting things like the target label, the text of the sentence,\n",
        "  how many sentences are in the current abstract and what sentence number\n",
        "  the target line is.\n",
        "\n",
        "  Args:\n",
        "      filename: a string of the target text file to read and extract line data\n",
        "      from.\n",
        "\n",
        "  Returns:\n",
        "      A list of dictionaries each containing a line from an abstract,\n",
        "      the lines label, the lines position in the abstract and the total number\n",
        "      of lines in the abstract where the line is from. For example:\n",
        "\n",
        "      [{\"target\": 'CONCLUSION',\n",
        "        \"text\": The study couldn't have gone better, turns out people are kinder than you think\",\n",
        "        \"line_number\": 8,\n",
        "        \"total_lines\": 8}]\n",
        "  \"\"\"\n",
        "  input_lines = get_lines(filename)\n",
        "  abstract_lines = \"\"  # A string to accumulate the lines of the current abstract.\n",
        "  abstract_samples = [] # A list to store the processed line data for all abstracts.\n",
        "\n",
        "  for line in input_lines:\n",
        "    if line.startswith(\"###\"):\n",
        "      abstract_id = line\n",
        "      abstract_lines = \"\"\n",
        "    elif line.isspace():  # \\n is also considered space so this means if line is new line\n",
        "      abstract_line_split = abstract_lines.splitlines()\n",
        "\n",
        "      for abstract_line_number, abstract_line in enumerate(abstract_line_split):\n",
        "        line_data = {}\n",
        "        target_text_split = abstract_line.split(\"\\t\")\n",
        "        line_data[\"target\"] = target_text_split[0]\n",
        "        line_data[\"text\"] = target_text_split[1].lower()\n",
        "        line_data[\"line_number\"] = abstract_line_number\n",
        "        line_data[\"total_lines\"] = len(abstract_line_split) -1 #as lines starts from 0\n",
        "        abstract_samples.append(line_data)\n",
        "\n",
        "    else:\n",
        "      abstract_lines +=line\n",
        "\n",
        "  return abstract_samples\n",
        "\n"
      ],
      "metadata": {
        "id": "adPhrpc-Q7oL"
      },
      "execution_count": 10,
      "outputs": []
    },
    {
      "cell_type": "code",
      "source": [
        "%%time\n",
        "train_samples = preprocess_text_with_line_numbers(data_dir + \"train.txt\")\n",
        "val_samples = preprocess_text_with_line_numbers(data_dir + \"dev.txt\") # dev is another name for validation set\n",
        "test_samples = preprocess_text_with_line_numbers(data_dir + \"test.txt\")\n",
        "len(train_samples), len(val_samples), len(test_samples)"
      ],
      "metadata": {
        "colab": {
          "base_uri": "https://localhost:8080/"
        },
        "id": "dIZB3wGxTG6p",
        "outputId": "8c0848fa-1336-4f16-f126-7a59cf63ab13"
      },
      "execution_count": 11,
      "outputs": [
        {
          "output_type": "stream",
          "name": "stdout",
          "text": [
            "CPU times: user 826 ms, sys: 153 ms, total: 979 ms\n",
            "Wall time: 1.28 s\n"
          ]
        },
        {
          "output_type": "execute_result",
          "data": {
            "text/plain": [
              "(180040, 30212, 30135)"
            ]
          },
          "metadata": {},
          "execution_count": 11
        }
      ]
    },
    {
      "cell_type": "code",
      "source": [
        "train_samples[:10]"
      ],
      "metadata": {
        "colab": {
          "base_uri": "https://localhost:8080/"
        },
        "id": "dX2RZFnCTLS6",
        "outputId": "8f9cc21d-8a97-4cbf-fb31-20a91c3a5042"
      },
      "execution_count": 12,
      "outputs": [
        {
          "output_type": "execute_result",
          "data": {
            "text/plain": [
              "[{'target': 'OBJECTIVE',\n",
              "  'text': 'to investigate the efficacy of @ weeks of daily low-dose oral prednisolone in improving pain , mobility , and systemic low-grade inflammation in the short term and whether the effect would be sustained at @ weeks in older adults with moderate to severe knee osteoarthritis ( oa ) .',\n",
              "  'line_number': 0,\n",
              "  'total_lines': 11},\n",
              " {'target': 'METHODS',\n",
              "  'text': 'a total of @ patients with primary knee oa were randomized @:@ ; @ received @ mg/day of prednisolone and @ received placebo for @ weeks .',\n",
              "  'line_number': 1,\n",
              "  'total_lines': 11},\n",
              " {'target': 'METHODS',\n",
              "  'text': 'outcome measures included pain reduction and improvement in function scores and systemic inflammation markers .',\n",
              "  'line_number': 2,\n",
              "  'total_lines': 11},\n",
              " {'target': 'METHODS',\n",
              "  'text': 'pain was assessed using the visual analog pain scale ( @-@ mm ) .',\n",
              "  'line_number': 3,\n",
              "  'total_lines': 11},\n",
              " {'target': 'METHODS',\n",
              "  'text': 'secondary outcome measures included the western ontario and mcmaster universities osteoarthritis index scores , patient global assessment ( pga ) of the severity of knee oa , and @-min walk distance ( @mwd ) .',\n",
              "  'line_number': 4,\n",
              "  'total_lines': 11},\n",
              " {'target': 'METHODS',\n",
              "  'text': 'serum levels of interleukin @ ( il-@ ) , il-@ , tumor necrosis factor ( tnf ) - , and high-sensitivity c-reactive protein ( hscrp ) were measured .',\n",
              "  'line_number': 5,\n",
              "  'total_lines': 11},\n",
              " {'target': 'RESULTS',\n",
              "  'text': 'there was a clinically relevant reduction in the intervention group compared to the placebo group for knee pain , physical function , pga , and @mwd at @ weeks .',\n",
              "  'line_number': 6,\n",
              "  'total_lines': 11},\n",
              " {'target': 'RESULTS',\n",
              "  'text': 'the mean difference between treatment arms ( @ % ci ) was @ ( @-@ @ ) , p < @ ; @ ( @-@ @ ) , p < @ ; @ ( @-@ @ ) , p < @ ; and @ ( @-@ @ ) , p < @ , respectively .',\n",
              "  'line_number': 7,\n",
              "  'total_lines': 11},\n",
              " {'target': 'RESULTS',\n",
              "  'text': 'further , there was a clinically relevant reduction in the serum levels of il-@ , il-@ , tnf - , and hscrp at @ weeks in the intervention group when compared to the placebo group .',\n",
              "  'line_number': 8,\n",
              "  'total_lines': 11},\n",
              " {'target': 'RESULTS',\n",
              "  'text': 'these differences remained significant at @ weeks .',\n",
              "  'line_number': 9,\n",
              "  'total_lines': 11}]"
            ]
          },
          "metadata": {},
          "execution_count": 12
        }
      ]
    },
    {
      "cell_type": "markdown",
      "source": [
        "Purrfect"
      ],
      "metadata": {
        "id": "EVYNzShOUVVB"
      }
    },
    {
      "cell_type": "code",
      "source": [
        "import pandas as pd\n",
        "train_df = pd.DataFrame(train_samples)\n",
        "val_df = pd.DataFrame(val_samples)\n",
        "test_df = pd.DataFrame(test_samples)\n",
        "train_df.head(15)"
      ],
      "metadata": {
        "colab": {
          "base_uri": "https://localhost:8080/",
          "height": 780
        },
        "id": "l3Wrjqh2UYZb",
        "outputId": "00faca8c-3d06-47fe-ff26-256983a1ad5a"
      },
      "execution_count": 13,
      "outputs": [
        {
          "output_type": "execute_result",
          "data": {
            "text/plain": [
              "         target                                               text  \\\n",
              "0     OBJECTIVE  to investigate the efficacy of @ weeks of dail...   \n",
              "1       METHODS  a total of @ patients with primary knee oa wer...   \n",
              "2       METHODS  outcome measures included pain reduction and i...   \n",
              "3       METHODS  pain was assessed using the visual analog pain...   \n",
              "4       METHODS  secondary outcome measures included the wester...   \n",
              "5       METHODS  serum levels of interleukin @ ( il-@ ) , il-@ ...   \n",
              "6       RESULTS  there was a clinically relevant reduction in t...   \n",
              "7       RESULTS  the mean difference between treatment arms ( @...   \n",
              "8       RESULTS  further , there was a clinically relevant redu...   \n",
              "9       RESULTS  these differences remained significant at @ we...   \n",
              "10      RESULTS  the outcome measures in rheumatology clinical ...   \n",
              "11  CONCLUSIONS  low-dose oral prednisolone had both a short-te...   \n",
              "12   BACKGROUND  emotional eating is associated with overeating...   \n",
              "13   BACKGROUND  yet , empirical evidence for individual ( trai...   \n",
              "14    OBJECTIVE  the aim of this study was to test if attention...   \n",
              "\n",
              "    line_number  total_lines  \n",
              "0             0           11  \n",
              "1             1           11  \n",
              "2             2           11  \n",
              "3             3           11  \n",
              "4             4           11  \n",
              "5             5           11  \n",
              "6             6           11  \n",
              "7             7           11  \n",
              "8             8           11  \n",
              "9             9           11  \n",
              "10           10           11  \n",
              "11           11           11  \n",
              "12            0           10  \n",
              "13            1           10  \n",
              "14            2           10  "
            ],
            "text/html": [
              "\n",
              "  <div id=\"df-edabbbff-5dd4-49f0-926a-beb533092cd2\" class=\"colab-df-container\">\n",
              "    <div>\n",
              "<style scoped>\n",
              "    .dataframe tbody tr th:only-of-type {\n",
              "        vertical-align: middle;\n",
              "    }\n",
              "\n",
              "    .dataframe tbody tr th {\n",
              "        vertical-align: top;\n",
              "    }\n",
              "\n",
              "    .dataframe thead th {\n",
              "        text-align: right;\n",
              "    }\n",
              "</style>\n",
              "<table border=\"1\" class=\"dataframe\">\n",
              "  <thead>\n",
              "    <tr style=\"text-align: right;\">\n",
              "      <th></th>\n",
              "      <th>target</th>\n",
              "      <th>text</th>\n",
              "      <th>line_number</th>\n",
              "      <th>total_lines</th>\n",
              "    </tr>\n",
              "  </thead>\n",
              "  <tbody>\n",
              "    <tr>\n",
              "      <th>0</th>\n",
              "      <td>OBJECTIVE</td>\n",
              "      <td>to investigate the efficacy of @ weeks of dail...</td>\n",
              "      <td>0</td>\n",
              "      <td>11</td>\n",
              "    </tr>\n",
              "    <tr>\n",
              "      <th>1</th>\n",
              "      <td>METHODS</td>\n",
              "      <td>a total of @ patients with primary knee oa wer...</td>\n",
              "      <td>1</td>\n",
              "      <td>11</td>\n",
              "    </tr>\n",
              "    <tr>\n",
              "      <th>2</th>\n",
              "      <td>METHODS</td>\n",
              "      <td>outcome measures included pain reduction and i...</td>\n",
              "      <td>2</td>\n",
              "      <td>11</td>\n",
              "    </tr>\n",
              "    <tr>\n",
              "      <th>3</th>\n",
              "      <td>METHODS</td>\n",
              "      <td>pain was assessed using the visual analog pain...</td>\n",
              "      <td>3</td>\n",
              "      <td>11</td>\n",
              "    </tr>\n",
              "    <tr>\n",
              "      <th>4</th>\n",
              "      <td>METHODS</td>\n",
              "      <td>secondary outcome measures included the wester...</td>\n",
              "      <td>4</td>\n",
              "      <td>11</td>\n",
              "    </tr>\n",
              "    <tr>\n",
              "      <th>5</th>\n",
              "      <td>METHODS</td>\n",
              "      <td>serum levels of interleukin @ ( il-@ ) , il-@ ...</td>\n",
              "      <td>5</td>\n",
              "      <td>11</td>\n",
              "    </tr>\n",
              "    <tr>\n",
              "      <th>6</th>\n",
              "      <td>RESULTS</td>\n",
              "      <td>there was a clinically relevant reduction in t...</td>\n",
              "      <td>6</td>\n",
              "      <td>11</td>\n",
              "    </tr>\n",
              "    <tr>\n",
              "      <th>7</th>\n",
              "      <td>RESULTS</td>\n",
              "      <td>the mean difference between treatment arms ( @...</td>\n",
              "      <td>7</td>\n",
              "      <td>11</td>\n",
              "    </tr>\n",
              "    <tr>\n",
              "      <th>8</th>\n",
              "      <td>RESULTS</td>\n",
              "      <td>further , there was a clinically relevant redu...</td>\n",
              "      <td>8</td>\n",
              "      <td>11</td>\n",
              "    </tr>\n",
              "    <tr>\n",
              "      <th>9</th>\n",
              "      <td>RESULTS</td>\n",
              "      <td>these differences remained significant at @ we...</td>\n",
              "      <td>9</td>\n",
              "      <td>11</td>\n",
              "    </tr>\n",
              "    <tr>\n",
              "      <th>10</th>\n",
              "      <td>RESULTS</td>\n",
              "      <td>the outcome measures in rheumatology clinical ...</td>\n",
              "      <td>10</td>\n",
              "      <td>11</td>\n",
              "    </tr>\n",
              "    <tr>\n",
              "      <th>11</th>\n",
              "      <td>CONCLUSIONS</td>\n",
              "      <td>low-dose oral prednisolone had both a short-te...</td>\n",
              "      <td>11</td>\n",
              "      <td>11</td>\n",
              "    </tr>\n",
              "    <tr>\n",
              "      <th>12</th>\n",
              "      <td>BACKGROUND</td>\n",
              "      <td>emotional eating is associated with overeating...</td>\n",
              "      <td>0</td>\n",
              "      <td>10</td>\n",
              "    </tr>\n",
              "    <tr>\n",
              "      <th>13</th>\n",
              "      <td>BACKGROUND</td>\n",
              "      <td>yet , empirical evidence for individual ( trai...</td>\n",
              "      <td>1</td>\n",
              "      <td>10</td>\n",
              "    </tr>\n",
              "    <tr>\n",
              "      <th>14</th>\n",
              "      <td>OBJECTIVE</td>\n",
              "      <td>the aim of this study was to test if attention...</td>\n",
              "      <td>2</td>\n",
              "      <td>10</td>\n",
              "    </tr>\n",
              "  </tbody>\n",
              "</table>\n",
              "</div>\n",
              "    <div class=\"colab-df-buttons\">\n",
              "\n",
              "  <div class=\"colab-df-container\">\n",
              "    <button class=\"colab-df-convert\" onclick=\"convertToInteractive('df-edabbbff-5dd4-49f0-926a-beb533092cd2')\"\n",
              "            title=\"Convert this dataframe to an interactive table.\"\n",
              "            style=\"display:none;\">\n",
              "\n",
              "  <svg xmlns=\"http://www.w3.org/2000/svg\" height=\"24px\" viewBox=\"0 -960 960 960\">\n",
              "    <path d=\"M120-120v-720h720v720H120Zm60-500h600v-160H180v160Zm220 220h160v-160H400v160Zm0 220h160v-160H400v160ZM180-400h160v-160H180v160Zm440 0h160v-160H620v160ZM180-180h160v-160H180v160Zm440 0h160v-160H620v160Z\"/>\n",
              "  </svg>\n",
              "    </button>\n",
              "\n",
              "  <style>\n",
              "    .colab-df-container {\n",
              "      display:flex;\n",
              "      gap: 12px;\n",
              "    }\n",
              "\n",
              "    .colab-df-convert {\n",
              "      background-color: #E8F0FE;\n",
              "      border: none;\n",
              "      border-radius: 50%;\n",
              "      cursor: pointer;\n",
              "      display: none;\n",
              "      fill: #1967D2;\n",
              "      height: 32px;\n",
              "      padding: 0 0 0 0;\n",
              "      width: 32px;\n",
              "    }\n",
              "\n",
              "    .colab-df-convert:hover {\n",
              "      background-color: #E2EBFA;\n",
              "      box-shadow: 0px 1px 2px rgba(60, 64, 67, 0.3), 0px 1px 3px 1px rgba(60, 64, 67, 0.15);\n",
              "      fill: #174EA6;\n",
              "    }\n",
              "\n",
              "    .colab-df-buttons div {\n",
              "      margin-bottom: 4px;\n",
              "    }\n",
              "\n",
              "    [theme=dark] .colab-df-convert {\n",
              "      background-color: #3B4455;\n",
              "      fill: #D2E3FC;\n",
              "    }\n",
              "\n",
              "    [theme=dark] .colab-df-convert:hover {\n",
              "      background-color: #434B5C;\n",
              "      box-shadow: 0px 1px 3px 1px rgba(0, 0, 0, 0.15);\n",
              "      filter: drop-shadow(0px 1px 2px rgba(0, 0, 0, 0.3));\n",
              "      fill: #FFFFFF;\n",
              "    }\n",
              "  </style>\n",
              "\n",
              "    <script>\n",
              "      const buttonEl =\n",
              "        document.querySelector('#df-edabbbff-5dd4-49f0-926a-beb533092cd2 button.colab-df-convert');\n",
              "      buttonEl.style.display =\n",
              "        google.colab.kernel.accessAllowed ? 'block' : 'none';\n",
              "\n",
              "      async function convertToInteractive(key) {\n",
              "        const element = document.querySelector('#df-edabbbff-5dd4-49f0-926a-beb533092cd2');\n",
              "        const dataTable =\n",
              "          await google.colab.kernel.invokeFunction('convertToInteractive',\n",
              "                                                    [key], {});\n",
              "        if (!dataTable) return;\n",
              "\n",
              "        const docLinkHtml = 'Like what you see? Visit the ' +\n",
              "          '<a target=\"_blank\" href=https://colab.research.google.com/notebooks/data_table.ipynb>data table notebook</a>'\n",
              "          + ' to learn more about interactive tables.';\n",
              "        element.innerHTML = '';\n",
              "        dataTable['output_type'] = 'display_data';\n",
              "        await google.colab.output.renderOutput(dataTable, element);\n",
              "        const docLink = document.createElement('div');\n",
              "        docLink.innerHTML = docLinkHtml;\n",
              "        element.appendChild(docLink);\n",
              "      }\n",
              "    </script>\n",
              "  </div>\n",
              "\n",
              "\n",
              "<div id=\"df-82329844-0f67-40a1-8ccf-654d62a63d98\">\n",
              "  <button class=\"colab-df-quickchart\" onclick=\"quickchart('df-82329844-0f67-40a1-8ccf-654d62a63d98')\"\n",
              "            title=\"Suggest charts\"\n",
              "            style=\"display:none;\">\n",
              "\n",
              "<svg xmlns=\"http://www.w3.org/2000/svg\" height=\"24px\"viewBox=\"0 0 24 24\"\n",
              "     width=\"24px\">\n",
              "    <g>\n",
              "        <path d=\"M19 3H5c-1.1 0-2 .9-2 2v14c0 1.1.9 2 2 2h14c1.1 0 2-.9 2-2V5c0-1.1-.9-2-2-2zM9 17H7v-7h2v7zm4 0h-2V7h2v10zm4 0h-2v-4h2v4z\"/>\n",
              "    </g>\n",
              "</svg>\n",
              "  </button>\n",
              "\n",
              "<style>\n",
              "  .colab-df-quickchart {\n",
              "      --bg-color: #E8F0FE;\n",
              "      --fill-color: #1967D2;\n",
              "      --hover-bg-color: #E2EBFA;\n",
              "      --hover-fill-color: #174EA6;\n",
              "      --disabled-fill-color: #AAA;\n",
              "      --disabled-bg-color: #DDD;\n",
              "  }\n",
              "\n",
              "  [theme=dark] .colab-df-quickchart {\n",
              "      --bg-color: #3B4455;\n",
              "      --fill-color: #D2E3FC;\n",
              "      --hover-bg-color: #434B5C;\n",
              "      --hover-fill-color: #FFFFFF;\n",
              "      --disabled-bg-color: #3B4455;\n",
              "      --disabled-fill-color: #666;\n",
              "  }\n",
              "\n",
              "  .colab-df-quickchart {\n",
              "    background-color: var(--bg-color);\n",
              "    border: none;\n",
              "    border-radius: 50%;\n",
              "    cursor: pointer;\n",
              "    display: none;\n",
              "    fill: var(--fill-color);\n",
              "    height: 32px;\n",
              "    padding: 0;\n",
              "    width: 32px;\n",
              "  }\n",
              "\n",
              "  .colab-df-quickchart:hover {\n",
              "    background-color: var(--hover-bg-color);\n",
              "    box-shadow: 0 1px 2px rgba(60, 64, 67, 0.3), 0 1px 3px 1px rgba(60, 64, 67, 0.15);\n",
              "    fill: var(--button-hover-fill-color);\n",
              "  }\n",
              "\n",
              "  .colab-df-quickchart-complete:disabled,\n",
              "  .colab-df-quickchart-complete:disabled:hover {\n",
              "    background-color: var(--disabled-bg-color);\n",
              "    fill: var(--disabled-fill-color);\n",
              "    box-shadow: none;\n",
              "  }\n",
              "\n",
              "  .colab-df-spinner {\n",
              "    border: 2px solid var(--fill-color);\n",
              "    border-color: transparent;\n",
              "    border-bottom-color: var(--fill-color);\n",
              "    animation:\n",
              "      spin 1s steps(1) infinite;\n",
              "  }\n",
              "\n",
              "  @keyframes spin {\n",
              "    0% {\n",
              "      border-color: transparent;\n",
              "      border-bottom-color: var(--fill-color);\n",
              "      border-left-color: var(--fill-color);\n",
              "    }\n",
              "    20% {\n",
              "      border-color: transparent;\n",
              "      border-left-color: var(--fill-color);\n",
              "      border-top-color: var(--fill-color);\n",
              "    }\n",
              "    30% {\n",
              "      border-color: transparent;\n",
              "      border-left-color: var(--fill-color);\n",
              "      border-top-color: var(--fill-color);\n",
              "      border-right-color: var(--fill-color);\n",
              "    }\n",
              "    40% {\n",
              "      border-color: transparent;\n",
              "      border-right-color: var(--fill-color);\n",
              "      border-top-color: var(--fill-color);\n",
              "    }\n",
              "    60% {\n",
              "      border-color: transparent;\n",
              "      border-right-color: var(--fill-color);\n",
              "    }\n",
              "    80% {\n",
              "      border-color: transparent;\n",
              "      border-right-color: var(--fill-color);\n",
              "      border-bottom-color: var(--fill-color);\n",
              "    }\n",
              "    90% {\n",
              "      border-color: transparent;\n",
              "      border-bottom-color: var(--fill-color);\n",
              "    }\n",
              "  }\n",
              "</style>\n",
              "\n",
              "  <script>\n",
              "    async function quickchart(key) {\n",
              "      const quickchartButtonEl =\n",
              "        document.querySelector('#' + key + ' button');\n",
              "      quickchartButtonEl.disabled = true;  // To prevent multiple clicks.\n",
              "      quickchartButtonEl.classList.add('colab-df-spinner');\n",
              "      try {\n",
              "        const charts = await google.colab.kernel.invokeFunction(\n",
              "            'suggestCharts', [key], {});\n",
              "      } catch (error) {\n",
              "        console.error('Error during call to suggestCharts:', error);\n",
              "      }\n",
              "      quickchartButtonEl.classList.remove('colab-df-spinner');\n",
              "      quickchartButtonEl.classList.add('colab-df-quickchart-complete');\n",
              "    }\n",
              "    (() => {\n",
              "      let quickchartButtonEl =\n",
              "        document.querySelector('#df-82329844-0f67-40a1-8ccf-654d62a63d98 button');\n",
              "      quickchartButtonEl.style.display =\n",
              "        google.colab.kernel.accessAllowed ? 'block' : 'none';\n",
              "    })();\n",
              "  </script>\n",
              "</div>\n",
              "\n",
              "    </div>\n",
              "  </div>\n"
            ],
            "application/vnd.google.colaboratory.intrinsic+json": {
              "type": "dataframe",
              "variable_name": "train_df"
            }
          },
          "metadata": {},
          "execution_count": 13
        }
      ]
    },
    {
      "cell_type": "code",
      "source": [
        "train_df.target.value_counts()"
      ],
      "metadata": {
        "colab": {
          "base_uri": "https://localhost:8080/"
        },
        "id": "4Oyg22NQUdZF",
        "outputId": "f78640f4-8e34-4eed-8b38-8a63effd86da"
      },
      "execution_count": 14,
      "outputs": [
        {
          "output_type": "execute_result",
          "data": {
            "text/plain": [
              "target\n",
              "METHODS        59353\n",
              "RESULTS        57953\n",
              "CONCLUSIONS    27168\n",
              "BACKGROUND     21727\n",
              "OBJECTIVE      13839\n",
              "Name: count, dtype: int64"
            ]
          },
          "metadata": {},
          "execution_count": 14
        }
      ]
    },
    {
      "cell_type": "code",
      "source": [
        "train_df.total_lines.plot.hist()"
      ],
      "metadata": {
        "colab": {
          "base_uri": "https://localhost:8080/",
          "height": 448
        },
        "id": "v0Cx6E4tUiOE",
        "outputId": "442e0b34-dec8-460f-99b2-0a1ee7644bd9"
      },
      "execution_count": 15,
      "outputs": [
        {
          "output_type": "execute_result",
          "data": {
            "text/plain": [
              "<Axes: ylabel='Frequency'>"
            ]
          },
          "metadata": {},
          "execution_count": 15
        },
        {
          "output_type": "display_data",
          "data": {
            "text/plain": [
              "<Figure size 640x480 with 1 Axes>"
            ],
            "image/png": "[encoded data removed]"
          },
          "metadata": {}
        }
      ]
    },
    {
      "cell_type": "markdown",
      "source": [
        "### Get list of sentences\n",
        "\n",
        "When we build our deep learning model, one of its main inputs will be a list of strings (the lines of an abstract).\n",
        "\n",
        "We can get these easily from our DataFrames by calling the tolist() method on our \"text\" columns."
      ],
      "metadata": {
        "id": "qMaI2cnxUn4F"
      }
    },
    {
      "cell_type": "code",
      "source": [
        "train_sentences = train_df[\"text\"].tolist()\n",
        "val_sentences = val_df[\"text\"].tolist()\n",
        "test_sentences = test_df[\"text\"].tolist()\n",
        "len(train_sentences), len(val_sentences), len(test_sentences)"
      ],
      "metadata": {
        "colab": {
          "base_uri": "https://localhost:8080/"
        },
        "id": "lSxOSkfsVDKA",
        "outputId": "769cec4d-48f8-4230-943a-7294854745cc"
      },
      "execution_count": 16,
      "outputs": [
        {
          "output_type": "execute_result",
          "data": {
            "text/plain": [
              "(180040, 30212, 30135)"
            ]
          },
          "metadata": {},
          "execution_count": 16
        }
      ]
    },
    {
      "cell_type": "code",
      "source": [
        "train_sentences[:1]"
      ],
      "metadata": {
        "colab": {
          "base_uri": "https://localhost:8080/"
        },
        "id": "MAXDujcxVFiW",
        "outputId": "d188be75-be16-4285-a99c-999ee323c20d"
      },
      "execution_count": 17,
      "outputs": [
        {
          "output_type": "execute_result",
          "data": {
            "text/plain": [
              "['to investigate the efficacy of @ weeks of daily low-dose oral prednisolone in improving pain , mobility , and systemic low-grade inflammation in the short term and whether the effect would be sustained at @ weeks in older adults with moderate to severe knee osteoarthritis ( oa ) .']"
            ]
          },
          "metadata": {},
          "execution_count": 17
        }
      ]
    },
    {
      "cell_type": "markdown",
      "source": [
        "### Make numeric labels (ML models require numeric labels)"
      ],
      "metadata": {
        "id": "GUmqzxLoVJn5"
      }
    },
    {
      "cell_type": "markdown",
      "source": [
        "We could get away with just making label encoded labels, however, TensorFlow's CategoricalCrossentropy loss function likes to have one hot encoded labels (this will enable us to use label smoothing later on)."
      ],
      "metadata": {
        "id": "EVDvitmZWaDE"
      }
    },
    {
      "cell_type": "code",
      "source": [
        "# One hot encode labels\n",
        "from sklearn.preprocessing import OneHotEncoder\n",
        "one_hot_encoder = OneHotEncoder(sparse=False)\n",
        "train_labels_one_hot = one_hot_encoder.fit_transform(train_df[\"target\"].to_numpy().reshape(-1, 1))\n",
        "val_labels_one_hot = one_hot_encoder.transform(val_df[\"target\"].to_numpy().reshape(-1, 1))\n",
        "test_labels_one_hot = one_hot_encoder.transform(test_df[\"target\"].to_numpy().reshape(-1, 1))\n",
        "# we had to reshape cuz OHE needs 2D array\n",
        "train_labels_one_hot"
      ],
      "metadata": {
        "colab": {
          "base_uri": "https://localhost:8080/"
        },
        "id": "5SGWxHAEVy6y",
        "outputId": "80f67422-5931-4ab6-9d22-f0a7baf73c4c"
      },
      "execution_count": 18,
      "outputs": [
        {
          "output_type": "stream",
          "name": "stderr",
          "text": [
            "/usr/local/lib/python3.10/dist-packages/sklearn/preprocessing/_encoders.py:868: FutureWarning: `sparse` was renamed to `sparse_output` in version 1.2 and will be removed in 1.4. `sparse_output` is ignored unless you leave `sparse` to its default value.\n",
            "  warnings.warn(\n"
          ]
        },
        {
          "output_type": "execute_result",
          "data": {
            "text/plain": [
              "array([[0., 0., 0., 1., 0.],\n",
              "       [0., 0., 1., 0., 0.],\n",
              "       [0., 0., 1., 0., 0.],\n",
              "       ...,\n",
              "       [0., 0., 0., 0., 1.],\n",
              "       [0., 1., 0., 0., 0.],\n",
              "       [0., 1., 0., 0., 0.]])"
            ]
          },
          "metadata": {},
          "execution_count": 18
        }
      ]
    },
    {
      "cell_type": "code",
      "source": [
        "# Label encode labels\n",
        "from sklearn.preprocessing import LabelEncoder\n",
        "label_encoder = LabelEncoder()\n",
        "train_labels_encoded = label_encoder.fit_transform(train_df[\"target\"].to_numpy())\n",
        "val_labels_encoded = label_encoder.transform(val_df[\"target\"].to_numpy())\n",
        "test_labels_encoded = label_encoder.transform(test_df[\"target\"].to_numpy())\n",
        "\n",
        "train_labels_encoded"
      ],
      "metadata": {
        "colab": {
          "base_uri": "https://localhost:8080/"
        },
        "id": "cObhJsd7WKBP",
        "outputId": "b78ce3d5-ba64-4e3b-d1f5-70726804eba8"
      },
      "execution_count": 19,
      "outputs": [
        {
          "output_type": "execute_result",
          "data": {
            "text/plain": [
              "array([3, 2, 2, ..., 4, 1, 1])"
            ]
          },
          "metadata": {},
          "execution_count": 19
        }
      ]
    },
    {
      "cell_type": "code",
      "source": [
        "num_classes = len(label_encoder.classes_)\n",
        "class_names = label_encoder.classes_"
      ],
      "metadata": {
        "id": "QlxqgwGDWhn8"
      },
      "execution_count": 20,
      "outputs": []
    },
    {
      "cell_type": "code",
      "source": [
        "num_classes, class_names"
      ],
      "metadata": {
        "colab": {
          "base_uri": "https://localhost:8080/"
        },
        "id": "RZsb8jXAWmn0",
        "outputId": "de293bab-579a-41d4-da38-cb44af1e579b"
      },
      "execution_count": 21,
      "outputs": [
        {
          "output_type": "execute_result",
          "data": {
            "text/plain": [
              "(5,\n",
              " array(['BACKGROUND', 'CONCLUSIONS', 'METHODS', 'OBJECTIVE', 'RESULTS'],\n",
              "       dtype=object))"
            ]
          },
          "metadata": {},
          "execution_count": 21
        }
      ]
    },
    {
      "cell_type": "markdown",
      "source": [
        "# **Modelling 🔥🔥🔥🔥**\n",
        "\n",
        "We'll start by creating a simple baseline model to obtain a score we'll try to beat by building more and more complex models as we move towards replicating the sequence model outlined in Neural networks for joint sentence classification in medical paper abstracts."
      ],
      "metadata": {
        "id": "DLVzy6hDWs8z"
      }
    },
    {
      "cell_type": "markdown",
      "source": [
        "## **Model 0:** Baseline ML Model"
      ],
      "metadata": {
        "id": "rh2j5uEJWy2b"
      }
    },
    {
      "cell_type": "code",
      "source": [
        "from sklearn.feature_extraction.text import TfidfVectorizer\n",
        "from sklearn.naive_bayes import MultinomialNB\n",
        "from sklearn.pipeline import Pipeline\n",
        "\n",
        "model_0 = Pipeline([\n",
        "    (\"tf-idf\", TfidfVectorizer()),\n",
        "    (\"clf\", MultinomialNB())\n",
        "])\n",
        "\n",
        "model_0.fit(X=train_sentences, y = train_labels_encoded)"
      ],
      "metadata": {
        "colab": {
          "base_uri": "https://localhost:8080/",
          "height": 125
        },
        "id": "aTdPvEo1W-1g",
        "outputId": "1c876e69-fd91-4bd7-e4af-2a5781928876"
      },
      "execution_count": 22,
      "outputs": [
        {
          "output_type": "execute_result",
          "data": {
            "text/plain": [
              "Pipeline(steps=[('tf-idf', TfidfVectorizer()), ('clf', MultinomialNB())])"
            ],
            "text/html": [
              "<style>#sk-container-id-1 {color: black;background-color: white;}#sk-container-id-1 pre{padding: 0;}#sk-container-id-1 div.sk-toggleable {background-color: white;}#sk-container-id-1 label.sk-toggleable__label {cursor: pointer;display: block;width: 100%;margin-bottom: 0;padding: 0.3em;box-sizing: border-box;text-align: center;}#sk-container-id-1 label.sk-toggleable__label-arrow:before {content: \"▸\";float: left;margin-right: 0.25em;color: #696969;}#sk-container-id-1 label.sk-toggleable__label-arrow:hover:before {color: black;}#sk-container-id-1 div.sk-estimator:hover label.sk-toggleable__label-arrow:before {color: black;}#sk-container-id-1 div.sk-toggleable__content {max-height: 0;max-width: 0;overflow: hidden;text-align: left;background-color: #f0f8ff;}#sk-container-id-1 div.sk-toggleable__content pre {margin: 0.2em;color: black;border-radius: 0.25em;background-color: #f0f8ff;}#sk-container-id-1 input.sk-toggleable__control:checked~div.sk-toggleable__content {max-height: 200px;max-width: 100%;overflow: auto;}#sk-container-id-1 input.sk-toggleable__control:checked~label.sk-toggleable__label-arrow:before {content: \"▾\";}#sk-container-id-1 div.sk-estimator input.sk-toggleable__control:checked~label.sk-toggleable__label {background-color: #d4ebff;}#sk-container-id-1 div.sk-label input.sk-toggleable__control:checked~label.sk-toggleable__label {background-color: #d4ebff;}#sk-container-id-1 input.sk-hidden--visually {border: 0;clip: rect(1px 1px 1px 1px);clip: rect(1px, 1px, 1px, 1px);height: 1px;margin: -1px;overflow: hidden;padding: 0;position: absolute;width: 1px;}#sk-container-id-1 div.sk-estimator {font-family: monospace;background-color: #f0f8ff;border: 1px dotted black;border-radius: 0.25em;box-sizing: border-box;margin-bottom: 0.5em;}#sk-container-id-1 div.sk-estimator:hover {background-color: #d4ebff;}#sk-container-id-1 div.sk-parallel-item::after {content: \"\";width: 100%;border-bottom: 1px solid gray;flex-grow: 1;}#sk-container-id-1 div.sk-label:hover label.sk-toggleable__label {background-color: #d4ebff;}#sk-container-id-1 div.sk-serial::before {content: \"\";position: absolute;border-left: 1px solid gray;box-sizing: border-box;top: 0;bottom: 0;left: 50%;z-index: 0;}#sk-container-id-1 div.sk-serial {display: flex;flex-direction: column;align-items: center;background-color: white;padding-right: 0.2em;padding-left: 0.2em;position: relative;}#sk-container-id-1 div.sk-item {position: relative;z-index: 1;}#sk-container-id-1 div.sk-parallel {display: flex;align-items: stretch;justify-content: center;background-color: white;position: relative;}#sk-container-id-1 div.sk-item::before, #sk-container-id-1 div.sk-parallel-item::before {content: \"\";position: absolute;border-left: 1px solid gray;box-sizing: border-box;top: 0;bottom: 0;left: 50%;z-index: -1;}#sk-container-id-1 div.sk-parallel-item {display: flex;flex-direction: column;z-index: 1;position: relative;background-color: white;}#sk-container-id-1 div.sk-parallel-item:first-child::after {align-self: flex-end;width: 50%;}#sk-container-id-1 div.sk-parallel-item:last-child::after {align-self: flex-start;width: 50%;}#sk-container-id-1 div.sk-parallel-item:only-child::after {width: 0;}#sk-container-id-1 div.sk-dashed-wrapped {border: 1px dashed gray;margin: 0 0.4em 0.5em 0.4em;box-sizing: border-box;padding-bottom: 0.4em;background-color: white;}#sk-container-id-1 div.sk-label label {font-family: monospace;font-weight: bold;display: inline-block;line-height: 1.2em;}#sk-container-id-1 div.sk-label-container {text-align: center;}#sk-container-id-1 div.sk-container {/* jupyter's `normalize.less` sets `[hidden] { display: none; }` but bootstrap.min.css set `[hidden] { display: none !important; }` so we also need the `!important` here to be able to override the default hidden behavior on the sphinx rendered scikit-learn.org. See: https://github.com/scikit-learn/scikit-learn/issues/21755 */display: inline-block !important;position: relative;}#sk-container-id-1 div.sk-text-repr-fallback {display: none;}</style><div id=\"sk-container-id-1\" class=\"sk-top-container\"><div class=\"sk-text-repr-fallback\"><pre>Pipeline(steps=[(&#x27;tf-idf&#x27;, TfidfVectorizer()), (&#x27;clf&#x27;, MultinomialNB())])</pre><b>In a Jupyter environment, please rerun this cell to show the HTML representation or trust the notebook. <br />On GitHub, the HTML representation is unable to render, please try loading this page with nbviewer.org.</b></div><div class=\"sk-container\" hidden><div class=\"sk-item sk-dashed-wrapped\"><div class=\"sk-label-container\"><div class=\"sk-label sk-toggleable\"><input class=\"sk-toggleable__control sk-hidden--visually\" id=\"sk-estimator-id-1\" type=\"checkbox\" ><label for=\"sk-estimator-id-1\" class=\"sk-toggleable__label sk-toggleable__label-arrow\">Pipeline</label><div class=\"sk-toggleable__content\"><pre>Pipeline(steps=[(&#x27;tf-idf&#x27;, TfidfVectorizer()), (&#x27;clf&#x27;, MultinomialNB())])</pre></div></div></div><div class=\"sk-serial\"><div class=\"sk-item\"><div class=\"sk-estimator sk-toggleable\"><input class=\"sk-toggleable__control sk-hidden--visually\" id=\"sk-estimator-id-2\" type=\"checkbox\" ><label for=\"sk-estimator-id-2\" class=\"sk-toggleable__label sk-toggleable__label-arrow\">TfidfVectorizer</label><div class=\"sk-toggleable__content\"><pre>TfidfVectorizer()</pre></div></div></div><div class=\"sk-item\"><div class=\"sk-estimator sk-toggleable\"><input class=\"sk-toggleable__control sk-hidden--visually\" id=\"sk-estimator-id-3\" type=\"checkbox\" ><label for=\"sk-estimator-id-3\" class=\"sk-toggleable__label sk-toggleable__label-arrow\">MultinomialNB</label><div class=\"sk-toggleable__content\"><pre>MultinomialNB()</pre></div></div></div></div></div></div></div>"
            ]
          },
          "metadata": {},
          "execution_count": 22
        }
      ]
    },
    {
      "cell_type": "code",
      "source": [
        "model_0.score(X = val_sentences, y  = val_labels_encoded)"
      ],
      "metadata": {
        "colab": {
          "base_uri": "https://localhost:8080/"
        },
        "id": "ylsXZ5uNXiZO",
        "outputId": "a12f8b70-fb9f-4ce1-f54e-fe4a26849ba5"
      },
      "execution_count": 23,
      "outputs": [
        {
          "output_type": "execute_result",
          "data": {
            "text/plain": [
              "0.7218323844829869"
            ]
          },
          "metadata": {},
          "execution_count": 23
        }
      ]
    },
    {
      "cell_type": "code",
      "source": [
        "baseline_preds = model_0.predict(val_sentences)\n",
        "baseline_preds"
      ],
      "metadata": {
        "colab": {
          "base_uri": "https://localhost:8080/"
        },
        "id": "vU2z6BsnYZYW",
        "outputId": "0a1d0832-19e2-4d1c-9745-de5b1a90b267"
      },
      "execution_count": 24,
      "outputs": [
        {
          "output_type": "execute_result",
          "data": {
            "text/plain": [
              "array([4, 1, 3, ..., 4, 4, 1])"
            ]
          },
          "metadata": {},
          "execution_count": 24
        }
      ]
    },
    {
      "cell_type": "markdown",
      "source": [
        "#####Getting helper funtions"
      ],
      "metadata": {
        "id": "xGSLD91cXpz6"
      }
    },
    {
      "cell_type": "code",
      "source": [
        "!wget https://raw.githubusercontent.com/yashfirkedata/NLP-Replicating-PubMed-200k-RCT-Paper/main/helper_functions.py"
      ],
      "metadata": {
        "colab": {
          "base_uri": "https://localhost:8080/"
        },
        "id": "PvD2eWY5YP4n",
        "outputId": "e27a9477-d7fa-4c8a-bfdc-834800b76e90"
      },
      "execution_count": 25,
      "outputs": [
        {
          "output_type": "stream",
          "name": "stdout",
          "text": [
            "--2024-07-11 10:43:07--  https://raw.githubusercontent.com/yashfirkedata/NLP-Replicating-PubMed-200k-RCT-Paper/main/helper_functions.py\n",
            "Resolving raw.githubusercontent.com (raw.githubusercontent.com)... 185.199.108.133, 185.199.109.133, 185.199.110.133, ...\n",
            "Connecting to raw.githubusercontent.com (raw.githubusercontent.com)|185.199.108.133|:443... connected.\n",
            "HTTP request sent, awaiting response... 200 OK\n",
            "Length: 10127 (9.9K) [text/plain]\n",
            "Saving to: ‘helper_functions.py’\n",
            "\n",
            "helper_functions.py 100%[===================>]   9.89K  --.-KB/s    in 0s      \n",
            "\n",
            "2024-07-11 10:43:07 (71.7 MB/s) - ‘helper_functions.py’ saved [10127/10127]\n",
            "\n"
          ]
        }
      ]
    },
    {
      "cell_type": "code",
      "source": [
        "# Import calculate_results helper function\n",
        "from helper_functions import calculate_results\n",
        "baseline_results = calculate_results(y_true=val_labels_encoded,\n",
        "                                     y_pred=baseline_preds)\n",
        "baseline_results"
      ],
      "metadata": {
        "colab": {
          "base_uri": "https://localhost:8080/"
        },
        "id": "LSbBhcQtYSTv",
        "outputId": "21bb4c4c-1f0c-401c-ca3d-871a37708057"
      },
      "execution_count": 26,
      "outputs": [
        {
          "output_type": "execute_result",
          "data": {
            "text/plain": [
              "{'accuracy': 72.1832384482987,\n",
              " 'precision': 0.7186466952323352,\n",
              " 'recall': 0.7218323844829869,\n",
              " 'f1': 0.6989250353450294}"
            ]
          },
          "metadata": {},
          "execution_count": 26
        }
      ]
    },
    {
      "cell_type": "markdown",
      "source": [
        "Lets keep in mind\n",
        "\n",
        "**Baseline Accuracy: 72.18**"
      ],
      "metadata": {
        "id": "XtPgxatqYVyJ"
      }
    },
    {
      "cell_type": "markdown",
      "source": [
        "## Data Preprocessing for Deep Learning Models"
      ],
      "metadata": {
        "id": "dQ4iM7GhYpvL"
      }
    },
    {
      "cell_type": "markdown",
      "source": [
        "We need to create vectorization and embeddings and create data using tf.data API for faster processing"
      ],
      "metadata": {
        "id": "w3Cw-2XvYvsu"
      }
    },
    {
      "cell_type": "code",
      "source": [
        "import numpy as np\n",
        "import pandas as pd\n",
        "from tensorflow.keras import layers"
      ],
      "metadata": {
        "id": "VXJLqCdKY8Np"
      },
      "execution_count": 27,
      "outputs": []
    },
    {
      "cell_type": "markdown",
      "source": [
        "We need to pad all sentences to one length in order to send to modelling"
      ],
      "metadata": {
        "id": "8aO0r5F2gC9K"
      }
    },
    {
      "cell_type": "code",
      "source": [
        "sent_lens = [len(sentence.split()) for sentence in train_sentences]\n",
        "avg_sent_len = np.mean(sent_lens)\n",
        "avg_sent_len"
      ],
      "metadata": {
        "colab": {
          "base_uri": "https://localhost:8080/"
        },
        "id": "1RKWCFZsgQ_F",
        "outputId": "fe6ef90d-bd24-47a8-fba9-1a5e5bb9014b"
      },
      "execution_count": 28,
      "outputs": [
        {
          "output_type": "execute_result",
          "data": {
            "text/plain": [
              "26.338269273494777"
            ]
          },
          "metadata": {},
          "execution_count": 28
        }
      ]
    },
    {
      "cell_type": "code",
      "source": [
        "import matplotlib.pyplot as plt\n",
        "plt.hist(sent_lens, bins = 7)"
      ],
      "metadata": {
        "colab": {
          "base_uri": "https://localhost:8080/",
          "height": 517
        },
        "id": "XPUFwwrjgaWV",
        "outputId": "c71bc835-722f-4a42-ba21-0647722bc4a5"
      },
      "execution_count": 29,
      "outputs": [
        {
          "output_type": "execute_result",
          "data": {
            "text/plain": [
              "(array([1.5999e+05, 1.8760e+04, 1.1510e+03, 9.9000e+01, 2.8000e+01,\n",
              "        1.0000e+01, 2.0000e+00]),\n",
              " array([  1.        ,  43.14285714,  85.28571429, 127.42857143,\n",
              "        169.57142857, 211.71428571, 253.85714286, 296.        ]),\n",
              " <BarContainer object of 7 artists>)"
            ]
          },
          "metadata": {},
          "execution_count": 29
        },
        {
          "output_type": "display_data",
          "data": {
            "text/plain": [
              "<Figure size 640x480 with 1 Axes>"
            ],
            "image/png": "[encoded data removed]"
          },
          "metadata": {}
        }
      ]
    },
    {
      "cell_type": "markdown",
      "source": [
        "Looks like majority sentences are between 0 and 50 in length.\n",
        "\n",
        "We can check the 95th percentile of sentence lengths."
      ],
      "metadata": {
        "id": "nH4STorMjy8z"
      }
    },
    {
      "cell_type": "code",
      "source": [
        "output_seq_len = int(np.percentile(sent_lens,95))\n",
        "output_seq_len"
      ],
      "metadata": {
        "colab": {
          "base_uri": "https://localhost:8080/"
        },
        "id": "orozifITkI79",
        "outputId": "c218f54c-463c-41d4-f5d9-076318665880"
      },
      "execution_count": 30,
      "outputs": [
        {
          "output_type": "execute_result",
          "data": {
            "text/plain": [
              "55"
            ]
          },
          "metadata": {},
          "execution_count": 30
        }
      ]
    },
    {
      "cell_type": "markdown",
      "source": [
        "Looks like 55 is the required number of words in sentence so we will pad the sentences less than 55 words with 0 and sentences more than 55 in length will get truncated."
      ],
      "metadata": {
        "id": "OyVgmBtakN6r"
      }
    },
    {
      "cell_type": "code",
      "source": [
        "max(sent_lens)"
      ],
      "metadata": {
        "colab": {
          "base_uri": "https://localhost:8080/"
        },
        "id": "g2vb49QbkjuG",
        "outputId": "a477a3f1-50e0-4228-fb21-ee1b90f5190f"
      },
      "execution_count": 31,
      "outputs": [
        {
          "output_type": "execute_result",
          "data": {
            "text/plain": [
              "296"
            ]
          },
          "metadata": {},
          "execution_count": 31
        }
      ]
    },
    {
      "cell_type": "markdown",
      "source": [
        "### Create text vectorizer"
      ],
      "metadata": {
        "id": "9_3ET-9Bkl4O"
      }
    },
    {
      "cell_type": "markdown",
      "source": [
        "Section 3.2 of the PubMed 200k RCT paper states the vocabulary size of the PubMed 20k dataset as 68,000. So we'll use that as our max_tokens parameter."
      ],
      "metadata": {
        "id": "HMveFFkAolme"
      }
    },
    {
      "cell_type": "code",
      "source": [
        "max_tokens = 68000"
      ],
      "metadata": {
        "id": "mfAnY-VFoxk2"
      },
      "execution_count": 32,
      "outputs": []
    },
    {
      "cell_type": "markdown",
      "source": [
        "And since discovered a sentence length of 55 covers 95% of the training sentences, we'll use that as our output_sequence_length parameter."
      ],
      "metadata": {
        "id": "Msgb-nPJo3Tw"
      }
    },
    {
      "cell_type": "code",
      "source": [
        "from tensorflow.keras.layers import TextVectorization\n",
        "\n",
        "text_vectorizer = TextVectorization(max_tokens = max_tokens,\n",
        "                                    output_sequence_length = 55)"
      ],
      "metadata": {
        "id": "pgQiOrR7o3r3"
      },
      "execution_count": 33,
      "outputs": []
    },
    {
      "cell_type": "code",
      "source": [
        "text_vectorizer.adapt(train_sentences)"
      ],
      "metadata": {
        "id": "I7VC8RAcpK1m"
      },
      "execution_count": 34,
      "outputs": []
    },
    {
      "cell_type": "code",
      "source": [
        "import random\n",
        "target_sentence = random.choice(train_sentences)\n",
        "print(f\"Text: {target_sentence}\")\n",
        "print(f\"\\nLength of text: {len(target_sentence.split())}\")\n",
        "print(f\"\\nVectorized text: {text_vectorizer(target_sentence)}\")"
      ],
      "metadata": {
        "colab": {
          "base_uri": "https://localhost:8080/"
        },
        "id": "R2E962XLpP7p",
        "outputId": "00609208-3e33-4bf5-8d3d-7384e8e13225"
      },
      "execution_count": 35,
      "outputs": [
        {
          "output_type": "stream",
          "name": "stdout",
          "text": [
            "Text: participants with low cathelicidin had a @ ml lower fev@ compared to higher cathelicidin ( p = @ ) ; this relationship was maintained ( @ ml lower ; p = @ ) after adjusting for demographics , bmi , and smoking .\n",
            "\n",
            "Length of text: 43\n",
            "\n",
            "Vectorized text: [  60    7  220 9464   55    8  364  105 1286   34    6   82 9464   14\n",
            "   23  639   10  863  364  105   14   21 1515   11 2349  456    3  425\n",
            "    0    0    0    0    0    0    0    0    0    0    0    0    0    0\n",
            "    0    0    0    0    0    0    0    0    0    0    0    0    0]\n"
          ]
        }
      ]
    },
    {
      "cell_type": "markdown",
      "source": [
        "Exploring our text"
      ],
      "metadata": {
        "id": "Nhm2Zl85plEB"
      }
    },
    {
      "cell_type": "code",
      "source": [
        "rct_20k_text_vocab = text_vectorizer.get_vocabulary()\n",
        "print(f\"Number of words in vocabulary: {len(rct_20k_text_vocab)}\"),\n",
        "print(f\"Most common words in the vocabulary: {rct_20k_text_vocab[:5]}\")\n",
        "print(f\"Least common words in the vocabulary: {rct_20k_text_vocab[-5:]}\")"
      ],
      "metadata": {
        "colab": {
          "base_uri": "https://localhost:8080/"
        },
        "id": "9YY71_l-re3V",
        "outputId": "9b4354d5-a8e6-40dc-9c1d-327fe8bf537d"
      },
      "execution_count": 36,
      "outputs": [
        {
          "output_type": "stream",
          "name": "stdout",
          "text": [
            "Number of words in vocabulary: 64841\n",
            "Most common words in the vocabulary: ['', '[UNK]', 'the', 'and', 'of']\n",
            "Least common words in the vocabulary: ['aainduced', 'aaigroup', 'aachener', 'aachen', 'aaacp']\n"
          ]
        }
      ]
    },
    {
      "cell_type": "code",
      "source": [
        "text_vectorizer.get_config()"
      ],
      "metadata": {
        "colab": {
          "base_uri": "https://localhost:8080/"
        },
        "id": "W3L6VzbNrhlJ",
        "outputId": "3c125d57-7237-48d2-aae8-1d8a65399c4b"
      },
      "execution_count": 37,
      "outputs": [
        {
          "output_type": "execute_result",
          "data": {
            "text/plain": [
              "{'name': 'text_vectorization',\n",
              " 'trainable': True,\n",
              " 'dtype': 'string',\n",
              " 'batch_input_shape': (None,),\n",
              " 'max_tokens': 68000,\n",
              " 'standardize': 'lower_and_strip_punctuation',\n",
              " 'split': 'whitespace',\n",
              " 'ngrams': None,\n",
              " 'output_mode': 'int',\n",
              " 'output_sequence_length': 55,\n",
              " 'pad_to_max_tokens': False,\n",
              " 'sparse': False,\n",
              " 'ragged': False,\n",
              " 'vocabulary': None,\n",
              " 'idf_weights': None,\n",
              " 'encoding': 'utf-8',\n",
              " 'vocabulary_size': 64841}"
            ]
          },
          "metadata": {},
          "execution_count": 37
        }
      ]
    },
    {
      "cell_type": "markdown",
      "source": [
        "### Create custom text embedding"
      ],
      "metadata": {
        "id": "sc8rpuDjr8OX"
      }
    },
    {
      "cell_type": "code",
      "source": [
        "token_embed = layers.Embedding(input_dim = len(rct_20k_text_vocab),\n",
        "                               output_dim = 128,\n",
        "                               mask_zero = True,\n",
        "                               name = \"token_embedding\")"
      ],
      "metadata": {
        "id": "JkThArxYsFJi"
      },
      "execution_count": 38,
      "outputs": []
    },
    {
      "cell_type": "code",
      "source": [
        "print(f\"Sentence before vectorization:\\n{target_sentence}\\n\")\n",
        "vectorized_sentence = text_vectorizer([target_sentence])\n",
        "print(f\"Sentence after vectorization (before embedding):\\n{vectorized_sentence}\\n\")\n",
        "embedded_sentence = token_embed(vectorized_sentence)\n",
        "print(f\"Sentence after embedding:\\n{embedded_sentence}\\n\")\n",
        "print(f\"Embedded sentence shape: {embedded_sentence.shape}\")"
      ],
      "metadata": {
        "colab": {
          "base_uri": "https://localhost:8080/"
        },
        "id": "pMJzGRFxsaSz",
        "outputId": "5bf6122b-a4a6-480d-f096-250f3f003c70"
      },
      "execution_count": 39,
      "outputs": [
        {
          "output_type": "stream",
          "name": "stdout",
          "text": [
            "Sentence before vectorization:\n",
            "participants with low cathelicidin had a @ ml lower fev@ compared to higher cathelicidin ( p = @ ) ; this relationship was maintained ( @ ml lower ; p = @ ) after adjusting for demographics , bmi , and smoking .\n",
            "\n",
            "Sentence after vectorization (before embedding):\n",
            "[[  60    7  220 9464   55    8  364  105 1286   34    6   82 9464   14\n",
            "    23  639   10  863  364  105   14   21 1515   11 2349  456    3  425\n",
            "     0    0    0    0    0    0    0    0    0    0    0    0    0    0\n",
            "     0    0    0    0    0    0    0    0    0    0    0    0    0]]\n",
            "\n",
            "Sentence after embedding:\n",
            "[[[ 0.03344718  0.02629644 -0.01603702 ... -0.01350624 -0.0151275\n",
            "    0.02743176]\n",
            "  [-0.02626109 -0.02218555 -0.0420275  ... -0.01780421  0.02566675\n",
            "   -0.00691532]\n",
            "  [ 0.01114994  0.02248241  0.04944516 ... -0.02065555  0.01165488\n",
            "    0.00298306]\n",
            "  ...\n",
            "  [ 0.02365834 -0.04189745 -0.0386912  ...  0.02934525 -0.02775885\n",
            "    0.0281552 ]\n",
            "  [ 0.02365834 -0.04189745 -0.0386912  ...  0.02934525 -0.02775885\n",
            "    0.0281552 ]\n",
            "  [ 0.02365834 -0.04189745 -0.0386912  ...  0.02934525 -0.02775885\n",
            "    0.0281552 ]]]\n",
            "\n",
            "Embedded sentence shape: (1, 55, 128)\n"
          ]
        }
      ]
    },
    {
      "cell_type": "markdown",
      "source": [
        "### Create datasets (as fast as possible)"
      ],
      "metadata": {
        "id": "nF3eH0XBsbve"
      }
    },
    {
      "cell_type": "markdown",
      "source": [
        "> The tf.data API provides methods which enable faster data loading."
      ],
      "metadata": {
        "id": "iuKpAJADsiNI"
      }
    },
    {
      "cell_type": "markdown",
      "source": [
        "The main steps we'll want to use with our data is to turn it into a PrefetchDataset of batches.\n",
        "\n",
        "To create a batched PrefetchDataset we can use the methods `batch()` and `prefetch()`, the parameter `tf.data.AUTOTUNE` will also allow TensorFlow to determine the optimal amount of compute to use to prepare datasets."
      ],
      "metadata": {
        "id": "CEFwVAs3so3-"
      }
    },
    {
      "cell_type": "code",
      "source": [
        "import tensorflow as tf\n",
        "train_dataset = tf.data.Dataset.from_tensor_slices((train_sentences, train_labels_one_hot))\n",
        "valid_dataset = tf.data.Dataset.from_tensor_slices((val_sentences, val_labels_one_hot))\n",
        "test_dataset = tf.data.Dataset.from_tensor_slices((test_sentences, test_labels_one_hot))\n",
        "\n",
        "train_dataset"
      ],
      "metadata": {
        "colab": {
          "base_uri": "https://localhost:8080/"
        },
        "id": "RQ7aFcQVs-U0",
        "outputId": "3210d6bc-5631-4c21-da59-4fb312a1923f"
      },
      "execution_count": 40,
      "outputs": [
        {
          "output_type": "execute_result",
          "data": {
            "text/plain": [
              "<_TensorSliceDataset element_spec=(TensorSpec(shape=(), dtype=tf.string, name=None), TensorSpec(shape=(5,), dtype=tf.float64, name=None))>"
            ]
          },
          "metadata": {},
          "execution_count": 40
        }
      ]
    },
    {
      "cell_type": "code",
      "source": [
        "# Take the TensorSliceDataset's and turn them into prefetched batches\n",
        "train_dataset = train_dataset.batch(32).prefetch(tf.data.AUTOTUNE)\n",
        "valid_dataset = valid_dataset.batch(32).prefetch(tf.data.AUTOTUNE)\n",
        "test_dataset = test_dataset.batch(32).prefetch(tf.data.AUTOTUNE)\n",
        "\n",
        "train_dataset"
      ],
      "metadata": {
        "colab": {
          "base_uri": "https://localhost:8080/"
        },
        "id": "n32hVuGQtOry",
        "outputId": "23e8f95f-9888-4cec-fe17-0aa69c690571"
      },
      "execution_count": 41,
      "outputs": [
        {
          "output_type": "execute_result",
          "data": {
            "text/plain": [
              "<_PrefetchDataset element_spec=(TensorSpec(shape=(None,), dtype=tf.string, name=None), TensorSpec(shape=(None, 5), dtype=tf.float64, name=None))>"
            ]
          },
          "metadata": {},
          "execution_count": 41
        }
      ]
    },
    {
      "cell_type": "markdown",
      "source": [
        "## **Model 1:** Conv1D with token embeddings"
      ],
      "metadata": {
        "id": "SRuwLSJEtWhD"
      }
    },
    {
      "cell_type": "code",
      "source": [
        "inputs = layers.Input(shape = (1,) , dtype = tf.string)\n",
        "text_vectors = text_vectorizer(inputs)\n",
        "token_embeddings = token_embed(text_vectors)\n",
        "x = layers.Conv1D(64, kernel_size = 5, padding = \"same\", activation = \"relu\")(token_embeddings)\n",
        "x  = layers.GlobalAveragePooling1D()(x)\n",
        "outputs = layers.Dense(num_classes,  activation = \"softmax\")(x)\n",
        "model_1 = tf.keras.Model(inputs,outputs)\n",
        "\n",
        "model_1.compile(loss = \"categorical_crossentropy\",\n",
        "                optimizer = tf.keras.optimizers.Adam(),\n",
        "                metrics = [\"accuracy\"])"
      ],
      "metadata": {
        "id": "fXk8gGsWXPHk"
      },
      "execution_count": 42,
      "outputs": []
    },
    {
      "cell_type": "code",
      "source": [
        "model_1.summary()"
      ],
      "metadata": {
        "colab": {
          "base_uri": "https://localhost:8080/"
        },
        "id": "flNpj3aDYGb1",
        "outputId": "07666828-c979-4524-9553-21e989a4abfc"
      },
      "execution_count": 43,
      "outputs": [
        {
          "output_type": "stream",
          "name": "stdout",
          "text": [
            "Model: \"model\"\n",
            "_________________________________________________________________\n",
            " Layer (type)                Output Shape              Param #   \n",
            "=================================================================\n",
            " input_1 (InputLayer)        [(None, 1)]               0         \n",
            "                                                                 \n",
            " text_vectorization (TextVe  (None, 55)                0         \n",
            " ctorization)                                                    \n",
            "                                                                 \n",
            " token_embedding (Embedding  (None, 55, 128)           8299648   \n",
            " )                                                               \n",
            "                                                                 \n",
            " conv1d (Conv1D)             (None, 55, 64)            41024     \n",
            "                                                                 \n",
            " global_average_pooling1d (  (None, 64)                0         \n",
            " GlobalAveragePooling1D)                                         \n",
            "                                                                 \n",
            " dense (Dense)               (None, 5)                 325       \n",
            "                                                                 \n",
            "=================================================================\n",
            "Total params: 8340997 (31.82 MB)\n",
            "Trainable params: 8340997 (31.82 MB)\n",
            "Non-trainable params: 0 (0.00 Byte)\n",
            "_________________________________________________________________\n"
          ]
        }
      ]
    },
    {
      "cell_type": "code",
      "source": [
        "model_1_history = model_1.fit(train_dataset,\n",
        "                              steps_per_epoch = int(0.1 * len(train_dataset)),\n",
        "                              epochs = 3,\n",
        "                              validation_data = valid_dataset,\n",
        "                              validation_steps = int(0.1*len(valid_dataset)))"
      ],
      "metadata": {
        "colab": {
          "base_uri": "https://localhost:8080/"
        },
        "id": "hL1LQyAvYHn1",
        "outputId": "85db4b7b-ba4b-4690-c9d3-d51abb35b253"
      },
      "execution_count": 44,
      "outputs": [
        {
          "output_type": "stream",
          "name": "stdout",
          "text": [
            "Epoch 1/3\n",
            "562/562 [==============================] - 23s 35ms/step - loss: 0.9102 - accuracy: 0.6408 - val_loss: 0.6765 - val_accuracy: 0.7457\n",
            "Epoch 2/3\n",
            "562/562 [==============================] - 7s 12ms/step - loss: 0.6572 - accuracy: 0.7562 - val_loss: 0.6274 - val_accuracy: 0.7733\n",
            "Epoch 3/3\n",
            "562/562 [==============================] - 6s 11ms/step - loss: 0.6178 - accuracy: 0.7732 - val_loss: 0.5953 - val_accuracy: 0.7816\n"
          ]
        }
      ]
    },
    {
      "cell_type": "markdown",
      "source": [
        "Steps per Epoch\n",
        "Definition: The number of batches processed before completing one epoch.\n",
        "\n",
        "Purpose: Allows training on a subset of data per epoch for faster feedback and resource efficiency.\n",
        "\n",
        "![image.png](data:image/png;base64,iVBORw0KGgoAAAANSUhEUgAAAVUAAAELCAIAAADm6oL+AAAgAElEQVR4Ae29CVsTyb82fL7I6QRCQkiAhEBCVkLCkpAQwr4T1oTFDTdUxA2XQUeYYcBBFIF/RKPjMjKjwzjiCmIQjKA4533e53yY56re0ul0h0UIUYrLy/RWVb+6q++uX213/RcC/yACEIGdisB/7dSMw3xDBCACCOQ/fAkgAjsXAcj/nVv2MOcQAch/+A5ABHYuApD/O7fsYc4hApHFf65A6pjI0RvXUS5xZr3LnSaJWUcQ+ChEYMMIxCgVTR572117qydbJd9wNJESkM5/7R5LabsIQXi2SzZTIZfNTE6UuGI0v+0uAIL6r+mKShjFFmj16xyeyNShlqWs/iT5RIxSlnso+WsSJaMKPhDnpreiGWxxW2ou6fU2ASsigYF1+6yOc7KvQCIwOuYzQUG/Pb+ez3xzm67ylbLCHkvzRH7rRG7lBU1yqh+wBIu68oqtxZNX15+uzYwmDeTGCrOPmpxuu2s8p/CANJZH3kHYgvif2KYjnkJRP/Ed8p9vu2TLtnM5/MTq8czUpBDocoUKYbxaGK8W51/Or7+oSNSAU3Eqz1/gIUJ/I7fEuektnmxdpiDRkGDYleHy5FrK18S3ncl/TpSodCi/+pw8MYUnVCTYe2xNA6nYp5mnkNdN5BbsThCnCI37Ta5xQ3Ii9hJEGzuszqE0pVGQmCGvHrEX7xVhrxB7kO1/e75P/pO0Fxg0dVdUIv83OgTi0Tnn82tPSWm0R91yvcqsKOu3tnjyGof0yVIEQaKVdfqqAWvzRL5rPKf4mFwch8fM4SU6ULeq7W6A/x+jVjZOZGY5NJVXrM0TuZXdchFBQGG2rhmvnAP8/xBBYpKlRZeBPbWXdZm7M5qGVskjyn+jXIIZydXts7hG1GK0rcFLltrPmBpG7a2evLoBo6GQjyFg7LBRHaK2u/Zy4E+BvwSLsuSS2em2t07kVl/UyTV+zIRp8pI+a4vH7hq3Vl5QS+OxEAiHL8w8mAFSAUHw6pQTJSy+QnO+8rJteJDN+kks0BUeUaTo1vFBj0pIrvfkZlpxExKKjK0eg1QATrW7LE4CbQ4/oXIU91y4QpnDbc8pxV81eW1W82haAoowW5AQGeRE8dP3ZNSjhdI4ZMqpFmIPc3jC7I4MxzDwPpwjptzmhBjUN1O5zPV9xsortqYhvdGhqRu31/erE9F3Ul5rahzQW49mNYzamkZMFofQX1oIwsb/eLOiFC1H54jJ2iAmXRm28g2Rl/Dcwv1/vlZZN25vdgNnvtltB/6bJ6/ZbbOUk1lgs4eV/82eXMePumRNdBQvWmJOFIN3mpfWrNbmicQpfJE6If+SrfqUlOokB7f/Y9TKJo+96pQslo9EJSRWDNvzAj3e4PY/WxBOlLBowF59Ti5J5Ust6trxfPKNZMtbIP8R8MXxmLQa8Dg/LdnULJPpBUKpQF6mb5owpen80TDW/8kl6oyKhAQVPw6tA50j2gSUG5woUcmQveSQVCTlxSlEmupkCfhWArjMZ2y1F5UpeoFQJjQeNDVeUYn8PR1b6//zkhOtnVnOCXt9f3pGhVhAfHb9mQw6whAuP5IYw0M4PH52F2gEoeF4uT351ccTCQpFW8/ba06A09gMjcuTrUrF4xIYNE6PSaMCeWcLEpSs/4K0xOgaNWoz+YJEviRbqi8h+M8Xmw7IFdnCOClfkg28jLxaYJfKZXYOaWWp4qL+/MZ+lSQ1oeSKPacYfIzktaa2u3l5DYD2Aq2izm0x5hDms/BfaFA3uE3marFIhqVis6L0YS9fv+XbdYTznxMVLZDy0/ebK49LRTKR/bIt1yEUyvgxq5d6CP7npGf6IQvOYXxeunNUm0DxMlj4n5Omx0Mbj9oorxG4yMJ/hiDou0W22bj6g9b18j9GqWzy5GbmBGdFUNhvz6v1fysZ+U8NFiVOrp0w6dBPCYeXWOPGXzvqM5gjIydaYah3ZjGayEe2lv9YMtxYgapaXdZvbXbnFB5RJGsopUUaQjmIliQW99tbPeBf7Y/K+FjsnqCwP7+8XSQ2axrHs7V6bmanvf6ijIcg8XnpLR6jXCKw9diqTkiFCkWDx2LIRBCENQglNfqhssnUQLQ46Pco5/r9Vkc38FhVLnMN6roaO2xVRxIQhJt90l7gBF9lea2peTxNgn6gEYSb1WWrRj9YWDRM9X909klb+SEx+cYrXaa6H0Ee2cqXYtG2HVL7//j2y9ZMG5crlNaMkk7vqpax838C9/2oUSRalKV9oH8Ic5Jb3Hpq1z0j/xsn/D0RZMmRcTLynzGIpMToGk8jPzeyqvX6/wjOf9S/5cYKs1DPnPT2sfcGM4yR/3yF1H7W7HSTrruFGOmITt9vbp6wlJ/Tm5qTZSqcY5ISIxk5cZCXU0y+YOvmvzhX34L3XWMcw1GMEstqiRIpasZfeRJh7ECSp6kbz28aSI3l0O74TzlR/JwzlspueZJOkJCWmN9jc5xLRmsQnMxxBmVVv1GpovM/JYGf3WkqPJCA8T+dwv/gIP70go54iuSa0fzGoSz7IbW+RMz3f5B56gZ99ZANy37bXXvdBcBMlcuMVSf6g9bSA6CZltlpK2oFXoO8FnxKyMxqdpnrf5KTp8H8Ryt5smTxTvGmK1j3B3P5Bpm/DRdw/leO4M5/i5tsBdhKD4jXYBEr/12B3AYuXbK8bsJiaxAL0GpBZNHTnolw/lP8f66xw9o4oE1WRaN0FOT32QtdfuYE8x9ttNsrTiSLUS+YK5TVTljQFx3HOE6doHMoiy9ZWzw5eiOIVVJipPlHgcWxbv5z+Lw4hUCcKhCn8mP83AD9MrHJ2HWBgOiRwdLi8HjyEmUR6NK3lJ5QKoyhugOE2TqXJzM1GTeTr1U6PTlos4jVmd9c/x9BEA6fn5yXbNpvbBjPJ1ofiLTI6HJnplsF0WiutXsstReSA/i/34oOe9H5T44rafdYGlfnP71xSi2v4PKl3t2uY6L9L+XLq411fanxMn7mUWvZoUShjM+PI6uaEOatg//xeemgBiZasIp6U+tE+Or/r/b/sf4/Ldr/Bxx+cuwN7dDKD+S/pfZCErVrA3X4MTIAMAVpaqcngP8ExOBTUrIbVEF8rbLJE9CtQDyD/YInqU5H4N2vPYtOSjB3ZDS685uGMkx1iXGB3wXG2FFn3u+soR0xuKOh3WNpInqUOby19f+xBGFMOviiOFffTHigqNtIDsdG55y1162B/y1ugwzvugVBqP5/dJK8fgLrpyBTjjadsdd0B/RnkfcoB/7ypVzctkO//6/bZ0FfO0F+nzXTuhbmY0avg/9og9akNwL/lq+QVQ7nh5P/eP9fNxidkpiVjlH72tr/YPwvIQ0f/7NWYj0ioLFX0y3j8xBOFE+3x9TiCaj/ZVUZrlF9Smo0l4cg6GeAwxOXj9jtTtCfxI0V2s7b2u7i/OfGirPb5cl6AT8eGFY7bsO6oBCEn3PW1jigV5kEQpkgySyzdqql+BsJKu3sk/a6i/K4eC5IZbP/JCX6khNqlQkf11hL9NESmcOdX3kK9LCKlAm281bXiDYR7YPDBvPyW8H4n4E2/ncUjP+l6vHxv9LA8T+mIKy2JJeoDWVisYwXKxNld1oI9xtJqcpoGk6ToiOOkjxd00T+Wvjf6skrOyYTy/jJJfqmCUum1d/3gZVmSXtCXCKPrCaFBnXThCWvNRHt3hZrHJqcOpB59vJlzUjYbpD8R2mfw40SyxzjhuSEtRuwDv4jCFfhSK8bsTUOW6ou6dIb0kn/X7vLQjRx8bZT3QXwwcb6wMiZCJT2Pz/vMr25ld8IPHD2IIh//K8PjP+B7nR/mTJkmTL/x1ZzKV1v98//iZYkFvRYnOPWuiFTXmtyUaD/z40V5Z4xY90c5PifKFtRecXmHLXUDmRklilJ/5/DE+V0ZdWNgNYpGDdy+seNuLHCjP3+Aa38AzIhhep8ZXIpGF61t93d/PE/BjjWcEmUIS+5bGnxMIxxkpN5GgYY5//kt7hZ5//QgrAZIi3QVPRbXG4w+6j6okauwqsxDk+Q1ZHVNG5rGLKUnlCYOtbm//frTPuznO5812i2xUE2BfDE483qmmHwrjb2+/sFwPjfZdC95Rq3VvXodTmgtEKUL1tGwnad5H/YUoyUhJRNprofUyhsihTDoB2RgADo/6MQOxJM2gobdhb/E80yuVEQw+fGKmXlQzZbzerDm1sBOowz8hGA/I/8Mlq3hbIyPToJzO4aNeW14pPA1h0LDLADEID83wGFDLMIEdjZCOws/39nlzXMPUSAjgDkPx0ReA4R2DkIQP7vnLKGOYUI0BGA/KcjAs8hAjsHgUjnP20yz6YUjHYXfXLupkQLI4EIfHMI0Pm/Rv0vMPs0SV6PK3bgk71SdSEn0xHYiHPRVQBrepY+mY+IY5VfSa6yAp0Y5wJyGnqVPmA6s7RAbarDRWZWiShSbyfkqsvRZZStntzavvQ0dJ4ZuvpFaNyTXj0EJgU6R8z2vYlUOa1IzQ20a9sQoPF/7fpfGP9zzeVg3VhCWkLOSWvzKC5oETo3W83/2DR1I5iGLU1QAd2u9GadofB7m+aXYJEbq6XJGSKJISG7w9w8kYlJaEQnJRef16WXJcoMImWZpt6dX0ZZkR66XODdHYhAAP/Xpf+F1v+5RkIMA137ma1RAgzZtLESiugL2qlzp/1z3SdAnYZJRGL+f3qRomLA1uIJ0P9iKy11i5lt5qbKZcZWGWCLC8gY0NV4+LoD9AH/MntGBS4y4NcfcKKEuWfSM6sTsDXRG4iQw5fWevJICS1qDPr9VuewOvQaB+rz8HinIYDzfwP6X1T+c3h840GzixC0Cq2NxVL/863nibVuUkFKkTKjDF/M0+TJc1xUp+gEErPCMR5qiTVWeCk1Wa5xg4KiPEsrVMb2P4fH5aL/kkrSne5MJa5IFVqBixbxxk6jU6s1lQO2FndOEaq3t65YODyestbYPJGNambRgnKNHbaG3hQ4yZmGCzwlEcD5vwH9L6z9jyk9AdXAUaMmsJlNpEHXxmLkP1oDM6x1p64hRxBuZidd/4tIxf/LjRXZzltbPXmOPmPuXnmwZBUj/7HwPEWyY9ySU4pTBvM+2BW4/Il+9RFXlCZF19uvVW8PVRABPkvzeLbBytDAiVHK69yWbPvaOlq+OgMwgm8RAar/vz79L6z+J9v/2R3mxqE0TLg2tDYWI/+lpRmu8QAtQAxNWv8/Zf3vKmgLlQlahzL/jLnZk5tb41fmwbRoaeIcWFwcvqiw315+JIHU7VhNgYvZhhByWrp9+DJnmvABGRE3VmQ5YwHree3kNbaD6DgF6HnJOmhqHNbLcMlQ/OGohMSyK7bC3SIyL2yxwOs7GQGc/xvQ/6L6/+gi54SKUbuthocgq2hjhYf/ZKEqXSYg2k2pBVnq/2hjh6X+p1RSX3wNClxkIrQDVjmt6Hg+Kr8lEKXQhbRilQlZ+4z1o/aGK0BvR4grZ9JiZjwVFA3gkkHY7ShxQumAreRAAoNXwBgBvLhTESDa/+vX/6LzP0pcPoJpYK2ijQWEmYJ27Arh/zOKea69vCQlRlpyjPxPKjE2jRsVgVsPrabAtXYrQjwZLS9Tl/ZZMYG91Mx16O0QkQqKBvLLD+FijVHihOIBW8mhREh+Ah/4y4qA3/9fr/4X1f+P14qNe7KagXAlpksVShsLVdHNybDxQX+b3z3F+v+0ykyBUMpPypXri0AjfAP+f1KZvuiIQmkRxacKZLnyiiGgykYlQzD/gTqVGzT7o/hc7B8xYSC0AhcrrGu/wYkS5Z3PMDckxhF7fqwhLN+4T2esAIN8EkOiqcPU4sHV6blx4qJ+ILydpMN2ZxLGq/h+jNcQNXxkRyFA8n/d+l8o//Exs1ZPbl2/0VCIy2OF1sYCu4Dsymgcp2snhRj/Y9L/Yi0mgVqWdzKrAZXTco1aio7guwxxBdJaYsISoTWG7zUUNDDpH//zWwV2MTLRFLhYjdjaG9HapnRsGyWw+xAF+aCBTDtbR8PWGghj/0YQIPn/jdgLzYQIQAQ2DwHI/83DEsYEEfjWEID8/9ZKDNoLEdg8BCD/Nw9LGBNE4FtDAPL/WysxaC9EYPMQgPzfPCxhTBCBbw0ByP9vrcSgvRCBzUMA8n/zsIQxQQS+NQS+ef5HiRPye8CGc213/WIE21gKtAmL22gJTBoisCoCdP6vXf9LZNG33AWbImPTS9HpgIwbWq9qwyoPCLXJ2JaSzhEzdW9MLJjKZW4YUEuk0bxY6mxihjgDJiyC/SF1kSNYxmBuBFzixonMR7Max+3YLMM0yipjvkJa0GNpnrA3DZvM1WBTY+yPGyvMPmpyuu2ucdbNPOv6A/b/JIKC3+SKjKYhtYjYIZ68xeGJS4ds1kowjZuXLCvsMTehVjUOZZkd5BpHoKRQ3gf2/2xxg30+JYFrIsnYtugg3qwoOI8aNpFbc0mvRve5RhAkKiGZVMpru2tv9RjlEtKEaHVDet0IUNCrOqdOCq/BCILQ+L8O/S+M/y1uI7Y8fov4HyVOrBrNrziRLNEI5CW6xgl7buCmfcajtpoTieT7R+IafIBaGImCZcGmRsYVbsZRm3MoTaHnC6RCwz5T84QxNRmYxuGJiq/Yq8/JJSqBvEzv9JB7Y0cbO8Bm3kojvpl3ceBm3gW7wf7fxoD9v/15xaLNq2XQK5GWGBuHtfHoMm6eQprZIFOYRYlakbYu3enJzSkF3wVOlMh21pjdIJNni2SW5LIBe9NAKn3XXn9qm3+k35dh2ytPtYglhsTcM5YWNw5XVEJy3UROZqF/RUY0sSRDWmJsnjBlFgrFyoT8S7b63pRY4tbm28cUYwD/16X/JbLomz2ZJedtRc2gWAL5z00u0VUP2Vo8eQ1XMgx2hhJlMobhWlJ5RvMEuR85urIY35WVm32Sqti1uv+P8X9bBcuiUx16HJYBYzqlOhWmyUv6gGgnKliqxmQUGODY6CVecnLBGY02V0C+eavGxIkSFg3kl+4VYU9S0RNZdM2ebJUcv2M+Y3d0g83auUKZw20nlcjktVnNo2kJaGWu3WVxDuG7rXP4CZWj9vx6+luRWJDeNJKWKKSbhlpixzZ3p99D+LZL+VXHGParF+emAyNxHaegcFt8IUqcXOexW8vBsnOU/yatJjhJft5le9WxBKz24mvVTk9Omj74sS28gvN/A/pfgP8TBnWupm5ILY4J4H9ctsbpycmpFolkAk1DRvOESavbYB6MHTbqVzypPKN1wiClvCLGo6srAmFpU9/gbREsS63Pahw26GxCoVSgqNA3urPVKmAaJ0pUMmQvOSQVSXlxCpGmOnnTHVcOH+gC143anSOZ1lZZvHQtDhPXcNDa0K9KAAsTo1NrM5pG0qTo10DpMlFlBZVNuMJCbIbGRaGcwKBxekyoMBkvtye/+jjppkVbz9uDvDZBfp8dq0to70p8rt45qk/CP0TUm9xEs7LOTXcJsSfQdd8GGUMoagzMxzyFooG+VIzmtzMHJK9iL1umFeCM+v95zlFb84S9bsC/TI7DS6xx262VuDQFh5dY7c7H2jhkPFt9gPN/A/pfGP9lIkFhv81UGI1mGGv/A5Wu2gtJxJJbQX5ffvkBfHX6OvPDNZ2xN/zoV7CLz0tv8WSSywERBFkn/+3bJVjG4YnLRwBQBAK83B57USv4kmHvQU4xeYt4ZLN/OVHRSbly+1lz80RuRbdGYxWEdjY5PEF2p6UVNFntrhGDUoN/NfT7rY398jiptGrEllcrSCrLwFYZoqVjlEsEth5b1QmpELDIYshEEERQ2J9f3i4SmzWN49laPTez015/UUa8ISCfIrOuadyQxLAImm+7ZC/eTfnkg8f59svA+2v15NqcZPvfjxeHLyoesJceEK/lO+cPRhxxeNHxasJdJw9U/DV7T5iWjBxrfXBjxekNMplBmGhINB81o4u1Ub8A+Ah52TaupsXcOKRNjBOVDuczfgEJuzb/l+r/r0//C+e/EEkqz6i9KBOC7QAw/gOvhvQbMYrS9HbXnI9N57+//R9mwbLoJHlwlVJ1BHNco9P3m5snLOXn9KbmZJlqTR8Cca4eHfWwt+IcI0EFFSkucxzIMfIJvlJWNrBqhcZNrc+oG0hTmYRipShjv6lxOC0pEcSB8z8+ofCyKbuUT+N/SgI/u9NUeCAB4386hf9xBmVVv1GpCuY/+BqWtjNsyiDM0DS6qR1meCb4SYIEtP3fMG7KsAYgxonim05aay+mCKkfGDLzaz+IQhDqv7UGBLg1DutTZIwB+HmX8x3dUhAxwX9FjbGqRymK3T7+b0D/i+Q/NzaxatSktym2gP/IFvn/aK0bVsEywP+JnDT2dlCcOkHnUBZfsrYAGZXV6y0OnxenAJsviFP5MYEvOl+KXRfESQOIgSDchGyZrSvLOWGvuaRLKwjVO8YVSGvcdtIr4fASKkbz89BG+6b7/2DLBqK3LJA0vJyztvKQWxjo91upGsecKH5Wp6WuN1W0DgG1wDQR5Cv8f66iJqNxBHzj6JES58YOW+NPwKWNIP+fv379L5L/CMJN22epPmdswuv/1f1/vpQfm0h7NQl4An/Z+//w59bp//vnCHDCK1iG8sfO2LkdmGNQe5fQ3d3AR9Z/xuEL9C36mmF787jJ3p4sTV0dfKzVSuG/uGIU907R/r9MbCwAQaJB/9+51fr/9liarhD9fzxa/1909klbJdENRs1cjFrZ4M4kOhqpd8hjrv6glewhwsnflxr/FeRH64aN+f9cebWxadRINpRIKykHoDmD1f8Igvb/HYmA/j8EQdar/0XhP/m9xMf/RWady5OTUykSSgXq+oxmj4naq8mJEpeN5FN3/qCgQz+kjv+lFDGP/1E6lujBqedYlwwmWLwtgmWp9Vmu8eyMElGclJ9oSMzYk55mAgZyY8XZ7fJkvYAfz5OYlbXjNpJ1VPu/5pinkJf26NOLRDRPIWSc4EvUOKBVGAVxKcJ0oO+Gl6N//C81aPzvKBj/S9Xj43+lgeN/+a1g/M8QOP7HUyjqmfcviM7stJITTEhT5dU6bJBPkibWNaQ3TeQTvQO8jKMW54hBYyKb7oIY+iADGc3mH8jKjM6JHFO5iOw7wDTdkss0ZnRUUmIAYs3NnhxjDv79Jcf/RNs9/rdu/S8q/xGEZz1vb7tLzv/hppSB8b9WdPzPSOiCYZCvi/8IggjTkksuo2Njo6bcZnGgq7vu/j+sYbxNgmXRqQ58WNQ5Yi45oU5C5UY5PFFOV1YdKljmHDEFz3Ha/Fd1bTFGSxJyT5qc7nww/wd0XPu1ScH8n0tg2qVzhHH+T36Lm3X+T8MAdf4PGNOlCTRi1vGS5XVuhi0hJHnqsssWpxvMSmocNuU2J2AKh5yohKrxfELZDesBIV/ItWX4q56KzjlLG5C2F7rA0LikQFN9BbzAuFib3Q8jgoD5P/WjkTL/56sAgIEhAutFIFqSXOdm7O/g6vdbHOcCxgjWGzl8flUEqP3/qz4MH4AIbDICwjRZhoPu06Fp8LV1imT2XrRNtmOnRgf5v1NLHuYbIhA0/x9CAhGACOwgBGD9v4MKG2YVIkBDAPKfBgg8hQjsIAQg/3dQYcOsQgRoCED+0wCBpxCBHYTAlvBfVpXVEC7phUjT//rm3p2tECwL3mE1qwufG0Mud8eAilEqmtCVtq1+QYE1Qggmz7KIAqwxhlCPsRkcKkxE3uNEgXUu2XZm4+j8X7v+FxafODfdNZ6WEDidPJz8X7v+FzMAO/7qVvBfWqA21TEs5svs9MtdUIHHpgCHnOdPfRw7jtY6dVRJsuAnvv4Km8FfHzMaA6tgWQjJsBAKa4xWrYv/69D/whLbdv6vXf+LER14cSv4z4YqG502xH+2RDbzOpvBm5JGCMEydskwVoU1NpPWwf916X8F7ZltJ5f0yKqyGq+odQ593ai9xZ2T1yomdSY4fGHmwYwGdMJz9UVNcqp/mWScWe9y61VmRVm/tQVstq1PRuUQY5ITUckKIOpYfCw5Dl/aFUr/C8hpoUsGnCNmW3MCZckAcBqLdydm7AcbkLe4LQWtuEBMvFlRiipwgRn4DYwz0mgIM2ucYXTKcmgqr1ibJ3Iru+Ui/xIUVv0vWtTkKRtc8lpT44DeejSrYdTWNGKyOPwKnFFiMTZpH2hgHpdTl8H69zKfyK3twyfhYwanFykqBmwtHprBpCH+A2lpRuMVuq6erCqjAdVlU7nMuPTABbAikPbHRqd18h+oCWGpBPr/4JWoPqGwdJmaxoHSUYYdK3mwILWaIhIpMGiaJnDdyhBwIQgSbHBSeUbTsFpMOLwcfmLVeC4p67L+t8iPEFWwjE0yLITCmj+iwCOM/3mt8tJ+oMdXc0kjI4QJeMlS3P/fgP4Xlgpb/d86kVtyRJaQKkitTnd5yFUcPPMZW+1FZYpeIJQJjQdNjVdUpNhrnFnf7Ml1/KhL1kRH8aIl5kRxPMIVJlQM24oOyCSpfJE6seCSrfIYrjiMGRC8/jdKLK0atZcekcbL+Em56jo3ddUtUF9wjZpyG8SCWC5PIlKYwQoNoUHd4DaZq8UiGV+SLa8esVnLKR+NQECxMzaNsxi1ssljrzoli+UjUQmJFcN2bM08giBs+l9M0WPXWOGS15ra7ublNQDaC7SKOrfFmIN9Sfm2Hntdr1qm4ou10tIBe/UpKZETvvW8rXFArzIJhFJBSpEyowzkHTU4z3FRnaITSMwKx7jfYEbDYpTKxgljSoDiHtd4FKzSJ58Pbv9jt4LphOcTXQK4Tv8/uP0P+N/iztZnRiMIV9mU5RzVYuqD4ly9c1wvITSEdPssdbgySgi4gGnBBkeJZQ6wYAHPKzXmDbxFeCzoD1WwjE0yjF1hjRpTwDHK//zmUWNajiBOIbadt9X/JMdURvlpyTj/N6D/hSXCxv8Wtx5T6eNEiUqHcZEzrKrB9ILBKmt+YvW4xYiugUUQBOV/ToWRa5cAACAASURBVHqm3yNAECSlJqArMTZD43TrpeC9xf+C+Z9UluEaT5MQz+j2WUjHBF1xnU+UPREFAtafU0UmlC5T3Y+hV56wahygdPKrOJLmhdD/Iu2gHYSAS15ravbnkZvVhddvqHBFwNvZPIGL5wjS1E7/h9ifFGowptIF1iKDqtIv1Od/jDxChQywUhNkHtSr9OATVNjvl/1EEGQb+Y8pEeCCtBO4/ieHn1g5asu2g1cLvJBDdlxKHCiUMcOF5TeY/wjCyzkLpIrQB6iexQbeIhJUhCZYxiYZxq6w5o+KdoTxn1SUiFEqmyivAbX/b336X1gybPynuIiCogG8BpaUGAOXZ9rb7ublFOOEB/yfMFC5jWmH0YK0rqb/p91jqf9JTjrdkhJjiztNgkvKg0qDxALLAiq/SVs3am8KcnEDYQXxMGqcYaQlFQr1+62ObqC2GVL/KzBu4iwEXPJaU8NAaiwHf1Szyww+6hwkDhVllREVHS9ZTr7f0tIM17iW1lOL1f+NE35JRdJgworgX7DQNb9RAJx2NyraJZA53AFKu9vIf0JSDVfdJQSXgIeCfdcEqNYQpsAfAi4s20z8R6QlRqwJgH1WMm34Z6VkaL1vEY7taoJlfskwjP9MCmvBxURGDvr/SZYB0aGJPFMhsJkbK8T5vwH9Lyx6Nv5Txv8C+A9cMqLtRDMZa/8TRMVvGo/aMP7QHiZPyXIlr6zKf2xVNvk8Jr9Leunk9ZAHG+J/SP2v4OQkJUY2uDD+k/Jd2j2WxvDxH1G6TNWnpCkVxsJ2ddnlVEm2pnFESzaJt7f+rySaIVgTmuA/IrLoneNpEiGi3WMhxWk3xn+yCQCc/1Hc09zQWwTKfC2CZaRk2Eb9fzr/UVcIKC8Q7f/1639h76s4V9/sr13xdzhw/M/Pf742wPegvfGM/E+pyXKOaBMIZ54WhFH/N9j/b/JXlYC3NP4jSLTpjL0GlWQMjp/lSij/n7E6XbP+lz/BEHDJa00tblLcGlTIWP/Wxvx/RoP9dgQdicy6hiFt3klTmp6fez7D0p5FCFrhj7LV/2yDNUCaaQJTCg9KjPUCKMrg/j82/nOA6JjNVJgAnH+icycEXFiyLAYDybPS9oSMo7aqY35R8/W/RQT5VxEs80uGbbT/L5/0eTH/H92MALTa/P7/evW/MIDQ6HIybHwuz7/9Fhv/EYSfc5bogpIJkswya6cak5TH2v8ut55W/3OFiZUj9spT8iQNP04hlBcpcg/ISN+ekf9Y/1/JIamY7P+rJ78fjPwH/X9NE5a81kRxCl+kFmscmpw6wodmef/YNM7Y/H+s/49R/4slBaByzQaXvNbU6skrOyYTy/jJJfqmCXIHHvCuUPv/arrJjgys/0+rzBQIpfykXLm+CAAZwmA2w7hCWe1EXuMVsO8DEP932wucJMIgEBv/ZVUZrlFDqo7Pj4+OJrolUb09cfmIvaQ9IS6Rx4/D24NsqRPX18d/BAHVXcMVs9NNbicDEGaHC6TDZnBikbFpxNw4bsMU/jGT1v8WsQqWsUuGRRtZFNYIWOi/zP1/oOUIOixI/q9b/4tIh5e2C4yltd0NGP9j9P+xJkfG/gwgeARG+Ez5B2SkSDNj/Q9e0OTEvDOoCtVEbl1/hsm/3xswIdj/B58SA7GdzqgprzUhxj8Sxcx/BEHAyM1lS/NEvmvcWtWj1+VQXk8iq4G/zBpnIenErP8VGG3AmX/ELhAu4P/360z7s5zufNdotsVBNgWQqIQE2xmzcwLbA08eH+eP0B9b0PhfcIeFPxjDkaCgH9/PA+1WxDtxuQJpLX3bDH/vGspzgbnLjMqW52XbAuKNN6trhgPeooDblJM4M9h4ktorRPTvgP5/tvof22Kg+S6+VREZXwi4QhjMFUod7nywu1HAd299b1EIwbIQkmHE/B8GhTUyU9QDcvyvHIzvgvG/JGL8L1qSSPKfGgQeRzoCKP9Bhx/8gwh8DQKQ/1+D3raFhfzfNui/r4Qh/7/J8oT8/yaLLfKMhvyPvDKBFkEEwoUA5H+4kIbpQAQiDwHI/8grE2gRRCBcCED+hwtpmA5EIPIQgPyPvDKBFkEEwoUA5H+4kIbpQAQiDwHI/8grE2gRRCBcCED+hwtpmA5EIPIQgPyPvDKBFkEEwoUA5H+4kIbpQAQiDwHI/8grE2gRRCBcCED+hwtpmA5EIPIQgPyPvDKBFkEEwoUA5H+4kIbpQAQiDwHI/8grE2gRRCBcCED+hwtpmA5EIPIQgPyPvDKBFkEEwoUA5H+4kIbpQAQiDwHI/8grE2gRRCBcCED+hwtpmA5EIPIQgPyPvDKBFkEEwoUA5H+4kIbpQAQiDwHI/8grE2gRRCBcCED+hwtpmA5EIPIQgPyPvDKBFkEEwoUA5H+4kIbpQAQiDwHI/8grE2gRRCBcCED+hwtpmA5EIPIQgPyPvDKBFkEEwoUA5H+4kIbpQAQiDwHI/8grE2gRRCBcCED+hwtpmA5EIPIQgPyPvDKBFkEEwoUA5H+4kIbpQAQiDwHI/8grE2gRRCBcCED+hwtpmA5EIPIQgPyPvDKBFkEEwoUA5H+4kIbpQAQiDwHI/8grE2gRRCBcCED+hwtpmA5EIPIQgPyPvDKBFkEEwoUA5H+4kIbpQAQiDwHI/8grE2gRRCBcCKzO//Td91bQv6WXPWb+1toVJXQ+WJw5XRicSoy1bfjprG9lZcX3R0cy1/+ArGTQuzBcFOe/shVHMmvHxFPvysrK509jjgR/CuwG+58JPtK7bs097lTxgu9s2pXSs9PeO20JnDVH+N/a7vu+u6e0aw4AH/weEFid/1gu9a23Fl5sOf+5PNvx/p7aNDqyUUKHZ9472mGQJIhEsTHU20JDW+9P7caAa9T7m3Ks6Lrtm77mVEtFIlFASmwGV1+ceXe7TchEPy7PPvTmfX+DiGZZiCC0J9dymu7o+emYbT1fGEl912CXQ7KWyMP2DIdr6Jn03T0Ov0pbBXlk8Z8tlwJVx18fpg5ns93f2uscrmngme9G+zq4EYLMmsZbPu8vlli6zSGC0B/dMeeQ/1td1AH8F2kdvWNTswsrHxZmHk/0FKv9qTPV/6LSw8MP/pqZ96188M48GO7I8RMkxtI8+HDa61v2Lc5NewadSqIm4iUVnR0FSXz2eV8/udVRiFeD3GjH3Y9YOyPA/xemd09/xq7j/5P+f5K9dw699WmR7v/HqR297ql538qnxZn7v7ZnxBMZQb3cRz84DvTee/HO99nnffSDjbjH8MvlFY3OBKRO+v8sBsc094NmAvXv2c/UJEQd7n+910sIPBAEWSUI8OTvdzjaBx+/8X1e9r3wdOh4CF/l7B2bfDELrrz9+1Z3o5aMsODEFJb6h0D/P3vfvYVng0dP3Xr6xvdhYebWhSKidaA4cRe3N9D/j9l/zff6RteJq1OzXt/i7OSFegWJkb6i5+E0APCPkY6zo77X1ypIA8hnAg9YX4moOANZHE9/660zAA+LwzX98jcVRdDy628IcL4C44dnG0HAz//oBMd/Xq+8cHeUZipSNaamzt72XH+MTPyXOE/1HKizpWsUKmPFpd+8r8ed2CsVq+3468PMwD6bJlmRllWx+4iD4D941+cnu0szFEmphoLaDldBgBvM1pzG6v9DGX57yKPg9n90fMXIC+/9/jarXpGW5bj0m3f6mgN3xQH/VxbnpsdOFqWIY+JTTDUVq/uWHK6Nrf5nM5itMufySm54/715UEraTx6wBSk9O/1p3vtgpD0nJUYQr82vKUqORuJM7T+eaiuzGBRKbXHb8MsP051WMiZwENz+z9537/Oyd+KkSchBUvJ7ntGCMLT/Af8/f5w8UypBkJji45OLc4NYP4tA1T753vvbhYp0pbb62K23Syur8p/9lVB0jHtnHnZX5WlTNaa9vVOgmUk4R7D+DyjULTjx8996aHJxdrBIzJwIE/8DnkypGl6cG7QJwcX43N63y/f26QIeQE8koCF9pYitrmCj07r4n73/3vun3ToiDWlu7+zCGN6wRfnvvd9O7UEMtpJ2ZRP5z0vc+/h/lvprGeqxkPwfLk+iGeU/xUhy86i/cmbj/6d5nMAMLRoW/pO9GNQmWO7RKdAZjLKUwzX0Pl6d/2yvRFxG90vfvVbC04ziO9xzMxcqcHwg//3FvDVHJP9jmgd97247GbusEARh5L++ovvmJPD/sb/PH4fL0H54rsB2+ZHv0/zUneu9pw87M5P9thsbh9/6fK8ejf1yqau5wu+1Yk9sBv8Z3OnPnybxjxH6lj/+weQ3aA1Hm8j/mKRDf//PUn/N+vg/Pxkw5IEgSFS86cjP916gAyIY+L93G6hZYaz/F6a7sY5SQNonvrvUTwYL/1/9in+sedL2SdxlwF4VsnczZve11f1/tldC67pF8/JXVlaG2iD/qYW5hccB/P+wHv6jFYIXdaSBfSnlwz6C/6D9FiVKL3AePDV4d9q3PDtcTvkECFNMNbs6fhyenF/23T0V8NZuFv9ZP2ToW06jyqrobiL/o/j1D1f+HWlZH/+999uJtjpmbIzrp5n3TwfrsiQ80FTW/vC7j5apSOM/2yuhdd36QHglwQUB6/9gTDb3Csl/JLT/r3XdWpzttVHG/+VVY9SSyz06Sdb/VBN5CW0PFr2XGWq8mKoL07SabTP4j2TvZ2/IhOQ/N1aiUCoS0SYMNQsb4H/VhRnG4XcON+Py3/8+ucDQk8EWBO3/C+A/jRVRggr33EoY+Y/g/j/6MqzR/6fiSX0lgP+/NN1pZfggor2A6KeNeVZCTJIiVZLAHJCaHDwOgYCf/2j/n+/5OOj/UygNFXu7nTn+gML07mdL032tBrlMkoj22YErH6bOFIETsb7t9usVkv9ia/uFLqfVqJDKtFWHb837JvelY1Epmk5076k2qZMlKqPjyh++6SsB/cabwn8sI1hHpjLNVObsGvi5De+ADMl/dKYTQyfzBvifve/e4txYk0EUExMTE+WHEUGQ8vMzS38cSgyaGsAWJJj/CCLaf8375nabSoBwoiS1Zyc/roSV/1j/362zFRq5tvTwrbcfVm//h3glOsa9758O7i4zKJQGe1nbhV97KJ0dov3XfN77HZlJAEgqjmhPyv/6btcT/TzUm/B4rQj4+Y8gCBj/c4PBuU+LM49v91RoqLGIyo7devkeNNaIAS1RQfvw0zfedzPTTx8MHugcm/fh7f9YfdvVO2DQCB+dqifb+ZKak2N/Tns/LoMkqEOGpWenae1A6vAVQ/8fYDItxAo5fEUOZGKjjD8dslH6/+muMpnJdfE/tMFRcbazo9NYzwgBF55OrPb09KfJPcFznFiCMPEfiVE4+jzTXu/Mm+dT4+fbf36EZwp8QPFhVBIcfDwVjP8xtf9lJYPvA0dYifFU0P/P1P4HGdFX9Pz+0j/+9+pqwHechJQ8YH8lkKg4w/7eW9hY5tyLyZHeNp2ADIfEG9pH//SieQr4NAvUnc//53+f/WL3PwqP1o9AAP/XHxyG2AACorah908u53wvFRcY01lvl+oGUKMF0brufVlh+IzSHoOnoRGA/A+Nz5bc5clKDh2tSoneksjDEqmk0NmWb5SIYkWZ1b3/vJ+izT7Yehti2oaWpq/Yv5dv6NYDxpIC5D8LMPByKAQkrb2TYALlsm/uxb0fXGT7LlQYeC8CEYD8j8BC+SZN4nAN7T29vZeD//XsCpzl+U1m7zs1GvL/Oy1YmC2IwBoQgPxfA0jwEYjAd4oA5P93WrAwWxCBNSAA+b8GkOAjEIHvFAHI/++0YGG21oAAqu/gG2JajrGG0N/DI5D/32op0lYBfKvZ2Fa7N8B/rkBVd+b09b/HJhfuPHzxy/lz9mRiUUxKzelJ350nxL9Hj12pxPyEOG3xmdu/PvDeefii99heXWzQ7O/tggHyf7uQ/9p0If+/FkEE2QD/+crqH/5zpK3NnmPV5bceuDF7Z7QvG5vJlVJz+vfZ0+U5Km0W+KfWibHrHJ7uzOM7t2/Wmw0pOS1dtxeuH6kmFE6+Pg9fFwPk/9fht8WhGeXSQmtjMcppIQhY37nwbPjSwOSLt953M1MDh4EQEPYns3aMTs58XAY6bo9v9xTLV8mVKLvnpW/yl3NjT196vd6Z+4P+GftsqSMIIisZnPeN7anouvknEIabezHcqFolobTSrpt/AsMWZ6euncAFy0KkzuFpXefQpQQ+79MHg85s6pIhSckBXJNu7sXkwGETj+D/cCdYTOHz+d4+GW7KpAZZxTwEQUouXJ98tjcdDZRSc/rh6wOZQdROKj7yYKG3FpfDiW0Zmbg7XhwhLgDk/+plvH1PhJJLY6n/WeW0rIcmV1Z8mP5XUmbXX+9nLteAtZuYFtDkFUeWSqLU2Rr2txcrV8mxKLvn1eeVNzfBAsToxKL+J2D+P+rqsqaO83/Z+/IhkC3gx4oMxY4cdlEjBEEklp5/3k8PHC5KVymyijt+e+O90Q40jthTR0pOTC3O3TpSblDqbMeuzyy/GczDxdpj8o9PfliY/KHVplEqMgvafjjjSOBg9f/K4utbR2pMaVmOnx/53t0EEjix2q7pJXIBFX7w+dO91lQaMrzKvrHf79djqzmB/78wcX9m4tHbsdFbB8pN+JfAcvQX8huBIIjpcO8fLw5gnwxadOE/hfwPP+ZrTzGUXBoj/0PIaVkPTX6aHy7HpVBFu6/55kYdoA6Mdtxc9A21BQgxhjYRMHBp5nwx/lT67nsLr3vNfCRE6hj/36/MnC9eYwUrOnDD92zALxWXf3xq/iEQbmNLHSzTfr7yOyEWwJO2PVj09TeB5Li8itEZ392jdK1HTN+VlE4AIldoRjgxEl2GyZQd8C87QxsXuGQjNq1+ePZ6Vz2umSfMKG5rs2aZdRkl5Sfvjv05e7oQ/V6UXrz+aNKllhf3To9dOpSibTn3eL4LU8oLjXMY7kL+hwHkjScRQi6Nkf8h5LSshyapsoilp6fnH3ehsgiipovTPt/M49vDP55pr8xa/UOAeuD+yhB17G81ypAQqZP+P3X3lBC4oF4JvQZeQtcvs6UeLUQJX4d/X1DVBnxJeKy2668P06fz6Ani7X9CbkxeM0ZqnCJRCMM/SgS8JGvP1Fj/WSOjJx+dWDwwe+fSISD0ivFfIbOeudt7wiWF/KegCA9XQ4BNLo2N/1RRJmrcoP1PrP/HBEI/4vwHGuTJxoqWg93D92Z8y9NnilapojEG7iXkIQD/l3H+s6VO8B9XiKAaxniMtUoCFAqJ59hSR/nv7d8A/4nxP5L/q/r/vCTr2cmxX3uzRUQfCmEd/svhqk7+eWe4BzT6of9PAweebgABulwaLvtHuLtYjCHktKyHJj9/HHPIsAclR8Zx/59qCoer7ZlcfTE/6oH7Nd2shyaXZwn/n13MC3UT1sp/BAH+/5ubuKI81Ui21Bn9/yEn1f8PkEhG2wVFozP+8X+S/6H9/+jEbED+n6yiwOYA1Uhq/U/r/2sepvf/8UXSVIWU1rigxrZ1x9D/3zpsvz7m0HJpjNpYoAeOUU4L6//7a6gtS6u1Nw++/ID3/0XFFR3r6ajK08pliuzS7kfvvENt/o1cGPMAGPh5Zf5xT2WWIj2v/fbrlceX/P1/jKmvt/5HEESa2/Pyg/fWWUeWVpGWVdRwsPenDiDczJ56TOlprP9Pm6qxHbs6szw7WJSI5QDsX/BhfvJsi00jV+hzHcePVhD9fwz8Z8w1djFKnH364YTnris3Gx/n0xilaBNAXH3mSFubNceKtv9vj/3x+nQhOpKCjf/9ZxyM/5mdR4LH/2r73v/f//P8mCVEslt1C/J/q5DdjHhZ5dKwyBm1sdjktED7/6/BUz/ee/thZXFuauAIPv7HFdhOXp98PgNE2cAw22lyXyDWHGAe+IWjg09nfZ999PE/NjGvddb/IPW00q5RVGD+g3fmyW/DR6rAhylE6hyetvmHW5gwwatHg2051L4M1vE/cv4fWf+z5hxB4rL33v7gn+TzxHeH6MyLLT11cez5xKTvzmPv2LD7QHEmMfsHQbD5P+iUod7Odtr8H6Bl8v+v3GtebdglhFUbvgX5v2HovrGAKP+7yG1RvsZ6lIG3GlO+Jo6Nh93e1DduN0tIDjdn6PX/bpeWEeQ/S7F8d5ch/yOzSAXqzmcf7wXrwYbHWsj/8OC8/alA/m9/GUSeBZD/kVcmEWBReMS8+CrHOQa9sN7LF7tWnYMcASB9DyZA/n8PpQjzABHYGAKQ/xvDDYaCCHwPCED+fw+lCPMAEdgYApD/G8MNhoIIfA8IQP5/D6X4NXlA93G916r+mjhg2G8VAcj/b7XkNsvuTeV/bM6uA32/A6Grx2+vXxl2ZRMz7kNoY21WRmA8G0AA8n8DoH1XQTaR/xyu7vCN0x2Hi/MKdOby6p7HE6QGHps21ncF5TeYGcj/iC40NjmtEGJevKSi7utTbz/Qd1hHECQqzoRPzvd5X/051lECptOj/J882dw18dTrW/b+7e7IiMMx4XDR6fSz2D5/k8OHwfKbtf/JKrsmF3rr0kEINm2stccGn9wKBCD/twLVzYqTVU6LTcwL+W9t123f/CRYmac3O68/8b0eJ5bQ/rf2uNu78Gx4d5lBodQWNnSf3QX0cITp3dNLvtmHPVUWbVZx16N3fp0cvevW4tytjhKtQq7NLHAeawP853BtQy/oyhwrKz5spS0158qG04+8pwvRFcds2ljU5+Fx+BGA/A8/5mtNMYScFpuYV6y2a2pphhTwSKkanvfhQj1g2czS9HEbXdsD1P9LM+fLsOsxu4f8ugD5x6feP+020kPEyNINQdpYhhRcBQvPHVdoPD05ce1HI7ZGnk0ba61YwOe2BgHI/63BdTNiDSGnBSbzP+0mF/ORYl6kFBeWvkDVMbU0c7oQnOlbbzGK82D+/z5cnRapvzzz7qYTW7kaq2+/N7Oy8OLejYGeY202UuieQRgrKiDDHF5K67Xrt2/XpxLa+NTbVG0M6nV4HH4EIP/Dj/laU9S6mBmLi3kziXltlP/+8T8q/9EuA21BbfupH8f+ebfy5nZbMnd1/58TJXVe+dVzz5Ue6BGQ2aZqY5EX4cG2IAD5vy2wrynRDYh5xWq7noEKH3fZg/3/Tivdm6f1/9P4TxqKRjXmAD2Gofx/TpS0/pdf7zxsM+DCO2QE/gPG+l8sTVUki/yKGf7H4dEWIgD5v4XgfnXU6xbz4nC1Z+7i/X9pWaD/783NtgRMoxLt/wPiXMUGhVxrrew46sT7/559YK7/Lc3dJ3cVpaskSammg1emMfndkJkS1/3068MXpx0lpDZWihio4LNqY2GxcbgZl//+3/+z+ItdEDJ6eHOzEYD832xENzW+9Yp5IQjCS6roGZ2a94Hxvz9GOqh7bFDG/3yvnlDH/5j5n+7ovfPnzLxv5bPP+/S33sDtdBjyyeVZf3wToI31xHd9fwGCIKG0sdAxBaCB8++z0yroADDguoWXIP+3ENyti3oTxTy2zsi1xyxQdz7//5aGmqlyfWsPDZ/cOAKQ/xvHbhtDfmf817Xe+/T8tJ7eNbGNAO+UpCH/v8mS/s74/02WwXdhNOT/d1GMMBMQgQ0hAPm/IdhgIIjAd4EA5P93UYwwExCBDSEA+b8h2GAgiMB3gQDk/3dRjDATEIENIQD5vyHYIjWQ0NA1vQQW537+NLkPXXhPszRK6HywiK8Iot1CT8H6v9fXKr5yGk7p2WnvHWLeIVMym3dtcwzePHu+sZgg/7+xAluLuWAVwAdm/nN5tuP9PbVpbNGsg07VF2fe3W4TYpOLA+NLd/T8dMz2lR+RwCjZzjbHYLbY2a6nVA0zLqZkez7EdV5C2/3F6dN5IR7ZhFtsBkP+bwK4kRZFCP6vZur20Gk1q0Lc3x6D2egUwlC2W5D/bMjs9Ov61lsLr3vNYP0M+IsSOtxz3iEnmCTLVzl7xyZfoMpcb/++1d2opVa2jPznRjvufsR0e+j+v7665+G01+fz/jnW0TPq9/9Vpd3uh9OzCz5i/j82Pzemud9LEwB69rMNM7LgxBR26wPd/4+xNPeCVJZ9c8/8BnN5RaMzvvHu9uGH0/MLvrdPhpsyV58GuHkGi0oPDz/4C6xx+OCdeTDckQMWOIb60zTeouX941/+XZXTSrtu/jmD76R+wr+TuszaMToJrn/wzjy+3YPtbsZXdEyhjTUyws+fVt9VmZdUdHZ0anYBLMp4/eRWR6F/0jRj6qENhvV/qMLe3ns8adv9+ZnzxTgflFXD3vnhcnRdbZyp/cdTbWUWoORV3Db88sN0p9VvLCP/sdvB7f9YbcdfH7y3zlakKw31XffeL6+Q7f/s5p5T7RXWTG2qxrS3d2pxdjDP/7IhIfz/4PZ/UmHv2+WZqwdsGqW2+tited8UthIZ5f/K0vRghSaGw9MeH/e+u+lkbFOQ2dtUgyXOUz0H6mzpGoXKWHHpNy8mlxarxbtRSGaiXSq4khKQM2Ty/yWWnn/eTw8cLkpXKbKKO357473RDvSPOVzTwDPf5BVHlkqi1Nka9rcXK8ncIOus/8HHd36yuzRDkZRqKKjtcBXgRcKWOpYSo8EIgkD++0si8o4kR9y+Zz9jDemYXYPe1zccwdzgcA09k76bRwmpbQRZF//zj08tvewxo0I9HK6pb8rPfyogPGn7ZOBXZj38j2ke9JI9ghyu9offVzCXAeP/3eNgJTKCIFoX6vIwqQaRxmyFwVjkKVXDi3ODNiHCiZHoMkxBGmfaOEzMjJn/ogM3fM8GikhHLP/41PzD9mQuwo123Fz0DbVRvp1kZpD18l/Sdds3fcWfChETa+pk1hg7LCD/CQAj8leP8SEWiRJU/GfG29+Av0NR8aYjP997MesjK6jfuw1kDtbD/5jmQd8HfzdezIEbfv9frHf2TQBXk/ibOV9MJrKe+v+/td33fU968TYCfaWHzgAAFBBJREFUgoDPAdZAwPz/oRbcx5HXjC3ODRYRAsT+xPxHm2ywvqL75iTw/7G/zx+Hy7DUoxAGmTPCjODqFK3kCZyIX0IxQdR0cdrnm3l8e/jHM+2VWQEfgnXW/4ixcfitz/fq0dgvl7qaK/B2X8jUgdHBBmNZgfwnijQif8HLgTYBUsqH383hzj+CxLh+mnn/dLAuS8ID7qX2h999X8N/issds/sazn/gC/zte36j3ZIKyBktbnuwGCn83yyDBSrQ9hk7WYSJl6aUD/tQ/m/A/8ec/LsULyzwhYpJNla0HOwevjfjW54mBVqBXsP6+/+FKaaaXR0/Dk/OL/vungLf/dVSh/wPLI1v50xycNz37OcK4PwTw/KYw0/6zFGCCvfcCpX/6Gs9xajWH9z+tx2fek/0YGGeOZYQ5vCT41JiS8+rpQD+V12YIV16Gp5B7X/QeCEfxv3/gSIEQdZf/yObaLC8aozqFecencTq/9X9//LhD4uEp4BnHnjgb24Saus0RIhTDlfbM+l7/IN/J4XgDyvx7Kq/MVUXpucnO5K5CIKsknoKg8Egflj/r4ryNj+gbhxbnJ1+8c57uZbsGBftv+Z9c7tNJUA4UZLas5MfVwL4z+UVXX3te3S5QiOXSBLIUCAjwfwXqDom309frgUd3+rywVef8fY/FsndUwYegkTFm857vCsrAfzP3ndvcW6sySCKiYmJCdT/DeI/Ii8cfLs8M0D2/y1PYyKFG+D/JhqMah9OnSkCDrlY33b79Yrf/w9Z7Kho+nRvgyIOZB5/VJrb8xL0pDqytIq0rKKGg70/dQCeR8UVHevpqMrTymWK7NLuR++8Q23+YQa8sC4WJcb6o2JPXNF0ontPtUmdLFEZHVf+8E1fwSdrsaWORcVoMOQ/O84Rcyda7PTMryzPDRZR5HRjFI4+z7TXO/Pm+dT4+fafHwX4/wiCqEp7fn8JGrXk6FTp2WmiWYr/kkN0+gow/vduBgxNDXj87f/U/K67T73v3s48m7rXs7eb5v9HxdnOjk5jLWesMw98XPAhRjIpcqwxxto2+PtL7+dl39yLez+48IbrBvgPtMw3yWAEERW0Dz994303M/30weCBzrF5H61WZ3sPJI3n7r14B7JJIowgSFpp1yjam/DBO/Pkt+EjVYDnXIHt5PXJ5zNefFzwtH9cEIs9q773MVpYaxj/k9ScHPtzGkT1aZE+YMmYOpEBZoNh/U/gA38hAjsPAcj/nVfmMMcQAQIByH8CCfgLEdh5CED+77wy/wZyLCpp7+m93Bv87+wuf8/5N5CPDZmoKu26yJT3H884lOTsog3FHBwI8j8YE3gFIrBTEID83yklDfMJEQhGAPI/GBN4BSKwUxCA/N8pJQ3zCREIRgDyPxiTb/jKztP/+oYLCzNd77o197hzuzY+hPz/5l+g4AyEWP/33el/0XO/geU09Ci+4jxOa++68cudt3cevx0bveVKR7cz5muthwcu3nw+Nrkwcfevi4d3qWIpomlcXs7Qy/eYrMtXpLzBoJD/GwQukoOF4P9qZm+PnNZqVq3j/jbyPzrReml64saYq7RYZ7Rll+22p6JCBsqGIz8PttXVZ2dZjXWnLj70jXU1UuZyI4j91POlJ4dSwDKecP9B/ocb8bWnB/W/2LDagJxWnNrR68a3Rb//a3tGPIiby6sYnfPd7uu+89eM1+t9+ltPhYZMM8bSPIgJli3OTXsGnauOvZsO997/s02D1vlkLLQDTlTKsQd3PL9aCSURcD/OeOH1l6kDrKKstDg28xTyfzPR3Ny4oP4XI57YWvd1yWlFx1eMvPDe72+z6hVpWY5Lv3mnrwElJZT/K0svByuUCCdKsWtwZn6yA+M5qjI2M7DPpklWpGVV7D6Czb0B/hG5tok8eAbWMsfuGpu41lu+65feOzNjd/+6eGyvjurnY3nhcHUn/7wzfF5HzRo3uuqO798buwJ0QagPbN0x5P/WYfv1MUP9LwYMNyCnlb3/3vun3Tpi8pw0t3d2Ycwhwfn/+ylcfUxo6Hr2YepwNkg0Prf37fK9fQE8BdcTUg3GbJo0mEGviMEq9t9nrvees+uNqoI9XbcXrh9xEOKtRD7SnKfvz5wrxRPEr3K4Ob+8+PfxuaDEiFBb9wv5v3XYbkLMUP+LCcT1ymkxCBaD/VF0uP8/5MRX8EfxnXcWff114JQrsF1+5Ps0P3Xneu/pw87MZIohwdJgQIFHdezBnUePXan4V0a8a2ziznU71c+X2ffeePPrkeqAxj+q3pNx+e9/n1zMoKQRpkPI/zABvbFkoP4XC27rktMC/H93m0FWGGv/k+qD0cK2Bx9x/gNaRonSC5wHTw3enfYtzw6Xg09ACP9fvM9958FoMUn4yr6xh3erRURXf1Ju2403v55wSYNzxOHab7z99+6x1OBbW30F8n+rEf7K+KH+VygA1yinlb1/cnE2QEAFixRr/5NqXGJLz8sl3P+npspLaHuw6L1cA/wCNv8fQZCSC9cfTTLX/9Ic19WX10+0plCjJY95iXv/XHl/qYy8EL4DyP/wYb2xlKD+Fw23DchpRSc4/vPa98LdUZqpUKaZypxdAz+3KXl4+3957t6RSoNSV3Te4yX7/8TW9gtdTqtRIZVpqw7fmvcx76dGtU2Y4frPu7HLJ6xqdYq55cjthbGuWtD+F2fUD7+ZuHLJnp6l0qL/1OqAfgFVzdjHheESerOAGvdWHUP+bxWymxUv1P+iIbkxOS2R1tE75t8256dDNqL/3zd+vmPiKdiY6OU9//hfrL7t6p2pWa/v87IP7LBUH7DDEs0k8lRbs/eXx2OTC3cevug9eRDv/8840PvEd4f67+HtcrJdgCCi9rGlZ7/Yid5JMrJwHED+hwNlmEZkIoC1//sbCAXP7bBSoO78a/Fes3/eQViNgPwPK9wwsYhCIBL4r8w/1NGwDSN/WEFA/kfUCwmNCSsCkcD/sGY4KDHI/yBI4IXtR2BH63+FE37I/3CiDdOCCEQWApD/kVUe0BqIQDgRgPwPJ9owLYhAZCEA+R9Z5QGtgQiEEwHI/3CiDdOCCEQWApD/kVUe0BqIQDgRgPwPJ9owLYhAZCEA+R9Z5QGtgQiEEwHI/3CiDdOCCEQWApD/kVUe0BqIQDgRgPwPJ9owLYhAZCHwX0r4BxGACOxUBCD/d2rJw3xDBJRKyH/4FkAEdi4CkP87t+xhziECkP/wHYAI7FwEIP93btnDnEMEIP/hOwAR2LkIQP7v3LKHOYcIQP7DdwAisHMRgPzfuWUPcw4RCB//VVrXrbml8aM6CDpEACIQIQhg/Ncddy99Cfy7123aXBM3xH/Tngvuh3+9Wvz0Zfn1QBnLp0NfevHlx+nuSmCvsXDfL+N/vJ5bWPq0NP/qj8ETVekqcF2lLh36h5rDpbHDLNFtbrZhbBCBCEbAz/+lp31N1VXEX6k9e5Ot3hD/bYcvX718tvPSf+bY+W/suD739s7hLJTneYdu/O7uO3F4V32dq7P3jw9fFsaPgg8Zyv+lv67swjNYXmrN2OQMwuggAt8cAn7+f/zzFEYhah4MVQMzS1PXf/I8n1lYWJj7c7SzUI/f15pdfTenvR+/rPjm/rx5robiLqgNVaeH7r/2Lq0sLcz+7TnXjDIQ9f/dP+y7+vurpaUl7zP34fK11sCNl6bZ+K/LPTW1+OpyE0NUKnXpwN9f5if2aQn+3ztno+YOHkMEdjgCq/N/duXL3G+deWlKTbbr+j9LT3+p0gLMCi4+XFqcGthdYSuqPnzznyWyBlYqC3ruLXx45T7eWmrLK3Ae7PvpeAGogQH/v/hm75/fW1VUue/ak6X39w5jzvmqZcDOf93u/lcLf5yyoJU/LR6Vumrk+ZenV6qI+v/Lx4WFpaWl97NT7su7LGg2aEHgKURgRyHg5z+1cfzly6vL9QAHUP8vz/U345gUH//DN3u1Ok2ZVnBxennusguvdXN2uxeX/jiKVq5okFc/1NErZIz/T/pKsbiKjt7HoloL3Gz815oPP3w/9+teelpYnGVHPAsL948VY2e2fWfOHdxVX1VTf+iCZ+bjlyf4h2wt6cNnIALfJwJ+/lPb/5XlBdnpIMOo/48TW6lUmltuLC7dP5jjP8BQSbOfA5+DJnBWdPT+x8UbTjQ4FTO8/d+Jc9Wy1+ObZ3iMGoQ8ZuN/ww/Ti08vFjLR39I48OL9q1/3UZolZHRKXfNPrz7P36gPMtL/CDyCCOwABPz8Z2///3EiH0cC8P/T1/GfGP/7ev6rDbtuzeLde7SSyqnv++f93Mgx1ta+db9n5TPICPyDCOxkBNbA/+UF0sGu6Z769A73/1+BCh+veRn8/1p6pUzr//96/lec+uPDq4Fqoj+SLMUcx8V/3s2NdxWEaOA3X4b1PwkYPNi5CPj5T/X/q6pK8y2AwIaqgdmVL4tPQT9fScOpB7OgOw10p2sKeh8R/X+VoP9v7rdOYvgA7f97fuN4c6ktt8Cx69yFDrL/zz//Z438z7SVllVVHb326tPsjf01VaXlNnw8X1s//nLpXje9hs+suPjX+6W/ru0jBjKrSgqMaEbOXb9y7tAeV11N/cFz7pmPS7D9v3PfephzAgE//wP7//Buc6z933/+xot3SytLtPG/XQOe6cUlMP73961zNRRfmjL+tzT7LGD8j5z/tzb+0ycmrSy7Ww3A9qIOz/t3N5xBY/g13VO0jGDtGn1x5+2/Xi2is5zez06NXnbB/n/iHYC/OxcBjP+s+TdUDbxZun/QyvrAttwAk3n+Xnr0I3Ar4B9EACKwYQS+Sf5rza4zlzqpM442nH8YECKwkxH4Jvm/kwsM5h0isIkIrML/TUwJRgURgAhEGgKQ/5FWItAeiED4EID8Dx/WMCWIQKQh8H3y37LXs4wOA768hi5jiDTUoT0QgXAhoFLXj78GZFj57NmbSU8V47+puevq70/nsMH8x7cvNufhz2lNp/7GmITSaeWzfy2A2lB1fmTq3YeljwuvHl4/nJdGjxpb8zf+eunWSTBLR60vPf6z5+mrhaVPX3zvpu8M7iODkHTFhu6XX/SRU/qNhYdvTIJxe9+7qauncTEPhpQCL2GTC+D0/kBU4NnORSC78eq7JRb+q9RVP929f+VC5x5XfeOuU54XS8sv+jCxHa3p1NTHV0NH8Nl0leUFBg0GIlDd+PTG3dFQUNF0bvLtl6dX6oPn2xZ13J+fvVGPztJJs5+aeHDjh659zrr6ts6rzxa/vBxxYUEsez0fFz2dtXgqJUUm7LpKWz/y/Mvc7+eaygpcx9wzy3O/7gOT+Vb9g/xfFSL4wI5CIBT/aUDk7HYvfZrqLgOXUf5P/1BNe0Spzer807d06wS+uq6me+rzPH02nkpdNfTP0qOLjLN0dHsG5z7NDlSjXgMbXdHlRlMnSrDUTefuLL1/QM4ypptEPWeLkPoMPIYI7BwE1sF/+8H7S8ScP9T/X1rwAtmM2ef3+w7ii2qM9Ve9n3DJPaC6h50GfiZsu93v592tZkaQdR3XF5amzuWpwV3LXs/Sp6WFhaWPHxaeT149XINX8g0/TH9C5QawKBznpz+9u1rH1NCgpRHEf13nOF3g8MsX4ICkFVx8RWngYA0QtJmz/iB5eEMLi4T4HwgNFh29T5z6f5df9BXp2YIYocF+pNAjUCgQYRooq7zDflqslf9qQ/31f5b+uebCltloMl2nz3e2NVVV1+26ODK99Gnu172AnKiPcP9Qbmnvw4XXnsP2kouvluf6W/3pKZUFfX+SYkHU6+A4o/jcs8W564dw9yG9ohO0CxxVja2dN/5c+Lzo2WcHj+3/dW55+mJJ7uEHbxfunS8tOnp/ZdmDzf+nxxh4HsR/JbaOiFwUhB6UFtt0Kp2psDzwclUV1sxZfxCdpaSUHhcqNKjJLCij36hCmzmsQdaf+gbyyJo6NJhWXN/oK0HSYk38V2kLzt6ee/fHOVLkjwwPOvM0BX1/fsFEu9Aa+/6hXFv32PQfw7ssxXT+g/Q+3D+E0pgaCWhTmPdNvFx48ks9o/iXNqvzj4Uvv18AXYYY/4tzdt14PD1yzPY1/Ac2aIL+YZYFX8f7OIKeD3Edu7WJUUGDg8FkxCREoWx6+TIaEDqV4FyE2WDUvNX5r9LYTv1n7t1UX03QIAGWQaVSd2B4YenpuTwt4fCjkttM/r/p3J0FsnuPCA5+teZdY/8sTF3fRSwWpt4Exyp11dXnX54OgXE76P/T3D3YYMGGsgJhgS0stjasn1yr8F+lsZ0ce+V92hdyUY2NrP9p/X8VpwL6/9Ir+l5+nDqB9iD6TVAqNdmA/P+M7coKHiogntNkH35I1P+B/X/G07c23v8H3Wkmhxb6/zRUvrcmIcEqZWj+246NvPK985xuI+AoL7Wiy+wrj129crGzzVlf3bjr/LUpsv2vVAaM/6G6IOT4n7FzfOHt7X00916T6br+99K7x32txC4DhJiHqeNnbFwQtP+HHy18nvfsywWWY+N/b+6j439H4PgfWZrwACKwPgRC8V+l3XV7PtCl+oJr/pbsu4rN2Fn5BJQ8Lu73i2oR83+A/gd1/k+a/dyzj69+qKXbh0kJUZMhxDyMB3r/eD23tPzly8rSwvOHVw9X+gf5sfk/6JShqRvdcP4PHVV4DhFYCwKh+L+W8Gt+Rrf/17n3v69plH7Nca77weD+/3VHAQNABL4jBMLEf5WmoP3cxf2VdPHPMCNp2esG3sSnJawfMcypw+QgApGDgEpdP/Jy6cunLyvLLPN/I8dWaAlEACIQTgS+z/V/4UQQpgUR+HYRgPz/dssOWg4R+FoEIP+/FkEYHiLw7SIQPv7T9v/5diGDlkMEvhsE/h9VmQJDKNQjGwAAAABJRU5ErkJggg==)\n",
        "\n"
      ],
      "metadata": {
        "id": "uT5QXtBsbyDG"
      }
    },
    {
      "cell_type": "code",
      "source": [
        "# Continue training for 4 more epochs\n",
        "model_1_history_continued = model_1.fit(train_dataset,\n",
        "                                        steps_per_epoch = int(0.1 * len(train_dataset)),\n",
        "                                        epochs = 7,\n",
        "                                        initial_epoch = model_1_history.epoch[-1] + 1,\n",
        "                                        validation_data = valid_dataset,\n",
        "                                        validation_steps = int(0.1 * len(valid_dataset)))\n"
      ],
      "metadata": {
        "colab": {
          "base_uri": "https://localhost:8080/"
        },
        "id": "f0GhneieYjeE",
        "outputId": "b83d7865-026e-4028-d8d1-5119de18617f"
      },
      "execution_count": 45,
      "outputs": [
        {
          "output_type": "stream",
          "name": "stdout",
          "text": [
            "Epoch 4/7\n",
            "562/562 [==============================] - 9s 16ms/step - loss: 0.5177 - accuracy: 0.8180 - val_loss: 0.5859 - val_accuracy: 0.7912\n",
            "Epoch 5/7\n",
            "562/562 [==============================] - 7s 12ms/step - loss: 0.4566 - accuracy: 0.8395 - val_loss: 0.5938 - val_accuracy: 0.7879\n",
            "Epoch 6/7\n",
            "562/562 [==============================] - 7s 13ms/step - loss: 0.4410 - accuracy: 0.8456 - val_loss: 0.6043 - val_accuracy: 0.7799\n",
            "Epoch 7/7\n",
            "562/562 [==============================] - 4s 7ms/step - loss: 0.5845 - accuracy: 0.7914 - val_loss: 0.5691 - val_accuracy: 0.7942\n"
          ]
        }
      ]
    },
    {
      "cell_type": "markdown",
      "source": [
        "Cant se much improvements so we stop here.\n"
      ],
      "metadata": {
        "id": "MLxJuTyUZTEd"
      }
    },
    {
      "cell_type": "code",
      "source": [
        "# Evaluate on whole validation dataset (we only validated on 10% of batches during training)\n",
        "model_1.evaluate(valid_dataset)"
      ],
      "metadata": {
        "colab": {
          "base_uri": "https://localhost:8080/"
        },
        "id": "stHXgLxuZiJa",
        "outputId": "cb3fee64-ed5e-4324-a954-d2d301467ae9"
      },
      "execution_count": 46,
      "outputs": [
        {
          "output_type": "stream",
          "name": "stdout",
          "text": [
            "945/945 [==============================] - 3s 4ms/step - loss: 0.5669 - accuracy: 0.7974\n"
          ]
        },
        {
          "output_type": "execute_result",
          "data": {
            "text/plain": [
              "[0.5668894052505493, 0.7973983883857727]"
            ]
          },
          "metadata": {},
          "execution_count": 46
        }
      ]
    },
    {
      "cell_type": "code",
      "source": [
        "# Make predictions (our model outputs prediction probabilities for each class)\n",
        "model_1_pred_probs = model_1.predict(valid_dataset)\n",
        "model_1_pred_probs"
      ],
      "metadata": {
        "colab": {
          "base_uri": "https://localhost:8080/"
        },
        "id": "vGiZgkDvZi5s",
        "outputId": "800b476e-b4b4-4fae-8458-c2962ad68a62"
      },
      "execution_count": 47,
      "outputs": [
        {
          "output_type": "stream",
          "name": "stdout",
          "text": [
            "945/945 [==============================] - 3s 3ms/step\n"
          ]
        },
        {
          "output_type": "execute_result",
          "data": {
            "text/plain": [
              "array([[5.7658255e-01, 1.2376239e-01, 1.2665381e-01, 7.6851591e-02,\n",
              "        9.6149623e-02],\n",
              "       [5.0411922e-01, 2.8354311e-01, 4.8267320e-02, 1.3554512e-01,\n",
              "        2.8525198e-02],\n",
              "       [2.3958290e-01, 1.9898959e-03, 9.3377160e-04, 7.5748152e-01,\n",
              "        1.1958426e-05],\n",
              "       ...,\n",
              "       [9.7232014e-06, 1.8750176e-04, 8.4934756e-04, 3.8594681e-06,\n",
              "        9.9894959e-01],\n",
              "       [1.4016739e-01, 3.8192514e-01, 8.5489921e-02, 5.2788660e-02,\n",
              "        3.3962893e-01],\n",
              "       [5.6232203e-02, 9.0665299e-01, 1.4680096e-02, 2.2005963e-03,\n",
              "        2.0234138e-02]], dtype=float32)"
            ]
          },
          "metadata": {},
          "execution_count": 47
        }
      ]
    },
    {
      "cell_type": "code",
      "source": [
        "# Convert pred probs to classes\n",
        "model_1_preds = tf.argmax(model_1_pred_probs, axis=1)\n",
        "model_1_preds"
      ],
      "metadata": {
        "colab": {
          "base_uri": "https://localhost:8080/"
        },
        "id": "YQ3g3gB4ZlVO",
        "outputId": "a1988eeb-437c-4678-8c69-f9956302f3f9"
      },
      "execution_count": 48,
      "outputs": [
        {
          "output_type": "execute_result",
          "data": {
            "text/plain": [
              "<tf.Tensor: shape=(30212,), dtype=int64, numpy=array([0, 0, 3, ..., 4, 1, 1])>"
            ]
          },
          "metadata": {},
          "execution_count": 48
        }
      ]
    },
    {
      "cell_type": "code",
      "source": [
        "model_1_results = calculate_results(y_true=val_labels_encoded,\n",
        "                                    y_pred=model_1_preds)\n",
        "model_1_results"
      ],
      "metadata": {
        "colab": {
          "base_uri": "https://localhost:8080/"
        },
        "id": "cszbmgmeZnPX",
        "outputId": "c044675e-c51f-4d97-c194-41e849515a38"
      },
      "execution_count": 49,
      "outputs": [
        {
          "output_type": "execute_result",
          "data": {
            "text/plain": [
              "{'accuracy': 79.73983847477824,\n",
              " 'precision': 0.7981777362527064,\n",
              " 'recall': 0.7973983847477824,\n",
              " 'f1': 0.7935545034610154}"
            ]
          },
          "metadata": {},
          "execution_count": 49
        }
      ]
    },
    {
      "cell_type": "markdown",
      "source": [
        "## **Model 2:** Feature Extraction with Pretrained token embeddings"
      ],
      "metadata": {
        "id": "OWkhDzKQZuZi"
      }
    },
    {
      "cell_type": "markdown",
      "source": [
        "In [*Neural Networks for Joint Sentence Classification\n",
        "in Medical Paper Abstracts*](https://arxiv.org/pdf/1612.05251.pdf), it mentions they used a [pretrained GloVe embedding](https://nlp.stanford.edu/projects/glove/) as a way to initialise their token embeddings."
      ],
      "metadata": {
        "id": "zt_wVqTeZ0gA"
      }
    },
    {
      "cell_type": "code",
      "source": [
        "# Download pretrained TensorFlow Hub USE\n",
        "import tensorflow_hub as hub\n",
        "tf_hub_embedding_layer = hub.KerasLayer(\"https://tfhub.dev/google/universal-sentence-encoder/4\",\n",
        "                                        trainable=False,\n",
        "                                        name=\"universal_sentence_encoder\")"
      ],
      "metadata": {
        "id": "jZOyoQQwaD9b"
      },
      "execution_count": 50,
      "outputs": []
    },
    {
      "cell_type": "code",
      "source": [
        "random_training_sentence = random.choice(train_sentences)\n",
        "print(f\"Random training sentence:\\n{random_training_sentence}\\n\")\n",
        "use_embedded_sentence = tf_hub_embedding_layer([random_training_sentence])\n",
        "print(f\"Sentence after embedding:\\n{use_embedded_sentence[0][:30]} (truncated output)...\\n\")\n",
        "print(f\"Length of sentence embedding:\\n{len(use_embedded_sentence[0])}\")"
      ],
      "metadata": {
        "colab": {
          "base_uri": "https://localhost:8080/"
        },
        "id": "8YHtgEghaQsc",
        "outputId": "cd2f997f-36cc-45fd-f65b-f17e0c5bba61"
      },
      "execution_count": 51,
      "outputs": [
        {
          "output_type": "stream",
          "name": "stdout",
          "text": [
            "Random training sentence:\n",
            "needle rotation increases the magnitude of hypoalgesia .\n",
            "\n",
            "Sentence after embedding:\n",
            "[ 0.05816362 -0.05107415  0.05870123  0.02122435  0.03469369  0.02148847\n",
            "  0.02818761 -0.06899417 -0.00554681  0.04278538  0.04157604  0.03017227\n",
            "  0.01409293 -0.00047562  0.07431327 -0.00268744 -0.04925302 -0.06005758\n",
            " -0.05128894  0.02582338 -0.05431647  0.04793194  0.05867303  0.01330288\n",
            "  0.04620881  0.0252141  -0.0632267  -0.05155329 -0.01449947 -0.0260426 ] (truncated output)...\n",
            "\n",
            "Length of sentence embedding:\n",
            "512\n"
          ]
        }
      ]
    },
    {
      "cell_type": "code",
      "source": [
        "# Modelling\n",
        "inputs = layers.Input(shape= [], dtype = tf.string)\n",
        "pretrained_embeddings = tf_hub_embedding_layer(inputs)\n",
        "x = layers.Dense(128,activation = \"relu\")(pretrained_embeddings)\n",
        "outputs = layers.Dense(5,activation = \"softmax\")(x)\n",
        "model_2 = tf.keras.Model(inputs = inputs,\n",
        "                         outputs = outputs)\n",
        "\n",
        "model_2.compile(loss = \"categorical_crossentropy\",\n",
        "                optimizer = tf.keras.optimizers.Adam(),\n",
        "                metrics = [\"accuracy\"])"
      ],
      "metadata": {
        "id": "u9yKjw2kabMp"
      },
      "execution_count": 52,
      "outputs": []
    },
    {
      "cell_type": "code",
      "source": [
        "model_2.summary()"
      ],
      "metadata": {
        "colab": {
          "base_uri": "https://localhost:8080/"
        },
        "id": "Hx1uSVgtbEPM",
        "outputId": "159cdffb-dfde-44cd-e327-ef796b268b16"
      },
      "execution_count": 53,
      "outputs": [
        {
          "output_type": "stream",
          "name": "stdout",
          "text": [
            "Model: \"model_1\"\n",
            "_________________________________________________________________\n",
            " Layer (type)                Output Shape              Param #   \n",
            "=================================================================\n",
            " input_2 (InputLayer)        [(None,)]                 0         \n",
            "                                                                 \n",
            " universal_sentence_encoder  (None, 512)               256797824 \n",
            "  (KerasLayer)                                                   \n",
            "                                                                 \n",
            " dense_1 (Dense)             (None, 128)               65664     \n",
            "                                                                 \n",
            " dense_2 (Dense)             (None, 5)                 645       \n",
            "                                                                 \n",
            "=================================================================\n",
            "Total params: 256864133 (979.86 MB)\n",
            "Trainable params: 66309 (259.02 KB)\n",
            "Non-trainable params: 256797824 (979.61 MB)\n",
            "_________________________________________________________________\n"
          ]
        }
      ]
    },
    {
      "cell_type": "code",
      "source": [
        "model_2_history = model_2.fit(train_dataset,\n",
        "            steps_per_epoch = int(0.1 * len(train_dataset)),\n",
        "            epochs = 7,\n",
        "            validation_data = valid_dataset,\n",
        "            validation_steps = int(0.1 * len(valid_dataset))\n",
        "            )"
      ],
      "metadata": {
        "colab": {
          "base_uri": "https://localhost:8080/"
        },
        "id": "MAmRwJq2bIIZ",
        "outputId": "e9709e2a-ef1f-4fd4-e416-11fb0bf903e7"
      },
      "execution_count": 54,
      "outputs": [
        {
          "output_type": "stream",
          "name": "stdout",
          "text": [
            "Epoch 1/7\n",
            "562/562 [==============================] - 12s 14ms/step - loss: 0.9147 - accuracy: 0.6512 - val_loss: 0.7968 - val_accuracy: 0.6875\n",
            "Epoch 2/7\n",
            "562/562 [==============================] - 9s 16ms/step - loss: 0.7682 - accuracy: 0.7018 - val_loss: 0.7561 - val_accuracy: 0.7064\n",
            "Epoch 3/7\n",
            "562/562 [==============================] - 9s 16ms/step - loss: 0.7516 - accuracy: 0.7134 - val_loss: 0.7397 - val_accuracy: 0.7138\n",
            "Epoch 4/7\n",
            "562/562 [==============================] - 7s 13ms/step - loss: 0.7183 - accuracy: 0.7251 - val_loss: 0.7115 - val_accuracy: 0.7320\n",
            "Epoch 5/7\n",
            "562/562 [==============================] - 9s 16ms/step - loss: 0.7260 - accuracy: 0.7210 - val_loss: 0.6912 - val_accuracy: 0.7337\n",
            "Epoch 6/7\n",
            "562/562 [==============================] - 9s 16ms/step - loss: 0.7184 - accuracy: 0.7273 - val_loss: 0.6848 - val_accuracy: 0.7327\n",
            "Epoch 7/7\n",
            "562/562 [==============================] - 8s 14ms/step - loss: 0.6857 - accuracy: 0.7408 - val_loss: 0.6692 - val_accuracy: 0.7453\n"
          ]
        }
      ]
    },
    {
      "cell_type": "code",
      "source": [
        "history_2_continued = model_2.fit(train_dataset,\n",
        "            steps_per_epoch = int(0.1 * len(train_dataset)),\n",
        "            epochs = 10,\n",
        "            initial_epoch = model_2_history.epoch[-1] + 1,\n",
        "            validation_data = valid_dataset,\n",
        "            validation_steps = int(0.1 * len(valid_dataset))\n",
        "            )"
      ],
      "metadata": {
        "colab": {
          "base_uri": "https://localhost:8080/"
        },
        "id": "-hgWo5OadV3G",
        "outputId": "6c92ef40-acca-462c-8b42-26f927605a03"
      },
      "execution_count": 55,
      "outputs": [
        {
          "output_type": "stream",
          "name": "stdout",
          "text": [
            "Epoch 8/10\n",
            "562/562 [==============================] - 9s 16ms/step - loss: 0.6802 - accuracy: 0.7408 - val_loss: 0.6629 - val_accuracy: 0.7437\n",
            "Epoch 9/10\n",
            "562/562 [==============================] - 8s 14ms/step - loss: 0.6609 - accuracy: 0.7488 - val_loss: 0.6620 - val_accuracy: 0.7407\n",
            "Epoch 10/10\n",
            "562/562 [==============================] - 9s 15ms/step - loss: 0.6589 - accuracy: 0.7481 - val_loss: 0.6628 - val_accuracy: 0.7463\n"
          ]
        }
      ]
    },
    {
      "cell_type": "code",
      "source": [
        "model_2.evaluate(valid_dataset)"
      ],
      "metadata": {
        "colab": {
          "base_uri": "https://localhost:8080/"
        },
        "id": "7BUSfTESeSTb",
        "outputId": "2fb12683-ca28-4ffa-c43b-ddf2d42caf39"
      },
      "execution_count": 56,
      "outputs": [
        {
          "output_type": "stream",
          "name": "stdout",
          "text": [
            "945/945 [==============================] - 12s 12ms/step - loss: 0.6652 - accuracy: 0.7451\n"
          ]
        },
        {
          "output_type": "execute_result",
          "data": {
            "text/plain": [
              "[0.6651833653450012, 0.745101273059845]"
            ]
          },
          "metadata": {},
          "execution_count": 56
        }
      ]
    },
    {
      "cell_type": "code",
      "source": [
        "# Make predictions with feature extraction model\n",
        "model_2_pred_probs = model_2.predict(valid_dataset)\n",
        "model_2_pred_probs"
      ],
      "metadata": {
        "colab": {
          "base_uri": "https://localhost:8080/"
        },
        "id": "Cu-bCP-1emKT",
        "outputId": "34b43476-7e86-4c85-9b9c-37b9e9d5b999"
      },
      "execution_count": 57,
      "outputs": [
        {
          "output_type": "stream",
          "name": "stdout",
          "text": [
            "945/945 [==============================] - 11s 11ms/step\n"
          ]
        },
        {
          "output_type": "execute_result",
          "data": {
            "text/plain": [
              "array([[4.3330163e-01, 3.6561239e-01, 8.0259441e-04, 1.9635269e-01,\n",
              "        3.9305966e-03],\n",
              "       [3.2388687e-01, 5.3060186e-01, 3.3298589e-03, 1.4130430e-01,\n",
              "        8.7710220e-04],\n",
              "       [3.8212207e-01, 3.9612360e-02, 2.0633319e-02, 5.4000711e-01,\n",
              "        1.7625183e-02],\n",
              "       ...,\n",
              "       [1.1186955e-03, 1.4208228e-03, 2.3122387e-02, 3.1900386e-04,\n",
              "        9.7401911e-01],\n",
              "       [4.4433167e-03, 6.1380032e-02, 1.2360145e-01, 1.4522645e-03,\n",
              "        8.0912292e-01],\n",
              "       [1.0807590e-01, 7.8694201e-01, 9.2091277e-02, 1.7304617e-03,\n",
              "        1.1160418e-02]], dtype=float32)"
            ]
          },
          "metadata": {},
          "execution_count": 57
        }
      ]
    },
    {
      "cell_type": "code",
      "source": [
        "# Convert the predictions with feature extraction model to classes\n",
        "model_2_preds = tf.argmax(model_2_pred_probs, axis=1)\n",
        "model_2_preds"
      ],
      "metadata": {
        "colab": {
          "base_uri": "https://localhost:8080/"
        },
        "id": "eHn9tOO1ency",
        "outputId": "87a83d1d-1c50-43e7-c64e-d05f8eb60b4b"
      },
      "execution_count": 58,
      "outputs": [
        {
          "output_type": "execute_result",
          "data": {
            "text/plain": [
              "<tf.Tensor: shape=(30212,), dtype=int64, numpy=array([0, 1, 3, ..., 4, 4, 1])>"
            ]
          },
          "metadata": {},
          "execution_count": 58
        }
      ]
    },
    {
      "cell_type": "code",
      "source": [
        "# Calculate results from TF Hub pretrained embeddings results on validation set\n",
        "model_2_results = calculate_results(y_true=val_labels_encoded,\n",
        "                                    y_pred=model_2_preds)\n",
        "model_2_results"
      ],
      "metadata": {
        "colab": {
          "base_uri": "https://localhost:8080/"
        },
        "id": "nO3kXbVoepE8",
        "outputId": "4d0d7c37-4812-463a-e111-a61862af2a8e"
      },
      "execution_count": 59,
      "outputs": [
        {
          "output_type": "execute_result",
          "data": {
            "text/plain": [
              "{'accuracy': 74.51012842579108,\n",
              " 'precision': 0.7435284151360361,\n",
              " 'recall': 0.7451012842579108,\n",
              " 'f1': 0.7428447993304679}"
            ]
          },
          "metadata": {},
          "execution_count": 59
        }
      ]
    },
    {
      "cell_type": "markdown",
      "source": [
        "## **Model 3**: Conv1D with character embeddings\n",
        "The [*Neural Networks for Joint Sentence Classification\n",
        "in Medical Paper Abstracts*](https://arxiv.org/pdf/1612.05251.pdf) paper mentions their model uses a hybrid of token and character embeddings."
      ],
      "metadata": {
        "id": "lWE8EoOleqZK"
      }
    },
    {
      "cell_type": "code",
      "source": [
        "def split_chars(text):\n",
        "  return \" \".join(list(text))\n",
        "\n",
        "split_chars(random_training_sentence)"
      ],
      "metadata": {
        "colab": {
          "base_uri": "https://localhost:8080/",
          "height": 53
        },
        "id": "V5rKUFdhe-Lr",
        "outputId": "19db8335-63d8-4810-c487-ceae2d428c97"
      },
      "execution_count": 60,
      "outputs": [
        {
          "output_type": "execute_result",
          "data": {
            "text/plain": [
              "'n e e d l e   r o t a t i o n   i n c r e a s e s   t h e   m a g n i t u d e   o f   h y p o a l g e s i a   .'"
            ],
            "application/vnd.google.colaboratory.intrinsic+json": {
              "type": "string"
            }
          },
          "metadata": {},
          "execution_count": 60
        }
      ]
    },
    {
      "cell_type": "code",
      "source": [
        "train_chars = [split_chars(sentence) for sentence in train_sentences]\n",
        "val_chars = [split_chars(sentence) for sentence in val_sentences]\n",
        "test_chats = [split_chars(sentence) for sentence in test_sentences]"
      ],
      "metadata": {
        "id": "9wwUKh06frPC"
      },
      "execution_count": 61,
      "outputs": []
    },
    {
      "cell_type": "code",
      "source": [
        "print(train_chars[0])"
      ],
      "metadata": {
        "colab": {
          "base_uri": "https://localhost:8080/"
        },
        "id": "X5W1Xac7fjTw",
        "outputId": "9e0dc922-ff52-48be-9463-8287148a9581"
      },
      "execution_count": 62,
      "outputs": [
        {
          "output_type": "stream",
          "name": "stdout",
          "text": [
            "t o   i n v e s t i g a t e   t h e   e f f i c a c y   o f   @   w e e k s   o f   d a i l y   l o w - d o s e   o r a l   p r e d n i s o l o n e   i n   i m p r o v i n g   p a i n   ,   m o b i l i t y   ,   a n d   s y s t e m i c   l o w - g r a d e   i n f l a m m a t i o n   i n   t h e   s h o r t   t e r m   a n d   w h e t h e r   t h e   e f f e c t   w o u l d   b e   s u s t a i n e d   a t   @   w e e k s   i n   o l d e r   a d u l t s   w i t h   m o d e r a t e   t o   s e v e r e   k n e e   o s t e o a r t h r i t i s   (   o a   )   .\n"
          ]
        }
      ]
    },
    {
      "cell_type": "code",
      "source": [
        "char_lens = [len(sentence) for sentence in train_sentences]\n",
        "mean_char_len = np.mean(char_lens)\n",
        "mean_char_len"
      ],
      "metadata": {
        "colab": {
          "base_uri": "https://localhost:8080/"
        },
        "id": "AK3Prq0Kf_UN",
        "outputId": "f183627b-acb7-41bf-87b8-22d67de95e07"
      },
      "execution_count": 63,
      "outputs": [
        {
          "output_type": "execute_result",
          "data": {
            "text/plain": [
              "149.3662574983337"
            ]
          },
          "metadata": {},
          "execution_count": 63
        }
      ]
    },
    {
      "cell_type": "code",
      "source": [
        "import matplotlib.pyplot as plt\n",
        "plt.hist(char_lens, bins = 7)"
      ],
      "metadata": {
        "colab": {
          "base_uri": "https://localhost:8080/",
          "height": 517
        },
        "id": "iGpZhp9_gTiZ",
        "outputId": "8ca776d1-a2e3-4aa6-8b0b-08e6b13e07fa"
      },
      "execution_count": 64,
      "outputs": [
        {
          "output_type": "execute_result",
          "data": {
            "text/plain": [
              "(array([1.41175e+05, 3.71110e+04, 1.60000e+03, 1.27000e+02, 2.10000e+01,\n",
              "        5.00000e+00, 1.00000e+00]),\n",
              " array([1.00000000e+00, 1.98857143e+02, 3.96714286e+02, 5.94571429e+02,\n",
              "        7.92428571e+02, 9.90285714e+02, 1.18814286e+03, 1.38600000e+03]),\n",
              " <BarContainer object of 7 artists>)"
            ]
          },
          "metadata": {},
          "execution_count": 64
        },
        {
          "output_type": "display_data",
          "data": {
            "text/plain": [
              "<Figure size 640x480 with 1 Axes>"
            ],
            "image/png": "[encoded data removed]"
          },
          "metadata": {}
        }
      ]
    },
    {
      "cell_type": "markdown",
      "source": [
        "Okay, looks like most of our sequences are between 0 and 200 characters long."
      ],
      "metadata": {
        "id": "qKwbgReHgdHS"
      }
    },
    {
      "cell_type": "code",
      "source": [
        "output_seq_char_len = int(np.percentile(char_lens, 95))\n",
        "output_seq_char_len"
      ],
      "metadata": {
        "colab": {
          "base_uri": "https://localhost:8080/"
        },
        "id": "7847HcM1gnf3",
        "outputId": "71e25477-160a-4671-e6ed-b471e3063755"
      },
      "execution_count": 65,
      "outputs": [
        {
          "output_type": "execute_result",
          "data": {
            "text/plain": [
              "290"
            ]
          },
          "metadata": {},
          "execution_count": 65
        }
      ]
    },
    {
      "cell_type": "markdown",
      "source": [
        "We'll set `max_tokens` (the total number of different characters in our sequences) to 28, in other words, 26 letters of the alphabet + space + OOV (out of vocabulary or unknown) tokens."
      ],
      "metadata": {
        "id": "RCSTl4D5gsvR"
      }
    },
    {
      "cell_type": "code",
      "source": [
        "import string\n",
        "alphabet = string.ascii_lowercase + string.digits + string.punctuation\n",
        "alphabet"
      ],
      "metadata": {
        "colab": {
          "base_uri": "https://localhost:8080/",
          "height": 36
        },
        "id": "zE-h9PnDg4U0",
        "outputId": "f1e504ab-609e-4cd0-fbe2-45676e2b181d"
      },
      "execution_count": 66,
      "outputs": [
        {
          "output_type": "execute_result",
          "data": {
            "text/plain": [
              "'abcdefghijklmnopqrstuvwxyz0123456789!\"#$%&\\'()*+,-./:;<=>?@[\\\\]^_`{|}~'"
            ],
            "application/vnd.google.colaboratory.intrinsic+json": {
              "type": "string"
            }
          },
          "metadata": {},
          "execution_count": 66
        }
      ]
    },
    {
      "cell_type": "code",
      "source": [
        "NUM_CHAR_TOKENS = len(alphabet) +2 # num characters in alphabet + space + OOV token"
      ],
      "metadata": {
        "id": "GqtWudvthDYk"
      },
      "execution_count": 67,
      "outputs": []
    },
    {
      "cell_type": "code",
      "source": [
        "char_vectorizer = TextVectorization(max_tokens = NUM_CHAR_TOKENS,\n",
        "                                    output_sequence_length = output_seq_char_len,\n",
        "                                    standardize = \"lower_and_strip_punctuation\",\n",
        "                                    name = \"char_vectorizer\")\n",
        "\n",
        "char_vectorizer.adapt(train_chars)"
      ],
      "metadata": {
        "id": "rgnaxTXPhnG6"
      },
      "execution_count": 68,
      "outputs": []
    },
    {
      "cell_type": "code",
      "source": [
        "# Check character vocabulary characteristics\n",
        "char_vocab = char_vectorizer.get_vocabulary()\n",
        "print(f\"Number of different characters in character vocab: {len(char_vocab)}\")\n",
        "print(f\"5 most common characters: {char_vocab[:5]}\")\n",
        "print(f\"5 least common characters: {char_vocab[-5:]}\")"
      ],
      "metadata": {
        "colab": {
          "base_uri": "https://localhost:8080/"
        },
        "id": "h9sYTrHgh-3k",
        "outputId": "b66fcbd1-b237-4847-8d3a-2b80968aff8d"
      },
      "execution_count": 69,
      "outputs": [
        {
          "output_type": "stream",
          "name": "stdout",
          "text": [
            "Number of different characters in character vocab: 28\n",
            "5 most common characters: ['', '[UNK]', 'e', 't', 'i']\n",
            "5 least common characters: ['k', 'x', 'z', 'q', 'j']\n"
          ]
        }
      ]
    },
    {
      "cell_type": "code",
      "source": [
        "# Test out character vectorizer\n",
        "random_train_chars = random.choice(train_chars)\n",
        "print(f\"Charified text:\\n{random_train_chars}\")\n",
        "print(f\"\\nLength of chars: {len(random_train_chars.split())}\")\n",
        "vectorized_chars = char_vectorizer([random_train_chars])\n",
        "print(f\"\\nVectorized chars:\\n{vectorized_chars}\")\n",
        "print(f\"\\nLength of vectorized chars: {len(vectorized_chars[0])}\")"
      ],
      "metadata": {
        "colab": {
          "base_uri": "https://localhost:8080/"
        },
        "id": "LgWTZSPbiAm3",
        "outputId": "8efd4151-a463-4591-f932-639f68071b76"
      },
      "execution_count": 70,
      "outputs": [
        {
          "output_type": "stream",
          "name": "stdout",
          "text": [
            "Charified text:\n",
            "h o w e v e r   ,   a   s m a l l   b u t   c l i n i c a l l y   s i g n i f i c a n t   m i n o r i t y   o f   p a t i e n t s   r e m a i n e d   s y m p t o m a t i c   a n d   d i s s a t i s f i e d   w i t h   v i s u a l   r e s u l t s   @   t o   @   m o n t h s   a f t e r   s u r g e r y   .\n",
            "\n",
            "Length of chars: 130\n",
            "\n",
            "Vectorized chars:\n",
            "[[13  7 20  2 21  2  8  5  9 15  5 12 12 22 16  3 11 12  4  6  4 11  5 12\n",
            "  12 19  9  4 18  6  4 17  4 11  5  6  3 15  4  6  7  8  4  3 19  7 17 14\n",
            "   5  3  4  2  6  3  9  8  2 15  5  4  6  2 10  9 19 15 14  3  7 15  5  3\n",
            "   4 11  5  6 10 10  4  9  9  5  3  4  9 17  4  2 10 20  4  3 13 21  4  9\n",
            "  16  5 12  8  2  9 16 12  3  9  3  7 15  7  6  3 13  9  5 17  3  2  8  9\n",
            "  16  8 18  2  8 19  0  0  0  0  0  0  0  0  0  0  0  0  0  0  0  0  0  0\n",
            "   0  0  0  0  0  0  0  0  0  0  0  0  0  0  0  0  0  0  0  0  0  0  0  0\n",
            "   0  0  0  0  0  0  0  0  0  0  0  0  0  0  0  0  0  0  0  0  0  0  0  0\n",
            "   0  0  0  0  0  0  0  0  0  0  0  0  0  0  0  0  0  0  0  0  0  0  0  0\n",
            "   0  0  0  0  0  0  0  0  0  0  0  0  0  0  0  0  0  0  0  0  0  0  0  0\n",
            "   0  0  0  0  0  0  0  0  0  0  0  0  0  0  0  0  0  0  0  0  0  0  0  0\n",
            "   0  0  0  0  0  0  0  0  0  0  0  0  0  0  0  0  0  0  0  0  0  0  0  0\n",
            "   0  0]]\n",
            "\n",
            "Length of vectorized chars: 290\n"
          ]
        }
      ]
    },
    {
      "cell_type": "markdown",
      "source": [
        "Due to the standardize parameter of TextVectorization being \"lower_and_strip_punctuation\" and the split parameter being \"whitespace\" by default, symbols (such as @) and spaces are removed."
      ],
      "metadata": {
        "id": "VfuH-xCviCpd"
      }
    },
    {
      "cell_type": "code",
      "source": [
        "# Creating a character-level embedding\n",
        "char_embed = layers.Embedding(input_dim = NUM_CHAR_TOKENS,\n",
        "                              output_dim = 25, # embedding dimension of each character (same as Figure 1 in https://arxiv.org/pdf/1612.05251.pdf)\n",
        "                              mask_zero = False,\n",
        "                              name = \"char_embed\"\n",
        ")"
      ],
      "metadata": {
        "id": "tgUsoqz5iR2U"
      },
      "execution_count": 71,
      "outputs": []
    },
    {
      "cell_type": "markdown",
      "source": [
        "mask_zero=True:\n",
        "```\n",
        "When mask_zero is set to True, the embedding layer will not assign an embedding vector to the token 0. Instead, it will mask out these positions, which can be useful if 0 is used as a padding value in sequences.\n",
        "This means the model will ignore the 0 value during training and evaluation.\n",
        "```"
      ],
      "metadata": {
        "id": "KI3oSNZcjLjP"
      }
    },
    {
      "cell_type": "code",
      "source": [
        "print(f\"Charified text (before vectorization and embedding):\\n{random_train_chars}\\n\")\n",
        "char_embed_example = char_embed(char_vectorizer([random_train_chars]))\n",
        "print(f\"Embedded chars (after vectorization and embedding):\\n{char_embed_example}\\n\")\n",
        "print(f\"Character embedding shape: {char_embed_example.shape}\")"
      ],
      "metadata": {
        "colab": {
          "base_uri": "https://localhost:8080/"
        },
        "id": "rego6-PMi3Mq",
        "outputId": "cef357c6-21c2-4a6e-c1d2-72da69b6a027"
      },
      "execution_count": 72,
      "outputs": [
        {
          "output_type": "stream",
          "name": "stdout",
          "text": [
            "Charified text (before vectorization and embedding):\n",
            "h o w e v e r   ,   a   s m a l l   b u t   c l i n i c a l l y   s i g n i f i c a n t   m i n o r i t y   o f   p a t i e n t s   r e m a i n e d   s y m p t o m a t i c   a n d   d i s s a t i s f i e d   w i t h   v i s u a l   r e s u l t s   @   t o   @   m o n t h s   a f t e r   s u r g e r y   .\n",
            "\n",
            "Embedded chars (after vectorization and embedding):\n",
            "[[[ 0.04334049 -0.01760757  0.00567083 ...  0.04293532 -0.04177897\n",
            "   -0.04194685]\n",
            "  [ 0.03691931  0.01959599  0.004001   ...  0.00608742  0.01750103\n",
            "   -0.00276492]\n",
            "  [ 0.01148404  0.02003833  0.03499946 ... -0.04264519 -0.00272388\n",
            "   -0.02845566]\n",
            "  ...\n",
            "  [ 0.04182067  0.03147698 -0.01639016 ...  0.00279425  0.00235639\n",
            "   -0.01864133]\n",
            "  [ 0.04182067  0.03147698 -0.01639016 ...  0.00279425  0.00235639\n",
            "   -0.01864133]\n",
            "  [ 0.04182067  0.03147698 -0.01639016 ...  0.00279425  0.00235639\n",
            "   -0.01864133]]]\n",
            "\n",
            "Character embedding shape: (1, 290, 25)\n"
          ]
        }
      ]
    },
    {
      "cell_type": "markdown",
      "source": [
        "## **Model 3:** Conv1D model with character embeddings"
      ],
      "metadata": {
        "id": "Zsi580OxjTwf"
      }
    },
    {
      "cell_type": "code",
      "source": [
        "inputs = layers.Input(shape = (1,) ,dtype = tf.string)\n",
        "char_vectors = char_vectorizer(inputs)\n",
        "char_embeddings = char_embed(char_vectors)\n",
        "x = layers.Conv1D(64, kernel_size = 5, padding = \"same\", activation = \"relu\")(char_embeddings)\n",
        "x = layers.GlobalMaxPool1D()(x)\n",
        "outputs = layers.Dense(num_classes, activation = \"softmax\")(x)\n",
        "model_3 = tf.keras.Model(inputs = inputs, outputs = outputs,\n",
        "                         name = \"model_3_conv1D_char_embeddings\")\n",
        "\n",
        "model_3.compile(loss=\"categorical_crossentropy\",\n",
        "                optimizer=tf.keras.optimizers.Adam(),\n",
        "                metrics=[\"accuracy\"])"
      ],
      "metadata": {
        "id": "t53RZ72RjeLt"
      },
      "execution_count": 73,
      "outputs": []
    },
    {
      "cell_type": "code",
      "source": [
        "model_3.summary()"
      ],
      "metadata": {
        "colab": {
          "base_uri": "https://localhost:8080/"
        },
        "id": "afoTuF8ukVlT",
        "outputId": "6fc6fcb7-5db7-4910-a47f-2de171cb3ab3"
      },
      "execution_count": 74,
      "outputs": [
        {
          "output_type": "stream",
          "name": "stdout",
          "text": [
            "Model: \"model_3_conv1D_char_embeddings\"\n",
            "_________________________________________________________________\n",
            " Layer (type)                Output Shape              Param #   \n",
            "=================================================================\n",
            " input_3 (InputLayer)        [(None, 1)]               0         \n",
            "                                                                 \n",
            " char_vectorizer (TextVecto  (None, 290)               0         \n",
            " rization)                                                       \n",
            "                                                                 \n",
            " char_embed (Embedding)      (None, 290, 25)           1750      \n",
            "                                                                 \n",
            " conv1d_1 (Conv1D)           (None, 290, 64)           8064      \n",
            "                                                                 \n",
            " global_max_pooling1d (Glob  (None, 64)                0         \n",
            " alMaxPooling1D)                                                 \n",
            "                                                                 \n",
            " dense_3 (Dense)             (None, 5)                 325       \n",
            "                                                                 \n",
            "=================================================================\n",
            "Total params: 10139 (39.61 KB)\n",
            "Trainable params: 10139 (39.61 KB)\n",
            "Non-trainable params: 0 (0.00 Byte)\n",
            "_________________________________________________________________\n"
          ]
        }
      ]
    },
    {
      "cell_type": "markdown",
      "source": [
        "Before fitting out model on the data, we'll create a char-level batched `PrefetchedDataser`'s"
      ],
      "metadata": {
        "id": "vl9z-BKtkdNk"
      }
    },
    {
      "cell_type": "code",
      "source": [
        "# Create char datasets\n",
        "train_char_dataset = tf.data.Dataset.from_tensor_slices((train_chars, train_labels_one_hot)).batch(32).prefetch(tf.data.AUTOTUNE)\n",
        "val_char_dataset = tf.data.Dataset.from_tensor_slices((val_chars, val_labels_one_hot)).batch(32).prefetch(tf.data.AUTOTUNE)\n",
        "\n",
        "train_char_dataset"
      ],
      "metadata": {
        "colab": {
          "base_uri": "https://localhost:8080/"
        },
        "id": "uhfV6y1HkqUO",
        "outputId": "25666450-0d80-4186-9786-ed3acdddf83c"
      },
      "execution_count": 75,
      "outputs": [
        {
          "output_type": "execute_result",
          "data": {
            "text/plain": [
              "<_PrefetchDataset element_spec=(TensorSpec(shape=(None,), dtype=tf.string, name=None), TensorSpec(shape=(None, 5), dtype=tf.float64, name=None))>"
            ]
          },
          "metadata": {},
          "execution_count": 75
        }
      ]
    },
    {
      "cell_type": "code",
      "source": [
        "# Fit the model on chars only\n",
        "model_3_history = model_3.fit(train_char_dataset,\n",
        "                              steps_per_epoch=int(0.1 * len(train_char_dataset)),\n",
        "                              epochs=3,\n",
        "                              validation_data=val_char_dataset,\n",
        "                              validation_steps=int(0.1 * len(val_char_dataset)))"
      ],
      "metadata": {
        "colab": {
          "base_uri": "https://localhost:8080/"
        },
        "id": "VENp14V7kuaH",
        "outputId": "cf617a55-bb3c-492a-9518-ebfa137a84c7"
      },
      "execution_count": 76,
      "outputs": [
        {
          "output_type": "stream",
          "name": "stdout",
          "text": [
            "Epoch 1/3\n",
            "562/562 [==============================] - 5s 7ms/step - loss: 1.2693 - accuracy: 0.4854 - val_loss: 1.0604 - val_accuracy: 0.5834\n",
            "Epoch 2/3\n",
            "562/562 [==============================] - 3s 6ms/step - loss: 1.0153 - accuracy: 0.5917 - val_loss: 0.9467 - val_accuracy: 0.6170\n",
            "Epoch 3/3\n",
            "562/562 [==============================] - 4s 7ms/step - loss: 0.9322 - accuracy: 0.6351 - val_loss: 0.8634 - val_accuracy: 0.6656\n"
          ]
        }
      ]
    },
    {
      "cell_type": "code",
      "source": [
        "history_model_3_continued =  model_3.fit(train_char_dataset,\n",
        "                              steps_per_epoch=int(0.1 * len(train_char_dataset)),\n",
        "                              epochs=7,\n",
        "                              initial_epoch = model_3_history.epoch[-1] +1,\n",
        "                              validation_data=val_char_dataset,\n",
        "                              validation_steps=int(0.1 * len(val_char_dataset)))"
      ],
      "metadata": {
        "colab": {
          "base_uri": "https://localhost:8080/"
        },
        "id": "f952W5dEkxhV",
        "outputId": "9a479a86-7cbf-4737-9eb4-5ea1fd882f35"
      },
      "execution_count": 77,
      "outputs": [
        {
          "output_type": "stream",
          "name": "stdout",
          "text": [
            "Epoch 4/7\n",
            "562/562 [==============================] - 3s 6ms/step - loss: 0.8757 - accuracy: 0.6635 - val_loss: 0.8300 - val_accuracy: 0.6918\n",
            "Epoch 5/7\n",
            "562/562 [==============================] - 3s 6ms/step - loss: 0.8459 - accuracy: 0.6753 - val_loss: 0.8241 - val_accuracy: 0.6752\n",
            "Epoch 6/7\n",
            "562/562 [==============================] - 4s 7ms/step - loss: 0.8252 - accuracy: 0.6835 - val_loss: 0.7893 - val_accuracy: 0.6968\n",
            "Epoch 7/7\n",
            "562/562 [==============================] - 4s 6ms/step - loss: 0.8138 - accuracy: 0.6857 - val_loss: 0.7800 - val_accuracy: 0.7094\n"
          ]
        }
      ]
    },
    {
      "cell_type": "code",
      "source": [
        "# Evaluate model_3 on whole validation char dataset\n",
        "model_3.evaluate(val_char_dataset)"
      ],
      "metadata": {
        "colab": {
          "base_uri": "https://localhost:8080/"
        },
        "id": "Inj8L_vOlQFu",
        "outputId": "be9c60da-7629-44b0-b870-5bf91c7cc08a"
      },
      "execution_count": 78,
      "outputs": [
        {
          "output_type": "stream",
          "name": "stdout",
          "text": [
            "945/945 [==============================] - 5s 5ms/step - loss: 0.8013 - accuracy: 0.6965\n"
          ]
        },
        {
          "output_type": "execute_result",
          "data": {
            "text/plain": [
              "[0.8012577295303345, 0.6964782476425171]"
            ]
          },
          "metadata": {},
          "execution_count": 78
        }
      ]
    },
    {
      "cell_type": "code",
      "source": [
        "# Make predictions with character model only\n",
        "model_3_pred_probs = model_3.predict(val_char_dataset)\n",
        "model_3_pred_probs"
      ],
      "metadata": {
        "colab": {
          "base_uri": "https://localhost:8080/"
        },
        "id": "HZTAnMb_lYfR",
        "outputId": "2ff56751-686e-4dff-e023-53c203806d48"
      },
      "execution_count": 79,
      "outputs": [
        {
          "output_type": "stream",
          "name": "stdout",
          "text": [
            "945/945 [==============================] - 3s 3ms/step\n"
          ]
        },
        {
          "output_type": "execute_result",
          "data": {
            "text/plain": [
              "array([[0.40888372, 0.4878328 , 0.01460326, 0.073493  , 0.01518717],\n",
              "       [0.3789294 , 0.48668274, 0.00380944, 0.12665974, 0.00391858],\n",
              "       [0.21477337, 0.08658706, 0.07601596, 0.6153196 , 0.00730402],\n",
              "       ...,\n",
              "       [0.01211478, 0.02709824, 0.12755172, 0.00466241, 0.8285729 ],\n",
              "       [0.01940325, 0.13636513, 0.3791145 , 0.01573808, 0.4493791 ],\n",
              "       [0.33296612, 0.6063218 , 0.0281179 , 0.0253713 , 0.00722292]],\n",
              "      dtype=float32)"
            ]
          },
          "metadata": {},
          "execution_count": 79
        }
      ]
    },
    {
      "cell_type": "code",
      "source": [
        "# Convert predictions to classes\n",
        "model_3_preds = tf.argmax(model_3_pred_probs, axis=1)\n",
        "model_3_preds"
      ],
      "metadata": {
        "colab": {
          "base_uri": "https://localhost:8080/"
        },
        "id": "5V9pKTrklarY",
        "outputId": "12560e6c-9d46-4732-8266-c09d899bed90"
      },
      "execution_count": 80,
      "outputs": [
        {
          "output_type": "execute_result",
          "data": {
            "text/plain": [
              "<tf.Tensor: shape=(30212,), dtype=int64, numpy=array([1, 1, 3, ..., 4, 4, 1])>"
            ]
          },
          "metadata": {},
          "execution_count": 80
        }
      ]
    },
    {
      "cell_type": "code",
      "source": [
        "# Calculate Conv1D char only model results\n",
        "model_3_results = calculate_results(y_true=val_labels_encoded,\n",
        "                                        y_pred=model_3_preds)\n",
        "model_3_results"
      ],
      "metadata": {
        "colab": {
          "base_uri": "https://localhost:8080/"
        },
        "id": "F7H_K_X9lckN",
        "outputId": "72a3bdc2-9c2b-4c1f-d57e-a579b068ecd4"
      },
      "execution_count": 81,
      "outputs": [
        {
          "output_type": "execute_result",
          "data": {
            "text/plain": [
              "{'accuracy': 69.6478220574606,\n",
              " 'precision': 0.7000518103082259,\n",
              " 'recall': 0.6964782205746061,\n",
              " 'f1': 0.6893238578164691}"
            ]
          },
          "metadata": {},
          "execution_count": 81
        }
      ]
    },
    {
      "cell_type": "markdown",
      "source": [
        "## **Model 4:** Combining pretrained token embeddings + character embeddings (hybrid embedding layer)"
      ],
      "metadata": {
        "id": "PeiHqtpyleJT"
      }
    },
    {
      "cell_type": "code",
      "source": [
        "# 1. Setup token inputs/model\n",
        "token_inputs = layers.Input(shape=[], dtype=tf.string, name=\"token_input\")\n",
        "token_embeddings = tf_hub_embedding_layer(token_inputs)\n",
        "token_output = layers.Dense(128, activation=\"relu\")(token_embeddings)\n",
        "token_model = tf.keras.Model(inputs=token_inputs,\n",
        "                             outputs=token_output)\n",
        "\n",
        "# 2. Setup char inputs/model\n",
        "char_inputs = layers.Input(shape=(1,), dtype=tf.string, name=\"char_input\")\n",
        "char_vectors = char_vectorizer(char_inputs)\n",
        "char_embeddings = char_embed(char_vectors)\n",
        "char_bi_lstm = layers.Bidirectional(layers.LSTM(25))(char_embeddings) # bi-LSTM shown in Figure 1 of https://arxiv.org/pdf/1612.05251.pdf\n",
        "char_model = tf.keras.Model(inputs=char_inputs,\n",
        "                            outputs=char_bi_lstm)\n",
        "\n",
        "# 3. Concatenate token and char inputs (create hybrid token embedding)\n",
        "token_char_concat = layers.Concatenate(name=\"token_char_hybrid\")([token_model.output,\n",
        "                                                                  char_model.output])\n",
        "\n",
        "# 4. Create output layers - addition of dropout discussed in 4.2 of https://arxiv.org/pdf/1612.05251.pdf\n",
        "combined_dropout = layers.Dropout(0.5)(token_char_concat)\n",
        "combined_dense = layers.Dense(200, activation=\"relu\")(combined_dropout) # slightly different to Figure 1 due to different shapes of token/char embedding layers\n",
        "final_dropout = layers.Dropout(0.5)(combined_dense)\n",
        "output_layer = layers.Dense(num_classes, activation=\"softmax\")(final_dropout)\n",
        "\n",
        "# 5. Construct model with char and token inputs\n",
        "model_4 = tf.keras.Model(inputs=[token_model.input, char_model.input],\n",
        "                         outputs=output_layer,\n",
        "                         name=\"model_4_token_and_char_embeddings\")"
      ],
      "metadata": {
        "id": "CO9vDUAzlj6M"
      },
      "execution_count": 82,
      "outputs": []
    },
    {
      "cell_type": "code",
      "source": [
        "model_4.summary()"
      ],
      "metadata": {
        "colab": {
          "base_uri": "https://localhost:8080/"
        },
        "id": "ABc75uiGpgvw",
        "outputId": "074f2a29-825f-480a-c01f-19b9f7b3e9b3"
      },
      "execution_count": 83,
      "outputs": [
        {
          "output_type": "stream",
          "name": "stdout",
          "text": [
            "Model: \"model_4_token_and_char_embeddings\"\n",
            "__________________________________________________________________________________________________\n",
            " Layer (type)                Output Shape                 Param #   Connected to                  \n",
            "==================================================================================================\n",
            " char_input (InputLayer)     [(None, 1)]                  0         []                            \n",
            "                                                                                                  \n",
            " token_input (InputLayer)    [(None,)]                    0         []                            \n",
            "                                                                                                  \n",
            " char_vectorizer (TextVecto  (None, 290)                  0         ['char_input[0][0]']          \n",
            " rization)                                                                                        \n",
            "                                                                                                  \n",
            " universal_sentence_encoder  (None, 512)                  2567978   ['token_input[0][0]']         \n",
            "  (KerasLayer)                                            24                                      \n",
            "                                                                                                  \n",
            " char_embed (Embedding)      (None, 290, 25)              1750      ['char_vectorizer[1][0]']     \n",
            "                                                                                                  \n",
            " dense_4 (Dense)             (None, 128)                  65664     ['universal_sentence_encoder[1\n",
            "                                                                    ][0]']                        \n",
            "                                                                                                  \n",
            " bidirectional (Bidirection  (None, 50)                   10200     ['char_embed[1][0]']          \n",
            " al)                                                                                              \n",
            "                                                                                                  \n",
            " token_char_hybrid (Concate  (None, 178)                  0         ['dense_4[0][0]',             \n",
            " nate)                                                               'bidirectional[0][0]']       \n",
            "                                                                                                  \n",
            " dropout (Dropout)           (None, 178)                  0         ['token_char_hybrid[0][0]']   \n",
            "                                                                                                  \n",
            " dense_5 (Dense)             (None, 200)                  35800     ['dropout[0][0]']             \n",
            "                                                                                                  \n",
            " dropout_1 (Dropout)         (None, 200)                  0         ['dense_5[0][0]']             \n",
            "                                                                                                  \n",
            " dense_6 (Dense)             (None, 5)                    1005      ['dropout_1[0][0]']           \n",
            "                                                                                                  \n",
            "==================================================================================================\n",
            "Total params: 256912243 (980.04 MB)\n",
            "Trainable params: 114419 (446.95 KB)\n",
            "Non-trainable params: 256797824 (979.61 MB)\n",
            "__________________________________________________________________________________________________\n"
          ]
        }
      ]
    },
    {
      "cell_type": "code",
      "source": [
        "from tensorflow.keras.utils import plot_model\n",
        "plot_model(model_4)"
      ],
      "metadata": {
        "colab": {
          "base_uri": "https://localhost:8080/",
          "height": 856
        },
        "id": "mhPSsCRUpn3j",
        "outputId": "849a7afb-c8e7-40e9-c794-f20f637bc5dd"
      },
      "execution_count": 84,
      "outputs": [
        {
          "output_type": "execute_result",
          "data": {
            "image/png": "[encoded data removed]",
            "text/plain": [
              "<IPython.core.display.Image object>"
            ]
          },
          "metadata": {},
          "execution_count": 84
        }
      ]
    },
    {
      "cell_type": "code",
      "source": [
        "# Compile token char model\n",
        "model_4.compile(loss=\"categorical_crossentropy\",\n",
        "                optimizer=tf.keras.optimizers.Adam(), # section 4.2 of https://arxiv.org/pdf/1612.05251.pdf mentions using SGD but I am using Adam\n",
        "                metrics=[\"accuracy\"])"
      ],
      "metadata": {
        "id": "MlPKBQKfppdH"
      },
      "execution_count": 91,
      "outputs": []
    },
    {
      "cell_type": "markdown",
      "source": [
        "And again, to keep our experiments fast, we'll fit our token-character-hybrid model on 10% of training and validate on 10% of validation batches. However, the difference with this model is that it requires two inputs, token-level sequences and character-level sequences.\n",
        "\n",
        "We can do this by create a `tf.data.Dataset` with a tuple as it's first input, for example:\n",
        "* `((token_data, char_data), (label))`\n",
        "\n",
        "Let's see it in action.\n",
        "\n",
        "##### Combining token and character data into a `tf.data` dataset"
      ],
      "metadata": {
        "id": "tGwXSlTSqBA1"
      }
    },
    {
      "cell_type": "code",
      "source": [
        "# Combine chars and tokens into a dataset\n",
        "train_char_token_data = tf.data.Dataset.from_tensor_slices((train_sentences, train_chars)) # make data\n",
        "train_char_token_labels = tf.data.Dataset.from_tensor_slices(train_labels_one_hot) # make labels\n",
        "train_char_token_dataset = tf.data.Dataset.zip((train_char_token_data, train_char_token_labels)) # combine data and labels\n",
        "\n",
        "# Prefetch and batch train data\n",
        "train_char_token_dataset = train_char_token_dataset.batch(32).prefetch(tf.data.AUTOTUNE)"
      ],
      "metadata": {
        "id": "Ny7JbWKnqHSc"
      },
      "execution_count": 92,
      "outputs": []
    },
    {
      "cell_type": "code",
      "source": [
        "# Repeat same steps validation data\n",
        "val_char_token_data = tf.data.Dataset.from_tensor_slices((val_sentences, val_chars))\n",
        "val_char_token_labels = tf.data.Dataset.from_tensor_slices(val_labels_one_hot)\n",
        "val_char_token_dataset = tf.data.Dataset.zip((val_char_token_data, val_char_token_labels))\n",
        "\n",
        "val_char_token_dataset = val_char_token_dataset.batch(32).prefetch(tf.data.AUTOTUNE)"
      ],
      "metadata": {
        "id": "e4yU0c_4qcvn"
      },
      "execution_count": 93,
      "outputs": []
    },
    {
      "cell_type": "code",
      "source": [
        "# Check out training char and token embedding dataset\n",
        "train_char_token_dataset, val_char_token_dataset"
      ],
      "metadata": {
        "colab": {
          "base_uri": "https://localhost:8080/"
        },
        "id": "WKs1792CqnEz",
        "outputId": "f30044c3-dd21-457d-af42-ecc61a1b3975"
      },
      "execution_count": 94,
      "outputs": [
        {
          "output_type": "execute_result",
          "data": {
            "text/plain": [
              "(<_PrefetchDataset element_spec=((TensorSpec(shape=(None,), dtype=tf.string, name=None), TensorSpec(shape=(None,), dtype=tf.string, name=None)), TensorSpec(shape=(None, 5), dtype=tf.float64, name=None))>,\n",
              " <_PrefetchDataset element_spec=((TensorSpec(shape=(None,), dtype=tf.string, name=None), TensorSpec(shape=(None,), dtype=tf.string, name=None)), TensorSpec(shape=(None, 5), dtype=tf.float64, name=None))>)"
            ]
          },
          "metadata": {},
          "execution_count": 94
        }
      ]
    },
    {
      "cell_type": "code",
      "source": [
        "# Fit the model on tokens and chars\n",
        "model_4_history = model_4.fit(train_char_token_dataset, # train on dataset of token and characters\n",
        "                              steps_per_epoch=int(0.1 * len(train_char_token_dataset)),\n",
        "                              epochs=3,\n",
        "                              validation_data=val_char_token_dataset,\n",
        "                              validation_steps=int(0.1 * len(val_char_token_dataset)))"
      ],
      "metadata": {
        "colab": {
          "base_uri": "https://localhost:8080/"
        },
        "id": "jFhK28Frqogr",
        "outputId": "af080815-0d21-4636-d0f2-c77a020be7cd"
      },
      "execution_count": 95,
      "outputs": [
        {
          "output_type": "stream",
          "name": "stdout",
          "text": [
            "Epoch 1/3\n",
            "562/562 [==============================] - 29s 42ms/step - loss: 0.9215 - accuracy: 0.6379 - val_loss: 0.7690 - val_accuracy: 0.7064\n",
            "Epoch 2/3\n",
            "562/562 [==============================] - 22s 39ms/step - loss: 0.7931 - accuracy: 0.6931 - val_loss: 0.7125 - val_accuracy: 0.7327\n",
            "Epoch 3/3\n",
            "562/562 [==============================] - 20s 36ms/step - loss: 0.7651 - accuracy: 0.7077 - val_loss: 0.6900 - val_accuracy: 0.7394\n"
          ]
        }
      ]
    },
    {
      "cell_type": "code",
      "source": [
        "# Fit the model on tokens and chars\n",
        "model_4_history_continued = model_4.fit(train_char_token_dataset, # train on dataset of token and characters\n",
        "                              steps_per_epoch=int(0.1 * len(train_char_token_dataset)),\n",
        "                                        initial_epoch = model_4_history.epoch[-1] + 1,\n",
        "                              epochs=10,\n",
        "                              validation_data=val_char_token_dataset,\n",
        "                              validation_steps=int(0.1 * len(val_char_token_dataset)))"
      ],
      "metadata": {
        "colab": {
          "base_uri": "https://localhost:8080/"
        },
        "id": "7PlKIsnLqsPU",
        "outputId": "267230c7-893b-4f51-f5c9-1da227e827e3"
      },
      "execution_count": 96,
      "outputs": [
        {
          "output_type": "stream",
          "name": "stdout",
          "text": [
            "Epoch 4/10\n",
            "562/562 [==============================] - 20s 36ms/step - loss: 0.7412 - accuracy: 0.7180 - val_loss: 0.6698 - val_accuracy: 0.7473\n",
            "Epoch 5/10\n",
            "562/562 [==============================] - 21s 38ms/step - loss: 0.7047 - accuracy: 0.7280 - val_loss: 0.6470 - val_accuracy: 0.7540\n",
            "Epoch 6/10\n",
            "562/562 [==============================] - 20s 36ms/step - loss: 0.7079 - accuracy: 0.7293 - val_loss: 0.6397 - val_accuracy: 0.7530\n",
            "Epoch 7/10\n",
            "562/562 [==============================] - 20s 35ms/step - loss: 0.7068 - accuracy: 0.7323 - val_loss: 0.6321 - val_accuracy: 0.7590\n",
            "Epoch 8/10\n",
            "562/562 [==============================] - 22s 40ms/step - loss: 0.7187 - accuracy: 0.7283 - val_loss: 0.6278 - val_accuracy: 0.7596\n",
            "Epoch 9/10\n",
            "562/562 [==============================] - 22s 39ms/step - loss: 0.7136 - accuracy: 0.7255 - val_loss: 0.6294 - val_accuracy: 0.7636\n",
            "Epoch 10/10\n",
            "562/562 [==============================] - 22s 39ms/step - loss: 0.6889 - accuracy: 0.7357 - val_loss: 0.6198 - val_accuracy: 0.7696\n"
          ]
        }
      ]
    },
    {
      "cell_type": "code",
      "source": [
        "# Evaluate on the whole validation dataset\n",
        "model_4.evaluate(val_char_token_dataset)"
      ],
      "metadata": {
        "colab": {
          "base_uri": "https://localhost:8080/"
        },
        "id": "IOZbWbFbsFWA",
        "outputId": "247ec262-817f-44d4-c973-32b112bd013d"
      },
      "execution_count": 98,
      "outputs": [
        {
          "output_type": "stream",
          "name": "stdout",
          "text": [
            "945/945 [==============================] - 20s 21ms/step - loss: 0.6208 - accuracy: 0.7647\n"
          ]
        },
        {
          "output_type": "execute_result",
          "data": {
            "text/plain": [
              "[0.6208102107048035, 0.7646961212158203]"
            ]
          },
          "metadata": {},
          "execution_count": 98
        }
      ]
    },
    {
      "cell_type": "code",
      "source": [
        "model_4_pred_probs = model_4.predict(val_char_token_dataset)\n",
        "model_4_pred_probs"
      ],
      "metadata": {
        "colab": {
          "base_uri": "https://localhost:8080/"
        },
        "id": "t7t2SEWoskda",
        "outputId": "13c4ffea-2130-4f96-c9a7-f26cc45e106c"
      },
      "execution_count": 99,
      "outputs": [
        {
          "output_type": "stream",
          "name": "stdout",
          "text": [
            "945/945 [==============================] - 20s 20ms/step\n"
          ]
        },
        {
          "output_type": "execute_result",
          "data": {
            "text/plain": [
              "array([[5.7103533e-01, 2.4548696e-01, 1.5571713e-03, 1.7710783e-01,\n",
              "        4.8127468e-03],\n",
              "       [5.0654864e-01, 3.9802375e-01, 2.1845545e-03, 9.2512362e-02,\n",
              "        7.3073304e-04],\n",
              "       [4.1596583e-01, 9.2927935e-03, 1.6761586e-02, 5.5547994e-01,\n",
              "        2.4998386e-03],\n",
              "       ...,\n",
              "       [5.1127176e-06, 7.4098702e-05, 1.0789619e-02, 1.4780607e-06,\n",
              "        9.8912966e-01],\n",
              "       [9.8688332e-03, 4.9504679e-02, 1.5779497e-01, 3.8604469e-03,\n",
              "        7.7897102e-01],\n",
              "       [8.3289035e-02, 8.9116365e-01, 2.0314459e-02, 1.9091229e-03,\n",
              "        3.3236896e-03]], dtype=float32)"
            ]
          },
          "metadata": {},
          "execution_count": 99
        }
      ]
    },
    {
      "cell_type": "code",
      "source": [
        "model_4_preds = tf.argmax(model_4_pred_probs, axis=1)\n",
        "model_4_preds"
      ],
      "metadata": {
        "colab": {
          "base_uri": "https://localhost:8080/"
        },
        "id": "7Cs7d1iHsltR",
        "outputId": "be9865e7-f0b3-4327-c752-96add6e540d3"
      },
      "execution_count": 100,
      "outputs": [
        {
          "output_type": "execute_result",
          "data": {
            "text/plain": [
              "<tf.Tensor: shape=(30212,), dtype=int64, numpy=array([0, 0, 3, ..., 4, 4, 1])>"
            ]
          },
          "metadata": {},
          "execution_count": 100
        }
      ]
    },
    {
      "cell_type": "code",
      "source": [
        "model_4_results = calculate_results(y_true=val_labels_encoded,\n",
        "                                    y_pred=model_4_preds)\n",
        "model_4_results"
      ],
      "metadata": {
        "colab": {
          "base_uri": "https://localhost:8080/"
        },
        "id": "LESy5wtxsnO2",
        "outputId": "902234e0-779e-4316-87a1-ef49d7cf1727"
      },
      "execution_count": 101,
      "outputs": [
        {
          "output_type": "execute_result",
          "data": {
            "text/plain": [
              "{'accuracy': 76.46961472262677,\n",
              " 'precision': 0.7626890375500404,\n",
              " 'recall': 0.7646961472262677,\n",
              " 'f1': 0.7602735786048677}"
            ]
          },
          "metadata": {},
          "execution_count": 101
        }
      ]
    },
    {
      "cell_type": "markdown",
      "source": [
        "## **Model 5:** Transfer Learning with pretrained token embeddings + character embeddings + positional embeddings"
      ],
      "metadata": {
        "id": "raksckMUuEbm"
      }
    },
    {
      "cell_type": "markdown",
      "source": [
        "Generally Abstracts typically come in a sequential order, such as:\n",
        "* `OBJECTIVE` ...\n",
        "* `METHODS` ...\n",
        "* `METHODS` ...\n",
        "* `METHODS` ...\n",
        "* `RESULTS` ...\n",
        "* `CONCLUSIONS` ..."
      ],
      "metadata": {
        "id": "zG2D6x8xuOV0"
      }
    },
    {
      "cell_type": "code",
      "source": [
        "train_df.head()"
      ],
      "metadata": {
        "id": "Z9Ir8KKMfGOQ",
        "outputId": "8d251885-94a8-4af2-b21f-6406824e3788",
        "colab": {
          "base_uri": "https://localhost:8080/",
          "height": 293
        }
      },
      "execution_count": 102,
      "outputs": [
        {
          "output_type": "execute_result",
          "data": {
            "text/plain": [
              "      target                                               text  line_number  \\\n",
              "0  OBJECTIVE  to investigate the efficacy of @ weeks of dail...            0   \n",
              "1    METHODS  a total of @ patients with primary knee oa wer...            1   \n",
              "2    METHODS  outcome measures included pain reduction and i...            2   \n",
              "3    METHODS  pain was assessed using the visual analog pain...            3   \n",
              "4    METHODS  secondary outcome measures included the wester...            4   \n",
              "\n",
              "   total_lines  \n",
              "0           11  \n",
              "1           11  \n",
              "2           11  \n",
              "3           11  \n",
              "4           11  "
            ],
            "text/html": [
              "\n",
              "  <div id=\"df-6a8603a3-5de6-48a8-addb-a8b10e263c4a\" class=\"colab-df-container\">\n",
              "    <div>\n",
              "<style scoped>\n",
              "    .dataframe tbody tr th:only-of-type {\n",
              "        vertical-align: middle;\n",
              "    }\n",
              "\n",
              "    .dataframe tbody tr th {\n",
              "        vertical-align: top;\n",
              "    }\n",
              "\n",
              "    .dataframe thead th {\n",
              "        text-align: right;\n",
              "    }\n",
              "</style>\n",
              "<table border=\"1\" class=\"dataframe\">\n",
              "  <thead>\n",
              "    <tr style=\"text-align: right;\">\n",
              "      <th></th>\n",
              "      <th>target</th>\n",
              "      <th>text</th>\n",
              "      <th>line_number</th>\n",
              "      <th>total_lines</th>\n",
              "    </tr>\n",
              "  </thead>\n",
              "  <tbody>\n",
              "    <tr>\n",
              "      <th>0</th>\n",
              "      <td>OBJECTIVE</td>\n",
              "      <td>to investigate the efficacy of @ weeks of dail...</td>\n",
              "      <td>0</td>\n",
              "      <td>11</td>\n",
              "    </tr>\n",
              "    <tr>\n",
              "      <th>1</th>\n",
              "      <td>METHODS</td>\n",
              "      <td>a total of @ patients with primary knee oa wer...</td>\n",
              "      <td>1</td>\n",
              "      <td>11</td>\n",
              "    </tr>\n",
              "    <tr>\n",
              "      <th>2</th>\n",
              "      <td>METHODS</td>\n",
              "      <td>outcome measures included pain reduction and i...</td>\n",
              "      <td>2</td>\n",
              "      <td>11</td>\n",
              "    </tr>\n",
              "    <tr>\n",
              "      <th>3</th>\n",
              "      <td>METHODS</td>\n",
              "      <td>pain was assessed using the visual analog pain...</td>\n",
              "      <td>3</td>\n",
              "      <td>11</td>\n",
              "    </tr>\n",
              "    <tr>\n",
              "      <th>4</th>\n",
              "      <td>METHODS</td>\n",
              "      <td>secondary outcome measures included the wester...</td>\n",
              "      <td>4</td>\n",
              "      <td>11</td>\n",
              "    </tr>\n",
              "  </tbody>\n",
              "</table>\n",
              "</div>\n",
              "    <div class=\"colab-df-buttons\">\n",
              "\n",
              "  <div class=\"colab-df-container\">\n",
              "    <button class=\"colab-df-convert\" onclick=\"convertToInteractive('df-6a8603a3-5de6-48a8-addb-a8b10e263c4a')\"\n",
              "            title=\"Convert this dataframe to an interactive table.\"\n",
              "            style=\"display:none;\">\n",
              "\n",
              "  <svg xmlns=\"http://www.w3.org/2000/svg\" height=\"24px\" viewBox=\"0 -960 960 960\">\n",
              "    <path d=\"M120-120v-720h720v720H120Zm60-500h600v-160H180v160Zm220 220h160v-160H400v160Zm0 220h160v-160H400v160ZM180-400h160v-160H180v160Zm440 0h160v-160H620v160ZM180-180h160v-160H180v160Zm440 0h160v-160H620v160Z\"/>\n",
              "  </svg>\n",
              "    </button>\n",
              "\n",
              "  <style>\n",
              "    .colab-df-container {\n",
              "      display:flex;\n",
              "      gap: 12px;\n",
              "    }\n",
              "\n",
              "    .colab-df-convert {\n",
              "      background-color: #E8F0FE;\n",
              "      border: none;\n",
              "      border-radius: 50%;\n",
              "      cursor: pointer;\n",
              "      display: none;\n",
              "      fill: #1967D2;\n",
              "      height: 32px;\n",
              "      padding: 0 0 0 0;\n",
              "      width: 32px;\n",
              "    }\n",
              "\n",
              "    .colab-df-convert:hover {\n",
              "      background-color: #E2EBFA;\n",
              "      box-shadow: 0px 1px 2px rgba(60, 64, 67, 0.3), 0px 1px 3px 1px rgba(60, 64, 67, 0.15);\n",
              "      fill: #174EA6;\n",
              "    }\n",
              "\n",
              "    .colab-df-buttons div {\n",
              "      margin-bottom: 4px;\n",
              "    }\n",
              "\n",
              "    [theme=dark] .colab-df-convert {\n",
              "      background-color: #3B4455;\n",
              "      fill: #D2E3FC;\n",
              "    }\n",
              "\n",
              "    [theme=dark] .colab-df-convert:hover {\n",
              "      background-color: #434B5C;\n",
              "      box-shadow: 0px 1px 3px 1px rgba(0, 0, 0, 0.15);\n",
              "      filter: drop-shadow(0px 1px 2px rgba(0, 0, 0, 0.3));\n",
              "      fill: #FFFFFF;\n",
              "    }\n",
              "  </style>\n",
              "\n",
              "    <script>\n",
              "      const buttonEl =\n",
              "        document.querySelector('#df-6a8603a3-5de6-48a8-addb-a8b10e263c4a button.colab-df-convert');\n",
              "      buttonEl.style.display =\n",
              "        google.colab.kernel.accessAllowed ? 'block' : 'none';\n",
              "\n",
              "      async function convertToInteractive(key) {\n",
              "        const element = document.querySelector('#df-6a8603a3-5de6-48a8-addb-a8b10e263c4a');\n",
              "        const dataTable =\n",
              "          await google.colab.kernel.invokeFunction('convertToInteractive',\n",
              "                                                    [key], {});\n",
              "        if (!dataTable) return;\n",
              "\n",
              "        const docLinkHtml = 'Like what you see? Visit the ' +\n",
              "          '<a target=\"_blank\" href=https://colab.research.google.com/notebooks/data_table.ipynb>data table notebook</a>'\n",
              "          + ' to learn more about interactive tables.';\n",
              "        element.innerHTML = '';\n",
              "        dataTable['output_type'] = 'display_data';\n",
              "        await google.colab.output.renderOutput(dataTable, element);\n",
              "        const docLink = document.createElement('div');\n",
              "        docLink.innerHTML = docLinkHtml;\n",
              "        element.appendChild(docLink);\n",
              "      }\n",
              "    </script>\n",
              "  </div>\n",
              "\n",
              "\n",
              "<div id=\"df-6b24b225-c6e2-4dd9-9776-5c6eb2ab41f3\">\n",
              "  <button class=\"colab-df-quickchart\" onclick=\"quickchart('df-6b24b225-c6e2-4dd9-9776-5c6eb2ab41f3')\"\n",
              "            title=\"Suggest charts\"\n",
              "            style=\"display:none;\">\n",
              "\n",
              "<svg xmlns=\"http://www.w3.org/2000/svg\" height=\"24px\"viewBox=\"0 0 24 24\"\n",
              "     width=\"24px\">\n",
              "    <g>\n",
              "        <path d=\"M19 3H5c-1.1 0-2 .9-2 2v14c0 1.1.9 2 2 2h14c1.1 0 2-.9 2-2V5c0-1.1-.9-2-2-2zM9 17H7v-7h2v7zm4 0h-2V7h2v10zm4 0h-2v-4h2v4z\"/>\n",
              "    </g>\n",
              "</svg>\n",
              "  </button>\n",
              "\n",
              "<style>\n",
              "  .colab-df-quickchart {\n",
              "      --bg-color: #E8F0FE;\n",
              "      --fill-color: #1967D2;\n",
              "      --hover-bg-color: #E2EBFA;\n",
              "      --hover-fill-color: #174EA6;\n",
              "      --disabled-fill-color: #AAA;\n",
              "      --disabled-bg-color: #DDD;\n",
              "  }\n",
              "\n",
              "  [theme=dark] .colab-df-quickchart {\n",
              "      --bg-color: #3B4455;\n",
              "      --fill-color: #D2E3FC;\n",
              "      --hover-bg-color: #434B5C;\n",
              "      --hover-fill-color: #FFFFFF;\n",
              "      --disabled-bg-color: #3B4455;\n",
              "      --disabled-fill-color: #666;\n",
              "  }\n",
              "\n",
              "  .colab-df-quickchart {\n",
              "    background-color: var(--bg-color);\n",
              "    border: none;\n",
              "    border-radius: 50%;\n",
              "    cursor: pointer;\n",
              "    display: none;\n",
              "    fill: var(--fill-color);\n",
              "    height: 32px;\n",
              "    padding: 0;\n",
              "    width: 32px;\n",
              "  }\n",
              "\n",
              "  .colab-df-quickchart:hover {\n",
              "    background-color: var(--hover-bg-color);\n",
              "    box-shadow: 0 1px 2px rgba(60, 64, 67, 0.3), 0 1px 3px 1px rgba(60, 64, 67, 0.15);\n",
              "    fill: var(--button-hover-fill-color);\n",
              "  }\n",
              "\n",
              "  .colab-df-quickchart-complete:disabled,\n",
              "  .colab-df-quickchart-complete:disabled:hover {\n",
              "    background-color: var(--disabled-bg-color);\n",
              "    fill: var(--disabled-fill-color);\n",
              "    box-shadow: none;\n",
              "  }\n",
              "\n",
              "  .colab-df-spinner {\n",
              "    border: 2px solid var(--fill-color);\n",
              "    border-color: transparent;\n",
              "    border-bottom-color: var(--fill-color);\n",
              "    animation:\n",
              "      spin 1s steps(1) infinite;\n",
              "  }\n",
              "\n",
              "  @keyframes spin {\n",
              "    0% {\n",
              "      border-color: transparent;\n",
              "      border-bottom-color: var(--fill-color);\n",
              "      border-left-color: var(--fill-color);\n",
              "    }\n",
              "    20% {\n",
              "      border-color: transparent;\n",
              "      border-left-color: var(--fill-color);\n",
              "      border-top-color: var(--fill-color);\n",
              "    }\n",
              "    30% {\n",
              "      border-color: transparent;\n",
              "      border-left-color: var(--fill-color);\n",
              "      border-top-color: var(--fill-color);\n",
              "      border-right-color: var(--fill-color);\n",
              "    }\n",
              "    40% {\n",
              "      border-color: transparent;\n",
              "      border-right-color: var(--fill-color);\n",
              "      border-top-color: var(--fill-color);\n",
              "    }\n",
              "    60% {\n",
              "      border-color: transparent;\n",
              "      border-right-color: var(--fill-color);\n",
              "    }\n",
              "    80% {\n",
              "      border-color: transparent;\n",
              "      border-right-color: var(--fill-color);\n",
              "      border-bottom-color: var(--fill-color);\n",
              "    }\n",
              "    90% {\n",
              "      border-color: transparent;\n",
              "      border-bottom-color: var(--fill-color);\n",
              "    }\n",
              "  }\n",
              "</style>\n",
              "\n",
              "  <script>\n",
              "    async function quickchart(key) {\n",
              "      const quickchartButtonEl =\n",
              "        document.querySelector('#' + key + ' button');\n",
              "      quickchartButtonEl.disabled = true;  // To prevent multiple clicks.\n",
              "      quickchartButtonEl.classList.add('colab-df-spinner');\n",
              "      try {\n",
              "        const charts = await google.colab.kernel.invokeFunction(\n",
              "            'suggestCharts', [key], {});\n",
              "      } catch (error) {\n",
              "        console.error('Error during call to suggestCharts:', error);\n",
              "      }\n",
              "      quickchartButtonEl.classList.remove('colab-df-spinner');\n",
              "      quickchartButtonEl.classList.add('colab-df-quickchart-complete');\n",
              "    }\n",
              "    (() => {\n",
              "      let quickchartButtonEl =\n",
              "        document.querySelector('#df-6b24b225-c6e2-4dd9-9776-5c6eb2ab41f3 button');\n",
              "      quickchartButtonEl.style.display =\n",
              "        google.colab.kernel.accessAllowed ? 'block' : 'none';\n",
              "    })();\n",
              "  </script>\n",
              "</div>\n",
              "\n",
              "    </div>\n",
              "  </div>\n"
            ],
            "application/vnd.google.colaboratory.intrinsic+json": {
              "type": "dataframe",
              "variable_name": "train_df"
            }
          },
          "metadata": {},
          "execution_count": 102
        }
      ]
    },
    {
      "cell_type": "markdown",
      "source": [
        "We can make use of the `\"line_number\"` ans `\"total_lines\"`to use as positional embedding.\n",
        "\n",
        "We need to one hot encode them or else our model might think that 1,2,3,4... is some kind of order."
      ],
      "metadata": {
        "id": "VAkUhFuBfHS-"
      }
    },
    {
      "cell_type": "code",
      "source": [
        "train_df[\"line_number\"].value_counts()"
      ],
      "metadata": {
        "id": "UFXIXwu9fkQy",
        "outputId": "f57aa5d2-feef-4b90-ab8c-eb677475c881",
        "colab": {
          "base_uri": "https://localhost:8080/"
        }
      },
      "execution_count": 103,
      "outputs": [
        {
          "output_type": "execute_result",
          "data": {
            "text/plain": [
              "line_number\n",
              "0     15000\n",
              "1     15000\n",
              "2     15000\n",
              "3     15000\n",
              "4     14992\n",
              "5     14949\n",
              "6     14758\n",
              "7     14279\n",
              "8     13346\n",
              "9     11981\n",
              "10    10041\n",
              "11     7892\n",
              "12     5853\n",
              "13     4152\n",
              "14     2835\n",
              "15     1861\n",
              "16     1188\n",
              "17      751\n",
              "18      462\n",
              "19      286\n",
              "20      162\n",
              "21      101\n",
              "22       66\n",
              "23       33\n",
              "24       22\n",
              "25       14\n",
              "26        7\n",
              "27        4\n",
              "28        3\n",
              "29        1\n",
              "30        1\n",
              "Name: count, dtype: int64"
            ]
          },
          "metadata": {},
          "execution_count": 103
        }
      ]
    },
    {
      "cell_type": "code",
      "source": [
        "train_df.line_number.plot.hist()"
      ],
      "metadata": {
        "id": "2Uob2J1yfpkW",
        "outputId": "b5a78c27-566c-4e45-9c81-961243dca578",
        "colab": {
          "base_uri": "https://localhost:8080/",
          "height": 447
        }
      },
      "execution_count": 104,
      "outputs": [
        {
          "output_type": "execute_result",
          "data": {
            "text/plain": [
              "<Axes: ylabel='Frequency'>"
            ]
          },
          "metadata": {},
          "execution_count": 104
        },
        {
          "output_type": "display_data",
          "data": {
            "text/plain": [
              "<Figure size 640x480 with 1 Axes>"
            ],
            "image/png": "[encoded data removed]"
          },
          "metadata": {}
        }
      ]
    },
    {
      "cell_type": "code",
      "source": [
        "np.percentile(train_df.line_number, 95)"
      ],
      "metadata": {
        "id": "HHNqIAtCfrgH",
        "outputId": "91a271cb-61b3-4fdd-fd72-570f13c4522d",
        "colab": {
          "base_uri": "https://localhost:8080/"
        }
      },
      "execution_count": 105,
      "outputs": [
        {
          "output_type": "execute_result",
          "data": {
            "text/plain": [
              "13.0"
            ]
          },
          "metadata": {},
          "execution_count": 105
        }
      ]
    },
    {
      "cell_type": "markdown",
      "source": [
        "We will consider that the majority of lines have a position of 15 or less to minimize loss of information."
      ],
      "metadata": {
        "id": "kl07b_oLf1u0"
      }
    },
    {
      "cell_type": "code",
      "source": [
        "# Use TensorFlow to create one-hot-encoded tensors of our \"line_number\" column\n",
        "train_line_numbers_one_hot = tf.one_hot(train_df[\"line_number\"].to_numpy(), depth=15)\n",
        "val_line_numbers_one_hot = tf.one_hot(val_df[\"line_number\"].to_numpy(), depth=15)\n",
        "test_line_numbers_one_hot = tf.one_hot(test_df[\"line_number\"].to_numpy(), depth=15)"
      ],
      "metadata": {
        "id": "cdX6K5n6gA1H"
      },
      "execution_count": 106,
      "outputs": []
    },
    {
      "cell_type": "markdown",
      "source": [
        "Setting the `depth` parameter of `tf.one_hot` to 15 means any sample with a `\"line_number\"` value of over 15 gets set to a tensor of all 0's, where as any sample with a `\"line_number\"` of under 15 gets turned into a tensor of all 0's but with a 1 at the index equal to the `\"line_number\"` value."
      ],
      "metadata": {
        "id": "aASlZrdXgGBG"
      }
    },
    {
      "cell_type": "code",
      "source": [
        "train_line_numbers_one_hot.shape, train_line_numbers_one_hot[:20]"
      ],
      "metadata": {
        "id": "wX7x8uc_gbGr",
        "outputId": "9f691436-b02d-46a7-d247-62942bbe9a65",
        "colab": {
          "base_uri": "https://localhost:8080/"
        }
      },
      "execution_count": 108,
      "outputs": [
        {
          "output_type": "execute_result",
          "data": {
            "text/plain": [
              "(TensorShape([180040, 15]),\n",
              " <tf.Tensor: shape=(20, 15), dtype=float32, numpy=\n",
              " array([[1., 0., 0., 0., 0., 0., 0., 0., 0., 0., 0., 0., 0., 0., 0.],\n",
              "        [0., 1., 0., 0., 0., 0., 0., 0., 0., 0., 0., 0., 0., 0., 0.],\n",
              "        [0., 0., 1., 0., 0., 0., 0., 0., 0., 0., 0., 0., 0., 0., 0.],\n",
              "        [0., 0., 0., 1., 0., 0., 0., 0., 0., 0., 0., 0., 0., 0., 0.],\n",
              "        [0., 0., 0., 0., 1., 0., 0., 0., 0., 0., 0., 0., 0., 0., 0.],\n",
              "        [0., 0., 0., 0., 0., 1., 0., 0., 0., 0., 0., 0., 0., 0., 0.],\n",
              "        [0., 0., 0., 0., 0., 0., 1., 0., 0., 0., 0., 0., 0., 0., 0.],\n",
              "        [0., 0., 0., 0., 0., 0., 0., 1., 0., 0., 0., 0., 0., 0., 0.],\n",
              "        [0., 0., 0., 0., 0., 0., 0., 0., 1., 0., 0., 0., 0., 0., 0.],\n",
              "        [0., 0., 0., 0., 0., 0., 0., 0., 0., 1., 0., 0., 0., 0., 0.],\n",
              "        [0., 0., 0., 0., 0., 0., 0., 0., 0., 0., 1., 0., 0., 0., 0.],\n",
              "        [0., 0., 0., 0., 0., 0., 0., 0., 0., 0., 0., 1., 0., 0., 0.],\n",
              "        [1., 0., 0., 0., 0., 0., 0., 0., 0., 0., 0., 0., 0., 0., 0.],\n",
              "        [0., 1., 0., 0., 0., 0., 0., 0., 0., 0., 0., 0., 0., 0., 0.],\n",
              "        [0., 0., 1., 0., 0., 0., 0., 0., 0., 0., 0., 0., 0., 0., 0.],\n",
              "        [0., 0., 0., 1., 0., 0., 0., 0., 0., 0., 0., 0., 0., 0., 0.],\n",
              "        [0., 0., 0., 0., 1., 0., 0., 0., 0., 0., 0., 0., 0., 0., 0.],\n",
              "        [0., 0., 0., 0., 0., 1., 0., 0., 0., 0., 0., 0., 0., 0., 0.],\n",
              "        [0., 0., 0., 0., 0., 0., 1., 0., 0., 0., 0., 0., 0., 0., 0.],\n",
              "        [0., 0., 0., 0., 0., 0., 0., 1., 0., 0., 0., 0., 0., 0., 0.]],\n",
              "       dtype=float32)>)"
            ]
          },
          "metadata": {},
          "execution_count": 108
        }
      ]
    },
    {
      "cell_type": "code",
      "source": [
        "train_df[\"total_lines\"].value_counts()"
      ],
      "metadata": {
        "id": "zWCmdrijgfRC",
        "outputId": "8f34a520-32d9-4453-ce4e-ed2ab8b39702",
        "colab": {
          "base_uri": "https://localhost:8080/"
        }
      },
      "execution_count": 109,
      "outputs": [
        {
          "output_type": "execute_result",
          "data": {
            "text/plain": [
              "total_lines\n",
              "11    24468\n",
              "10    23639\n",
              "12    22113\n",
              "9     19400\n",
              "13    18438\n",
              "14    14610\n",
              "8     12285\n",
              "15    10768\n",
              "7      7464\n",
              "16     7429\n",
              "17     5202\n",
              "6      3353\n",
              "18     3344\n",
              "19     2480\n",
              "20     1281\n",
              "5      1146\n",
              "21      770\n",
              "22      759\n",
              "23      264\n",
              "4       215\n",
              "24      200\n",
              "25      182\n",
              "26       81\n",
              "28       58\n",
              "3        32\n",
              "30       31\n",
              "27       28\n",
              "Name: count, dtype: int64"
            ]
          },
          "metadata": {},
          "execution_count": 109
        }
      ]
    },
    {
      "cell_type": "code",
      "source": [
        "train_df.total_lines.plot.hist();"
      ],
      "metadata": {
        "id": "QZ1V0ZiUgvJr",
        "outputId": "1a95832d-dc75-4b35-8e45-cb3407061abc",
        "colab": {
          "base_uri": "https://localhost:8080/",
          "height": 431
        }
      },
      "execution_count": 110,
      "outputs": [
        {
          "output_type": "display_data",
          "data": {
            "text/plain": [
              "<Figure size 640x480 with 1 Axes>"
            ],
            "image/png": "[encoded data removed]"
          },
          "metadata": {}
        }
      ]
    },
    {
      "cell_type": "code",
      "source": [
        "np.percentile(train_df.total_lines, 98)"
      ],
      "metadata": {
        "id": "M38bIDpxgwz0",
        "outputId": "2b2906c9-66e1-4c16-c111-2da6fd4b8f11",
        "colab": {
          "base_uri": "https://localhost:8080/"
        }
      },
      "execution_count": 111,
      "outputs": [
        {
          "output_type": "execute_result",
          "data": {
            "text/plain": [
              "20.0"
            ]
          },
          "metadata": {},
          "execution_count": 111
        }
      ]
    },
    {
      "cell_type": "code",
      "source": [
        "# Useing TensorFlow to create one-hot-encoded tensors of our \"total_lines\" column\n",
        "train_total_lines_one_hot = tf.one_hot(train_df[\"total_lines\"].to_numpy(), depth=20)\n",
        "val_total_lines_one_hot = tf.one_hot(val_df[\"total_lines\"].to_numpy(), depth=20)\n",
        "test_total_lines_one_hot = tf.one_hot(test_df[\"total_lines\"].to_numpy(), depth=20)\n",
        "\n",
        "\n",
        "train_total_lines_one_hot.shape, train_total_lines_one_hot[:10]"
      ],
      "metadata": {
        "id": "JvLZ2tATgyXE",
        "outputId": "27066ead-fc27-4ae0-c19f-8bb57f4cd6f8",
        "colab": {
          "base_uri": "https://localhost:8080/"
        }
      },
      "execution_count": 112,
      "outputs": [
        {
          "output_type": "execute_result",
          "data": {
            "text/plain": [
              "(TensorShape([180040, 20]),\n",
              " <tf.Tensor: shape=(10, 20), dtype=float32, numpy=\n",
              " array([[0., 0., 0., 0., 0., 0., 0., 0., 0., 0., 0., 1., 0., 0., 0., 0.,\n",
              "         0., 0., 0., 0.],\n",
              "        [0., 0., 0., 0., 0., 0., 0., 0., 0., 0., 0., 1., 0., 0., 0., 0.,\n",
              "         0., 0., 0., 0.],\n",
              "        [0., 0., 0., 0., 0., 0., 0., 0., 0., 0., 0., 1., 0., 0., 0., 0.,\n",
              "         0., 0., 0., 0.],\n",
              "        [0., 0., 0., 0., 0., 0., 0., 0., 0., 0., 0., 1., 0., 0., 0., 0.,\n",
              "         0., 0., 0., 0.],\n",
              "        [0., 0., 0., 0., 0., 0., 0., 0., 0., 0., 0., 1., 0., 0., 0., 0.,\n",
              "         0., 0., 0., 0.],\n",
              "        [0., 0., 0., 0., 0., 0., 0., 0., 0., 0., 0., 1., 0., 0., 0., 0.,\n",
              "         0., 0., 0., 0.],\n",
              "        [0., 0., 0., 0., 0., 0., 0., 0., 0., 0., 0., 1., 0., 0., 0., 0.,\n",
              "         0., 0., 0., 0.],\n",
              "        [0., 0., 0., 0., 0., 0., 0., 0., 0., 0., 0., 1., 0., 0., 0., 0.,\n",
              "         0., 0., 0., 0.],\n",
              "        [0., 0., 0., 0., 0., 0., 0., 0., 0., 0., 0., 1., 0., 0., 0., 0.,\n",
              "         0., 0., 0., 0.],\n",
              "        [0., 0., 0., 0., 0., 0., 0., 0., 0., 0., 0., 1., 0., 0., 0., 0.,\n",
              "         0., 0., 0., 0.]], dtype=float32)>)"
            ]
          },
          "metadata": {},
          "execution_count": 112
        }
      ]
    },
    {
      "cell_type": "markdown",
      "source": [
        "### Building a tribrif embedding model"
      ],
      "metadata": {
        "id": "-nUm55Zig28Q"
      }
    },
    {
      "cell_type": "markdown",
      "source": [
        "**Steps:**\n",
        "\n",
        "> 1. Create a token-level model (similar to `model_1`)\n",
        "2. Create a character-level model (similar to `model_3` with a slight modification to reflect the paper)\n",
        "3. Create a `\"line_number\"` model (takes in one-hot-encoded `\"line_number\"` tensor and passes it through a non-linear layer)\n",
        "4. Create a `\"total_lines\"` model (takes in one-hot-encoded `\"total_lines\"` tensor and passes it through a non-linear layer)\n",
        "5. Combine (using [`layers.Concatenate`](https://www.tensorflow.org/api_docs/python/tf/keras/layers/Concatenate)) the outputs of 1 and 2 into a token-character-hybrid embedding and pass it series of output to Figure 1 and section 4.2 of [*Neural Networks for Joint Sentence Classification\n",
        "in Medical Paper Abstracts*](https://arxiv.org/pdf/1612.05251.pdf)\n",
        "6. Combine (using [`layers.Concatenate`](https://www.tensorflow.org/api_docs/python/tf/keras/layers/Concatenate)) the outputs of 3, 4 and 5 into a token-character-positional tribrid embedding\n",
        "7. Create an output layer to accept the tribrid embedding and output predicted label probabilities\n",
        "8. Combine the inputs of 1, 2, 3, 4 and outputs of 7 into a [`tf.keras.Model`](https://www.tensorflow.org/api_docs/python/tf/keras/Model)"
      ],
      "metadata": {
        "id": "Z08loEBlg8IG"
      }
    },
    {
      "cell_type": "code",
      "source": [
        "# 1. Token inputs\n",
        "token_inputs = layers.Input(shape = [], dtype = tf.string, name = \"token_inputs\")\n",
        "token_embeddings = tf_hub_embedding_layer(token_inputs)\n",
        "token_outputs = layers.Dense(128,activation = \"relu\")(token_embeddings)\n",
        "token_model = tf.keras.Model(inputs = token_inputs,\n",
        "                             outputs = token_outputs)\n",
        "\n",
        "# 2. Char inputs\n",
        "char_inputs = layers.Input(shape = (1,), dtype = tf.string, name =\"char_inputs\")\n",
        "char_vectors = char_vectorizer(char_inputs)\n",
        "char_embeddings = char_embed(char_vectors)\n",
        "char_bi_lstm = layers.Bidirectional(layers.LSTM(32))(char_embeddings)\n",
        "char_model = tf.keras.Model(inputs = char_inputs,\n",
        "                            outputs = char_bi_lstm)\n",
        "\n",
        "# 3. Line numbers inputs\n",
        "line_number_inputs = layers.Input(shape = (15,), dtype = tf.int32, name = \"line_number_inputs\")\n",
        "x= layers.Dense(32,activation = \"relu\")(line_number_inputs)\n",
        "line_number_model = tf.keras.Model(inputs = line_number_inputs,\n",
        "                                   outputs = x)\n",
        "\n",
        "# 4. Total lines inputs\n",
        "total_lines_inputs = layers.Input(shape=(20,), dtype = tf.int32, name = \"total_lines_inputs\")\n",
        "y = layers.Dense(128, activation = \"relu\")(total_lines_inputs)\n",
        "total_line_model = tf.keras.Model(inputs = total_lines_inputs,\n",
        "                                  outputs = y)\n",
        "\n",
        "# 5. Combine token and char embeddings into a hybrid embedding\n",
        "combined_embeddings = layers.Concatenate(name = \"token_char_hybrid_embedding\")([token_model.output,\n",
        "                                                                                char_model.output])\n",
        "z = layers.Dense(256, activation = \"relu\")(combined_embeddings)\n",
        "z = layers.Dropout(0.5)(z)   # This is defined in the paper\n",
        "\n",
        "# 6. Combine positional embeddings with token and char embeddings into a tribrid embedding\n",
        "z = layers.Concatenate(name = \"token_char_positional_embeding\")([line_number_model.output,\n",
        "                                                                total_line_model.output,\n",
        "                                                                 z])\n",
        "\n",
        "# 7. Create output layer\n",
        "output_layer = layers.Dense(5, activation = \"softmax\", name = 'output_layer')(z)\n",
        "\n",
        "# 8. Put all model together\n",
        "model_5 = tf.keras.Model(inputs=[line_number_model.input,\n",
        "                                 total_line_model.input,\n",
        "                                 token_model.input,\n",
        "                                 char_model.input],\n",
        "                         outputs=output_layer,\n",
        "                         name = \"model_5\")\n",
        "\n",
        "#**** Remember the above input sequence it is important, used later on.\n"
      ],
      "metadata": {
        "id": "y0uAQh8ohIAt"
      },
      "execution_count": 117,
      "outputs": []
    },
    {
      "cell_type": "code",
      "source": [
        "model_5.summary()"
      ],
      "metadata": {
        "id": "Tr_NIT7tlh7i",
        "outputId": "643e0af5-481b-431c-e08b-b9a227dcb8ea",
        "colab": {
          "base_uri": "https://localhost:8080/"
        }
      },
      "execution_count": 118,
      "outputs": [
        {
          "output_type": "stream",
          "name": "stdout",
          "text": [
            "Model: \"model_5\"\n",
            "__________________________________________________________________________________________________\n",
            " Layer (type)                Output Shape                 Param #   Connected to                  \n",
            "==================================================================================================\n",
            " char_inputs (InputLayer)    [(None, 1)]                  0         []                            \n",
            "                                                                                                  \n",
            " token_inputs (InputLayer)   [(None,)]                    0         []                            \n",
            "                                                                                                  \n",
            " char_vectorizer (TextVecto  (None, 290)                  0         ['char_inputs[0][0]']         \n",
            " rization)                                                                                        \n",
            "                                                                                                  \n",
            " universal_sentence_encoder  (None, 512)                  2567978   ['token_inputs[0][0]']        \n",
            "  (KerasLayer)                                            24                                      \n",
            "                                                                                                  \n",
            " char_embed (Embedding)      (None, 290, 25)              1750      ['char_vectorizer[5][0]']     \n",
            "                                                                                                  \n",
            " dense_15 (Dense)            (None, 128)                  65664     ['universal_sentence_encoder[5\n",
            "                                                                    ][0]']                        \n",
            "                                                                                                  \n",
            " bidirectional_4 (Bidirecti  (None, 64)                   14848     ['char_embed[5][0]']          \n",
            " onal)                                                                                            \n",
            "                                                                                                  \n",
            " token_char_hybrid_embeddin  (None, 192)                  0         ['dense_15[0][0]',            \n",
            " g (Concatenate)                                                     'bidirectional_4[0][0]']     \n",
            "                                                                                                  \n",
            " line_number_inputs (InputL  [(None, 15)]                 0         []                            \n",
            " ayer)                                                                                            \n",
            "                                                                                                  \n",
            " total_lines_inputs (InputL  [(None, 20)]                 0         []                            \n",
            " ayer)                                                                                            \n",
            "                                                                                                  \n",
            " dense_18 (Dense)            (None, 256)                  49408     ['token_char_hybrid_embedding[\n",
            "                                                                    0][0]']                       \n",
            "                                                                                                  \n",
            " dense_16 (Dense)            (None, 32)                   512       ['line_number_inputs[0][0]']  \n",
            "                                                                                                  \n",
            " dense_17 (Dense)            (None, 128)                  2688      ['total_lines_inputs[0][0]']  \n",
            "                                                                                                  \n",
            " dropout_3 (Dropout)         (None, 256)                  0         ['dense_18[0][0]']            \n",
            "                                                                                                  \n",
            " token_char_positional_embe  (None, 416)                  0         ['dense_16[0][0]',            \n",
            " ding (Concatenate)                                                  'dense_17[0][0]',            \n",
            "                                                                     'dropout_3[0][0]']           \n",
            "                                                                                                  \n",
            " output_layer (Dense)        (None, 5)                    2085      ['token_char_positional_embedi\n",
            "                                                                    ng[0][0]']                    \n",
            "                                                                                                  \n",
            "==================================================================================================\n",
            "Total params: 256934779 (980.13 MB)\n",
            "Trainable params: 136955 (534.98 KB)\n",
            "Non-trainable params: 256797824 (979.61 MB)\n",
            "__________________________________________________________________________________________________\n"
          ]
        }
      ]
    },
    {
      "cell_type": "code",
      "source": [
        "from tensorflow.keras.utils import plot_model\n",
        "plot_model(model_5)"
      ],
      "metadata": {
        "id": "YW3Mg6-olpVn",
        "outputId": "da9a9e76-39b5-46c5-f7b4-7984d6f649c4",
        "colab": {
          "base_uri": "https://localhost:8080/",
          "height": 564
        }
      },
      "execution_count": 119,
      "outputs": [
        {
          "output_type": "execute_result",
          "data": {
            "image/png": "[encoded data removed]",
            "text/plain": [
              "<IPython.core.display.Image object>"
            ]
          },
          "metadata": {},
          "execution_count": 119
        }
      ]
    },
    {
      "cell_type": "markdown",
      "source": [
        "**Author Model:**"
      ],
      "metadata": {
        "id": "mfLXKTR2lwfd"
      }
    },
    {
      "cell_type": "markdown",
      "source": [
        "![image.png](data:image/png;base64,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)"
      ],
      "metadata": {
        "id": "j4bVn38EmBwV"
      }
    },
    {
      "cell_type": "markdown",
      "source": [
        "Our model is looking very similar to the Author model but there are few differences:\n",
        "\n",
        "```\n",
        "- We used pretrained TensorFlow Hub token embeddings instead of GloVr embeddings.\n",
        "- We're using a Dense layer on top of our token-character hybrid embeddings instead of a bi-LSTM layer.\n",
        "- Section 3.1.3 of the paper mentions a label sequence optimization layer (which helps to make sure sequence labels come out in a respectable order) but it isn't shown in Figure 1. To makeup for the lack of this layer in our model, we've created the positional embeddings layers.\n",
        "- Section 4.2 of the paper mentions the token and character embeddings are updated during training, our pretrained TensorFlow Hub embeddings remain frozen.\n",
        "- The paper used the SGD optimizer, we stick with Adam.\n",
        "```"
      ],
      "metadata": {
        "id": "WM1SUW70mI-t"
      }
    },
    {
      "cell_type": "code",
      "source": [
        "# Check which layers of our model are trainable or not\n",
        "for layer in model_5.layers:\n",
        "  print(layer, layer.trainable)"
      ],
      "metadata": {
        "id": "W8nYUOSjmofj",
        "outputId": "0e5e41cf-7c5b-4a1c-f9be-107bfc731300",
        "colab": {
          "base_uri": "https://localhost:8080/"
        }
      },
      "execution_count": 121,
      "outputs": [
        {
          "output_type": "stream",
          "name": "stdout",
          "text": [
            "<keras.src.engine.input_layer.InputLayer object at 0x7ce47d8930a0> True\n",
            "<keras.src.engine.input_layer.InputLayer object at 0x7ce47d8925f0> True\n",
            "<keras.src.layers.preprocessing.text_vectorization.TextVectorization object at 0x7ce485b438e0> True\n",
            "<tensorflow_hub.keras_layer.KerasLayer object at 0x7ce5fb0a0c70> False\n",
            "<keras.src.layers.core.embedding.Embedding object at 0x7ce485b74f70> True\n",
            "<keras.src.layers.core.dense.Dense object at 0x7ce47d8934f0> True\n",
            "<keras.src.layers.rnn.bidirectional.Bidirectional object at 0x7ce47d8d2ec0> True\n",
            "<keras.src.layers.merging.concatenate.Concatenate object at 0x7ce47d47ff40> True\n",
            "<keras.src.engine.input_layer.InputLayer object at 0x7ce47d8e5fc0> True\n",
            "<keras.src.engine.input_layer.InputLayer object at 0x7ce47d727ac0> True\n",
            "<keras.src.layers.core.dense.Dense object at 0x7ce47d45cd30> True\n",
            "<keras.src.layers.core.dense.Dense object at 0x7ce5904a8310> True\n",
            "<keras.src.layers.core.dense.Dense object at 0x7ce47d726e00> True\n",
            "<keras.src.layers.regularization.dropout.Dropout object at 0x7ce47d45d7e0> True\n",
            "<keras.src.layers.merging.concatenate.Concatenate object at 0x7ce47d45e050> True\n",
            "<keras.src.layers.core.dense.Dense object at 0x7ce47d45e920> True\n"
          ]
        }
      ]
    },
    {
      "cell_type": "code",
      "source": [
        "# Compile token, char, positional embedding model\n",
        "model_5.compile(loss=tf.keras.losses.CategoricalCrossentropy(label_smoothing=0.2), # add label smoothing (examples which are really confident get smoothed a little)\n",
        "                optimizer=tf.keras.optimizers.Adam(),\n",
        "                metrics=[\"accuracy\"])"
      ],
      "metadata": {
        "id": "B9TzaWnUm0jj"
      },
      "execution_count": 122,
      "outputs": []
    },
    {
      "cell_type": "markdown",
      "source": [
        " Label smoothing helps to regularize our model (prevent overfitting) by making sure it doesn't get too focused on applying one particular label to a sample.\n",
        "\n",
        "For example, instead of having an output prediction of:\n",
        "* `[0.0, 0.0, 1.0, 0.0, 0.0]` for a sample (the model is very confident the right label is index 2).\n",
        "\n",
        "It's predictions will get smoothed to be something like:\n",
        "* `[0.01, 0.01, 0.096, 0.01, 0.01]` giving a small activation to each of the other labels, in turn, hopefully improving generalization."
      ],
      "metadata": {
        "id": "t81uQUtYm_yE"
      }
    },
    {
      "cell_type": "markdown",
      "source": [
        "### Creating tribrid embedding datasets and fir tribrid model"
      ],
      "metadata": {
        "id": "kHePTTBpnBos"
      }
    },
    {
      "cell_type": "markdown",
      "source": [
        "This time our model requires four feature inputs:\n",
        "1. Train line numbers one-hot tensor (`train_line_numbers_one_hot`)\n",
        "2. Train total lines one-hot tensor (`train_total_lines_one_hot`)\n",
        "3. Token-level sequences tensor (`train_sentences`)\n",
        "4. Char-level sequences tensor (`train_chars`)\n",
        "\n",
        "We can pass these as tuples to our `tf.data.Dataset.from_tensor_slices()` method to create appropriately shaped and batched `PrefetchedDataset`'s."
      ],
      "metadata": {
        "id": "XxXZ8g-tnX5w"
      }
    },
    {
      "cell_type": "code",
      "source": [
        "# Create training and validation datasets (all four kinds of inputs)\n",
        "train_pos_char_token_data = tf.data.Dataset.from_tensor_slices((train_line_numbers_one_hot, # line numbers\n",
        "                                                                train_total_lines_one_hot, # total lines\n",
        "                                                                train_sentences, # train tokens\n",
        "                                                                train_chars)) # train chars\n",
        "train_pos_char_token_labels = tf.data.Dataset.from_tensor_slices(train_labels_one_hot) # train labels\n",
        "train_pos_char_token_dataset = tf.data.Dataset.zip((train_pos_char_token_data, train_pos_char_token_labels)) # combine data and labels\n",
        "train_pos_char_token_dataset = train_pos_char_token_dataset.batch(32).prefetch(tf.data.AUTOTUNE) # turn into batches and prefetch appropriately\n",
        "\n",
        "# Validation dataset\n",
        "val_pos_char_token_data = tf.data.Dataset.from_tensor_slices((val_line_numbers_one_hot,\n",
        "                                                              val_total_lines_one_hot,\n",
        "                                                              val_sentences,\n",
        "                                                              val_chars))\n",
        "val_pos_char_token_labels = tf.data.Dataset.from_tensor_slices(val_labels_one_hot)\n",
        "val_pos_char_token_dataset = tf.data.Dataset.zip((val_pos_char_token_data, val_pos_char_token_labels))\n",
        "val_pos_char_token_dataset = val_pos_char_token_dataset.batch(32).prefetch(tf.data.AUTOTUNE) # turn into batches and prefetch appropriately\n",
        "\n",
        "# Check input shapes\n",
        "train_pos_char_token_dataset, val_pos_char_token_dataset"
      ],
      "metadata": {
        "id": "2ZfIcMmfnd7r",
        "outputId": "ec2ed015-1fd0-47d7-a107-c7528b2075e8",
        "colab": {
          "base_uri": "https://localhost:8080/"
        }
      },
      "execution_count": 124,
      "outputs": [
        {
          "output_type": "execute_result",
          "data": {
            "text/plain": [
              "(<_PrefetchDataset element_spec=((TensorSpec(shape=(None, 15), dtype=tf.float32, name=None), TensorSpec(shape=(None, 20), dtype=tf.float32, name=None), TensorSpec(shape=(None,), dtype=tf.string, name=None), TensorSpec(shape=(None,), dtype=tf.string, name=None)), TensorSpec(shape=(None, 5), dtype=tf.float64, name=None))>,\n",
              " <_PrefetchDataset element_spec=((TensorSpec(shape=(None, 15), dtype=tf.float32, name=None), TensorSpec(shape=(None, 20), dtype=tf.float32, name=None), TensorSpec(shape=(None,), dtype=tf.string, name=None), TensorSpec(shape=(None,), dtype=tf.string, name=None)), TensorSpec(shape=(None, 5), dtype=tf.float64, name=None))>)"
            ]
          },
          "metadata": {},
          "execution_count": 124
        }
      ]
    },
    {
      "cell_type": "code",
      "source": [
        "# Fit the token, char and positional embedding model\n",
        "history_model_5 = model_5.fit(train_pos_char_token_dataset,\n",
        "                              steps_per_epoch=int(0.1 * len(train_pos_char_token_dataset)),\n",
        "                              epochs=3,\n",
        "                              validation_data=val_pos_char_token_dataset,\n",
        "                              validation_steps=int(0.1 * len(val_pos_char_token_dataset)))"
      ],
      "metadata": {
        "id": "U3qmKE6bngk8",
        "outputId": "bc3e5c80-c342-4bf4-c741-8c2c26f09576",
        "colab": {
          "base_uri": "https://localhost:8080/"
        }
      },
      "execution_count": 125,
      "outputs": [
        {
          "output_type": "stream",
          "name": "stdout",
          "text": [
            "Epoch 1/3\n",
            "562/562 [==============================] - 36s 47ms/step - loss: 1.1012 - accuracy: 0.7208 - val_loss: 0.9858 - val_accuracy: 0.8059\n",
            "Epoch 2/3\n",
            "562/562 [==============================] - 35s 62ms/step - loss: 0.9654 - accuracy: 0.8174 - val_loss: 0.9474 - val_accuracy: 0.8295\n",
            "Epoch 3/3\n",
            "562/562 [==============================] - 38s 69ms/step - loss: 0.9483 - accuracy: 0.8257 - val_loss: 0.9399 - val_accuracy: 0.8331\n"
          ]
        }
      ]
    },
    {
      "cell_type": "code",
      "source": [
        "# Fit the token, char and positional embedding model\n",
        "history_model_5_continued = model_5.fit(train_pos_char_token_dataset,\n",
        "                              steps_per_epoch=int(0.1 * len(train_pos_char_token_dataset)),\n",
        "                              initial_epoch = history_model_5.epoch[-1] + 1,\n",
        "                              epochs=7,\n",
        "                              validation_data=val_pos_char_token_dataset,\n",
        "                              validation_steps=int(0.1 * len(val_pos_char_token_dataset)))"
      ],
      "metadata": {
        "id": "_7V_2Ig6niFw",
        "outputId": "b004e695-faf1-46e7-edf6-205eb9f6ba9b",
        "colab": {
          "base_uri": "https://localhost:8080/"
        }
      },
      "execution_count": 126,
      "outputs": [
        {
          "output_type": "stream",
          "name": "stdout",
          "text": [
            "Epoch 4/7\n",
            "562/562 [==============================] - 26s 45ms/step - loss: 0.9426 - accuracy: 0.8299 - val_loss: 0.9309 - val_accuracy: 0.8391\n",
            "Epoch 5/7\n",
            "562/562 [==============================] - 26s 46ms/step - loss: 0.9231 - accuracy: 0.8465 - val_loss: 0.9214 - val_accuracy: 0.8461\n",
            "Epoch 6/7\n",
            "562/562 [==============================] - 24s 43ms/step - loss: 0.9199 - accuracy: 0.8455 - val_loss: 0.9242 - val_accuracy: 0.8391\n",
            "Epoch 7/7\n",
            "562/562 [==============================] - 23s 42ms/step - loss: 0.9242 - accuracy: 0.8440 - val_loss: 0.9183 - val_accuracy: 0.8348\n"
          ]
        }
      ]
    },
    {
      "cell_type": "code",
      "source": [
        "model_5_pred_probs = model_5.predict(val_pos_char_token_dataset, verbose=1)\n",
        "model_5_pred_probs"
      ],
      "metadata": {
        "id": "3uvT6g4foOjU",
        "outputId": "1157a14b-c949-44d8-cf47-ad99deeaf174",
        "colab": {
          "base_uri": "https://localhost:8080/"
        }
      },
      "execution_count": 127,
      "outputs": [
        {
          "output_type": "stream",
          "name": "stdout",
          "text": [
            "945/945 [==============================] - 39s 40ms/step\n"
          ]
        },
        {
          "output_type": "execute_result",
          "data": {
            "text/plain": [
              "array([[0.67388475, 0.07801281, 0.01918177, 0.21350533, 0.0154153 ],\n",
              "       [0.716781  , 0.08058207, 0.05435563, 0.13840929, 0.00987201],\n",
              "       [0.4630309 , 0.07677636, 0.10832037, 0.29252398, 0.05934829],\n",
              "       ...,\n",
              "       [0.02527552, 0.08316143, 0.03608194, 0.02652658, 0.8289545 ],\n",
              "       [0.02427121, 0.3122345 , 0.06981818, 0.02701273, 0.5666634 ],\n",
              "       [0.0587442 , 0.8569237 , 0.03547377, 0.0164867 , 0.03237167]],\n",
              "      dtype=float32)"
            ]
          },
          "metadata": {},
          "execution_count": 127
        }
      ]
    },
    {
      "cell_type": "code",
      "source": [
        "model_5_preds = tf.argmax(model_5_pred_probs, axis=1)\n",
        "model_5_preds"
      ],
      "metadata": {
        "id": "v033q4GposXM",
        "outputId": "ccbc888b-4661-47ee-8106-9d8ec37fdf52",
        "colab": {
          "base_uri": "https://localhost:8080/"
        }
      },
      "execution_count": 128,
      "outputs": [
        {
          "output_type": "execute_result",
          "data": {
            "text/plain": [
              "<tf.Tensor: shape=(30212,), dtype=int64, numpy=array([0, 0, 0, ..., 4, 4, 1])>"
            ]
          },
          "metadata": {},
          "execution_count": 128
        }
      ]
    },
    {
      "cell_type": "code",
      "source": [
        "# Calculate results of token-char-positional hybrid model\n",
        "model_5_results = calculate_results(y_true=val_labels_encoded,\n",
        "                                    y_pred=model_5_preds)\n",
        "model_5_results"
      ],
      "metadata": {
        "id": "x28MIy2Zotjn",
        "outputId": "2a13a853-f2a6-4dbc-fcf5-6e74a8677906",
        "colab": {
          "base_uri": "https://localhost:8080/"
        }
      },
      "execution_count": 129,
      "outputs": [
        {
          "output_type": "execute_result",
          "data": {
            "text/plain": [
              "{'accuracy': 84.13875281345162,\n",
              " 'precision': 0.8489288929924241,\n",
              " 'recall': 0.8413875281345161,\n",
              " 'f1': 0.8357048460291022}"
            ]
          },
          "metadata": {},
          "execution_count": 129
        }
      ]
    },
    {
      "cell_type": "markdown",
      "source": [
        "## **Compare Model Results**"
      ],
      "metadata": {
        "id": "eFqBc3TVovCa"
      }
    },
    {
      "cell_type": "code",
      "source": [
        "# Combine model results into a DataFrame\n",
        "all_model_results = pd.DataFrame({\"baseline\": baseline_results,\n",
        "                                  \"custom_token_embed_conv1d\": model_1_results,\n",
        "                                  \"pretrained_token_embed\": model_2_results,\n",
        "                                  \"custom_char_embed_conv1d\": model_3_results,\n",
        "                                  \"hybrid_char_token_embed\": model_4_results,\n",
        "                                  \"tribrid_pos_char_token_embed\": model_5_results})\n",
        "all_model_results = all_model_results.transpose()\n",
        "all_model_results"
      ],
      "metadata": {
        "id": "yyIoGnWQozPK",
        "outputId": "70316d16-7c03-4ff8-ca1e-951301462197",
        "colab": {
          "base_uri": "https://localhost:8080/",
          "height": 237
        }
      },
      "execution_count": 130,
      "outputs": [
        {
          "output_type": "execute_result",
          "data": {
            "text/plain": [
              "                               accuracy  precision    recall        f1\n",
              "baseline                      72.183238   0.718647  0.721832  0.698925\n",
              "custom_token_embed_conv1d     79.739838   0.798178  0.797398  0.793555\n",
              "pretrained_token_embed        74.510128   0.743528  0.745101  0.742845\n",
              "custom_char_embed_conv1d      69.647822   0.700052  0.696478  0.689324\n",
              "hybrid_char_token_embed       76.469615   0.762689  0.764696  0.760274\n",
              "tribrid_pos_char_token_embed  84.138753   0.848929  0.841388  0.835705"
            ],
            "text/html": [
              "\n",
              "  <div id=\"df-d5d47fc0-7349-4176-80aa-65a6d11c6708\" class=\"colab-df-container\">\n",
              "    <div>\n",
              "<style scoped>\n",
              "    .dataframe tbody tr th:only-of-type {\n",
              "        vertical-align: middle;\n",
              "    }\n",
              "\n",
              "    .dataframe tbody tr th {\n",
              "        vertical-align: top;\n",
              "    }\n",
              "\n",
              "    .dataframe thead th {\n",
              "        text-align: right;\n",
              "    }\n",
              "</style>\n",
              "<table border=\"1\" class=\"dataframe\">\n",
              "  <thead>\n",
              "    <tr style=\"text-align: right;\">\n",
              "      <th></th>\n",
              "      <th>accuracy</th>\n",
              "      <th>precision</th>\n",
              "      <th>recall</th>\n",
              "      <th>f1</th>\n",
              "    </tr>\n",
              "  </thead>\n",
              "  <tbody>\n",
              "    <tr>\n",
              "      <th>baseline</th>\n",
              "      <td>72.183238</td>\n",
              "      <td>0.718647</td>\n",
              "      <td>0.721832</td>\n",
              "      <td>0.698925</td>\n",
              "    </tr>\n",
              "    <tr>\n",
              "      <th>custom_token_embed_conv1d</th>\n",
              "      <td>79.739838</td>\n",
              "      <td>0.798178</td>\n",
              "      <td>0.797398</td>\n",
              "      <td>0.793555</td>\n",
              "    </tr>\n",
              "    <tr>\n",
              "      <th>pretrained_token_embed</th>\n",
              "      <td>74.510128</td>\n",
              "      <td>0.743528</td>\n",
              "      <td>0.745101</td>\n",
              "      <td>0.742845</td>\n",
              "    </tr>\n",
              "    <tr>\n",
              "      <th>custom_char_embed_conv1d</th>\n",
              "      <td>69.647822</td>\n",
              "      <td>0.700052</td>\n",
              "      <td>0.696478</td>\n",
              "      <td>0.689324</td>\n",
              "    </tr>\n",
              "    <tr>\n",
              "      <th>hybrid_char_token_embed</th>\n",
              "      <td>76.469615</td>\n",
              "      <td>0.762689</td>\n",
              "      <td>0.764696</td>\n",
              "      <td>0.760274</td>\n",
              "    </tr>\n",
              "    <tr>\n",
              "      <th>tribrid_pos_char_token_embed</th>\n",
              "      <td>84.138753</td>\n",
              "      <td>0.848929</td>\n",
              "      <td>0.841388</td>\n",
              "      <td>0.835705</td>\n",
              "    </tr>\n",
              "  </tbody>\n",
              "</table>\n",
              "</div>\n",
              "    <div class=\"colab-df-buttons\">\n",
              "\n",
              "  <div class=\"colab-df-container\">\n",
              "    <button class=\"colab-df-convert\" onclick=\"convertToInteractive('df-d5d47fc0-7349-4176-80aa-65a6d11c6708')\"\n",
              "            title=\"Convert this dataframe to an interactive table.\"\n",
              "            style=\"display:none;\">\n",
              "\n",
              "  <svg xmlns=\"http://www.w3.org/2000/svg\" height=\"24px\" viewBox=\"0 -960 960 960\">\n",
              "    <path d=\"M120-120v-720h720v720H120Zm60-500h600v-160H180v160Zm220 220h160v-160H400v160Zm0 220h160v-160H400v160ZM180-400h160v-160H180v160Zm440 0h160v-160H620v160ZM180-180h160v-160H180v160Zm440 0h160v-160H620v160Z\"/>\n",
              "  </svg>\n",
              "    </button>\n",
              "\n",
              "  <style>\n",
              "    .colab-df-container {\n",
              "      display:flex;\n",
              "      gap: 12px;\n",
              "    }\n",
              "\n",
              "    .colab-df-convert {\n",
              "      background-color: #E8F0FE;\n",
              "      border: none;\n",
              "      border-radius: 50%;\n",
              "      cursor: pointer;\n",
              "      display: none;\n",
              "      fill: #1967D2;\n",
              "      height: 32px;\n",
              "      padding: 0 0 0 0;\n",
              "      width: 32px;\n",
              "    }\n",
              "\n",
              "    .colab-df-convert:hover {\n",
              "      background-color: #E2EBFA;\n",
              "      box-shadow: 0px 1px 2px rgba(60, 64, 67, 0.3), 0px 1px 3px 1px rgba(60, 64, 67, 0.15);\n",
              "      fill: #174EA6;\n",
              "    }\n",
              "\n",
              "    .colab-df-buttons div {\n",
              "      margin-bottom: 4px;\n",
              "    }\n",
              "\n",
              "    [theme=dark] .colab-df-convert {\n",
              "      background-color: #3B4455;\n",
              "      fill: #D2E3FC;\n",
              "    }\n",
              "\n",
              "    [theme=dark] .colab-df-convert:hover {\n",
              "      background-color: #434B5C;\n",
              "      box-shadow: 0px 1px 3px 1px rgba(0, 0, 0, 0.15);\n",
              "      filter: drop-shadow(0px 1px 2px rgba(0, 0, 0, 0.3));\n",
              "      fill: #FFFFFF;\n",
              "    }\n",
              "  </style>\n",
              "\n",
              "    <script>\n",
              "      const buttonEl =\n",
              "        document.querySelector('#df-d5d47fc0-7349-4176-80aa-65a6d11c6708 button.colab-df-convert');\n",
              "      buttonEl.style.display =\n",
              "        google.colab.kernel.accessAllowed ? 'block' : 'none';\n",
              "\n",
              "      async function convertToInteractive(key) {\n",
              "        const element = document.querySelector('#df-d5d47fc0-7349-4176-80aa-65a6d11c6708');\n",
              "        const dataTable =\n",
              "          await google.colab.kernel.invokeFunction('convertToInteractive',\n",
              "                                                    [key], {});\n",
              "        if (!dataTable) return;\n",
              "\n",
              "        const docLinkHtml = 'Like what you see? Visit the ' +\n",
              "          '<a target=\"_blank\" href=https://colab.research.google.com/notebooks/data_table.ipynb>data table notebook</a>'\n",
              "          + ' to learn more about interactive tables.';\n",
              "        element.innerHTML = '';\n",
              "        dataTable['output_type'] = 'display_data';\n",
              "        await google.colab.output.renderOutput(dataTable, element);\n",
              "        const docLink = document.createElement('div');\n",
              "        docLink.innerHTML = docLinkHtml;\n",
              "        element.appendChild(docLink);\n",
              "      }\n",
              "    </script>\n",
              "  </div>\n",
              "\n",
              "\n",
              "<div id=\"df-fdf8038b-ea93-4785-a876-bf61979835bf\">\n",
              "  <button class=\"colab-df-quickchart\" onclick=\"quickchart('df-fdf8038b-ea93-4785-a876-bf61979835bf')\"\n",
              "            title=\"Suggest charts\"\n",
              "            style=\"display:none;\">\n",
              "\n",
              "<svg xmlns=\"http://www.w3.org/2000/svg\" height=\"24px\"viewBox=\"0 0 24 24\"\n",
              "     width=\"24px\">\n",
              "    <g>\n",
              "        <path d=\"M19 3H5c-1.1 0-2 .9-2 2v14c0 1.1.9 2 2 2h14c1.1 0 2-.9 2-2V5c0-1.1-.9-2-2-2zM9 17H7v-7h2v7zm4 0h-2V7h2v10zm4 0h-2v-4h2v4z\"/>\n",
              "    </g>\n",
              "</svg>\n",
              "  </button>\n",
              "\n",
              "<style>\n",
              "  .colab-df-quickchart {\n",
              "      --bg-color: #E8F0FE;\n",
              "      --fill-color: #1967D2;\n",
              "      --hover-bg-color: #E2EBFA;\n",
              "      --hover-fill-color: #174EA6;\n",
              "      --disabled-fill-color: #AAA;\n",
              "      --disabled-bg-color: #DDD;\n",
              "  }\n",
              "\n",
              "  [theme=dark] .colab-df-quickchart {\n",
              "      --bg-color: #3B4455;\n",
              "      --fill-color: #D2E3FC;\n",
              "      --hover-bg-color: #434B5C;\n",
              "      --hover-fill-color: #FFFFFF;\n",
              "      --disabled-bg-color: #3B4455;\n",
              "      --disabled-fill-color: #666;\n",
              "  }\n",
              "\n",
              "  .colab-df-quickchart {\n",
              "    background-color: var(--bg-color);\n",
              "    border: none;\n",
              "    border-radius: 50%;\n",
              "    cursor: pointer;\n",
              "    display: none;\n",
              "    fill: var(--fill-color);\n",
              "    height: 32px;\n",
              "    padding: 0;\n",
              "    width: 32px;\n",
              "  }\n",
              "\n",
              "  .colab-df-quickchart:hover {\n",
              "    background-color: var(--hover-bg-color);\n",
              "    box-shadow: 0 1px 2px rgba(60, 64, 67, 0.3), 0 1px 3px 1px rgba(60, 64, 67, 0.15);\n",
              "    fill: var(--button-hover-fill-color);\n",
              "  }\n",
              "\n",
              "  .colab-df-quickchart-complete:disabled,\n",
              "  .colab-df-quickchart-complete:disabled:hover {\n",
              "    background-color: var(--disabled-bg-color);\n",
              "    fill: var(--disabled-fill-color);\n",
              "    box-shadow: none;\n",
              "  }\n",
              "\n",
              "  .colab-df-spinner {\n",
              "    border: 2px solid var(--fill-color);\n",
              "    border-color: transparent;\n",
              "    border-bottom-color: var(--fill-color);\n",
              "    animation:\n",
              "      spin 1s steps(1) infinite;\n",
              "  }\n",
              "\n",
              "  @keyframes spin {\n",
              "    0% {\n",
              "      border-color: transparent;\n",
              "      border-bottom-color: var(--fill-color);\n",
              "      border-left-color: var(--fill-color);\n",
              "    }\n",
              "    20% {\n",
              "      border-color: transparent;\n",
              "      border-left-color: var(--fill-color);\n",
              "      border-top-color: var(--fill-color);\n",
              "    }\n",
              "    30% {\n",
              "      border-color: transparent;\n",
              "      border-left-color: var(--fill-color);\n",
              "      border-top-color: var(--fill-color);\n",
              "      border-right-color: var(--fill-color);\n",
              "    }\n",
              "    40% {\n",
              "      border-color: transparent;\n",
              "      border-right-color: var(--fill-color);\n",
              "      border-top-color: var(--fill-color);\n",
              "    }\n",
              "    60% {\n",
              "      border-color: transparent;\n",
              "      border-right-color: var(--fill-color);\n",
              "    }\n",
              "    80% {\n",
              "      border-color: transparent;\n",
              "      border-right-color: var(--fill-color);\n",
              "      border-bottom-color: var(--fill-color);\n",
              "    }\n",
              "    90% {\n",
              "      border-color: transparent;\n",
              "      border-bottom-color: var(--fill-color);\n",
              "    }\n",
              "  }\n",
              "</style>\n",
              "\n",
              "  <script>\n",
              "    async function quickchart(key) {\n",
              "      const quickchartButtonEl =\n",
              "        document.querySelector('#' + key + ' button');\n",
              "      quickchartButtonEl.disabled = true;  // To prevent multiple clicks.\n",
              "      quickchartButtonEl.classList.add('colab-df-spinner');\n",
              "      try {\n",
              "        const charts = await google.colab.kernel.invokeFunction(\n",
              "            'suggestCharts', [key], {});\n",
              "      } catch (error) {\n",
              "        console.error('Error during call to suggestCharts:', error);\n",
              "      }\n",
              "      quickchartButtonEl.classList.remove('colab-df-spinner');\n",
              "      quickchartButtonEl.classList.add('colab-df-quickchart-complete');\n",
              "    }\n",
              "    (() => {\n",
              "      let quickchartButtonEl =\n",
              "        document.querySelector('#df-fdf8038b-ea93-4785-a876-bf61979835bf button');\n",
              "      quickchartButtonEl.style.display =\n",
              "        google.colab.kernel.accessAllowed ? 'block' : 'none';\n",
              "    })();\n",
              "  </script>\n",
              "</div>\n",
              "\n",
              "  <div id=\"id_2e904eb5-39b2-4aad-ae28-492109a0e65c\">\n",
              "    <style>\n",
              "      .colab-df-generate {\n",
              "        background-color: #E8F0FE;\n",
              "        border: none;\n",
              "        border-radius: 50%;\n",
              "        cursor: pointer;\n",
              "        display: none;\n",
              "        fill: #1967D2;\n",
              "        height: 32px;\n",
              "        padding: 0 0 0 0;\n",
              "        width: 32px;\n",
              "      }\n",
              "\n",
              "      .colab-df-generate:hover {\n",
              "        background-color: #E2EBFA;\n",
              "        box-shadow: 0px 1px 2px rgba(60, 64, 67, 0.3), 0px 1px 3px 1px rgba(60, 64, 67, 0.15);\n",
              "        fill: #174EA6;\n",
              "      }\n",
              "\n",
              "      [theme=dark] .colab-df-generate {\n",
              "        background-color: #3B4455;\n",
              "        fill: #D2E3FC;\n",
              "      }\n",
              "\n",
              "      [theme=dark] .colab-df-generate:hover {\n",
              "        background-color: #434B5C;\n",
              "        box-shadow: 0px 1px 3px 1px rgba(0, 0, 0, 0.15);\n",
              "        filter: drop-shadow(0px 1px 2px rgba(0, 0, 0, 0.3));\n",
              "        fill: #FFFFFF;\n",
              "      }\n",
              "    </style>\n",
              "    <button class=\"colab-df-generate\" onclick=\"generateWithVariable('all_model_results')\"\n",
              "            title=\"Generate code using this dataframe.\"\n",
              "            style=\"display:none;\">\n",
              "\n",
              "  <svg xmlns=\"http://www.w3.org/2000/svg\" height=\"24px\"viewBox=\"0 0 24 24\"\n",
              "       width=\"24px\">\n",
              "    <path d=\"M7,19H8.4L18.45,9,17,7.55,7,17.6ZM5,21V16.75L18.45,3.32a2,2,0,0,1,2.83,0l1.4,1.43a1.91,1.91,0,0,1,.58,1.4,1.91,1.91,0,0,1-.58,1.4L9.25,21ZM18.45,9,17,7.55Zm-12,3A5.31,5.31,0,0,0,4.9,8.1,5.31,5.31,0,0,0,1,6.5,5.31,5.31,0,0,0,4.9,4.9,5.31,5.31,0,0,0,6.5,1,5.31,5.31,0,0,0,8.1,4.9,5.31,5.31,0,0,0,12,6.5,5.46,5.46,0,0,0,6.5,12Z\"/>\n",
              "  </svg>\n",
              "    </button>\n",
              "    <script>\n",
              "      (() => {\n",
              "      const buttonEl =\n",
              "        document.querySelector('#id_2e904eb5-39b2-4aad-ae28-492109a0e65c button.colab-df-generate');\n",
              "      buttonEl.style.display =\n",
              "        google.colab.kernel.accessAllowed ? 'block' : 'none';\n",
              "\n",
              "      buttonEl.onclick = () => {\n",
              "        google.colab.notebook.generateWithVariable('all_model_results');\n",
              "      }\n",
              "      })();\n",
              "    </script>\n",
              "  </div>\n",
              "\n",
              "    </div>\n",
              "  </div>\n"
            ],
            "application/vnd.google.colaboratory.intrinsic+json": {
              "type": "dataframe",
              "variable_name": "all_model_results",
              "summary": "{\n  \"name\": \"all_model_results\",\n  \"rows\": 6,\n  \"fields\": [\n    {\n      \"column\": \"accuracy\",\n      \"properties\": {\n        \"dtype\": \"number\",\n        \"std\": 5.2441313280600035,\n        \"min\": 69.6478220574606,\n        \"max\": 84.13875281345162,\n        \"num_unique_values\": 6,\n        \"samples\": [\n          72.1832384482987,\n          79.73983847477824,\n          84.13875281345162\n        ],\n        \"semantic_type\": \"\",\n        \"description\": \"\"\n      }\n    },\n    {\n      \"column\": \"precision\",\n      \"properties\": {\n        \"dtype\": \"number\",\n        \"std\": 0.054633730263866184,\n        \"min\": 0.7000518103082259,\n        \"max\": 0.8489288929924241,\n        \"num_unique_values\": 6,\n        \"samples\": [\n          0.7186466952323352,\n          0.7981777362527064,\n          0.8489288929924241\n        ],\n        \"semantic_type\": \"\",\n        \"description\": \"\"\n      }\n    },\n    {\n      \"column\": \"recall\",\n      \"properties\": {\n        \"dtype\": \"number\",\n        \"std\": 0.0524413132806,\n        \"min\": 0.6964782205746061,\n        \"max\": 0.8413875281345161,\n        \"num_unique_values\": 6,\n        \"samples\": [\n          0.7218323844829869,\n          0.7973983847477824,\n          0.8413875281345161\n        ],\n        \"semantic_type\": \"\",\n        \"description\": \"\"\n      }\n    },\n    {\n      \"column\": \"f1\",\n      \"properties\": {\n        \"dtype\": \"number\",\n        \"std\": 0.05588988349225455,\n        \"min\": 0.6893238578164691,\n        \"max\": 0.8357048460291022,\n        \"num_unique_values\": 6,\n        \"samples\": [\n          0.6989250353450294,\n          0.7935545034610154,\n          0.8357048460291022\n        ],\n        \"semantic_type\": \"\",\n        \"description\": \"\"\n      }\n    }\n  ]\n}"
            }
          },
          "metadata": {},
          "execution_count": 130
        }
      ]
    },
    {
      "cell_type": "code",
      "source": [
        "# Reduce the accuracy to same scale as other metrics\n",
        "all_model_results[\"accuracy\"] = all_model_results[\"accuracy\"]/100"
      ],
      "metadata": {
        "id": "WpDSAZkko0g8"
      },
      "execution_count": 131,
      "outputs": []
    },
    {
      "cell_type": "code",
      "source": [
        "# Plot and compare all of the model results\n",
        "all_model_results.plot(kind=\"bar\", figsize=(10, 7)).legend(bbox_to_anchor=(1.0, 1.0));"
      ],
      "metadata": {
        "id": "k8QZBFRao22S",
        "outputId": "c98b36fb-b150-4679-a4b6-1a11ae6477be",
        "colab": {
          "base_uri": "https://localhost:8080/",
          "height": 549
        }
      },
      "execution_count": 132,
      "outputs": [
        {
          "output_type": "display_data",
          "data": {
            "text/plain": [
              "<Figure size 1000x700 with 1 Axes>"
            ],
            "image/png": "[encoded data removed]"
          },
          "metadata": {}
        }
      ]
    },
    {
      "cell_type": "code",
      "source": [
        "# Sort model results by f1-score\n",
        "all_model_results.sort_values(\"f1\", ascending=False)[\"f1\"].plot(kind=\"bar\", figsize=(10, 7));"
      ],
      "metadata": {
        "id": "W7TErVawo4TZ",
        "outputId": "544a9514-fb8e-440f-d2bb-c15f7d4885f2",
        "colab": {
          "base_uri": "https://localhost:8080/",
          "height": 626
        }
      },
      "execution_count": 133,
      "outputs": [
        {
          "output_type": "display_data",
          "data": {
            "text/plain": [
              "<Figure size 1000x700 with 1 Axes>"
            ],
            "image/png": "[encoded data removed]"
          },
          "metadata": {}
        }
      ]
    },
    {
      "cell_type": "markdown",
      "source": [
        "### **Saving Model**"
      ],
      "metadata": {
        "id": "0Nx_fHDOo58h"
      }
    },
    {
      "cell_type": "code",
      "source": [
        "model_5.save(\"PubMed_best_model\")"
      ],
      "metadata": {
        "id": "nf64KTCCpW9P"
      },
      "execution_count": 138,
      "outputs": []
    },
    {
      "cell_type": "code",
      "source": [
        "!cp PubMed_best_model -r /content/drive/MyDrive/PubMed"
      ],
      "metadata": {
        "id": "4e7nxkkeqCWp"
      },
      "execution_count": 140,
      "outputs": []
    },
    {
      "cell_type": "code",
      "source": [
        "# Import TensorFlow model dependencies (if needed) - https://github.com/tensorflow/tensorflow/issues/38250\n",
        "import tensorflow_hub as hub\n",
        "import tensorflow as tf\n",
        "from tensorflow.keras.layers import TextVectorization\n",
        "\n",
        "model_path = \"/content/drive/MyDrive/PubMed\"\n",
        "\n",
        "# Load downloaded model from Google Storage\n",
        "loaded_model = tf.keras.models.load_model(model_path)#,\n",
        "                                          # Note: with TensorFlow 2.5+ if your SavedModel has a keras_metadata.pb file\n",
        "                                          # (created when using model.save()), you shouldn't need the custom_objects\n",
        "                                          # parameter. I'm leaving the code below here in case you do.\n",
        "                                          # custom_objects={\"TextVectorization\": TextVectorization, # required for char vectorization\n",
        "                                          #                 \"KerasLayer\": hub.KerasLayer}) # required for token embedding"
      ],
      "metadata": {
        "id": "SOi_4957pYx8"
      },
      "execution_count": 141,
      "outputs": []
    },
    {
      "cell_type": "code",
      "source": [
        "loaded_pred_probs = loaded_model.predict(val_pos_char_token_dataset, verbose=1)\n",
        "loaded_preds = tf.argmax(loaded_pred_probs, axis=1)\n",
        "loaded_preds[:10]"
      ],
      "metadata": {
        "id": "AFj-4QZJqv8L",
        "outputId": "21b9a3e1-8e74-4579-8398-9efe05f4120f",
        "colab": {
          "base_uri": "https://localhost:8080/"
        }
      },
      "execution_count": 142,
      "outputs": [
        {
          "output_type": "stream",
          "name": "stdout",
          "text": [
            "945/945 [==============================] - 36s 31ms/step\n"
          ]
        },
        {
          "output_type": "execute_result",
          "data": {
            "text/plain": [
              "<tf.Tensor: shape=(10,), dtype=int64, numpy=array([0, 0, 0, 2, 2, 4, 4, 4, 4, 1])>"
            ]
          },
          "metadata": {},
          "execution_count": 142
        }
      ]
    },
    {
      "cell_type": "code",
      "source": [
        "loaded_model_results = calculate_results(val_labels_encoded,\n",
        "                                         loaded_preds)\n",
        "loaded_model_results"
      ],
      "metadata": {
        "id": "IDe8sGiZqyvl",
        "outputId": "c0199410-1143-434a-85f0-465e246834f7",
        "colab": {
          "base_uri": "https://localhost:8080/"
        }
      },
      "execution_count": 143,
      "outputs": [
        {
          "output_type": "execute_result",
          "data": {
            "text/plain": [
              "{'accuracy': 84.13875281345162,\n",
              " 'precision': 0.8489288929924241,\n",
              " 'recall': 0.8413875281345161,\n",
              " 'f1': 0.8357048460291022}"
            ]
          },
          "metadata": {},
          "execution_count": 143
        }
      ]
    },
    {
      "cell_type": "code",
      "source": [
        "loaded_model.summary()"
      ],
      "metadata": {
        "id": "sk7U6bgQq0XF",
        "outputId": "1f801c4a-7025-4fc1-b6ef-0984a15aa2ea",
        "colab": {
          "base_uri": "https://localhost:8080/"
        }
      },
      "execution_count": 144,
      "outputs": [
        {
          "output_type": "stream",
          "name": "stdout",
          "text": [
            "Model: \"model_5\"\n",
            "__________________________________________________________________________________________________\n",
            " Layer (type)                Output Shape                 Param #   Connected to                  \n",
            "==================================================================================================\n",
            " char_inputs (InputLayer)    [(None, 1)]                  0         []                            \n",
            "                                                                                                  \n",
            " token_inputs (InputLayer)   [(None,)]                    0         []                            \n",
            "                                                                                                  \n",
            " char_vectorizer (TextVecto  (None, 290)                  0         ['char_inputs[0][0]']         \n",
            " rization)                                                                                        \n",
            "                                                                                                  \n",
            " universal_sentence_encoder  (None, 512)                  2567978   ['token_inputs[0][0]']        \n",
            "  (KerasLayer)                                            24                                      \n",
            "                                                                                                  \n",
            " char_embed (Embedding)      (None, 290, 25)              1750      ['char_vectorizer[0][0]']     \n",
            "                                                                                                  \n",
            " dense_15 (Dense)            (None, 128)                  65664     ['universal_sentence_encoder[0\n",
            "                                                                    ][0]']                        \n",
            "                                                                                                  \n",
            " bidirectional_4 (Bidirecti  (None, 64)                   14848     ['char_embed[0][0]']          \n",
            " onal)                                                                                            \n",
            "                                                                                                  \n",
            " token_char_hybrid_embeddin  (None, 192)                  0         ['dense_15[0][0]',            \n",
            " g (Concatenate)                                                     'bidirectional_4[0][0]']     \n",
            "                                                                                                  \n",
            " line_number_inputs (InputL  [(None, 15)]                 0         []                            \n",
            " ayer)                                                                                            \n",
            "                                                                                                  \n",
            " total_lines_inputs (InputL  [(None, 20)]                 0         []                            \n",
            " ayer)                                                                                            \n",
            "                                                                                                  \n",
            " dense_18 (Dense)            (None, 256)                  49408     ['token_char_hybrid_embedding[\n",
            "                                                                    0][0]']                       \n",
            "                                                                                                  \n",
            " dense_16 (Dense)            (None, 32)                   512       ['line_number_inputs[0][0]']  \n",
            "                                                                                                  \n",
            " dense_17 (Dense)            (None, 128)                  2688      ['total_lines_inputs[0][0]']  \n",
            "                                                                                                  \n",
            " dropout_3 (Dropout)         (None, 256)                  0         ['dense_18[0][0]']            \n",
            "                                                                                                  \n",
            " token_char_positional_embe  (None, 416)                  0         ['dense_16[0][0]',            \n",
            " ding (Concatenate)                                                  'dense_17[0][0]',            \n",
            "                                                                     'dropout_3[0][0]']           \n",
            "                                                                                                  \n",
            " output_layer (Dense)        (None, 5)                    2085      ['token_char_positional_embedi\n",
            "                                                                    ng[0][0]']                    \n",
            "                                                                                                  \n",
            "==================================================================================================\n",
            "Total params: 256934779 (980.13 MB)\n",
            "Trainable params: 136955 (534.98 KB)\n",
            "Non-trainable params: 256797824 (979.61 MB)\n",
            "__________________________________________________________________________________________________\n"
          ]
        }
      ]
    },
    {
      "cell_type": "markdown",
      "source": [
        "## **Model Evaluation**"
      ],
      "metadata": {
        "id": "CKMHwthgq3p_"
      }
    },
    {
      "cell_type": "markdown",
      "source": [
        "**Author Results:**"
      ],
      "metadata": {
        "id": "-WeFiLM_rJWB"
      }
    },
    {
      "cell_type": "markdown",
      "source": [
        "![image.png](data:image/png;base64,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)"
      ],
      "metadata": {
        "id": "ia5COpoirLt-"
      }
    },
    {
      "cell_type": "markdown",
      "source": [
        "We will try to beat these results"
      ],
      "metadata": {
        "id": "K9EVKVGXrOtF"
      }
    },
    {
      "cell_type": "code",
      "source": [
        "# Create test dataset batch and prefetched\n",
        "test_pos_char_token_data = tf.data.Dataset.from_tensor_slices((test_line_numbers_one_hot,\n",
        "                                                               test_total_lines_one_hot,\n",
        "                                                               test_sentences,\n",
        "                                                               test_chats))   # MADE TYPO EARLIER\n",
        "test_pos_char_token_labels = tf.data.Dataset.from_tensor_slices(test_labels_one_hot)\n",
        "test_pos_char_token_dataset = tf.data.Dataset.zip((test_pos_char_token_data, test_pos_char_token_labels))\n",
        "test_pos_char_token_dataset = test_pos_char_token_dataset.batch(32).prefetch(tf.data.AUTOTUNE)\n",
        "\n",
        "# Check shapes\n",
        "test_pos_char_token_dataset"
      ],
      "metadata": {
        "id": "EcMLpIYUrR6-",
        "outputId": "d2051859-c864-4c1d-acec-f27ea3f0cd22",
        "colab": {
          "base_uri": "https://localhost:8080/"
        }
      },
      "execution_count": 146,
      "outputs": [
        {
          "output_type": "execute_result",
          "data": {
            "text/plain": [
              "<_PrefetchDataset element_spec=((TensorSpec(shape=(None, 15), dtype=tf.float32, name=None), TensorSpec(shape=(None, 20), dtype=tf.float32, name=None), TensorSpec(shape=(None,), dtype=tf.string, name=None), TensorSpec(shape=(None,), dtype=tf.string, name=None)), TensorSpec(shape=(None, 5), dtype=tf.float64, name=None))>"
            ]
          },
          "metadata": {},
          "execution_count": 146
        }
      ]
    },
    {
      "cell_type": "code",
      "source": [
        "# Make predictions on the test dataset\n",
        "test_pred_probs = loaded_model.predict(test_pos_char_token_dataset,\n",
        "                                       verbose=1)\n",
        "test_preds = tf.argmax(test_pred_probs, axis=1)\n",
        "test_preds[:10]"
      ],
      "metadata": {
        "id": "XRb4uDFKrbVd",
        "outputId": "4a038ec0-53af-407e-8949-a5059e690a71",
        "colab": {
          "base_uri": "https://localhost:8080/"
        }
      },
      "execution_count": 147,
      "outputs": [
        {
          "output_type": "stream",
          "name": "stdout",
          "text": [
            "942/942 [==============================] - 28s 30ms/step\n"
          ]
        },
        {
          "output_type": "execute_result",
          "data": {
            "text/plain": [
              "<tf.Tensor: shape=(10,), dtype=int64, numpy=array([0, 2, 2, 2, 4, 4, 4, 1, 1, 0])>"
            ]
          },
          "metadata": {},
          "execution_count": 147
        }
      ]
    },
    {
      "cell_type": "code",
      "source": [
        "# Evaluate loaded model test predictions\n",
        "loaded_model_test_results = calculate_results(y_true=test_labels_encoded,\n",
        "                                              y_pred=test_preds)\n",
        "loaded_model_test_results"
      ],
      "metadata": {
        "id": "35W_uhd8rdMG",
        "outputId": "a77f05e2-eb5d-42d4-af9b-496e624f6239",
        "colab": {
          "base_uri": "https://localhost:8080/"
        }
      },
      "execution_count": 148,
      "outputs": [
        {
          "output_type": "execute_result",
          "data": {
            "text/plain": [
              "{'accuracy': 83.85266301642609,\n",
              " 'precision': 0.8441618615184111,\n",
              " 'recall': 0.8385266301642609,\n",
              " 'f1': 0.8328835121522784}"
            ]
          },
          "metadata": {},
          "execution_count": 148
        }
      ]
    },
    {
      "cell_type": "markdown",
      "source": [
        "It seems our best model is little off from the Author model in terms of F-1 Score.\n",
        "\n",
        "This is mainly because:\n",
        "- We haven't fine-tuned our pretrained embeddings (the paper fine-tunes GloVe embeddings).\n",
        "- We used only 10 percent of batches per epoch during training.\n",
        "- We didnt train our models for longer time."
      ],
      "metadata": {
        "id": "uShvGnEqrehI"
      }
    },
    {
      "cell_type": "markdown",
      "source": [
        "## Finding most wrong predictions"
      ],
      "metadata": {
        "id": "vD5nysElsZl_"
      }
    },
    {
      "cell_type": "code",
      "source": [
        "test_pred_classes = [label_encoder.classes_[pred] for pred in test_preds]\n",
        "test_pred_classes"
      ],
      "metadata": {
        "id": "jkfpmMoSscxV",
        "outputId": "33929986-4f12-4171-e7d2-049a48a23ada",
        "colab": {
          "base_uri": "https://localhost:8080/"
        }
      },
      "execution_count": 149,
      "outputs": [
        {
          "output_type": "execute_result",
          "data": {
            "text/plain": [
              "['BACKGROUND',\n",
              " 'METHODS',\n",
              " 'METHODS',\n",
              " 'METHODS',\n",
              " 'RESULTS',\n",
              " 'RESULTS',\n",
              " 'RESULTS',\n",
              " 'CONCLUSIONS',\n",
              " 'CONCLUSIONS',\n",
              " 'BACKGROUND',\n",
              " 'BACKGROUND',\n",
              " 'METHODS',\n",
              " 'METHODS',\n",
              " 'METHODS',\n",
              " 'RESULTS',\n",
              " 'RESULTS',\n",
              " 'RESULTS',\n",
              " 'RESULTS',\n",
              " 'RESULTS',\n",
              " 'RESULTS',\n",
              " 'CONCLUSIONS',\n",
              " 'CONCLUSIONS',\n",
              " 'BACKGROUND',\n",
              " 'BACKGROUND',\n",
              " 'METHODS',\n",
              " 'METHODS',\n",
              " 'RESULTS',\n",
              " 'RESULTS',\n",
              " 'RESULTS',\n",
              " 'CONCLUSIONS',\n",
              " 'CONCLUSIONS',\n",
              " 'BACKGROUND',\n",
              " 'METHODS',\n",
              " 'BACKGROUND',\n",
              " 'METHODS',\n",
              " 'METHODS',\n",
              " 'METHODS',\n",
              " 'METHODS',\n",
              " 'RESULTS',\n",
              " 'RESULTS',\n",
              " 'RESULTS',\n",
              " 'RESULTS',\n",
              " 'CONCLUSIONS',\n",
              " 'CONCLUSIONS',\n",
              " 'BACKGROUND',\n",
              " 'BACKGROUND',\n",
              " 'BACKGROUND',\n",
              " 'BACKGROUND',\n",
              " 'METHODS',\n",
              " 'METHODS',\n",
              " 'METHODS',\n",
              " 'METHODS',\n",
              " 'METHODS',\n",
              " 'METHODS',\n",
              " 'RESULTS',\n",
              " 'RESULTS',\n",
              " 'CONCLUSIONS',\n",
              " 'CONCLUSIONS',\n",
              " 'OBJECTIVE',\n",
              " 'METHODS',\n",
              " 'METHODS',\n",
              " 'METHODS',\n",
              " 'METHODS',\n",
              " 'METHODS',\n",
              " 'RESULTS',\n",
              " 'RESULTS',\n",
              " 'RESULTS',\n",
              " 'CONCLUSIONS',\n",
              " 'RESULTS',\n",
              " 'OBJECTIVE',\n",
              " 'METHODS',\n",
              " 'METHODS',\n",
              " 'METHODS',\n",
              " 'RESULTS',\n",
              " 'METHODS',\n",
              " 'RESULTS',\n",
              " 'RESULTS',\n",
              " 'RESULTS',\n",
              " 'RESULTS',\n",
              " 'CONCLUSIONS',\n",
              " 'CONCLUSIONS',\n",
              " 'BACKGROUND',\n",
              " 'BACKGROUND',\n",
              " 'METHODS',\n",
              " 'METHODS',\n",
              " 'METHODS',\n",
              " 'METHODS',\n",
              " 'METHODS',\n",
              " 'METHODS',\n",
              " 'METHODS',\n",
              " 'RESULTS',\n",
              " 'RESULTS',\n",
              " 'RESULTS',\n",
              " 'CONCLUSIONS',\n",
              " 'BACKGROUND',\n",
              " 'BACKGROUND',\n",
              " 'METHODS',\n",
              " 'RESULTS',\n",
              " 'RESULTS',\n",
              " 'RESULTS',\n",
              " 'CONCLUSIONS',\n",
              " 'OBJECTIVE',\n",
              " 'METHODS',\n",
              " 'METHODS',\n",
              " 'METHODS',\n",
              " 'METHODS',\n",
              " 'METHODS',\n",
              " 'METHODS',\n",
              " 'METHODS',\n",
              " 'RESULTS',\n",
              " 'RESULTS',\n",
              " 'RESULTS',\n",
              " 'CONCLUSIONS',\n",
              " 'BACKGROUND',\n",
              " 'BACKGROUND',\n",
              " 'METHODS',\n",
              " 'METHODS',\n",
              " 'METHODS',\n",
              " 'METHODS',\n",
              " 'METHODS',\n",
              " 'METHODS',\n",
              " 'METHODS',\n",
              " 'RESULTS',\n",
              " 'RESULTS',\n",
              " 'RESULTS',\n",
              " 'RESULTS',\n",
              " 'RESULTS',\n",
              " 'CONCLUSIONS',\n",
              " 'BACKGROUND',\n",
              " 'OBJECTIVE',\n",
              " 'METHODS',\n",
              " 'METHODS',\n",
              " 'METHODS',\n",
              " 'METHODS',\n",
              " 'RESULTS',\n",
              " 'RESULTS',\n",
              " 'RESULTS',\n",
              " 'RESULTS',\n",
              " 'OBJECTIVE',\n",
              " 'METHODS',\n",
              " 'METHODS',\n",
              " 'METHODS',\n",
              " 'RESULTS',\n",
              " 'RESULTS',\n",
              " 'RESULTS',\n",
              " 'RESULTS',\n",
              " 'RESULTS',\n",
              " 'RESULTS',\n",
              " 'RESULTS',\n",
              " 'CONCLUSIONS',\n",
              " 'BACKGROUND',\n",
              " 'BACKGROUND',\n",
              " 'BACKGROUND',\n",
              " 'BACKGROUND',\n",
              " 'METHODS',\n",
              " 'METHODS',\n",
              " 'METHODS',\n",
              " 'METHODS',\n",
              " 'METHODS',\n",
              " 'METHODS',\n",
              " 'CONCLUSIONS',\n",
              " 'BACKGROUND',\n",
              " 'METHODS',\n",
              " 'BACKGROUND',\n",
              " 'BACKGROUND',\n",
              " 'BACKGROUND',\n",
              " 'OBJECTIVE',\n",
              " 'METHODS',\n",
              " 'METHODS',\n",
              " 'METHODS',\n",
              " 'RESULTS',\n",
              " 'RESULTS',\n",
              " 'RESULTS',\n",
              " 'RESULTS',\n",
              " 'RESULTS',\n",
              " 'CONCLUSIONS',\n",
              " 'BACKGROUND',\n",
              " 'OBJECTIVE',\n",
              " 'METHODS',\n",
              " 'METHODS',\n",
              " 'METHODS',\n",
              " 'RESULTS',\n",
              " 'RESULTS',\n",
              " 'RESULTS',\n",
              " 'RESULTS',\n",
              " 'RESULTS',\n",
              " 'RESULTS',\n",
              " 'RESULTS',\n",
              " 'CONCLUSIONS',\n",
              " 'BACKGROUND',\n",
              " 'BACKGROUND',\n",
              " 'METHODS',\n",
              " 'METHODS',\n",
              " 'METHODS',\n",
              " 'METHODS',\n",
              " 'BACKGROUND',\n",
              " 'RESULTS',\n",
              " 'RESULTS',\n",
              " 'RESULTS',\n",
              " 'RESULTS',\n",
              " 'RESULTS',\n",
              " 'CONCLUSIONS',\n",
              " 'CONCLUSIONS',\n",
              " 'CONCLUSIONS',\n",
              " 'OBJECTIVE',\n",
              " 'METHODS',\n",
              " 'METHODS',\n",
              " 'METHODS',\n",
              " 'METHODS',\n",
              " 'METHODS',\n",
              " 'RESULTS',\n",
              " 'RESULTS',\n",
              " 'RESULTS',\n",
              " 'CONCLUSIONS',\n",
              " 'BACKGROUND',\n",
              " 'METHODS',\n",
              " 'METHODS',\n",
              " 'METHODS',\n",
              " 'METHODS',\n",
              " 'METHODS',\n",
              " 'RESULTS',\n",
              " 'RESULTS',\n",
              " 'RESULTS',\n",
              " 'RESULTS',\n",
              " 'RESULTS',\n",
              " 'RESULTS',\n",
              " 'RESULTS',\n",
              " 'BACKGROUND',\n",
              " 'BACKGROUND',\n",
              " 'BACKGROUND',\n",
              " 'METHODS',\n",
              " 'METHODS',\n",
              " 'RESULTS',\n",
              " 'METHODS',\n",
              " 'METHODS',\n",
              " 'RESULTS',\n",
              " 'RESULTS',\n",
              " 'CONCLUSIONS',\n",
              " 'BACKGROUND',\n",
              " 'BACKGROUND',\n",
              " 'BACKGROUND',\n",
              " 'METHODS',\n",
              " 'METHODS',\n",
              " 'METHODS',\n",
              " 'RESULTS',\n",
              " 'RESULTS',\n",
              " 'RESULTS',\n",
              " 'CONCLUSIONS',\n",
              " 'CONCLUSIONS',\n",
              " 'BACKGROUND',\n",
              " 'METHODS',\n",
              " 'METHODS',\n",
              " 'METHODS',\n",
              " 'RESULTS',\n",
              " 'RESULTS',\n",
              " 'RESULTS',\n",
              " 'RESULTS',\n",
              " 'RESULTS',\n",
              " 'CONCLUSIONS',\n",
              " 'CONCLUSIONS',\n",
              " 'BACKGROUND',\n",
              " 'OBJECTIVE',\n",
              " 'METHODS',\n",
              " 'METHODS',\n",
              " 'METHODS',\n",
              " 'METHODS',\n",
              " 'METHODS',\n",
              " 'METHODS',\n",
              " 'RESULTS',\n",
              " 'METHODS',\n",
              " 'METHODS',\n",
              " 'RESULTS',\n",
              " 'RESULTS',\n",
              " 'RESULTS',\n",
              " 'RESULTS',\n",
              " 'CONCLUSIONS',\n",
              " 'RESULTS',\n",
              " 'CONCLUSIONS',\n",
              " 'BACKGROUND',\n",
              " 'BACKGROUND',\n",
              " 'METHODS',\n",
              " 'METHODS',\n",
              " 'METHODS',\n",
              " 'METHODS',\n",
              " 'METHODS',\n",
              " 'RESULTS',\n",
              " 'METHODS',\n",
              " 'CONCLUSIONS',\n",
              " 'BACKGROUND',\n",
              " 'METHODS',\n",
              " 'METHODS',\n",
              " 'METHODS',\n",
              " 'METHODS',\n",
              " 'METHODS',\n",
              " 'RESULTS',\n",
              " 'RESULTS',\n",
              " 'RESULTS',\n",
              " 'RESULTS',\n",
              " 'CONCLUSIONS',\n",
              " 'BACKGROUND',\n",
              " 'BACKGROUND',\n",
              " 'BACKGROUND',\n",
              " 'METHODS',\n",
              " 'METHODS',\n",
              " 'METHODS',\n",
              " 'RESULTS',\n",
              " 'RESULTS',\n",
              " 'RESULTS',\n",
              " 'CONCLUSIONS',\n",
              " 'CONCLUSIONS',\n",
              " 'CONCLUSIONS',\n",
              " 'OBJECTIVE',\n",
              " 'METHODS',\n",
              " 'METHODS',\n",
              " 'METHODS',\n",
              " 'RESULTS',\n",
              " 'RESULTS',\n",
              " 'RESULTS',\n",
              " 'RESULTS',\n",
              " 'RESULTS',\n",
              " 'CONCLUSIONS',\n",
              " 'BACKGROUND',\n",
              " 'METHODS',\n",
              " 'METHODS',\n",
              " 'RESULTS',\n",
              " 'RESULTS',\n",
              " 'RESULTS',\n",
              " 'RESULTS',\n",
              " 'CONCLUSIONS',\n",
              " 'BACKGROUND',\n",
              " 'BACKGROUND',\n",
              " 'METHODS',\n",
              " 'METHODS',\n",
              " 'RESULTS',\n",
              " 'RESULTS',\n",
              " 'RESULTS',\n",
              " 'RESULTS',\n",
              " 'RESULTS',\n",
              " 'RESULTS',\n",
              " 'CONCLUSIONS',\n",
              " 'CONCLUSIONS',\n",
              " 'OBJECTIVE',\n",
              " 'METHODS',\n",
              " 'METHODS',\n",
              " 'METHODS',\n",
              " 'METHODS',\n",
              " 'RESULTS',\n",
              " 'RESULTS',\n",
              " 'RESULTS',\n",
              " 'RESULTS',\n",
              " 'RESULTS',\n",
              " 'CONCLUSIONS',\n",
              " 'RESULTS',\n",
              " 'BACKGROUND',\n",
              " 'BACKGROUND',\n",
              " 'BACKGROUND',\n",
              " 'METHODS',\n",
              " 'METHODS',\n",
              " 'METHODS',\n",
              " 'RESULTS',\n",
              " 'RESULTS',\n",
              " 'RESULTS',\n",
              " 'RESULTS',\n",
              " 'RESULTS',\n",
              " 'RESULTS',\n",
              " 'RESULTS',\n",
              " 'RESULTS',\n",
              " 'RESULTS',\n",
              " 'CONCLUSIONS',\n",
              " 'CONCLUSIONS',\n",
              " 'CONCLUSIONS',\n",
              " 'BACKGROUND',\n",
              " 'BACKGROUND',\n",
              " 'BACKGROUND',\n",
              " 'METHODS',\n",
              " 'METHODS',\n",
              " 'RESULTS',\n",
              " 'RESULTS',\n",
              " 'RESULTS',\n",
              " 'RESULTS',\n",
              " 'RESULTS',\n",
              " 'RESULTS',\n",
              " 'RESULTS',\n",
              " 'RESULTS',\n",
              " 'CONCLUSIONS',\n",
              " 'CONCLUSIONS',\n",
              " 'BACKGROUND',\n",
              " 'BACKGROUND',\n",
              " 'RESULTS',\n",
              " 'RESULTS',\n",
              " 'METHODS',\n",
              " 'RESULTS',\n",
              " 'RESULTS',\n",
              " 'RESULTS',\n",
              " 'RESULTS',\n",
              " 'RESULTS',\n",
              " 'CONCLUSIONS',\n",
              " 'CONCLUSIONS',\n",
              " 'RESULTS',\n",
              " 'OBJECTIVE',\n",
              " 'METHODS',\n",
              " 'METHODS',\n",
              " 'METHODS',\n",
              " 'METHODS',\n",
              " 'RESULTS',\n",
              " 'RESULTS',\n",
              " 'RESULTS',\n",
              " 'CONCLUSIONS',\n",
              " 'OBJECTIVE',\n",
              " 'METHODS',\n",
              " 'METHODS',\n",
              " 'METHODS',\n",
              " 'RESULTS',\n",
              " 'RESULTS',\n",
              " 'RESULTS',\n",
              " 'RESULTS',\n",
              " 'RESULTS',\n",
              " 'CONCLUSIONS',\n",
              " 'CONCLUSIONS',\n",
              " 'OBJECTIVE',\n",
              " 'METHODS',\n",
              " 'METHODS',\n",
              " 'METHODS',\n",
              " 'RESULTS',\n",
              " 'RESULTS',\n",
              " 'RESULTS',\n",
              " 'RESULTS',\n",
              " 'RESULTS',\n",
              " 'RESULTS',\n",
              " 'RESULTS',\n",
              " 'CONCLUSIONS',\n",
              " 'BACKGROUND',\n",
              " 'BACKGROUND',\n",
              " 'RESULTS',\n",
              " 'RESULTS',\n",
              " 'RESULTS',\n",
              " 'RESULTS',\n",
              " 'METHODS',\n",
              " 'METHODS',\n",
              " 'RESULTS',\n",
              " 'BACKGROUND',\n",
              " 'BACKGROUND',\n",
              " 'METHODS',\n",
              " 'METHODS',\n",
              " 'RESULTS',\n",
              " 'RESULTS',\n",
              " 'RESULTS',\n",
              " 'RESULTS',\n",
              " 'RESULTS',\n",
              " 'CONCLUSIONS',\n",
              " 'CONCLUSIONS',\n",
              " 'BACKGROUND',\n",
              " 'BACKGROUND',\n",
              " 'BACKGROUND',\n",
              " 'METHODS',\n",
              " 'METHODS',\n",
              " 'METHODS',\n",
              " 'METHODS',\n",
              " 'RESULTS',\n",
              " 'CONCLUSIONS',\n",
              " 'METHODS',\n",
              " 'CONCLUSIONS',\n",
              " 'BACKGROUND',\n",
              " 'BACKGROUND',\n",
              " 'BACKGROUND',\n",
              " 'BACKGROUND',\n",
              " 'METHODS',\n",
              " 'METHODS',\n",
              " 'METHODS',\n",
              " 'RESULTS',\n",
              " 'RESULTS',\n",
              " 'RESULTS',\n",
              " 'RESULTS',\n",
              " 'CONCLUSIONS',\n",
              " 'RESULTS',\n",
              " 'CONCLUSIONS',\n",
              " 'CONCLUSIONS',\n",
              " 'BACKGROUND',\n",
              " 'BACKGROUND',\n",
              " 'BACKGROUND',\n",
              " 'METHODS',\n",
              " 'METHODS',\n",
              " 'METHODS',\n",
              " 'METHODS',\n",
              " 'RESULTS',\n",
              " 'RESULTS',\n",
              " 'RESULTS',\n",
              " 'RESULTS',\n",
              " 'CONCLUSIONS',\n",
              " 'CONCLUSIONS',\n",
              " 'CONCLUSIONS',\n",
              " 'BACKGROUND',\n",
              " 'BACKGROUND',\n",
              " 'BACKGROUND',\n",
              " 'OBJECTIVE',\n",
              " 'METHODS',\n",
              " 'METHODS',\n",
              " 'RESULTS',\n",
              " 'RESULTS',\n",
              " 'RESULTS',\n",
              " 'CONCLUSIONS',\n",
              " 'CONCLUSIONS',\n",
              " 'BACKGROUND',\n",
              " 'BACKGROUND',\n",
              " 'METHODS',\n",
              " 'METHODS',\n",
              " 'RESULTS',\n",
              " 'RESULTS',\n",
              " 'RESULTS',\n",
              " 'RESULTS',\n",
              " 'RESULTS',\n",
              " 'CONCLUSIONS',\n",
              " 'CONCLUSIONS',\n",
              " 'BACKGROUND',\n",
              " 'BACKGROUND',\n",
              " 'METHODS',\n",
              " 'METHODS',\n",
              " 'METHODS',\n",
              " 'RESULTS',\n",
              " 'RESULTS',\n",
              " 'RESULTS',\n",
              " 'RESULTS',\n",
              " 'RESULTS',\n",
              " 'CONCLUSIONS',\n",
              " 'CONCLUSIONS',\n",
              " 'BACKGROUND',\n",
              " 'BACKGROUND',\n",
              " 'METHODS',\n",
              " 'RESULTS',\n",
              " 'METHODS',\n",
              " 'RESULTS',\n",
              " 'CONCLUSIONS',\n",
              " 'CONCLUSIONS',\n",
              " 'CONCLUSIONS',\n",
              " 'OBJECTIVE',\n",
              " 'METHODS',\n",
              " 'METHODS',\n",
              " 'RESULTS',\n",
              " 'RESULTS',\n",
              " 'RESULTS',\n",
              " 'RESULTS',\n",
              " 'RESULTS',\n",
              " 'CONCLUSIONS',\n",
              " 'BACKGROUND',\n",
              " 'BACKGROUND',\n",
              " 'METHODS',\n",
              " 'METHODS',\n",
              " 'METHODS',\n",
              " 'METHODS',\n",
              " 'RESULTS',\n",
              " 'RESULTS',\n",
              " 'RESULTS',\n",
              " 'RESULTS',\n",
              " 'RESULTS',\n",
              " 'CONCLUSIONS',\n",
              " 'BACKGROUND',\n",
              " 'BACKGROUND',\n",
              " 'BACKGROUND',\n",
              " 'BACKGROUND',\n",
              " 'BACKGROUND',\n",
              " 'METHODS',\n",
              " 'METHODS',\n",
              " 'METHODS',\n",
              " 'METHODS',\n",
              " 'METHODS',\n",
              " 'RESULTS',\n",
              " 'RESULTS',\n",
              " 'RESULTS',\n",
              " 'CONCLUSIONS',\n",
              " 'CONCLUSIONS',\n",
              " 'BACKGROUND',\n",
              " 'BACKGROUND',\n",
              " 'METHODS',\n",
              " 'METHODS',\n",
              " 'METHODS',\n",
              " 'RESULTS',\n",
              " 'RESULTS',\n",
              " 'CONCLUSIONS',\n",
              " 'CONCLUSIONS',\n",
              " 'BACKGROUND',\n",
              " 'BACKGROUND',\n",
              " 'BACKGROUND',\n",
              " 'METHODS',\n",
              " 'METHODS',\n",
              " 'METHODS',\n",
              " 'METHODS',\n",
              " 'METHODS',\n",
              " 'METHODS',\n",
              " 'RESULTS',\n",
              " 'METHODS',\n",
              " 'RESULTS',\n",
              " 'METHODS',\n",
              " 'METHODS',\n",
              " 'RESULTS',\n",
              " 'RESULTS',\n",
              " 'RESULTS',\n",
              " 'RESULTS',\n",
              " 'RESULTS',\n",
              " 'BACKGROUND',\n",
              " 'OBJECTIVE',\n",
              " 'METHODS',\n",
              " 'METHODS',\n",
              " 'METHODS',\n",
              " 'RESULTS',\n",
              " 'METHODS',\n",
              " 'RESULTS',\n",
              " 'METHODS',\n",
              " 'RESULTS',\n",
              " 'RESULTS',\n",
              " 'CONCLUSIONS',\n",
              " 'CONCLUSIONS',\n",
              " 'CONCLUSIONS',\n",
              " 'CONCLUSIONS',\n",
              " 'BACKGROUND',\n",
              " 'BACKGROUND',\n",
              " 'METHODS',\n",
              " 'METHODS',\n",
              " 'RESULTS',\n",
              " 'METHODS',\n",
              " 'METHODS',\n",
              " 'METHODS',\n",
              " 'RESULTS',\n",
              " 'RESULTS',\n",
              " 'CONCLUSIONS',\n",
              " 'CONCLUSIONS',\n",
              " 'CONCLUSIONS',\n",
              " 'BACKGROUND',\n",
              " 'BACKGROUND',\n",
              " 'BACKGROUND',\n",
              " 'METHODS',\n",
              " 'METHODS',\n",
              " 'RESULTS',\n",
              " 'RESULTS',\n",
              " 'RESULTS',\n",
              " 'RESULTS',\n",
              " 'RESULTS',\n",
              " 'RESULTS',\n",
              " 'CONCLUSIONS',\n",
              " 'CONCLUSIONS',\n",
              " 'BACKGROUND',\n",
              " 'OBJECTIVE',\n",
              " 'METHODS',\n",
              " 'METHODS',\n",
              " 'RESULTS',\n",
              " 'RESULTS',\n",
              " 'RESULTS',\n",
              " 'RESULTS',\n",
              " 'CONCLUSIONS',\n",
              " 'OBJECTIVE',\n",
              " 'METHODS',\n",
              " 'METHODS',\n",
              " 'METHODS',\n",
              " 'METHODS',\n",
              " 'RESULTS',\n",
              " 'RESULTS',\n",
              " 'OBJECTIVE',\n",
              " 'BACKGROUND',\n",
              " 'BACKGROUND',\n",
              " 'METHODS',\n",
              " 'BACKGROUND',\n",
              " 'METHODS',\n",
              " 'METHODS',\n",
              " 'RESULTS',\n",
              " 'RESULTS',\n",
              " 'METHODS',\n",
              " 'RESULTS',\n",
              " 'RESULTS',\n",
              " 'RESULTS',\n",
              " 'CONCLUSIONS',\n",
              " 'CONCLUSIONS',\n",
              " 'CONCLUSIONS',\n",
              " 'OBJECTIVE',\n",
              " 'METHODS',\n",
              " 'METHODS',\n",
              " 'RESULTS',\n",
              " 'RESULTS',\n",
              " 'METHODS',\n",
              " 'RESULTS',\n",
              " 'CONCLUSIONS',\n",
              " 'BACKGROUND',\n",
              " 'METHODS',\n",
              " 'METHODS',\n",
              " 'METHODS',\n",
              " 'METHODS',\n",
              " 'METHODS',\n",
              " 'RESULTS',\n",
              " 'METHODS',\n",
              " 'RESULTS',\n",
              " 'RESULTS',\n",
              " 'RESULTS',\n",
              " 'RESULTS',\n",
              " 'CONCLUSIONS',\n",
              " 'CONCLUSIONS',\n",
              " 'BACKGROUND',\n",
              " 'BACKGROUND',\n",
              " 'BACKGROUND',\n",
              " 'METHODS',\n",
              " 'METHODS',\n",
              " 'METHODS',\n",
              " 'RESULTS',\n",
              " 'METHODS',\n",
              " 'METHODS',\n",
              " 'RESULTS',\n",
              " 'RESULTS',\n",
              " 'CONCLUSIONS',\n",
              " 'CONCLUSIONS',\n",
              " 'CONCLUSIONS',\n",
              " 'CONCLUSIONS',\n",
              " 'OBJECTIVE',\n",
              " 'METHODS',\n",
              " 'METHODS',\n",
              " 'METHODS',\n",
              " 'METHODS',\n",
              " 'METHODS',\n",
              " 'METHODS',\n",
              " 'RESULTS',\n",
              " 'RESULTS',\n",
              " 'RESULTS',\n",
              " 'RESULTS',\n",
              " 'RESULTS',\n",
              " 'RESULTS',\n",
              " 'CONCLUSIONS',\n",
              " 'CONCLUSIONS',\n",
              " 'BACKGROUND',\n",
              " 'METHODS',\n",
              " 'BACKGROUND',\n",
              " 'BACKGROUND',\n",
              " 'METHODS',\n",
              " 'RESULTS',\n",
              " 'METHODS',\n",
              " 'RESULTS',\n",
              " 'RESULTS',\n",
              " 'RESULTS',\n",
              " 'CONCLUSIONS',\n",
              " 'RESULTS',\n",
              " 'BACKGROUND',\n",
              " 'BACKGROUND',\n",
              " 'METHODS',\n",
              " 'METHODS',\n",
              " 'METHODS',\n",
              " 'RESULTS',\n",
              " 'RESULTS',\n",
              " 'RESULTS',\n",
              " 'RESULTS',\n",
              " 'RESULTS',\n",
              " 'RESULTS',\n",
              " 'CONCLUSIONS',\n",
              " 'CONCLUSIONS',\n",
              " 'BACKGROUND',\n",
              " 'BACKGROUND',\n",
              " 'BACKGROUND',\n",
              " 'BACKGROUND',\n",
              " 'METHODS',\n",
              " 'METHODS',\n",
              " 'METHODS',\n",
              " 'METHODS',\n",
              " 'METHODS',\n",
              " 'METHODS',\n",
              " 'RESULTS',\n",
              " 'RESULTS',\n",
              " 'RESULTS',\n",
              " 'RESULTS',\n",
              " 'RESULTS',\n",
              " 'RESULTS',\n",
              " 'RESULTS',\n",
              " 'METHODS',\n",
              " 'RESULTS',\n",
              " 'RESULTS',\n",
              " 'CONCLUSIONS',\n",
              " 'METHODS',\n",
              " 'OBJECTIVE',\n",
              " 'METHODS',\n",
              " 'METHODS',\n",
              " 'METHODS',\n",
              " 'METHODS',\n",
              " 'METHODS',\n",
              " 'RESULTS',\n",
              " 'RESULTS',\n",
              " 'CONCLUSIONS',\n",
              " 'CONCLUSIONS',\n",
              " 'METHODS',\n",
              " 'BACKGROUND',\n",
              " 'BACKGROUND',\n",
              " 'METHODS',\n",
              " 'METHODS',\n",
              " 'METHODS',\n",
              " 'METHODS',\n",
              " 'METHODS',\n",
              " 'METHODS',\n",
              " 'RESULTS',\n",
              " 'RESULTS',\n",
              " 'CONCLUSIONS',\n",
              " 'CONCLUSIONS',\n",
              " 'CONCLUSIONS',\n",
              " 'BACKGROUND',\n",
              " 'BACKGROUND',\n",
              " 'BACKGROUND',\n",
              " 'BACKGROUND',\n",
              " 'BACKGROUND',\n",
              " 'OBJECTIVE',\n",
              " 'METHODS',\n",
              " 'METHODS',\n",
              " 'RESULTS',\n",
              " 'RESULTS',\n",
              " 'RESULTS',\n",
              " 'CONCLUSIONS',\n",
              " 'CONCLUSIONS',\n",
              " 'BACKGROUND',\n",
              " 'BACKGROUND',\n",
              " 'BACKGROUND',\n",
              " 'BACKGROUND',\n",
              " 'METHODS',\n",
              " 'METHODS',\n",
              " 'RESULTS',\n",
              " 'METHODS',\n",
              " 'RESULTS',\n",
              " 'RESULTS',\n",
              " 'RESULTS',\n",
              " 'RESULTS',\n",
              " 'RESULTS',\n",
              " 'RESULTS',\n",
              " 'CONCLUSIONS',\n",
              " 'BACKGROUND',\n",
              " 'BACKGROUND',\n",
              " 'BACKGROUND',\n",
              " 'METHODS',\n",
              " 'METHODS',\n",
              " 'METHODS',\n",
              " 'RESULTS',\n",
              " 'METHODS',\n",
              " 'RESULTS',\n",
              " 'RESULTS',\n",
              " 'RESULTS',\n",
              " 'RESULTS',\n",
              " 'CONCLUSIONS',\n",
              " 'OBJECTIVE',\n",
              " 'BACKGROUND',\n",
              " 'METHODS',\n",
              " 'RESULTS',\n",
              " 'METHODS',\n",
              " 'RESULTS',\n",
              " 'RESULTS',\n",
              " 'RESULTS',\n",
              " 'CONCLUSIONS',\n",
              " 'RESULTS',\n",
              " 'CONCLUSIONS',\n",
              " 'CONCLUSIONS',\n",
              " 'BACKGROUND',\n",
              " 'BACKGROUND',\n",
              " 'METHODS',\n",
              " 'METHODS',\n",
              " 'RESULTS',\n",
              " 'RESULTS',\n",
              " 'RESULTS',\n",
              " 'RESULTS',\n",
              " 'RESULTS',\n",
              " 'CONCLUSIONS',\n",
              " 'CONCLUSIONS',\n",
              " 'CONCLUSIONS',\n",
              " 'BACKGROUND',\n",
              " 'BACKGROUND',\n",
              " 'METHODS',\n",
              " 'METHODS',\n",
              " 'METHODS',\n",
              " 'METHODS',\n",
              " 'METHODS',\n",
              " 'RESULTS',\n",
              " 'RESULTS',\n",
              " 'RESULTS',\n",
              " 'RESULTS',\n",
              " 'CONCLUSIONS',\n",
              " 'OBJECTIVE',\n",
              " 'METHODS',\n",
              " 'METHODS',\n",
              " 'METHODS',\n",
              " 'METHODS',\n",
              " 'RESULTS',\n",
              " 'RESULTS',\n",
              " 'RESULTS',\n",
              " 'CONCLUSIONS',\n",
              " 'RESULTS',\n",
              " 'BACKGROUND',\n",
              " 'BACKGROUND',\n",
              " 'METHODS',\n",
              " 'METHODS',\n",
              " 'METHODS',\n",
              " 'METHODS',\n",
              " 'METHODS',\n",
              " 'RESULTS',\n",
              " 'RESULTS',\n",
              " 'RESULTS',\n",
              " 'RESULTS',\n",
              " 'CONCLUSIONS',\n",
              " 'CONCLUSIONS',\n",
              " 'BACKGROUND',\n",
              " 'METHODS',\n",
              " 'RESULTS',\n",
              " 'RESULTS',\n",
              " 'RESULTS',\n",
              " 'RESULTS',\n",
              " 'RESULTS',\n",
              " 'RESULTS',\n",
              " 'RESULTS',\n",
              " 'BACKGROUND',\n",
              " 'BACKGROUND',\n",
              " 'BACKGROUND',\n",
              " 'BACKGROUND',\n",
              " 'METHODS',\n",
              " 'METHODS',\n",
              " 'METHODS',\n",
              " 'METHODS',\n",
              " 'METHODS',\n",
              " 'METHODS',\n",
              " 'METHODS',\n",
              " 'RESULTS',\n",
              " 'RESULTS',\n",
              " 'CONCLUSIONS',\n",
              " 'CONCLUSIONS',\n",
              " 'BACKGROUND',\n",
              " 'BACKGROUND',\n",
              " 'METHODS',\n",
              " 'METHODS',\n",
              " 'METHODS',\n",
              " 'RESULTS',\n",
              " 'RESULTS',\n",
              " 'RESULTS',\n",
              " 'RESULTS',\n",
              " 'RESULTS',\n",
              " 'RESULTS',\n",
              " 'CONCLUSIONS',\n",
              " 'CONCLUSIONS',\n",
              " 'CONCLUSIONS',\n",
              " 'CONCLUSIONS',\n",
              " 'BACKGROUND',\n",
              " 'METHODS',\n",
              " 'METHODS',\n",
              " 'RESULTS',\n",
              " 'METHODS',\n",
              " 'METHODS',\n",
              " 'RESULTS',\n",
              " 'METHODS',\n",
              " 'RESULTS',\n",
              " 'RESULTS',\n",
              " 'RESULTS',\n",
              " 'RESULTS',\n",
              " 'CONCLUSIONS',\n",
              " 'RESULTS',\n",
              " 'METHODS',\n",
              " 'OBJECTIVE',\n",
              " 'METHODS',\n",
              " 'METHODS',\n",
              " 'METHODS',\n",
              " 'RESULTS',\n",
              " 'RESULTS',\n",
              " 'RESULTS',\n",
              " 'RESULTS',\n",
              " 'RESULTS',\n",
              " 'CONCLUSIONS',\n",
              " 'CONCLUSIONS',\n",
              " 'BACKGROUND',\n",
              " 'BACKGROUND',\n",
              " 'BACKGROUND',\n",
              " 'OBJECTIVE',\n",
              " 'METHODS',\n",
              " 'METHODS',\n",
              " 'METHODS',\n",
              " 'METHODS',\n",
              " 'METHODS',\n",
              " 'RESULTS',\n",
              " 'RESULTS',\n",
              " 'RESULTS',\n",
              " 'RESULTS',\n",
              " 'RESULTS',\n",
              " 'RESULTS',\n",
              " 'CONCLUSIONS',\n",
              " 'RESULTS',\n",
              " 'CONCLUSIONS',\n",
              " 'CONCLUSIONS',\n",
              " 'BACKGROUND',\n",
              " 'OBJECTIVE',\n",
              " 'METHODS',\n",
              " 'METHODS',\n",
              " 'METHODS',\n",
              " 'RESULTS',\n",
              " 'RESULTS',\n",
              " 'RESULTS',\n",
              " 'CONCLUSIONS',\n",
              " 'BACKGROUND',\n",
              " 'BACKGROUND',\n",
              " 'METHODS',\n",
              " 'METHODS',\n",
              " 'METHODS',\n",
              " 'METHODS',\n",
              " 'METHODS',\n",
              " 'RESULTS',\n",
              " 'RESULTS',\n",
              " 'RESULTS',\n",
              " 'RESULTS',\n",
              " 'CONCLUSIONS',\n",
              " 'CONCLUSIONS',\n",
              " ...]"
            ]
          },
          "metadata": {},
          "execution_count": 149
        }
      ]
    },
    {
      "cell_type": "code",
      "source": [
        "# Creating prediction-enriched test dataframe\n",
        "test_df[\"prediction\"] = test_pred_classes # create column with test prediction class names\n",
        "test_df[\"pred_prob\"] = tf.reduce_max(test_pred_probs, axis=1).numpy() # get the maximum prediction probability\n",
        "test_df[\"correct\"] = test_df[\"prediction\"] == test_df[\"target\"] # create binary column for whether the prediction is right or not\n",
        "test_df.head(20)"
      ],
      "metadata": {
        "id": "qo5aPOmitbD4",
        "outputId": "4ba10120-6b78-4987-c16d-af9e6b02dfba",
        "colab": {
          "base_uri": "https://localhost:8080/",
          "height": 1000
        }
      },
      "execution_count": 150,
      "outputs": [
        {
          "output_type": "execute_result",
          "data": {
            "text/plain": [
              "         target                                               text  \\\n",
              "0    BACKGROUND  this study analyzed liver function abnormaliti...   \n",
              "1       RESULTS  a post hoc analysis was conducted with the use...   \n",
              "2       RESULTS  liver function tests ( lfts ) were measured at...   \n",
              "3       RESULTS  survival analyses were used to assess the asso...   \n",
              "4       RESULTS  the percentage of patients with abnormal lfts ...   \n",
              "5       RESULTS  when mean hemodynamic profiles were compared i...   \n",
              "6       RESULTS  multivariable analyses revealed that patients ...   \n",
              "7   CONCLUSIONS  abnormal lfts are common in the adhf populatio...   \n",
              "8   CONCLUSIONS  elevated meld-xi scores are associated with po...   \n",
              "9    BACKGROUND  minimally invasive endovascular aneurysm repai...   \n",
              "10   BACKGROUND  the aim of this study was to analyse the cost-...   \n",
              "11      METHODS  resource use was determined from the amsterdam...   \n",
              "12      METHODS  the analysis was performed from a provider per...   \n",
              "13      METHODS  all costs were calculated as if all patients h...   \n",
              "14      RESULTS            a total of @ patients were randomized .   \n",
              "15      RESULTS  the @-day mortality rate was @ per cent after ...   \n",
              "16      RESULTS  at @months , the total mortality rate for evar...   \n",
              "17      RESULTS  the mean cost difference between evar and or w...   \n",
              "18      RESULTS  the incremental cost-effectiveness ratio per p...   \n",
              "19      RESULTS  there was no significant difference in quality...   \n",
              "\n",
              "    line_number  total_lines   prediction  pred_prob  correct  \n",
              "0             0            8   BACKGROUND   0.386301     True  \n",
              "1             1            8      METHODS   0.503579    False  \n",
              "2             2            8      METHODS   0.821017    False  \n",
              "3             3            8      METHODS   0.780520    False  \n",
              "4             4            8      RESULTS   0.711772     True  \n",
              "5             5            8      RESULTS   0.837061     True  \n",
              "6             6            8      RESULTS   0.526067     True  \n",
              "7             7            8  CONCLUSIONS   0.511523     True  \n",
              "8             8            8  CONCLUSIONS   0.521537     True  \n",
              "9             0           12   BACKGROUND   0.731827     True  \n",
              "10            1           12   BACKGROUND   0.562868     True  \n",
              "11            2           12      METHODS   0.745878     True  \n",
              "12            3           12      METHODS   0.845251     True  \n",
              "13            4           12      METHODS   0.749188     True  \n",
              "14            5           12      RESULTS   0.692809     True  \n",
              "15            6           12      RESULTS   0.734987     True  \n",
              "16            7           12      RESULTS   0.876161     True  \n",
              "17            8           12      RESULTS   0.904709     True  \n",
              "18            9           12      RESULTS   0.822932     True  \n",
              "19           10           12      RESULTS   0.791958     True  "
            ],
            "text/html": [
              "\n",
              "  <div id=\"df-10f492f7-7531-41f2-9164-923b0ae511a2\" class=\"colab-df-container\">\n",
              "    <div>\n",
              "<style scoped>\n",
              "    .dataframe tbody tr th:only-of-type {\n",
              "        vertical-align: middle;\n",
              "    }\n",
              "\n",
              "    .dataframe tbody tr th {\n",
              "        vertical-align: top;\n",
              "    }\n",
              "\n",
              "    .dataframe thead th {\n",
              "        text-align: right;\n",
              "    }\n",
              "</style>\n",
              "<table border=\"1\" class=\"dataframe\">\n",
              "  <thead>\n",
              "    <tr style=\"text-align: right;\">\n",
              "      <th></th>\n",
              "      <th>target</th>\n",
              "      <th>text</th>\n",
              "      <th>line_number</th>\n",
              "      <th>total_lines</th>\n",
              "      <th>prediction</th>\n",
              "      <th>pred_prob</th>\n",
              "      <th>correct</th>\n",
              "    </tr>\n",
              "  </thead>\n",
              "  <tbody>\n",
              "    <tr>\n",
              "      <th>0</th>\n",
              "      <td>BACKGROUND</td>\n",
              "      <td>this study analyzed liver function abnormaliti...</td>\n",
              "      <td>0</td>\n",
              "      <td>8</td>\n",
              "      <td>BACKGROUND</td>\n",
              "      <td>0.386301</td>\n",
              "      <td>True</td>\n",
              "    </tr>\n",
              "    <tr>\n",
              "      <th>1</th>\n",
              "      <td>RESULTS</td>\n",
              "      <td>a post hoc analysis was conducted with the use...</td>\n",
              "      <td>1</td>\n",
              "      <td>8</td>\n",
              "      <td>METHODS</td>\n",
              "      <td>0.503579</td>\n",
              "      <td>False</td>\n",
              "    </tr>\n",
              "    <tr>\n",
              "      <th>2</th>\n",
              "      <td>RESULTS</td>\n",
              "      <td>liver function tests ( lfts ) were measured at...</td>\n",
              "      <td>2</td>\n",
              "      <td>8</td>\n",
              "      <td>METHODS</td>\n",
              "      <td>0.821017</td>\n",
              "      <td>False</td>\n",
              "    </tr>\n",
              "    <tr>\n",
              "      <th>3</th>\n",
              "      <td>RESULTS</td>\n",
              "      <td>survival analyses were used to assess the asso...</td>\n",
              "      <td>3</td>\n",
              "      <td>8</td>\n",
              "      <td>METHODS</td>\n",
              "      <td>0.780520</td>\n",
              "      <td>False</td>\n",
              "    </tr>\n",
              "    <tr>\n",
              "      <th>4</th>\n",
              "      <td>RESULTS</td>\n",
              "      <td>the percentage of patients with abnormal lfts ...</td>\n",
              "      <td>4</td>\n",
              "      <td>8</td>\n",
              "      <td>RESULTS</td>\n",
              "      <td>0.711772</td>\n",
              "      <td>True</td>\n",
              "    </tr>\n",
              "    <tr>\n",
              "      <th>5</th>\n",
              "      <td>RESULTS</td>\n",
              "      <td>when mean hemodynamic profiles were compared i...</td>\n",
              "      <td>5</td>\n",
              "      <td>8</td>\n",
              "      <td>RESULTS</td>\n",
              "      <td>0.837061</td>\n",
              "      <td>True</td>\n",
              "    </tr>\n",
              "    <tr>\n",
              "      <th>6</th>\n",
              "      <td>RESULTS</td>\n",
              "      <td>multivariable analyses revealed that patients ...</td>\n",
              "      <td>6</td>\n",
              "      <td>8</td>\n",
              "      <td>RESULTS</td>\n",
              "      <td>0.526067</td>\n",
              "      <td>True</td>\n",
              "    </tr>\n",
              "    <tr>\n",
              "      <th>7</th>\n",
              "      <td>CONCLUSIONS</td>\n",
              "      <td>abnormal lfts are common in the adhf populatio...</td>\n",
              "      <td>7</td>\n",
              "      <td>8</td>\n",
              "      <td>CONCLUSIONS</td>\n",
              "      <td>0.511523</td>\n",
              "      <td>True</td>\n",
              "    </tr>\n",
              "    <tr>\n",
              "      <th>8</th>\n",
              "      <td>CONCLUSIONS</td>\n",
              "      <td>elevated meld-xi scores are associated with po...</td>\n",
              "      <td>8</td>\n",
              "      <td>8</td>\n",
              "      <td>CONCLUSIONS</td>\n",
              "      <td>0.521537</td>\n",
              "      <td>True</td>\n",
              "    </tr>\n",
              "    <tr>\n",
              "      <th>9</th>\n",
              "      <td>BACKGROUND</td>\n",
              "      <td>minimally invasive endovascular aneurysm repai...</td>\n",
              "      <td>0</td>\n",
              "      <td>12</td>\n",
              "      <td>BACKGROUND</td>\n",
              "      <td>0.731827</td>\n",
              "      <td>True</td>\n",
              "    </tr>\n",
              "    <tr>\n",
              "      <th>10</th>\n",
              "      <td>BACKGROUND</td>\n",
              "      <td>the aim of this study was to analyse the cost-...</td>\n",
              "      <td>1</td>\n",
              "      <td>12</td>\n",
              "      <td>BACKGROUND</td>\n",
              "      <td>0.562868</td>\n",
              "      <td>True</td>\n",
              "    </tr>\n",
              "    <tr>\n",
              "      <th>11</th>\n",
              "      <td>METHODS</td>\n",
              "      <td>resource use was determined from the amsterdam...</td>\n",
              "      <td>2</td>\n",
              "      <td>12</td>\n",
              "      <td>METHODS</td>\n",
              "      <td>0.745878</td>\n",
              "      <td>True</td>\n",
              "    </tr>\n",
              "    <tr>\n",
              "      <th>12</th>\n",
              "      <td>METHODS</td>\n",
              "      <td>the analysis was performed from a provider per...</td>\n",
              "      <td>3</td>\n",
              "      <td>12</td>\n",
              "      <td>METHODS</td>\n",
              "      <td>0.845251</td>\n",
              "      <td>True</td>\n",
              "    </tr>\n",
              "    <tr>\n",
              "      <th>13</th>\n",
              "      <td>METHODS</td>\n",
              "      <td>all costs were calculated as if all patients h...</td>\n",
              "      <td>4</td>\n",
              "      <td>12</td>\n",
              "      <td>METHODS</td>\n",
              "      <td>0.749188</td>\n",
              "      <td>True</td>\n",
              "    </tr>\n",
              "    <tr>\n",
              "      <th>14</th>\n",
              "      <td>RESULTS</td>\n",
              "      <td>a total of @ patients were randomized .</td>\n",
              "      <td>5</td>\n",
              "      <td>12</td>\n",
              "      <td>RESULTS</td>\n",
              "      <td>0.692809</td>\n",
              "      <td>True</td>\n",
              "    </tr>\n",
              "    <tr>\n",
              "      <th>15</th>\n",
              "      <td>RESULTS</td>\n",
              "      <td>the @-day mortality rate was @ per cent after ...</td>\n",
              "      <td>6</td>\n",
              "      <td>12</td>\n",
              "      <td>RESULTS</td>\n",
              "      <td>0.734987</td>\n",
              "      <td>True</td>\n",
              "    </tr>\n",
              "    <tr>\n",
              "      <th>16</th>\n",
              "      <td>RESULTS</td>\n",
              "      <td>at @months , the total mortality rate for evar...</td>\n",
              "      <td>7</td>\n",
              "      <td>12</td>\n",
              "      <td>RESULTS</td>\n",
              "      <td>0.876161</td>\n",
              "      <td>True</td>\n",
              "    </tr>\n",
              "    <tr>\n",
              "      <th>17</th>\n",
              "      <td>RESULTS</td>\n",
              "      <td>the mean cost difference between evar and or w...</td>\n",
              "      <td>8</td>\n",
              "      <td>12</td>\n",
              "      <td>RESULTS</td>\n",
              "      <td>0.904709</td>\n",
              "      <td>True</td>\n",
              "    </tr>\n",
              "    <tr>\n",
              "      <th>18</th>\n",
              "      <td>RESULTS</td>\n",
              "      <td>the incremental cost-effectiveness ratio per p...</td>\n",
              "      <td>9</td>\n",
              "      <td>12</td>\n",
              "      <td>RESULTS</td>\n",
              "      <td>0.822932</td>\n",
              "      <td>True</td>\n",
              "    </tr>\n",
              "    <tr>\n",
              "      <th>19</th>\n",
              "      <td>RESULTS</td>\n",
              "      <td>there was no significant difference in quality...</td>\n",
              "      <td>10</td>\n",
              "      <td>12</td>\n",
              "      <td>RESULTS</td>\n",
              "      <td>0.791958</td>\n",
              "      <td>True</td>\n",
              "    </tr>\n",
              "  </tbody>\n",
              "</table>\n",
              "</div>\n",
              "    <div class=\"colab-df-buttons\">\n",
              "\n",
              "  <div class=\"colab-df-container\">\n",
              "    <button class=\"colab-df-convert\" onclick=\"convertToInteractive('df-10f492f7-7531-41f2-9164-923b0ae511a2')\"\n",
              "            title=\"Convert this dataframe to an interactive table.\"\n",
              "            style=\"display:none;\">\n",
              "\n",
              "  <svg xmlns=\"http://www.w3.org/2000/svg\" height=\"24px\" viewBox=\"0 -960 960 960\">\n",
              "    <path d=\"M120-120v-720h720v720H120Zm60-500h600v-160H180v160Zm220 220h160v-160H400v160Zm0 220h160v-160H400v160ZM180-400h160v-160H180v160Zm440 0h160v-160H620v160ZM180-180h160v-160H180v160Zm440 0h160v-160H620v160Z\"/>\n",
              "  </svg>\n",
              "    </button>\n",
              "\n",
              "  <style>\n",
              "    .colab-df-container {\n",
              "      display:flex;\n",
              "      gap: 12px;\n",
              "    }\n",
              "\n",
              "    .colab-df-convert {\n",
              "      background-color: #E8F0FE;\n",
              "      border: none;\n",
              "      border-radius: 50%;\n",
              "      cursor: pointer;\n",
              "      display: none;\n",
              "      fill: #1967D2;\n",
              "      height: 32px;\n",
              "      padding: 0 0 0 0;\n",
              "      width: 32px;\n",
              "    }\n",
              "\n",
              "    .colab-df-convert:hover {\n",
              "      background-color: #E2EBFA;\n",
              "      box-shadow: 0px 1px 2px rgba(60, 64, 67, 0.3), 0px 1px 3px 1px rgba(60, 64, 67, 0.15);\n",
              "      fill: #174EA6;\n",
              "    }\n",
              "\n",
              "    .colab-df-buttons div {\n",
              "      margin-bottom: 4px;\n",
              "    }\n",
              "\n",
              "    [theme=dark] .colab-df-convert {\n",
              "      background-color: #3B4455;\n",
              "      fill: #D2E3FC;\n",
              "    }\n",
              "\n",
              "    [theme=dark] .colab-df-convert:hover {\n",
              "      background-color: #434B5C;\n",
              "      box-shadow: 0px 1px 3px 1px rgba(0, 0, 0, 0.15);\n",
              "      filter: drop-shadow(0px 1px 2px rgba(0, 0, 0, 0.3));\n",
              "      fill: #FFFFFF;\n",
              "    }\n",
              "  </style>\n",
              "\n",
              "    <script>\n",
              "      const buttonEl =\n",
              "        document.querySelector('#df-10f492f7-7531-41f2-9164-923b0ae511a2 button.colab-df-convert');\n",
              "      buttonEl.style.display =\n",
              "        google.colab.kernel.accessAllowed ? 'block' : 'none';\n",
              "\n",
              "      async function convertToInteractive(key) {\n",
              "        const element = document.querySelector('#df-10f492f7-7531-41f2-9164-923b0ae511a2');\n",
              "        const dataTable =\n",
              "          await google.colab.kernel.invokeFunction('convertToInteractive',\n",
              "                                                    [key], {});\n",
              "        if (!dataTable) return;\n",
              "\n",
              "        const docLinkHtml = 'Like what you see? Visit the ' +\n",
              "          '<a target=\"_blank\" href=https://colab.research.google.com/notebooks/data_table.ipynb>data table notebook</a>'\n",
              "          + ' to learn more about interactive tables.';\n",
              "        element.innerHTML = '';\n",
              "        dataTable['output_type'] = 'display_data';\n",
              "        await google.colab.output.renderOutput(dataTable, element);\n",
              "        const docLink = document.createElement('div');\n",
              "        docLink.innerHTML = docLinkHtml;\n",
              "        element.appendChild(docLink);\n",
              "      }\n",
              "    </script>\n",
              "  </div>\n",
              "\n",
              "\n",
              "<div id=\"df-79419bae-1830-40bf-a58d-a18ddb4dc86d\">\n",
              "  <button class=\"colab-df-quickchart\" onclick=\"quickchart('df-79419bae-1830-40bf-a58d-a18ddb4dc86d')\"\n",
              "            title=\"Suggest charts\"\n",
              "            style=\"display:none;\">\n",
              "\n",
              "<svg xmlns=\"http://www.w3.org/2000/svg\" height=\"24px\"viewBox=\"0 0 24 24\"\n",
              "     width=\"24px\">\n",
              "    <g>\n",
              "        <path d=\"M19 3H5c-1.1 0-2 .9-2 2v14c0 1.1.9 2 2 2h14c1.1 0 2-.9 2-2V5c0-1.1-.9-2-2-2zM9 17H7v-7h2v7zm4 0h-2V7h2v10zm4 0h-2v-4h2v4z\"/>\n",
              "    </g>\n",
              "</svg>\n",
              "  </button>\n",
              "\n",
              "<style>\n",
              "  .colab-df-quickchart {\n",
              "      --bg-color: #E8F0FE;\n",
              "      --fill-color: #1967D2;\n",
              "      --hover-bg-color: #E2EBFA;\n",
              "      --hover-fill-color: #174EA6;\n",
              "      --disabled-fill-color: #AAA;\n",
              "      --disabled-bg-color: #DDD;\n",
              "  }\n",
              "\n",
              "  [theme=dark] .colab-df-quickchart {\n",
              "      --bg-color: #3B4455;\n",
              "      --fill-color: #D2E3FC;\n",
              "      --hover-bg-color: #434B5C;\n",
              "      --hover-fill-color: #FFFFFF;\n",
              "      --disabled-bg-color: #3B4455;\n",
              "      --disabled-fill-color: #666;\n",
              "  }\n",
              "\n",
              "  .colab-df-quickchart {\n",
              "    background-color: var(--bg-color);\n",
              "    border: none;\n",
              "    border-radius: 50%;\n",
              "    cursor: pointer;\n",
              "    display: none;\n",
              "    fill: var(--fill-color);\n",
              "    height: 32px;\n",
              "    padding: 0;\n",
              "    width: 32px;\n",
              "  }\n",
              "\n",
              "  .colab-df-quickchart:hover {\n",
              "    background-color: var(--hover-bg-color);\n",
              "    box-shadow: 0 1px 2px rgba(60, 64, 67, 0.3), 0 1px 3px 1px rgba(60, 64, 67, 0.15);\n",
              "    fill: var(--button-hover-fill-color);\n",
              "  }\n",
              "\n",
              "  .colab-df-quickchart-complete:disabled,\n",
              "  .colab-df-quickchart-complete:disabled:hover {\n",
              "    background-color: var(--disabled-bg-color);\n",
              "    fill: var(--disabled-fill-color);\n",
              "    box-shadow: none;\n",
              "  }\n",
              "\n",
              "  .colab-df-spinner {\n",
              "    border: 2px solid var(--fill-color);\n",
              "    border-color: transparent;\n",
              "    border-bottom-color: var(--fill-color);\n",
              "    animation:\n",
              "      spin 1s steps(1) infinite;\n",
              "  }\n",
              "\n",
              "  @keyframes spin {\n",
              "    0% {\n",
              "      border-color: transparent;\n",
              "      border-bottom-color: var(--fill-color);\n",
              "      border-left-color: var(--fill-color);\n",
              "    }\n",
              "    20% {\n",
              "      border-color: transparent;\n",
              "      border-left-color: var(--fill-color);\n",
              "      border-top-color: var(--fill-color);\n",
              "    }\n",
              "    30% {\n",
              "      border-color: transparent;\n",
              "      border-left-color: var(--fill-color);\n",
              "      border-top-color: var(--fill-color);\n",
              "      border-right-color: var(--fill-color);\n",
              "    }\n",
              "    40% {\n",
              "      border-color: transparent;\n",
              "      border-right-color: var(--fill-color);\n",
              "      border-top-color: var(--fill-color);\n",
              "    }\n",
              "    60% {\n",
              "      border-color: transparent;\n",
              "      border-right-color: var(--fill-color);\n",
              "    }\n",
              "    80% {\n",
              "      border-color: transparent;\n",
              "      border-right-color: var(--fill-color);\n",
              "      border-bottom-color: var(--fill-color);\n",
              "    }\n",
              "    90% {\n",
              "      border-color: transparent;\n",
              "      border-bottom-color: var(--fill-color);\n",
              "    }\n",
              "  }\n",
              "</style>\n",
              "\n",
              "  <script>\n",
              "    async function quickchart(key) {\n",
              "      const quickchartButtonEl =\n",
              "        document.querySelector('#' + key + ' button');\n",
              "      quickchartButtonEl.disabled = true;  // To prevent multiple clicks.\n",
              "      quickchartButtonEl.classList.add('colab-df-spinner');\n",
              "      try {\n",
              "        const charts = await google.colab.kernel.invokeFunction(\n",
              "            'suggestCharts', [key], {});\n",
              "      } catch (error) {\n",
              "        console.error('Error during call to suggestCharts:', error);\n",
              "      }\n",
              "      quickchartButtonEl.classList.remove('colab-df-spinner');\n",
              "      quickchartButtonEl.classList.add('colab-df-quickchart-complete');\n",
              "    }\n",
              "    (() => {\n",
              "      let quickchartButtonEl =\n",
              "        document.querySelector('#df-79419bae-1830-40bf-a58d-a18ddb4dc86d button');\n",
              "      quickchartButtonEl.style.display =\n",
              "        google.colab.kernel.accessAllowed ? 'block' : 'none';\n",
              "    })();\n",
              "  </script>\n",
              "</div>\n",
              "\n",
              "    </div>\n",
              "  </div>\n"
            ],
            "application/vnd.google.colaboratory.intrinsic+json": {
              "type": "dataframe",
              "variable_name": "test_df",
              "summary": "{\n  \"name\": \"test_df\",\n  \"rows\": 30135,\n  \"fields\": [\n    {\n      \"column\": \"target\",\n      \"properties\": {\n        \"dtype\": \"category\",\n        \"num_unique_values\": 5,\n        \"samples\": [\n          \"RESULTS\",\n          \"OBJECTIVE\",\n          \"CONCLUSIONS\"\n        ],\n        \"semantic_type\": \"\",\n        \"description\": \"\"\n      }\n    },\n    {\n      \"column\": \"text\",\n      \"properties\": {\n        \"dtype\": \"string\",\n        \"num_unique_values\": 29735,\n        \"samples\": [\n          \"in this secondary study of an open-label , @-week , randomized , controlled trial conducted between april @ and august @ , clinically stable patients with schizophrenia ( dsm-iv ) treated with risperidone or olanzapine were randomly assigned to the reduction group ( dose reduced by @ % ) or maintenance group ( dose kept constant ) .\",\n          \"between july , @ , and june , @ , we did a multinational double-blind , randomised , phase @ study comparing vacc-@x with placebo .\",\n          \"a sample of @ participants was interviewed over the telephone for possible cognitive and background moderators .\"\n        ],\n        \"semantic_type\": \"\",\n        \"description\": \"\"\n      }\n    },\n    {\n      \"column\": \"line_number\",\n      \"properties\": {\n        \"dtype\": \"number\",\n        \"std\": 4,\n        \"min\": 0,\n        \"max\": 27,\n        \"num_unique_values\": 28,\n        \"samples\": [\n          9,\n          25,\n          8\n        ],\n        \"semantic_type\": \"\",\n        \"description\": \"\"\n      }\n    },\n    {\n      \"column\": \"total_lines\",\n      \"properties\": {\n        \"dtype\": \"number\",\n        \"std\": 3,\n        \"min\": 3,\n        \"max\": 27,\n        \"num_unique_values\": 23,\n        \"samples\": [\n          24,\n          16,\n          8\n        ],\n        \"semantic_type\": \"\",\n        \"description\": \"\"\n      }\n    },\n    {\n      \"column\": \"prediction\",\n      \"properties\": {\n        \"dtype\": \"category\",\n        \"num_unique_values\": 5,\n        \"samples\": [\n          \"METHODS\",\n          \"OBJECTIVE\",\n          \"RESULTS\"\n        ],\n        \"semantic_type\": \"\",\n        \"description\": \"\"\n      }\n    },\n    {\n      \"column\": \"pred_prob\",\n      \"properties\": {\n        \"dtype\": \"float32\",\n        \"num_unique_values\": 29945,\n        \"samples\": [\n          0.8422806859016418,\n          0.640990674495697,\n          0.8955626487731934\n        ],\n        \"semantic_type\": \"\",\n        \"description\": \"\"\n      }\n    },\n    {\n      \"column\": \"correct\",\n      \"properties\": {\n        \"dtype\": \"boolean\",\n        \"num_unique_values\": 2,\n        \"samples\": [\n          false,\n          true\n        ],\n        \"semantic_type\": \"\",\n        \"description\": \"\"\n      }\n    }\n  ]\n}"
            }
          },
          "metadata": {},
          "execution_count": 150
        }
      ]
    },
    {
      "cell_type": "code",
      "source": [
        "top_100_wrong = test_df[test_df[\"correct\"] == False].sort_values(\"pred_prob\", ascending=False)[:100]\n",
        "top_100_wrong"
      ],
      "metadata": {
        "id": "sy1t-2yquVjI",
        "outputId": "ddbc9473-ad73-4d66-d2a3-3e79ec6582c7",
        "colab": {
          "base_uri": "https://localhost:8080/",
          "height": 1000
        }
      },
      "execution_count": 152,
      "outputs": [
        {
          "output_type": "execute_result",
          "data": {
            "text/plain": [
              "            target                                               text  \\\n",
              "8545       METHODS                                 pretest-posttest .   \n",
              "13874  CONCLUSIONS  symptom outcomes will be assessed and estimate...   \n",
              "3573       RESULTS  a cluster randomised trial was implemented wit...   \n",
              "18720      RESULTS                       non-diffuse-trickling '' ) .   \n",
              "2388       RESULTS  the primary endpoint is the cumulative three-y...   \n",
              "...            ...                                                ...   \n",
              "24246   BACKGROUND  we conducted a randomized controlled trial of ...   \n",
              "6457     OBJECTIVE  unfortunately , this dietary modification may ...   \n",
              "15091      RESULTS  we conducted a multicentre , randomized , cont...   \n",
              "2605       RESULTS  circulating epc ( cells positive for cd@ , cd@...   \n",
              "9535       RESULTS  one hundred forty-three non-diabetic adult ra ...   \n",
              "\n",
              "       line_number  total_lines  prediction  pred_prob  correct  \n",
              "8545             1           11  BACKGROUND   0.966634    False  \n",
              "13874            4            6     METHODS   0.937137    False  \n",
              "3573             3           16     METHODS   0.935187    False  \n",
              "18720            8           15  BACKGROUND   0.920087    False  \n",
              "2388             4           13     METHODS   0.913187    False  \n",
              "...            ...          ...         ...        ...      ...  \n",
              "24246            2           13     METHODS   0.839143    False  \n",
              "6457             1           17  BACKGROUND   0.838858    False  \n",
              "15091            3            9     METHODS   0.838341    False  \n",
              "2605             4           10     METHODS   0.838339    False  \n",
              "9535             3           11     METHODS   0.838043    False  \n",
              "\n",
              "[100 rows x 7 columns]"
            ],
            "text/html": [
              "\n",
              "  <div id=\"df-ccad87e8-8c8b-4502-b398-b3a889ca7dcd\" class=\"colab-df-container\">\n",
              "    <div>\n",
              "<style scoped>\n",
              "    .dataframe tbody tr th:only-of-type {\n",
              "        vertical-align: middle;\n",
              "    }\n",
              "\n",
              "    .dataframe tbody tr th {\n",
              "        vertical-align: top;\n",
              "    }\n",
              "\n",
              "    .dataframe thead th {\n",
              "        text-align: right;\n",
              "    }\n",
              "</style>\n",
              "<table border=\"1\" class=\"dataframe\">\n",
              "  <thead>\n",
              "    <tr style=\"text-align: right;\">\n",
              "      <th></th>\n",
              "      <th>target</th>\n",
              "      <th>text</th>\n",
              "      <th>line_number</th>\n",
              "      <th>total_lines</th>\n",
              "      <th>prediction</th>\n",
              "      <th>pred_prob</th>\n",
              "      <th>correct</th>\n",
              "    </tr>\n",
              "  </thead>\n",
              "  <tbody>\n",
              "    <tr>\n",
              "      <th>8545</th>\n",
              "      <td>METHODS</td>\n",
              "      <td>pretest-posttest .</td>\n",
              "      <td>1</td>\n",
              "      <td>11</td>\n",
              "      <td>BACKGROUND</td>\n",
              "      <td>0.966634</td>\n",
              "      <td>False</td>\n",
              "    </tr>\n",
              "    <tr>\n",
              "      <th>13874</th>\n",
              "      <td>CONCLUSIONS</td>\n",
              "      <td>symptom outcomes will be assessed and estimate...</td>\n",
              "      <td>4</td>\n",
              "      <td>6</td>\n",
              "      <td>METHODS</td>\n",
              "      <td>0.937137</td>\n",
              "      <td>False</td>\n",
              "    </tr>\n",
              "    <tr>\n",
              "      <th>3573</th>\n",
              "      <td>RESULTS</td>\n",
              "      <td>a cluster randomised trial was implemented wit...</td>\n",
              "      <td>3</td>\n",
              "      <td>16</td>\n",
              "      <td>METHODS</td>\n",
              "      <td>0.935187</td>\n",
              "      <td>False</td>\n",
              "    </tr>\n",
              "    <tr>\n",
              "      <th>18720</th>\n",
              "      <td>RESULTS</td>\n",
              "      <td>non-diffuse-trickling '' ) .</td>\n",
              "      <td>8</td>\n",
              "      <td>15</td>\n",
              "      <td>BACKGROUND</td>\n",
              "      <td>0.920087</td>\n",
              "      <td>False</td>\n",
              "    </tr>\n",
              "    <tr>\n",
              "      <th>2388</th>\n",
              "      <td>RESULTS</td>\n",
              "      <td>the primary endpoint is the cumulative three-y...</td>\n",
              "      <td>4</td>\n",
              "      <td>13</td>\n",
              "      <td>METHODS</td>\n",
              "      <td>0.913187</td>\n",
              "      <td>False</td>\n",
              "    </tr>\n",
              "    <tr>\n",
              "      <th>...</th>\n",
              "      <td>...</td>\n",
              "      <td>...</td>\n",
              "      <td>...</td>\n",
              "      <td>...</td>\n",
              "      <td>...</td>\n",
              "      <td>...</td>\n",
              "      <td>...</td>\n",
              "    </tr>\n",
              "    <tr>\n",
              "      <th>24246</th>\n",
              "      <td>BACKGROUND</td>\n",
              "      <td>we conducted a randomized controlled trial of ...</td>\n",
              "      <td>2</td>\n",
              "      <td>13</td>\n",
              "      <td>METHODS</td>\n",
              "      <td>0.839143</td>\n",
              "      <td>False</td>\n",
              "    </tr>\n",
              "    <tr>\n",
              "      <th>6457</th>\n",
              "      <td>OBJECTIVE</td>\n",
              "      <td>unfortunately , this dietary modification may ...</td>\n",
              "      <td>1</td>\n",
              "      <td>17</td>\n",
              "      <td>BACKGROUND</td>\n",
              "      <td>0.838858</td>\n",
              "      <td>False</td>\n",
              "    </tr>\n",
              "    <tr>\n",
              "      <th>15091</th>\n",
              "      <td>RESULTS</td>\n",
              "      <td>we conducted a multicentre , randomized , cont...</td>\n",
              "      <td>3</td>\n",
              "      <td>9</td>\n",
              "      <td>METHODS</td>\n",
              "      <td>0.838341</td>\n",
              "      <td>False</td>\n",
              "    </tr>\n",
              "    <tr>\n",
              "      <th>2605</th>\n",
              "      <td>RESULTS</td>\n",
              "      <td>circulating epc ( cells positive for cd@ , cd@...</td>\n",
              "      <td>4</td>\n",
              "      <td>10</td>\n",
              "      <td>METHODS</td>\n",
              "      <td>0.838339</td>\n",
              "      <td>False</td>\n",
              "    </tr>\n",
              "    <tr>\n",
              "      <th>9535</th>\n",
              "      <td>RESULTS</td>\n",
              "      <td>one hundred forty-three non-diabetic adult ra ...</td>\n",
              "      <td>3</td>\n",
              "      <td>11</td>\n",
              "      <td>METHODS</td>\n",
              "      <td>0.838043</td>\n",
              "      <td>False</td>\n",
              "    </tr>\n",
              "  </tbody>\n",
              "</table>\n",
              "<p>100 rows × 7 columns</p>\n",
              "</div>\n",
              "    <div class=\"colab-df-buttons\">\n",
              "\n",
              "  <div class=\"colab-df-container\">\n",
              "    <button class=\"colab-df-convert\" onclick=\"convertToInteractive('df-ccad87e8-8c8b-4502-b398-b3a889ca7dcd')\"\n",
              "            title=\"Convert this dataframe to an interactive table.\"\n",
              "            style=\"display:none;\">\n",
              "\n",
              "  <svg xmlns=\"http://www.w3.org/2000/svg\" height=\"24px\" viewBox=\"0 -960 960 960\">\n",
              "    <path d=\"M120-120v-720h720v720H120Zm60-500h600v-160H180v160Zm220 220h160v-160H400v160Zm0 220h160v-160H400v160ZM180-400h160v-160H180v160Zm440 0h160v-160H620v160ZM180-180h160v-160H180v160Zm440 0h160v-160H620v160Z\"/>\n",
              "  </svg>\n",
              "    </button>\n",
              "\n",
              "  <style>\n",
              "    .colab-df-container {\n",
              "      display:flex;\n",
              "      gap: 12px;\n",
              "    }\n",
              "\n",
              "    .colab-df-convert {\n",
              "      background-color: #E8F0FE;\n",
              "      border: none;\n",
              "      border-radius: 50%;\n",
              "      cursor: pointer;\n",
              "      display: none;\n",
              "      fill: #1967D2;\n",
              "      height: 32px;\n",
              "      padding: 0 0 0 0;\n",
              "      width: 32px;\n",
              "    }\n",
              "\n",
              "    .colab-df-convert:hover {\n",
              "      background-color: #E2EBFA;\n",
              "      box-shadow: 0px 1px 2px rgba(60, 64, 67, 0.3), 0px 1px 3px 1px rgba(60, 64, 67, 0.15);\n",
              "      fill: #174EA6;\n",
              "    }\n",
              "\n",
              "    .colab-df-buttons div {\n",
              "      margin-bottom: 4px;\n",
              "    }\n",
              "\n",
              "    [theme=dark] .colab-df-convert {\n",
              "      background-color: #3B4455;\n",
              "      fill: #D2E3FC;\n",
              "    }\n",
              "\n",
              "    [theme=dark] .colab-df-convert:hover {\n",
              "      background-color: #434B5C;\n",
              "      box-shadow: 0px 1px 3px 1px rgba(0, 0, 0, 0.15);\n",
              "      filter: drop-shadow(0px 1px 2px rgba(0, 0, 0, 0.3));\n",
              "      fill: #FFFFFF;\n",
              "    }\n",
              "  </style>\n",
              "\n",
              "    <script>\n",
              "      const buttonEl =\n",
              "        document.querySelector('#df-ccad87e8-8c8b-4502-b398-b3a889ca7dcd button.colab-df-convert');\n",
              "      buttonEl.style.display =\n",
              "        google.colab.kernel.accessAllowed ? 'block' : 'none';\n",
              "\n",
              "      async function convertToInteractive(key) {\n",
              "        const element = document.querySelector('#df-ccad87e8-8c8b-4502-b398-b3a889ca7dcd');\n",
              "        const dataTable =\n",
              "          await google.colab.kernel.invokeFunction('convertToInteractive',\n",
              "                                                    [key], {});\n",
              "        if (!dataTable) return;\n",
              "\n",
              "        const docLinkHtml = 'Like what you see? Visit the ' +\n",
              "          '<a target=\"_blank\" href=https://colab.research.google.com/notebooks/data_table.ipynb>data table notebook</a>'\n",
              "          + ' to learn more about interactive tables.';\n",
              "        element.innerHTML = '';\n",
              "        dataTable['output_type'] = 'display_data';\n",
              "        await google.colab.output.renderOutput(dataTable, element);\n",
              "        const docLink = document.createElement('div');\n",
              "        docLink.innerHTML = docLinkHtml;\n",
              "        element.appendChild(docLink);\n",
              "      }\n",
              "    </script>\n",
              "  </div>\n",
              "\n",
              "\n",
              "<div id=\"df-c2161120-d96f-4e26-a070-fca4040d22c7\">\n",
              "  <button class=\"colab-df-quickchart\" onclick=\"quickchart('df-c2161120-d96f-4e26-a070-fca4040d22c7')\"\n",
              "            title=\"Suggest charts\"\n",
              "            style=\"display:none;\">\n",
              "\n",
              "<svg xmlns=\"http://www.w3.org/2000/svg\" height=\"24px\"viewBox=\"0 0 24 24\"\n",
              "     width=\"24px\">\n",
              "    <g>\n",
              "        <path d=\"M19 3H5c-1.1 0-2 .9-2 2v14c0 1.1.9 2 2 2h14c1.1 0 2-.9 2-2V5c0-1.1-.9-2-2-2zM9 17H7v-7h2v7zm4 0h-2V7h2v10zm4 0h-2v-4h2v4z\"/>\n",
              "    </g>\n",
              "</svg>\n",
              "  </button>\n",
              "\n",
              "<style>\n",
              "  .colab-df-quickchart {\n",
              "      --bg-color: #E8F0FE;\n",
              "      --fill-color: #1967D2;\n",
              "      --hover-bg-color: #E2EBFA;\n",
              "      --hover-fill-color: #174EA6;\n",
              "      --disabled-fill-color: #AAA;\n",
              "      --disabled-bg-color: #DDD;\n",
              "  }\n",
              "\n",
              "  [theme=dark] .colab-df-quickchart {\n",
              "      --bg-color: #3B4455;\n",
              "      --fill-color: #D2E3FC;\n",
              "      --hover-bg-color: #434B5C;\n",
              "      --hover-fill-color: #FFFFFF;\n",
              "      --disabled-bg-color: #3B4455;\n",
              "      --disabled-fill-color: #666;\n",
              "  }\n",
              "\n",
              "  .colab-df-quickchart {\n",
              "    background-color: var(--bg-color);\n",
              "    border: none;\n",
              "    border-radius: 50%;\n",
              "    cursor: pointer;\n",
              "    display: none;\n",
              "    fill: var(--fill-color);\n",
              "    height: 32px;\n",
              "    padding: 0;\n",
              "    width: 32px;\n",
              "  }\n",
              "\n",
              "  .colab-df-quickchart:hover {\n",
              "    background-color: var(--hover-bg-color);\n",
              "    box-shadow: 0 1px 2px rgba(60, 64, 67, 0.3), 0 1px 3px 1px rgba(60, 64, 67, 0.15);\n",
              "    fill: var(--button-hover-fill-color);\n",
              "  }\n",
              "\n",
              "  .colab-df-quickchart-complete:disabled,\n",
              "  .colab-df-quickchart-complete:disabled:hover {\n",
              "    background-color: var(--disabled-bg-color);\n",
              "    fill: var(--disabled-fill-color);\n",
              "    box-shadow: none;\n",
              "  }\n",
              "\n",
              "  .colab-df-spinner {\n",
              "    border: 2px solid var(--fill-color);\n",
              "    border-color: transparent;\n",
              "    border-bottom-color: var(--fill-color);\n",
              "    animation:\n",
              "      spin 1s steps(1) infinite;\n",
              "  }\n",
              "\n",
              "  @keyframes spin {\n",
              "    0% {\n",
              "      border-color: transparent;\n",
              "      border-bottom-color: var(--fill-color);\n",
              "      border-left-color: var(--fill-color);\n",
              "    }\n",
              "    20% {\n",
              "      border-color: transparent;\n",
              "      border-left-color: var(--fill-color);\n",
              "      border-top-color: var(--fill-color);\n",
              "    }\n",
              "    30% {\n",
              "      border-color: transparent;\n",
              "      border-left-color: var(--fill-color);\n",
              "      border-top-color: var(--fill-color);\n",
              "      border-right-color: var(--fill-color);\n",
              "    }\n",
              "    40% {\n",
              "      border-color: transparent;\n",
              "      border-right-color: var(--fill-color);\n",
              "      border-top-color: var(--fill-color);\n",
              "    }\n",
              "    60% {\n",
              "      border-color: transparent;\n",
              "      border-right-color: var(--fill-color);\n",
              "    }\n",
              "    80% {\n",
              "      border-color: transparent;\n",
              "      border-right-color: var(--fill-color);\n",
              "      border-bottom-color: var(--fill-color);\n",
              "    }\n",
              "    90% {\n",
              "      border-color: transparent;\n",
              "      border-bottom-color: var(--fill-color);\n",
              "    }\n",
              "  }\n",
              "</style>\n",
              "\n",
              "  <script>\n",
              "    async function quickchart(key) {\n",
              "      const quickchartButtonEl =\n",
              "        document.querySelector('#' + key + ' button');\n",
              "      quickchartButtonEl.disabled = true;  // To prevent multiple clicks.\n",
              "      quickchartButtonEl.classList.add('colab-df-spinner');\n",
              "      try {\n",
              "        const charts = await google.colab.kernel.invokeFunction(\n",
              "            'suggestCharts', [key], {});\n",
              "      } catch (error) {\n",
              "        console.error('Error during call to suggestCharts:', error);\n",
              "      }\n",
              "      quickchartButtonEl.classList.remove('colab-df-spinner');\n",
              "      quickchartButtonEl.classList.add('colab-df-quickchart-complete');\n",
              "    }\n",
              "    (() => {\n",
              "      let quickchartButtonEl =\n",
              "        document.querySelector('#df-c2161120-d96f-4e26-a070-fca4040d22c7 button');\n",
              "      quickchartButtonEl.style.display =\n",
              "        google.colab.kernel.accessAllowed ? 'block' : 'none';\n",
              "    })();\n",
              "  </script>\n",
              "</div>\n",
              "\n",
              "  <div id=\"id_7a786e79-9df3-4853-a32c-82dfda694a15\">\n",
              "    <style>\n",
              "      .colab-df-generate {\n",
              "        background-color: #E8F0FE;\n",
              "        border: none;\n",
              "        border-radius: 50%;\n",
              "        cursor: pointer;\n",
              "        display: none;\n",
              "        fill: #1967D2;\n",
              "        height: 32px;\n",
              "        padding: 0 0 0 0;\n",
              "        width: 32px;\n",
              "      }\n",
              "\n",
              "      .colab-df-generate:hover {\n",
              "        background-color: #E2EBFA;\n",
              "        box-shadow: 0px 1px 2px rgba(60, 64, 67, 0.3), 0px 1px 3px 1px rgba(60, 64, 67, 0.15);\n",
              "        fill: #174EA6;\n",
              "      }\n",
              "\n",
              "      [theme=dark] .colab-df-generate {\n",
              "        background-color: #3B4455;\n",
              "        fill: #D2E3FC;\n",
              "      }\n",
              "\n",
              "      [theme=dark] .colab-df-generate:hover {\n",
              "        background-color: #434B5C;\n",
              "        box-shadow: 0px 1px 3px 1px rgba(0, 0, 0, 0.15);\n",
              "        filter: drop-shadow(0px 1px 2px rgba(0, 0, 0, 0.3));\n",
              "        fill: #FFFFFF;\n",
              "      }\n",
              "    </style>\n",
              "    <button class=\"colab-df-generate\" onclick=\"generateWithVariable('top_100_wrong')\"\n",
              "            title=\"Generate code using this dataframe.\"\n",
              "            style=\"display:none;\">\n",
              "\n",
              "  <svg xmlns=\"http://www.w3.org/2000/svg\" height=\"24px\"viewBox=\"0 0 24 24\"\n",
              "       width=\"24px\">\n",
              "    <path d=\"M7,19H8.4L18.45,9,17,7.55,7,17.6ZM5,21V16.75L18.45,3.32a2,2,0,0,1,2.83,0l1.4,1.43a1.91,1.91,0,0,1,.58,1.4,1.91,1.91,0,0,1-.58,1.4L9.25,21ZM18.45,9,17,7.55Zm-12,3A5.31,5.31,0,0,0,4.9,8.1,5.31,5.31,0,0,0,1,6.5,5.31,5.31,0,0,0,4.9,4.9,5.31,5.31,0,0,0,6.5,1,5.31,5.31,0,0,0,8.1,4.9,5.31,5.31,0,0,0,12,6.5,5.46,5.46,0,0,0,6.5,12Z\"/>\n",
              "  </svg>\n",
              "    </button>\n",
              "    <script>\n",
              "      (() => {\n",
              "      const buttonEl =\n",
              "        document.querySelector('#id_7a786e79-9df3-4853-a32c-82dfda694a15 button.colab-df-generate');\n",
              "      buttonEl.style.display =\n",
              "        google.colab.kernel.accessAllowed ? 'block' : 'none';\n",
              "\n",
              "      buttonEl.onclick = () => {\n",
              "        google.colab.notebook.generateWithVariable('top_100_wrong');\n",
              "      }\n",
              "      })();\n",
              "    </script>\n",
              "  </div>\n",
              "\n",
              "    </div>\n",
              "  </div>\n"
            ],
            "application/vnd.google.colaboratory.intrinsic+json": {
              "type": "dataframe",
              "variable_name": "top_100_wrong",
              "summary": "{\n  \"name\": \"top_100_wrong\",\n  \"rows\": 100,\n  \"fields\": [\n    {\n      \"column\": \"target\",\n      \"properties\": {\n        \"dtype\": \"category\",\n        \"num_unique_values\": 5,\n        \"samples\": [\n          \"CONCLUSIONS\",\n          \"BACKGROUND\",\n          \"RESULTS\"\n        ],\n        \"semantic_type\": \"\",\n        \"description\": \"\"\n      }\n    },\n    {\n      \"column\": \"text\",\n      \"properties\": {\n        \"dtype\": \"string\",\n        \"num_unique_values\": 98,\n        \"samples\": [\n          \"adults and children clinically diagnosed with uncomplicated enteric fever were enrolled in the study to receive gatifloxacin ( @ mg/kg/day ) in a single dose or ofloxacin ( @ mg/kg/day ) in two divided doses for @ days .\",\n          \"unhealthy alcohol use is a leading contributor to the global burden of disease , particularly among young people .\",\n          \"unfortunately , this dietary modification may be poorly tolerated .\"\n        ],\n        \"semantic_type\": \"\",\n        \"description\": \"\"\n      }\n    },\n    {\n      \"column\": \"line_number\",\n      \"properties\": {\n        \"dtype\": \"number\",\n        \"std\": 3,\n        \"min\": 0,\n        \"max\": 18,\n        \"num_unique_values\": 16,\n        \"samples\": [\n          1,\n          4,\n          15\n        ],\n        \"semantic_type\": \"\",\n        \"description\": \"\"\n      }\n    },\n    {\n      \"column\": \"total_lines\",\n      \"properties\": {\n        \"dtype\": \"number\",\n        \"std\": 3,\n        \"min\": 6,\n        \"max\": 27,\n        \"num_unique_values\": 16,\n        \"samples\": [\n          11,\n          6,\n          27\n        ],\n        \"semantic_type\": \"\",\n        \"description\": \"\"\n      }\n    },\n    {\n      \"column\": \"prediction\",\n      \"properties\": {\n        \"dtype\": \"category\",\n        \"num_unique_values\": 5,\n        \"samples\": [\n          \"METHODS\",\n          \"CONCLUSIONS\",\n          \"OBJECTIVE\"\n        ],\n        \"semantic_type\": \"\",\n        \"description\": \"\"\n      }\n    },\n    {\n      \"column\": \"pred_prob\",\n      \"properties\": {\n        \"dtype\": \"float32\",\n        \"num_unique_values\": 100,\n        \"samples\": [\n          0.8456503748893738,\n          0.8678657412528992,\n          0.8526327013969421\n        ],\n        \"semantic_type\": \"\",\n        \"description\": \"\"\n      }\n    },\n    {\n      \"column\": \"correct\",\n      \"properties\": {\n        \"dtype\": \"boolean\",\n        \"num_unique_values\": 1,\n        \"samples\": [\n          false\n        ],\n        \"semantic_type\": \"\",\n        \"description\": \"\"\n      }\n    }\n  ]\n}"
            }
          },
          "metadata": {},
          "execution_count": 152
        }
      ]
    },
    {
      "cell_type": "code",
      "source": [
        "# Investigate top wrong preds\n",
        "for row in top_100_wrong[0:10].itertuples(): # adjust indexes to view different samples\n",
        "  _, target, text, line_number, total_lines, prediction, pred_prob, _ = row\n",
        "  print(f\"Target: {target}, Pred: {prediction}, Prob: {pred_prob}, Line number: {line_number}, Total lines: {total_lines}\\n\")\n",
        "  print(f\"Text:\\n{text}\\n\")\n",
        "  print(\"-----\\n\")"
      ],
      "metadata": {
        "id": "9FpVqPBGtsDw",
        "outputId": "4a3ecc16-9979-41db-f761-28a4913e94ef",
        "colab": {
          "base_uri": "https://localhost:8080/"
        }
      },
      "execution_count": 153,
      "outputs": [
        {
          "output_type": "stream",
          "name": "stdout",
          "text": [
            "Target: METHODS, Pred: BACKGROUND, Prob: 0.9666336178779602, Line number: 1, Total lines: 11\n",
            "\n",
            "Text:\n",
            "pretest-posttest .\n",
            "\n",
            "-----\n",
            "\n",
            "Target: CONCLUSIONS, Pred: METHODS, Prob: 0.9371373653411865, Line number: 4, Total lines: 6\n",
            "\n",
            "Text:\n",
            "symptom outcomes will be assessed and estimates of cost-effectiveness made .\n",
            "\n",
            "-----\n",
            "\n",
            "Target: RESULTS, Pred: METHODS, Prob: 0.9351872205734253, Line number: 3, Total lines: 16\n",
            "\n",
            "Text:\n",
            "a cluster randomised trial was implemented with @,@ children in @ government primary schools on the south coast of kenya in @-@ .\n",
            "\n",
            "-----\n",
            "\n",
            "Target: RESULTS, Pred: BACKGROUND, Prob: 0.9200869202613831, Line number: 8, Total lines: 15\n",
            "\n",
            "Text:\n",
            "non-diffuse-trickling '' ) .\n",
            "\n",
            "-----\n",
            "\n",
            "Target: RESULTS, Pred: METHODS, Prob: 0.9131866097450256, Line number: 4, Total lines: 13\n",
            "\n",
            "Text:\n",
            "the primary endpoint is the cumulative three-year hiv incidence .\n",
            "\n",
            "-----\n",
            "\n",
            "Target: RESULTS, Pred: METHODS, Prob: 0.9114668965339661, Line number: 4, Total lines: 13\n",
            "\n",
            "Text:\n",
            "baseline measures included sociodemographics , standardized anthropometrics , asthma control test ( act ) , gerd symptom assessment scale , pittsburgh sleep quality index , and berlin questionnaire for sleep apnea .\n",
            "\n",
            "-----\n",
            "\n",
            "Target: RESULTS, Pred: METHODS, Prob: 0.9110928773880005, Line number: 3, Total lines: 6\n",
            "\n",
            "Text:\n",
            "repeated measures analysis of variance ( anova ) tests were conducted to examine the differences across conditions and time .\n",
            "\n",
            "-----\n",
            "\n",
            "Target: OBJECTIVE, Pred: METHODS, Prob: 0.9101964235305786, Line number: 4, Total lines: 27\n",
            "\n",
            "Text:\n",
            "second , we collected patient-reported outcomes for balance confidence and falls control .\n",
            "\n",
            "-----\n",
            "\n",
            "Target: RESULTS, Pred: METHODS, Prob: 0.9100044965744019, Line number: 4, Total lines: 12\n",
            "\n",
            "Text:\n",
            "patients were randomly assigned to receive either moxonidine ( @-@ @ mg daily ) or placebo , along with standard antihypertensive treatment .\n",
            "\n",
            "-----\n",
            "\n",
            "Target: METHODS, Pred: BACKGROUND, Prob: 0.9081264138221741, Line number: 16, Total lines: 19\n",
            "\n",
            "Text:\n",
            "we will comply with the consort guidelines and will disseminate the findings at national and international conferences and in peer-reviewed journals .\n",
            "\n",
            "-----\n",
            "\n"
          ]
        }
      ]
    },
    {
      "cell_type": "markdown",
      "source": [
        "### Working with example abstract"
      ],
      "metadata": {
        "id": "sNKtOcqZvFeK"
      }
    },
    {
      "cell_type": "code",
      "source": [
        "import json\n",
        "# Download and open example abstracts (copy and pasted from PubMed)\n",
        "!wget https://raw.githubusercontent.com/yashfirkedata/NLP-Replicating-PubMed-200k-RCT-Paper/main/example_abstracts.json\n",
        "with open(\"example_abstracts.json\", \"r\") as f:\n",
        "  example_abstracts = json.load(f)\n",
        "\n",
        "example_abstracts"
      ],
      "metadata": {
        "id": "K95lfFhHuSOC",
        "outputId": "b4cad729-4947-46ac-d1db-34c88ba3df10",
        "colab": {
          "base_uri": "https://localhost:8080/"
        }
      },
      "execution_count": 155,
      "outputs": [
        {
          "output_type": "stream",
          "name": "stdout",
          "text": [
            "--2024-07-11 12:20:35--  https://raw.githubusercontent.com/yashfirkedata/NLP-Replicating-PubMed-200k-RCT-Paper/main/example_abstracts.json\n",
            "Resolving raw.githubusercontent.com (raw.githubusercontent.com)... 185.199.108.133, 185.199.109.133, 185.199.110.133, ...\n",
            "Connecting to raw.githubusercontent.com (raw.githubusercontent.com)|185.199.108.133|:443... connected.\n",
            "HTTP request sent, awaiting response... 200 OK\n",
            "Length: 6737 (6.6K) [text/plain]\n",
            "Saving to: ‘example_abstracts.json.1’\n",
            "\n",
            "\rexample_abstracts.j   0%[                    ]       0  --.-KB/s               \rexample_abstracts.j 100%[===================>]   6.58K  --.-KB/s    in 0s      \n",
            "\n",
            "2024-07-11 12:20:35 (44.0 MB/s) - ‘example_abstracts.json.1’ saved [6737/6737]\n",
            "\n"
          ]
        },
        {
          "output_type": "execute_result",
          "data": {
            "text/plain": [
              "[{'abstract': 'This RCT examined the efficacy of a manualized social intervention for children with HFASDs. Participants were randomly assigned to treatment or wait-list conditions. Treatment included instruction and therapeutic activities targeting social skills, face-emotion recognition, interest expansion, and interpretation of non-literal language. A response-cost program was applied to reduce problem behaviors and foster skills acquisition. Significant treatment effects were found for five of seven primary outcome measures (parent ratings and direct child measures). Secondary measures based on staff ratings (treatment group only) corroborated gains reported by parents. High levels of parent, child and staff satisfaction were reported, along with high levels of treatment fidelity. Standardized effect size estimates were primarily in the medium and large ranges and favored the treatment group.',\n",
              "  'source': 'https://pubmed.ncbi.nlm.nih.gov/20232240/',\n",
              "  'details': 'RCT of a manualized social treatment for high-functioning autism spectrum disorders'},\n",
              " {'abstract': \"Postpartum depression (PPD) is the most prevalent mood disorder associated with childbirth. No single cause of PPD has been identified, however the increased risk of nutritional deficiencies incurred through the high nutritional requirements of pregnancy may play a role in the pathology of depressive symptoms. Three nutritional interventions have drawn particular interest as possible non-invasive and cost-effective prevention and/or treatment strategies for PPD; omega-3 (n-3) long chain polyunsaturated fatty acids (LCPUFA), vitamin D and overall diet. We searched for meta-analyses of randomised controlled trials (RCT's) of nutritional interventions during the perinatal period with PPD as an outcome, and checked for any trials published subsequently to the meta-analyses. Fish oil: Eleven RCT's of prenatal fish oil supplementation RCT's show null and positive effects on PPD symptoms. Vitamin D: no relevant RCT's were identified, however seven observational studies of maternal vitamin D levels with PPD outcomes showed inconsistent associations. Diet: Two Australian RCT's with dietary advice interventions in pregnancy had a positive and null result on PPD. With the exception of fish oil, few RCT's with nutritional interventions during pregnancy assess PPD. Further research is needed to determine whether nutritional intervention strategies during pregnancy can protect against symptoms of PPD. Given the prevalence of PPD and ease of administering PPD measures, we recommend future prenatal nutritional RCT's include PPD as an outcome.\",\n",
              "  'source': 'https://pubmed.ncbi.nlm.nih.gov/28012571/',\n",
              "  'details': 'Formatting removed (can be used to compare model to actual example)'},\n",
              " {'abstract': 'Mental illness, including depression, anxiety and bipolar disorder, accounts for a significant proportion of global disability and poses a substantial social, economic and heath burden. Treatment is presently dominated by pharmacotherapy, such as antidepressants, and psychotherapy, such as cognitive behavioural therapy; however, such treatments avert less than half of the disease burden, suggesting that additional strategies are needed to prevent and treat mental disorders. There are now consistent mechanistic, observational and interventional data to suggest diet quality may be a modifiable risk factor for mental illness. This review provides an overview of the nutritional psychiatry field. It includes a discussion of the neurobiological mechanisms likely modulated by diet, the use of dietary and nutraceutical interventions in mental disorders, and recommendations for further research. Potential biological pathways related to mental disorders include inflammation, oxidative stress, the gut microbiome, epigenetic modifications and neuroplasticity. Consistent epidemiological evidence, particularly for depression, suggests an association between measures of diet quality and mental health, across multiple populations and age groups; these do not appear to be explained by other demographic, lifestyle factors or reverse causality. Our recently published intervention trial provides preliminary clinical evidence that dietary interventions in clinically diagnosed populations are feasible and can provide significant clinical benefit. Furthermore, nutraceuticals including n-3 fatty acids, folate, S-adenosylmethionine, N-acetyl cysteine and probiotics, among others, are promising avenues for future research. Continued research is now required to investigate the efficacy of intervention studies in large cohorts and within clinically relevant populations, particularly in patients with schizophrenia, bipolar and anxiety disorders.',\n",
              "  'source': 'https://pubmed.ncbi.nlm.nih.gov/28942748/',\n",
              "  'details': 'Effect of nutrition on mental health'},\n",
              " {'abstract': \"Hepatitis C virus (HCV) and alcoholic liver disease (ALD), either alone or in combination, count for more than two thirds of all liver diseases in the Western world. There is no safe level of drinking in HCV-infected patients and the most effective goal for these patients is total abstinence. Baclofen, a GABA(B) receptor agonist, represents a promising pharmacotherapy for alcohol dependence (AD). Previously, we performed a randomized clinical trial (RCT), which demonstrated the safety and efficacy of baclofen in patients affected by AD and cirrhosis. The goal of this post-hoc analysis was to explore baclofen's effect in a subgroup of alcohol-dependent HCV-infected cirrhotic patients. Any patient with HCV infection was selected for this analysis. Among the 84 subjects randomized in the main trial, 24 alcohol-dependent cirrhotic patients had a HCV infection; 12 received baclofen 10mg t.i.d. and 12 received placebo for 12-weeks. With respect to the placebo group (3/12, 25.0%), a significantly higher number of patients who achieved and maintained total alcohol abstinence was found in the baclofen group (10/12, 83.3%; p=0.0123). Furthermore, in the baclofen group, compared to placebo, there was a significantly higher increase in albumin values from baseline (p=0.0132) and a trend toward a significant reduction in INR levels from baseline (p=0.0716). In conclusion, baclofen was safe and significantly more effective than placebo in promoting alcohol abstinence, and improving some Liver Function Tests (LFTs) (i.e. albumin, INR) in alcohol-dependent HCV-infected cirrhotic patients. Baclofen may represent a clinically relevant alcohol pharmacotherapy for these patients.\",\n",
              "  'source': 'https://pubmed.ncbi.nlm.nih.gov/22244707/',\n",
              "  'details': 'Baclofen promotes alcohol abstinence in alcohol dependent cirrhotic patients with hepatitis C virus (HCV) infection'}]"
            ]
          },
          "metadata": {},
          "execution_count": 155
        }
      ]
    },
    {
      "cell_type": "code",
      "source": [
        "abstracts = pd.DataFrame(example_abstracts)\n",
        "abstracts"
      ],
      "metadata": {
        "id": "_wwImyb7vKZa",
        "outputId": "9370def7-c62f-49d5-f233-29af6822567e",
        "colab": {
          "base_uri": "https://localhost:8080/",
          "height": 313
        }
      },
      "execution_count": 156,
      "outputs": [
        {
          "output_type": "execute_result",
          "data": {
            "text/plain": [
              "                                            abstract  \\\n",
              "0  This RCT examined the efficacy of a manualized...   \n",
              "1  Postpartum depression (PPD) is the most preval...   \n",
              "2  Mental illness, including depression, anxiety ...   \n",
              "3  Hepatitis C virus (HCV) and alcoholic liver di...   \n",
              "\n",
              "                                      source  \\\n",
              "0  https://pubmed.ncbi.nlm.nih.gov/20232240/   \n",
              "1  https://pubmed.ncbi.nlm.nih.gov/28012571/   \n",
              "2  https://pubmed.ncbi.nlm.nih.gov/28942748/   \n",
              "3  https://pubmed.ncbi.nlm.nih.gov/22244707/   \n",
              "\n",
              "                                             details  \n",
              "0  RCT of a manualized social treatment for high-...  \n",
              "1  Formatting removed (can be used to compare mod...  \n",
              "2               Effect of nutrition on mental health  \n",
              "3  Baclofen promotes alcohol abstinence in alcoho...  "
            ],
            "text/html": [
              "\n",
              "  <div id=\"df-e8ba1a55-fc54-4c1a-8b9d-100a0d41030c\" class=\"colab-df-container\">\n",
              "    <div>\n",
              "<style scoped>\n",
              "    .dataframe tbody tr th:only-of-type {\n",
              "        vertical-align: middle;\n",
              "    }\n",
              "\n",
              "    .dataframe tbody tr th {\n",
              "        vertical-align: top;\n",
              "    }\n",
              "\n",
              "    .dataframe thead th {\n",
              "        text-align: right;\n",
              "    }\n",
              "</style>\n",
              "<table border=\"1\" class=\"dataframe\">\n",
              "  <thead>\n",
              "    <tr style=\"text-align: right;\">\n",
              "      <th></th>\n",
              "      <th>abstract</th>\n",
              "      <th>source</th>\n",
              "      <th>details</th>\n",
              "    </tr>\n",
              "  </thead>\n",
              "  <tbody>\n",
              "    <tr>\n",
              "      <th>0</th>\n",
              "      <td>This RCT examined the efficacy of a manualized...</td>\n",
              "      <td>https://pubmed.ncbi.nlm.nih.gov/20232240/</td>\n",
              "      <td>RCT of a manualized social treatment for high-...</td>\n",
              "    </tr>\n",
              "    <tr>\n",
              "      <th>1</th>\n",
              "      <td>Postpartum depression (PPD) is the most preval...</td>\n",
              "      <td>https://pubmed.ncbi.nlm.nih.gov/28012571/</td>\n",
              "      <td>Formatting removed (can be used to compare mod...</td>\n",
              "    </tr>\n",
              "    <tr>\n",
              "      <th>2</th>\n",
              "      <td>Mental illness, including depression, anxiety ...</td>\n",
              "      <td>https://pubmed.ncbi.nlm.nih.gov/28942748/</td>\n",
              "      <td>Effect of nutrition on mental health</td>\n",
              "    </tr>\n",
              "    <tr>\n",
              "      <th>3</th>\n",
              "      <td>Hepatitis C virus (HCV) and alcoholic liver di...</td>\n",
              "      <td>https://pubmed.ncbi.nlm.nih.gov/22244707/</td>\n",
              "      <td>Baclofen promotes alcohol abstinence in alcoho...</td>\n",
              "    </tr>\n",
              "  </tbody>\n",
              "</table>\n",
              "</div>\n",
              "    <div class=\"colab-df-buttons\">\n",
              "\n",
              "  <div class=\"colab-df-container\">\n",
              "    <button class=\"colab-df-convert\" onclick=\"convertToInteractive('df-e8ba1a55-fc54-4c1a-8b9d-100a0d41030c')\"\n",
              "            title=\"Convert this dataframe to an interactive table.\"\n",
              "            style=\"display:none;\">\n",
              "\n",
              "  <svg xmlns=\"http://www.w3.org/2000/svg\" height=\"24px\" viewBox=\"0 -960 960 960\">\n",
              "    <path d=\"M120-120v-720h720v720H120Zm60-500h600v-160H180v160Zm220 220h160v-160H400v160Zm0 220h160v-160H400v160ZM180-400h160v-160H180v160Zm440 0h160v-160H620v160ZM180-180h160v-160H180v160Zm440 0h160v-160H620v160Z\"/>\n",
              "  </svg>\n",
              "    </button>\n",
              "\n",
              "  <style>\n",
              "    .colab-df-container {\n",
              "      display:flex;\n",
              "      gap: 12px;\n",
              "    }\n",
              "\n",
              "    .colab-df-convert {\n",
              "      background-color: #E8F0FE;\n",
              "      border: none;\n",
              "      border-radius: 50%;\n",
              "      cursor: pointer;\n",
              "      display: none;\n",
              "      fill: #1967D2;\n",
              "      height: 32px;\n",
              "      padding: 0 0 0 0;\n",
              "      width: 32px;\n",
              "    }\n",
              "\n",
              "    .colab-df-convert:hover {\n",
              "      background-color: #E2EBFA;\n",
              "      box-shadow: 0px 1px 2px rgba(60, 64, 67, 0.3), 0px 1px 3px 1px rgba(60, 64, 67, 0.15);\n",
              "      fill: #174EA6;\n",
              "    }\n",
              "\n",
              "    .colab-df-buttons div {\n",
              "      margin-bottom: 4px;\n",
              "    }\n",
              "\n",
              "    [theme=dark] .colab-df-convert {\n",
              "      background-color: #3B4455;\n",
              "      fill: #D2E3FC;\n",
              "    }\n",
              "\n",
              "    [theme=dark] .colab-df-convert:hover {\n",
              "      background-color: #434B5C;\n",
              "      box-shadow: 0px 1px 3px 1px rgba(0, 0, 0, 0.15);\n",
              "      filter: drop-shadow(0px 1px 2px rgba(0, 0, 0, 0.3));\n",
              "      fill: #FFFFFF;\n",
              "    }\n",
              "  </style>\n",
              "\n",
              "    <script>\n",
              "      const buttonEl =\n",
              "        document.querySelector('#df-e8ba1a55-fc54-4c1a-8b9d-100a0d41030c button.colab-df-convert');\n",
              "      buttonEl.style.display =\n",
              "        google.colab.kernel.accessAllowed ? 'block' : 'none';\n",
              "\n",
              "      async function convertToInteractive(key) {\n",
              "        const element = document.querySelector('#df-e8ba1a55-fc54-4c1a-8b9d-100a0d41030c');\n",
              "        const dataTable =\n",
              "          await google.colab.kernel.invokeFunction('convertToInteractive',\n",
              "                                                    [key], {});\n",
              "        if (!dataTable) return;\n",
              "\n",
              "        const docLinkHtml = 'Like what you see? Visit the ' +\n",
              "          '<a target=\"_blank\" href=https://colab.research.google.com/notebooks/data_table.ipynb>data table notebook</a>'\n",
              "          + ' to learn more about interactive tables.';\n",
              "        element.innerHTML = '';\n",
              "        dataTable['output_type'] = 'display_data';\n",
              "        await google.colab.output.renderOutput(dataTable, element);\n",
              "        const docLink = document.createElement('div');\n",
              "        docLink.innerHTML = docLinkHtml;\n",
              "        element.appendChild(docLink);\n",
              "      }\n",
              "    </script>\n",
              "  </div>\n",
              "\n",
              "\n",
              "<div id=\"df-b5648fe4-83f6-4539-b7b0-ccc1b507645e\">\n",
              "  <button class=\"colab-df-quickchart\" onclick=\"quickchart('df-b5648fe4-83f6-4539-b7b0-ccc1b507645e')\"\n",
              "            title=\"Suggest charts\"\n",
              "            style=\"display:none;\">\n",
              "\n",
              "<svg xmlns=\"http://www.w3.org/2000/svg\" height=\"24px\"viewBox=\"0 0 24 24\"\n",
              "     width=\"24px\">\n",
              "    <g>\n",
              "        <path d=\"M19 3H5c-1.1 0-2 .9-2 2v14c0 1.1.9 2 2 2h14c1.1 0 2-.9 2-2V5c0-1.1-.9-2-2-2zM9 17H7v-7h2v7zm4 0h-2V7h2v10zm4 0h-2v-4h2v4z\"/>\n",
              "    </g>\n",
              "</svg>\n",
              "  </button>\n",
              "\n",
              "<style>\n",
              "  .colab-df-quickchart {\n",
              "      --bg-color: #E8F0FE;\n",
              "      --fill-color: #1967D2;\n",
              "      --hover-bg-color: #E2EBFA;\n",
              "      --hover-fill-color: #174EA6;\n",
              "      --disabled-fill-color: #AAA;\n",
              "      --disabled-bg-color: #DDD;\n",
              "  }\n",
              "\n",
              "  [theme=dark] .colab-df-quickchart {\n",
              "      --bg-color: #3B4455;\n",
              "      --fill-color: #D2E3FC;\n",
              "      --hover-bg-color: #434B5C;\n",
              "      --hover-fill-color: #FFFFFF;\n",
              "      --disabled-bg-color: #3B4455;\n",
              "      --disabled-fill-color: #666;\n",
              "  }\n",
              "\n",
              "  .colab-df-quickchart {\n",
              "    background-color: var(--bg-color);\n",
              "    border: none;\n",
              "    border-radius: 50%;\n",
              "    cursor: pointer;\n",
              "    display: none;\n",
              "    fill: var(--fill-color);\n",
              "    height: 32px;\n",
              "    padding: 0;\n",
              "    width: 32px;\n",
              "  }\n",
              "\n",
              "  .colab-df-quickchart:hover {\n",
              "    background-color: var(--hover-bg-color);\n",
              "    box-shadow: 0 1px 2px rgba(60, 64, 67, 0.3), 0 1px 3px 1px rgba(60, 64, 67, 0.15);\n",
              "    fill: var(--button-hover-fill-color);\n",
              "  }\n",
              "\n",
              "  .colab-df-quickchart-complete:disabled,\n",
              "  .colab-df-quickchart-complete:disabled:hover {\n",
              "    background-color: var(--disabled-bg-color);\n",
              "    fill: var(--disabled-fill-color);\n",
              "    box-shadow: none;\n",
              "  }\n",
              "\n",
              "  .colab-df-spinner {\n",
              "    border: 2px solid var(--fill-color);\n",
              "    border-color: transparent;\n",
              "    border-bottom-color: var(--fill-color);\n",
              "    animation:\n",
              "      spin 1s steps(1) infinite;\n",
              "  }\n",
              "\n",
              "  @keyframes spin {\n",
              "    0% {\n",
              "      border-color: transparent;\n",
              "      border-bottom-color: var(--fill-color);\n",
              "      border-left-color: var(--fill-color);\n",
              "    }\n",
              "    20% {\n",
              "      border-color: transparent;\n",
              "      border-left-color: var(--fill-color);\n",
              "      border-top-color: var(--fill-color);\n",
              "    }\n",
              "    30% {\n",
              "      border-color: transparent;\n",
              "      border-left-color: var(--fill-color);\n",
              "      border-top-color: var(--fill-color);\n",
              "      border-right-color: var(--fill-color);\n",
              "    }\n",
              "    40% {\n",
              "      border-color: transparent;\n",
              "      border-right-color: var(--fill-color);\n",
              "      border-top-color: var(--fill-color);\n",
              "    }\n",
              "    60% {\n",
              "      border-color: transparent;\n",
              "      border-right-color: var(--fill-color);\n",
              "    }\n",
              "    80% {\n",
              "      border-color: transparent;\n",
              "      border-right-color: var(--fill-color);\n",
              "      border-bottom-color: var(--fill-color);\n",
              "    }\n",
              "    90% {\n",
              "      border-color: transparent;\n",
              "      border-bottom-color: var(--fill-color);\n",
              "    }\n",
              "  }\n",
              "</style>\n",
              "\n",
              "  <script>\n",
              "    async function quickchart(key) {\n",
              "      const quickchartButtonEl =\n",
              "        document.querySelector('#' + key + ' button');\n",
              "      quickchartButtonEl.disabled = true;  // To prevent multiple clicks.\n",
              "      quickchartButtonEl.classList.add('colab-df-spinner');\n",
              "      try {\n",
              "        const charts = await google.colab.kernel.invokeFunction(\n",
              "            'suggestCharts', [key], {});\n",
              "      } catch (error) {\n",
              "        console.error('Error during call to suggestCharts:', error);\n",
              "      }\n",
              "      quickchartButtonEl.classList.remove('colab-df-spinner');\n",
              "      quickchartButtonEl.classList.add('colab-df-quickchart-complete');\n",
              "    }\n",
              "    (() => {\n",
              "      let quickchartButtonEl =\n",
              "        document.querySelector('#df-b5648fe4-83f6-4539-b7b0-ccc1b507645e button');\n",
              "      quickchartButtonEl.style.display =\n",
              "        google.colab.kernel.accessAllowed ? 'block' : 'none';\n",
              "    })();\n",
              "  </script>\n",
              "</div>\n",
              "\n",
              "  <div id=\"id_da48f9a1-fa8d-4c23-9bae-efdf466fd2d8\">\n",
              "    <style>\n",
              "      .colab-df-generate {\n",
              "        background-color: #E8F0FE;\n",
              "        border: none;\n",
              "        border-radius: 50%;\n",
              "        cursor: pointer;\n",
              "        display: none;\n",
              "        fill: #1967D2;\n",
              "        height: 32px;\n",
              "        padding: 0 0 0 0;\n",
              "        width: 32px;\n",
              "      }\n",
              "\n",
              "      .colab-df-generate:hover {\n",
              "        background-color: #E2EBFA;\n",
              "        box-shadow: 0px 1px 2px rgba(60, 64, 67, 0.3), 0px 1px 3px 1px rgba(60, 64, 67, 0.15);\n",
              "        fill: #174EA6;\n",
              "      }\n",
              "\n",
              "      [theme=dark] .colab-df-generate {\n",
              "        background-color: #3B4455;\n",
              "        fill: #D2E3FC;\n",
              "      }\n",
              "\n",
              "      [theme=dark] .colab-df-generate:hover {\n",
              "        background-color: #434B5C;\n",
              "        box-shadow: 0px 1px 3px 1px rgba(0, 0, 0, 0.15);\n",
              "        filter: drop-shadow(0px 1px 2px rgba(0, 0, 0, 0.3));\n",
              "        fill: #FFFFFF;\n",
              "      }\n",
              "    </style>\n",
              "    <button class=\"colab-df-generate\" onclick=\"generateWithVariable('abstracts')\"\n",
              "            title=\"Generate code using this dataframe.\"\n",
              "            style=\"display:none;\">\n",
              "\n",
              "  <svg xmlns=\"http://www.w3.org/2000/svg\" height=\"24px\"viewBox=\"0 0 24 24\"\n",
              "       width=\"24px\">\n",
              "    <path d=\"M7,19H8.4L18.45,9,17,7.55,7,17.6ZM5,21V16.75L18.45,3.32a2,2,0,0,1,2.83,0l1.4,1.43a1.91,1.91,0,0,1,.58,1.4,1.91,1.91,0,0,1-.58,1.4L9.25,21ZM18.45,9,17,7.55Zm-12,3A5.31,5.31,0,0,0,4.9,8.1,5.31,5.31,0,0,0,1,6.5,5.31,5.31,0,0,0,4.9,4.9,5.31,5.31,0,0,0,6.5,1,5.31,5.31,0,0,0,8.1,4.9,5.31,5.31,0,0,0,12,6.5,5.46,5.46,0,0,0,6.5,12Z\"/>\n",
              "  </svg>\n",
              "    </button>\n",
              "    <script>\n",
              "      (() => {\n",
              "      const buttonEl =\n",
              "        document.querySelector('#id_da48f9a1-fa8d-4c23-9bae-efdf466fd2d8 button.colab-df-generate');\n",
              "      buttonEl.style.display =\n",
              "        google.colab.kernel.accessAllowed ? 'block' : 'none';\n",
              "\n",
              "      buttonEl.onclick = () => {\n",
              "        google.colab.notebook.generateWithVariable('abstracts');\n",
              "      }\n",
              "      })();\n",
              "    </script>\n",
              "  </div>\n",
              "\n",
              "    </div>\n",
              "  </div>\n"
            ],
            "application/vnd.google.colaboratory.intrinsic+json": {
              "type": "dataframe",
              "variable_name": "abstracts",
              "summary": "{\n  \"name\": \"abstracts\",\n  \"rows\": 4,\n  \"fields\": [\n    {\n      \"column\": \"abstract\",\n      \"properties\": {\n        \"dtype\": \"string\",\n        \"num_unique_values\": 4,\n        \"samples\": [\n          \"Postpartum depression (PPD) is the most prevalent mood disorder associated with childbirth. No single cause of PPD has been identified, however the increased risk of nutritional deficiencies incurred through the high nutritional requirements of pregnancy may play a role in the pathology of depressive symptoms. Three nutritional interventions have drawn particular interest as possible non-invasive and cost-effective prevention and/or treatment strategies for PPD; omega-3 (n-3) long chain polyunsaturated fatty acids (LCPUFA), vitamin D and overall diet. We searched for meta-analyses of randomised controlled trials (RCT's) of nutritional interventions during the perinatal period with PPD as an outcome, and checked for any trials published subsequently to the meta-analyses. Fish oil: Eleven RCT's of prenatal fish oil supplementation RCT's show null and positive effects on PPD symptoms. Vitamin D: no relevant RCT's were identified, however seven observational studies of maternal vitamin D levels with PPD outcomes showed inconsistent associations. Diet: Two Australian RCT's with dietary advice interventions in pregnancy had a positive and null result on PPD. With the exception of fish oil, few RCT's with nutritional interventions during pregnancy assess PPD. Further research is needed to determine whether nutritional intervention strategies during pregnancy can protect against symptoms of PPD. Given the prevalence of PPD and ease of administering PPD measures, we recommend future prenatal nutritional RCT's include PPD as an outcome.\",\n          \"Hepatitis C virus (HCV) and alcoholic liver disease (ALD), either alone or in combination, count for more than two thirds of all liver diseases in the Western world. There is no safe level of drinking in HCV-infected patients and the most effective goal for these patients is total abstinence. Baclofen, a GABA(B) receptor agonist, represents a promising pharmacotherapy for alcohol dependence (AD). Previously, we performed a randomized clinical trial (RCT), which demonstrated the safety and efficacy of baclofen in patients affected by AD and cirrhosis. The goal of this post-hoc analysis was to explore baclofen's effect in a subgroup of alcohol-dependent HCV-infected cirrhotic patients. Any patient with HCV infection was selected for this analysis. Among the 84 subjects randomized in the main trial, 24 alcohol-dependent cirrhotic patients had a HCV infection; 12 received baclofen 10mg t.i.d. and 12 received placebo for 12-weeks. With respect to the placebo group (3/12, 25.0%), a significantly higher number of patients who achieved and maintained total alcohol abstinence was found in the baclofen group (10/12, 83.3%; p=0.0123). Furthermore, in the baclofen group, compared to placebo, there was a significantly higher increase in albumin values from baseline (p=0.0132) and a trend toward a significant reduction in INR levels from baseline (p=0.0716). In conclusion, baclofen was safe and significantly more effective than placebo in promoting alcohol abstinence, and improving some Liver Function Tests (LFTs) (i.e. albumin, INR) in alcohol-dependent HCV-infected cirrhotic patients. Baclofen may represent a clinically relevant alcohol pharmacotherapy for these patients.\",\n          \"This RCT examined the efficacy of a manualized social intervention for children with HFASDs. Participants were randomly assigned to treatment or wait-list conditions. Treatment included instruction and therapeutic activities targeting social skills, face-emotion recognition, interest expansion, and interpretation of non-literal language. A response-cost program was applied to reduce problem behaviors and foster skills acquisition. Significant treatment effects were found for five of seven primary outcome measures (parent ratings and direct child measures). Secondary measures based on staff ratings (treatment group only) corroborated gains reported by parents. High levels of parent, child and staff satisfaction were reported, along with high levels of treatment fidelity. Standardized effect size estimates were primarily in the medium and large ranges and favored the treatment group.\"\n        ],\n        \"semantic_type\": \"\",\n        \"description\": \"\"\n      }\n    },\n    {\n      \"column\": \"source\",\n      \"properties\": {\n        \"dtype\": \"string\",\n        \"num_unique_values\": 4,\n        \"samples\": [\n          \"https://pubmed.ncbi.nlm.nih.gov/28012571/\",\n          \"https://pubmed.ncbi.nlm.nih.gov/22244707/\",\n          \"https://pubmed.ncbi.nlm.nih.gov/20232240/\"\n        ],\n        \"semantic_type\": \"\",\n        \"description\": \"\"\n      }\n    },\n    {\n      \"column\": \"details\",\n      \"properties\": {\n        \"dtype\": \"string\",\n        \"num_unique_values\": 4,\n        \"samples\": [\n          \"Formatting removed (can be used to compare model to actual example)\",\n          \"Baclofen promotes alcohol abstinence in alcohol dependent cirrhotic patients with hepatitis C virus (HCV) infection\",\n          \"RCT of a manualized social treatment for high-functioning autism spectrum disorders\"\n        ],\n        \"semantic_type\": \"\",\n        \"description\": \"\"\n      }\n    }\n  ]\n}"
            }
          },
          "metadata": {},
          "execution_count": 156
        }
      ]
    },
    {
      "cell_type": "markdown",
      "source": [
        "Now we've downloaded some example abstracts, let's see how one of them goes with our trained model.\n",
        "\n",
        "First, we'll need to parse it using spaCy to turn it from a big chunk of text into sentences."
      ],
      "metadata": {
        "id": "RqerVzT6vVvH"
      }
    },
    {
      "cell_type": "code",
      "source": [
        "from spacy.lang.en import English\n",
        "nlp = English()\n",
        "\n",
        "sentencizer = nlp.add_pipe(\"sentencizer\") # create sentence splitting pipeline object\n",
        "\n",
        "doc = nlp(example_abstracts[0][\"abstract\"])\n",
        "abstract_lines = [str(sent) for sent in list(doc.sents)] # return detected sentences from doc in string type (not spaCy token type)\n",
        "abstract_lines"
      ],
      "metadata": {
        "id": "wNXWA298v85i",
        "outputId": "26490a75-c608-4508-c005-604100b41c55",
        "colab": {
          "base_uri": "https://localhost:8080/"
        }
      },
      "execution_count": 157,
      "outputs": [
        {
          "output_type": "execute_result",
          "data": {
            "text/plain": [
              "['This RCT examined the efficacy of a manualized social intervention for children with HFASDs.',\n",
              " 'Participants were randomly assigned to treatment or wait-list conditions.',\n",
              " 'Treatment included instruction and therapeutic activities targeting social skills, face-emotion recognition, interest expansion, and interpretation of non-literal language.',\n",
              " 'A response-cost program was applied to reduce problem behaviors and foster skills acquisition.',\n",
              " 'Significant treatment effects were found for five of seven primary outcome measures (parent ratings and direct child measures).',\n",
              " 'Secondary measures based on staff ratings (treatment group only) corroborated gains reported by parents.',\n",
              " 'High levels of parent, child and staff satisfaction were reported, along with high levels of treatment fidelity.',\n",
              " 'Standardized effect size estimates were primarily in the medium and large ranges and favored the treatment group.']"
            ]
          },
          "metadata": {},
          "execution_count": 157
        }
      ]
    },
    {
      "cell_type": "code",
      "source": [
        "# Get total number of lines\n",
        "total_lines_in_sample = len(abstract_lines)\n",
        "\n",
        "# Go through each line in abstract and create a list of dictionaries containing features for each line\n",
        "sample_lines = []\n",
        "for i, line in enumerate(abstract_lines):\n",
        "  sample_dict = {}\n",
        "  sample_dict[\"text\"] = str(line)\n",
        "  sample_dict[\"line_number\"] = i\n",
        "  sample_dict[\"total_lines\"] = total_lines_in_sample - 1\n",
        "  sample_lines.append(sample_dict)\n",
        "sample_lines"
      ],
      "metadata": {
        "id": "ItoVQZg1wEL2",
        "outputId": "94cc3ac0-352c-47f4-d88b-f206684d4d3b",
        "colab": {
          "base_uri": "https://localhost:8080/"
        }
      },
      "execution_count": 158,
      "outputs": [
        {
          "output_type": "execute_result",
          "data": {
            "text/plain": [
              "[{'text': 'This RCT examined the efficacy of a manualized social intervention for children with HFASDs.',\n",
              "  'line_number': 0,\n",
              "  'total_lines': 7},\n",
              " {'text': 'Participants were randomly assigned to treatment or wait-list conditions.',\n",
              "  'line_number': 1,\n",
              "  'total_lines': 7},\n",
              " {'text': 'Treatment included instruction and therapeutic activities targeting social skills, face-emotion recognition, interest expansion, and interpretation of non-literal language.',\n",
              "  'line_number': 2,\n",
              "  'total_lines': 7},\n",
              " {'text': 'A response-cost program was applied to reduce problem behaviors and foster skills acquisition.',\n",
              "  'line_number': 3,\n",
              "  'total_lines': 7},\n",
              " {'text': 'Significant treatment effects were found for five of seven primary outcome measures (parent ratings and direct child measures).',\n",
              "  'line_number': 4,\n",
              "  'total_lines': 7},\n",
              " {'text': 'Secondary measures based on staff ratings (treatment group only) corroborated gains reported by parents.',\n",
              "  'line_number': 5,\n",
              "  'total_lines': 7},\n",
              " {'text': 'High levels of parent, child and staff satisfaction were reported, along with high levels of treatment fidelity.',\n",
              "  'line_number': 6,\n",
              "  'total_lines': 7},\n",
              " {'text': 'Standardized effect size estimates were primarily in the medium and large ranges and favored the treatment group.',\n",
              "  'line_number': 7,\n",
              "  'total_lines': 7}]"
            ]
          },
          "metadata": {},
          "execution_count": 158
        }
      ]
    },
    {
      "cell_type": "markdown",
      "source": [
        "Now we've got \"line_number\" and \"total_lines\" values, we can one-hot encode them with tf.one_hot just like we did with our training dataset (using the same values for the depth parameter)."
      ],
      "metadata": {
        "id": "_r7AY8sWwINu"
      }
    },
    {
      "cell_type": "code",
      "source": [
        "# Get all line_number values from sample abstract\n",
        "test_abstract_line_numbers = [line[\"line_number\"] for line in sample_lines]\n",
        "# One-hot encode to same depth as training data, so model accepts right input shape\n",
        "test_abstract_line_numbers_one_hot = tf.one_hot(test_abstract_line_numbers, depth=15)\n",
        "test_abstract_line_numbers_one_hot"
      ],
      "metadata": {
        "id": "sr0LY-Xbwf_e",
        "outputId": "c77aa779-355b-4dcd-fc16-40fdaf7c39fa",
        "colab": {
          "base_uri": "https://localhost:8080/"
        }
      },
      "execution_count": 160,
      "outputs": [
        {
          "output_type": "execute_result",
          "data": {
            "text/plain": [
              "<tf.Tensor: shape=(8, 15), dtype=float32, numpy=\n",
              "array([[1., 0., 0., 0., 0., 0., 0., 0., 0., 0., 0., 0., 0., 0., 0.],\n",
              "       [0., 1., 0., 0., 0., 0., 0., 0., 0., 0., 0., 0., 0., 0., 0.],\n",
              "       [0., 0., 1., 0., 0., 0., 0., 0., 0., 0., 0., 0., 0., 0., 0.],\n",
              "       [0., 0., 0., 1., 0., 0., 0., 0., 0., 0., 0., 0., 0., 0., 0.],\n",
              "       [0., 0., 0., 0., 1., 0., 0., 0., 0., 0., 0., 0., 0., 0., 0.],\n",
              "       [0., 0., 0., 0., 0., 1., 0., 0., 0., 0., 0., 0., 0., 0., 0.],\n",
              "       [0., 0., 0., 0., 0., 0., 1., 0., 0., 0., 0., 0., 0., 0., 0.],\n",
              "       [0., 0., 0., 0., 0., 0., 0., 1., 0., 0., 0., 0., 0., 0., 0.]],\n",
              "      dtype=float32)>"
            ]
          },
          "metadata": {},
          "execution_count": 160
        }
      ]
    },
    {
      "cell_type": "code",
      "source": [
        "# Get all total_lines values from sample abstract\n",
        "test_abstract_total_lines = [line[\"total_lines\"] for line in sample_lines]\n",
        "# One-hot encode to same depth as training data, so model accepts right input shape\n",
        "test_abstract_total_lines_one_hot = tf.one_hot(test_abstract_total_lines, depth=20)\n",
        "test_abstract_total_lines_one_hot"
      ],
      "metadata": {
        "id": "PsGl2CEUwkAD",
        "outputId": "9c922301-9205-4889-f183-392d2ba567c9",
        "colab": {
          "base_uri": "https://localhost:8080/"
        }
      },
      "execution_count": 161,
      "outputs": [
        {
          "output_type": "execute_result",
          "data": {
            "text/plain": [
              "<tf.Tensor: shape=(8, 20), dtype=float32, numpy=\n",
              "array([[0., 0., 0., 0., 0., 0., 0., 1., 0., 0., 0., 0., 0., 0., 0., 0.,\n",
              "        0., 0., 0., 0.],\n",
              "       [0., 0., 0., 0., 0., 0., 0., 1., 0., 0., 0., 0., 0., 0., 0., 0.,\n",
              "        0., 0., 0., 0.],\n",
              "       [0., 0., 0., 0., 0., 0., 0., 1., 0., 0., 0., 0., 0., 0., 0., 0.,\n",
              "        0., 0., 0., 0.],\n",
              "       [0., 0., 0., 0., 0., 0., 0., 1., 0., 0., 0., 0., 0., 0., 0., 0.,\n",
              "        0., 0., 0., 0.],\n",
              "       [0., 0., 0., 0., 0., 0., 0., 1., 0., 0., 0., 0., 0., 0., 0., 0.,\n",
              "        0., 0., 0., 0.],\n",
              "       [0., 0., 0., 0., 0., 0., 0., 1., 0., 0., 0., 0., 0., 0., 0., 0.,\n",
              "        0., 0., 0., 0.],\n",
              "       [0., 0., 0., 0., 0., 0., 0., 1., 0., 0., 0., 0., 0., 0., 0., 0.,\n",
              "        0., 0., 0., 0.],\n",
              "       [0., 0., 0., 0., 0., 0., 0., 1., 0., 0., 0., 0., 0., 0., 0., 0.,\n",
              "        0., 0., 0., 0.]], dtype=float32)>"
            ]
          },
          "metadata": {},
          "execution_count": 161
        }
      ]
    },
    {
      "cell_type": "code",
      "source": [
        "# Split abstract lines into characters\n",
        "abstract_chars = [split_chars(sentence) for sentence in abstract_lines]\n",
        "abstract_chars"
      ],
      "metadata": {
        "id": "9IlTgrD6wlTO",
        "outputId": "bbc76e08-dd28-496c-d2b7-9b355e870ff3",
        "colab": {
          "base_uri": "https://localhost:8080/"
        }
      },
      "execution_count": 162,
      "outputs": [
        {
          "output_type": "execute_result",
          "data": {
            "text/plain": [
              "['T h i s   R C T   e x a m i n e d   t h e   e f f i c a c y   o f   a   m a n u a l i z e d   s o c i a l   i n t e r v e n t i o n   f o r   c h i l d r e n   w i t h   H F A S D s .',\n",
              " 'P a r t i c i p a n t s   w e r e   r a n d o m l y   a s s i g n e d   t o   t r e a t m e n t   o r   w a i t - l i s t   c o n d i t i o n s .',\n",
              " 'T r e a t m e n t   i n c l u d e d   i n s t r u c t i o n   a n d   t h e r a p e u t i c   a c t i v i t i e s   t a r g e t i n g   s o c i a l   s k i l l s ,   f a c e - e m o t i o n   r e c o g n i t i o n ,   i n t e r e s t   e x p a n s i o n ,   a n d   i n t e r p r e t a t i o n   o f   n o n - l i t e r a l   l a n g u a g e .',\n",
              " 'A   r e s p o n s e - c o s t   p r o g r a m   w a s   a p p l i e d   t o   r e d u c e   p r o b l e m   b e h a v i o r s   a n d   f o s t e r   s k i l l s   a c q u i s i t i o n .',\n",
              " 'S i g n i f i c a n t   t r e a t m e n t   e f f e c t s   w e r e   f o u n d   f o r   f i v e   o f   s e v e n   p r i m a r y   o u t c o m e   m e a s u r e s   ( p a r e n t   r a t i n g s   a n d   d i r e c t   c h i l d   m e a s u r e s ) .',\n",
              " 'S e c o n d a r y   m e a s u r e s   b a s e d   o n   s t a f f   r a t i n g s   ( t r e a t m e n t   g r o u p   o n l y )   c o r r o b o r a t e d   g a i n s   r e p o r t e d   b y   p a r e n t s .',\n",
              " 'H i g h   l e v e l s   o f   p a r e n t ,   c h i l d   a n d   s t a f f   s a t i s f a c t i o n   w e r e   r e p o r t e d ,   a l o n g   w i t h   h i g h   l e v e l s   o f   t r e a t m e n t   f i d e l i t y .',\n",
              " 'S t a n d a r d i z e d   e f f e c t   s i z e   e s t i m a t e s   w e r e   p r i m a r i l y   i n   t h e   m e d i u m   a n d   l a r g e   r a n g e s   a n d   f a v o r e d   t h e   t r e a t m e n t   g r o u p .']"
            ]
          },
          "metadata": {},
          "execution_count": 162
        }
      ]
    },
    {
      "cell_type": "code",
      "source": [
        "# Make predictions on sample abstract features\n",
        "%%time\n",
        "test_abstract_pred_probs = loaded_model.predict(x=(test_abstract_line_numbers_one_hot,\n",
        "                                                   test_abstract_total_lines_one_hot,\n",
        "                                                   tf.constant(abstract_lines),\n",
        "                                                   tf.constant(abstract_chars)))\n",
        "test_abstract_pred_probs"
      ],
      "metadata": {
        "id": "KZzwKNjKwnAW",
        "outputId": "88607d29-0945-44b3-c189-9e0ecc663559",
        "colab": {
          "base_uri": "https://localhost:8080/"
        }
      },
      "execution_count": 163,
      "outputs": [
        {
          "output_type": "stream",
          "name": "stdout",
          "text": [
            "1/1 [==============================] - 2s 2s/step\n",
            "CPU times: user 2.22 s, sys: 9.52 ms, total: 2.23 s\n",
            "Wall time: 2.33 s\n"
          ]
        },
        {
          "output_type": "execute_result",
          "data": {
            "text/plain": [
              "array([[0.4060511 , 0.09629229, 0.04896314, 0.40171757, 0.04697596],\n",
              "       [0.0611652 , 0.0320146 , 0.7828117 , 0.07193739, 0.05207102],\n",
              "       [0.09331694, 0.03186871, 0.68590885, 0.09481996, 0.09408556],\n",
              "       [0.11355519, 0.15227626, 0.5609014 , 0.06748316, 0.10578398],\n",
              "       [0.05615742, 0.06880394, 0.2905771 , 0.04393661, 0.5405249 ],\n",
              "       [0.03269489, 0.06450815, 0.56436867, 0.03729321, 0.3011351 ],\n",
              "       [0.02182689, 0.09948017, 0.0764364 , 0.02315306, 0.77910346],\n",
              "       [0.01204008, 0.1269412 , 0.31099305, 0.02468053, 0.52534515]],\n",
              "      dtype=float32)"
            ]
          },
          "metadata": {},
          "execution_count": 163
        }
      ]
    },
    {
      "cell_type": "code",
      "source": [
        "# Turn prediction probabilities into prediction classes\n",
        "test_abstract_preds = tf.argmax(test_abstract_pred_probs, axis=1)\n",
        "test_abstract_preds"
      ],
      "metadata": {
        "id": "2m-l-33Awoaw",
        "outputId": "6f36d630-d4a4-414b-b4c3-064d3f62fbd9",
        "colab": {
          "base_uri": "https://localhost:8080/"
        }
      },
      "execution_count": 164,
      "outputs": [
        {
          "output_type": "execute_result",
          "data": {
            "text/plain": [
              "<tf.Tensor: shape=(8,), dtype=int64, numpy=array([0, 2, 2, 2, 4, 2, 4, 4])>"
            ]
          },
          "metadata": {},
          "execution_count": 164
        }
      ]
    },
    {
      "cell_type": "code",
      "source": [
        "# Turn prediction class integers into string class names\n",
        "test_abstract_pred_classes = [label_encoder.classes_[i] for i in test_abstract_preds]\n",
        "test_abstract_pred_classes"
      ],
      "metadata": {
        "id": "t2mcGD9owp0R",
        "outputId": "2e9114e9-d35a-45d5-b1b1-b15c9f93b5c2",
        "colab": {
          "base_uri": "https://localhost:8080/"
        }
      },
      "execution_count": 165,
      "outputs": [
        {
          "output_type": "execute_result",
          "data": {
            "text/plain": [
              "['BACKGROUND',\n",
              " 'METHODS',\n",
              " 'METHODS',\n",
              " 'METHODS',\n",
              " 'RESULTS',\n",
              " 'METHODS',\n",
              " 'RESULTS',\n",
              " 'RESULTS']"
            ]
          },
          "metadata": {},
          "execution_count": 165
        }
      ]
    },
    {
      "cell_type": "code",
      "source": [
        "# Visualize abstract lines and predicted sequence labels\n",
        "for i, line in enumerate(abstract_lines):\n",
        "  print(f\"{test_abstract_pred_classes[i]}: {line}\")"
      ],
      "metadata": {
        "id": "pGuXdAhwwqx1",
        "outputId": "2ba81dca-0319-4c1a-d897-516438f631c7",
        "colab": {
          "base_uri": "https://localhost:8080/"
        }
      },
      "execution_count": 166,
      "outputs": [
        {
          "output_type": "stream",
          "name": "stdout",
          "text": [
            "BACKGROUND: This RCT examined the efficacy of a manualized social intervention for children with HFASDs.\n",
            "METHODS: Participants were randomly assigned to treatment or wait-list conditions.\n",
            "METHODS: Treatment included instruction and therapeutic activities targeting social skills, face-emotion recognition, interest expansion, and interpretation of non-literal language.\n",
            "METHODS: A response-cost program was applied to reduce problem behaviors and foster skills acquisition.\n",
            "RESULTS: Significant treatment effects were found for five of seven primary outcome measures (parent ratings and direct child measures).\n",
            "METHODS: Secondary measures based on staff ratings (treatment group only) corroborated gains reported by parents.\n",
            "RESULTS: High levels of parent, child and staff satisfaction were reported, along with high levels of treatment fidelity.\n",
            "RESULTS: Standardized effect size estimates were primarily in the medium and large ranges and favored the treatment group.\n"
          ]
        }
      ]
    },
    {
      "cell_type": "markdown",
      "source": [
        "# **Thank You**"
      ],
      "metadata": {
        "id": "zhAFeKkTwr7t"
      }
    }
  ]
}